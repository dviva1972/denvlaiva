{
 "cells": [
  {
   "cell_type": "markdown",
   "metadata": {},
   "source": [
    " Математика для Data Science\n",
    " \n",
    " Домашняя работа № 1 / Вектор\n",
    " \n",
    " Иванов Денис\n",
    " "
   ]
  },
  {
   "cell_type": "markdown",
   "metadata": {},
   "source": [
    "1. Даны вектора x=(1,1), y=(2, 0) и z = (0,2)\n",
    "\n",
    "Изобразить вектора на экране\n",
    "Изобразить точку x + y + z\n",
    "Найти угол между векторами x и y"
   ]
  },
  {
   "cell_type": "code",
   "execution_count": 1,
   "metadata": {},
   "outputs": [],
   "source": [
    "import numpy as np\n",
    "import matplotlib.pyplot as plt"
   ]
  },
  {
   "cell_type": "code",
   "execution_count": 9,
   "metadata": {},
   "outputs": [
    {
     "data": {
      "image/png": "[encoded data removed]",
      "text/plain": [
       "<Figure size 432x288 with 1 Axes>"
      ]
     },
     "metadata": {
      "needs_background": "light"
     },
     "output_type": "display_data"
    }
   ],
   "source": [
    "# изобразить вектора на экране можно так:\n",
    "x = np.array([1,1])\n",
    "y = np.array([2,0])\n",
    "z = np.array([0,2])\n",
    "\n",
    "plt.plot(x[0], x[1], 'o')\n",
    "plt.plot(y[0], y[1], 'o')\n",
    "plt.plot(z[0], z[1], 'o')\n",
    "plt.show()"
   ]
  },
  {
   "cell_type": "code",
   "execution_count": 11,
   "metadata": {},
   "outputs": [
    {
     "data": {
      "image/png": "[encoded data removed]",
      "text/plain": [
       "<Figure size 216x216 with 1 Axes>"
      ]
     },
     "metadata": {
      "needs_background": "light"
     },
     "output_type": "display_data"
    }
   ],
   "source": [
    "# или так:\n",
    "fig = plt.figure(figsize=(3, 3))\n",
    "ax = fig.gca()\n",
    "\n",
    "x = np.array([1,1])\n",
    "y = np.array([2,0])\n",
    "z = np.array([0,2])\n",
    "\n",
    "ax.plot([0,x[0]], [0,x[1]])\n",
    "ax.plot([0,y[0]], [0,y[1]])\n",
    "ax.plot([0,z[0]], [0,z[1]])\n",
    "\n",
    "ax.scatter(x[0], x[1], c='b', marker='o')\n",
    "ax.scatter(y[0], y[1], c='r', marker='o')\n",
    "ax.scatter(z[0], z[1], c='r', marker='o')\n",
    "ax.legend(['X', 'Y', 'Z'])\n",
    "\n",
    "plt.show()"
   ]
  },
  {
   "cell_type": "code",
   "execution_count": 3,
   "metadata": {},
   "outputs": [
    {
     "data": {
      "image/png": "[encoded data removed]",
      "text/plain": [
       "<Figure size 432x288 with 1 Axes>"
      ]
     },
     "metadata": {
      "needs_background": "light"
     },
     "output_type": "display_data"
    }
   ],
   "source": [
    "# точка x + y + z\n",
    "a = x+y+z\n",
    "plt.plot(a[0], a[1], 'o')\n",
    "plt.show()"
   ]
  },
  {
   "cell_type": "code",
   "execution_count": 46,
   "metadata": {},
   "outputs": [
    {
     "name": "stdout",
     "output_type": "stream",
     "text": [
      "Угол между векторами x и y:  45.0\n"
     ]
    }
   ],
   "source": [
    "def angle(x, y):\n",
    "    xLength = np.linalg.norm(x)\n",
    "    yLength = np.linalg.norm(y)    \n",
    "    cosine = np.dot(x, y) / (xLength * yLength)\n",
    "    angle = np.rad2deg(np.arccos(cosine))\n",
    "    return angle\n",
    "\n",
    "print('Угол между векторами x и y: ', angle(x,y).round(2))"
   ]
  },
  {
   "cell_type": "markdown",
   "metadata": {},
   "source": [
    "2. Даны дома из Бостона\n",
    "Выбрать любые n домов, образующих базис в пространстве признаков дома (все колонки, кроме medv)\n",
    "Написать код разложения дома по указанному базису"
   ]
  },
  {
   "cell_type": "code",
   "execution_count": 33,
   "metadata": {},
   "outputs": [
    {
     "data": {
      "text/plain": [
       "(506, 14)"
      ]
     },
     "execution_count": 33,
     "metadata": {},
     "output_type": "execute_result"
    }
   ],
   "source": [
    "import pandas as pd\n",
    "from sklearn.datasets import load_boston\n",
    "data = pd.read_csv(load_boston()['filename'], skiprows=1)\n",
    "data.shape"
   ]
  },
  {
   "cell_type": "code",
   "execution_count": 34,
   "metadata": {},
   "outputs": [
    {
     "data": {
      "text/plain": [
       "(506, 13)"
      ]
     },
     "execution_count": 34,
     "metadata": {},
     "output_type": "execute_result"
    }
   ],
   "source": [
    "data = data.dropna()\n",
    "data = data.drop_duplicates()\n",
    "data.drop('MEDV', axis=1, inplace = True)\n",
    "data.shape"
   ]
  },
  {
   "cell_type": "code",
   "execution_count": 44,
   "metadata": {
    "scrolled": true
   },
   "outputs": [
    {
     "name": "stdout",
     "output_type": "stream",
     "text": [
      "Для формирования базиса в прострастве признаков дома выявлено  59 вариантов последовательных записей,  \n",
      " которые начинаются с индексов:  Int64Index([196, 197, 198, 199, 200, 201, 202, 203, 204, 226, 227, 228, 229,\n",
      "            230, 231, 232, 233, 234, 235, 236, 257, 258, 259, 260, 261, 262,\n",
      "            263, 264, 265, 266, 267, 268, 269, 270, 271, 272, 273, 274, 275,\n",
      "            276, 277, 278, 279, 280, 281, 282, 283, 344, 345, 346, 347, 348,\n",
      "            349, 350, 351, 352, 353, 354, 355],\n",
      "           dtype='int64')\n"
     ]
    }
   ],
   "source": [
    "data['DETERM'] = np.nan\n",
    "for i in range (len(data)-13):\n",
    "    data.iloc[i,13] = np.linalg.det(data.iloc[i:i+13,0:13])\n",
    "    \n",
    "print('Для формирования базиса в прострастве признаков дома выявлено ', \n",
    "      data.DETERM[(data.DETERM!=0)&(~data.DETERM.isna())].shape[0], \n",
    "      'вариантов последовательных записей,  \\n', 'которые начинаются с индексов: ',\n",
    "      data.DETERM[(data.DETERM!=0)&(~data.DETERM.isna())].index)"
   ]
  },
  {
   "cell_type": "code",
   "execution_count": 109,
   "metadata": {},
   "outputs": [
    {
     "data": {
      "text/plain": [
       "array([[ 1.19650008e+04],\n",
       "       [ 1.17449041e+14],\n",
       "       [ 1.81582002e+15],\n",
       "       [ 1.77203629e+02],\n",
       "       [-2.36880908e+16],\n",
       "       [ 7.82224466e+02],\n",
       "       [ 5.85585110e+01],\n",
       "       [-8.58014587e+03],\n",
       "       [-2.52032350e+14],\n",
       "       [ 1.70828583e+13],\n",
       "       [-6.11283868e+14],\n",
       "       [-8.80103422e+00],\n",
       "       [-9.74226816e+01]])"
      ]
     },
     "execution_count": 109,
     "metadata": {},
     "output_type": "execute_result"
    }
   ],
   "source": [
    "# Код разложения вектора [0] по одному из базисов\n",
    "np.linalg.solve(data.iloc[196:196+13,0:13], data.iloc[:1,:13].T)"
   ]
  },
  {
   "cell_type": "code",
   "execution_count": null,
   "metadata": {},
   "outputs": [],
   "source": []
  },
  {
   "cell_type": "code",
   "execution_count": null,
   "metadata": {},
   "outputs": [],
   "source": []
  }
 ],
 "metadata": {
  "kernelspec": {
   "display_name": "Python 3",
   "language": "python",
   "name": "python3"
  },
  "language_info": {
   "codemirror_mode": {
    "name": "ipython",
    "version": 3
   },
   "file_extension": ".py",
   "mimetype": "text/x-python",
   "name": "python",
   "nbconvert_exporter": "python",
   "pygments_lexer": "ipython3",
   "version": "3.7.4"
  }
 },
 "nbformat": 4,
 "nbformat_minor": 2
}
