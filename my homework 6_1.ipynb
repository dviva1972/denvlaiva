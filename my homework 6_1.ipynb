{
 "cells": [
  {
   "cell_type": "markdown",
   "metadata": {},
   "source": [
    "# Домашнее задание\n",
    "1. Переведите содержимое файла purchase_log.txt в словарь purchases вида:\n",
    "```python\n",
    "{'1840e0b9d4': 'Продукты', ...}\n",
    "```\n",
    "\n",
    "2. Для каждого user_id в файле visit_log.csv добавьте третий столбец с категорией покупки (если покупка была).\n",
    "\n",
    "3. Запишите в файл funnel.csv визиты из файла visit_log.csv, в которых были покупки с указанием категории.\n",
    "\n",
    "Учтите условия на данные:\n",
    "- содержимое purchase_log.txt помещается в оперативную память компьютера\n",
    "- содержимое visit_log.csv - нет; используйте только построчную обработку этого файла"
   ]
  },
  {
   "cell_type": "code",
   "execution_count": 1,
   "metadata": {},
   "outputs": [],
   "source": [
    "# Вариант решения 1\n",
    "import json\n",
    "import shutil \n",
    "dict = {}\n",
    "with open('purchase_log.txt', 'r', encoding='utf-8') as f:\n",
    "    with open('visit_log.csv', 'r') as v:\n",
    "        with open('funnel.csv', 'w') as w:\n",
    "            for f_line in f:\n",
    "                [key, value] = json.loads(f_line.strip()).values()\n",
    "                dict[key]=value\n",
    "                    \n",
    "            for v_line in v:    \n",
    "                v_l = v_line.strip().split(',')\n",
    "                if v_l[0] in dict:\n",
    "                    v_modify = [v_l[0], v_l[1], dict[v_l[0]], '\\n']\n",
    "                    v_l=','.join(v_modify) \n",
    "                    w.write(','.join(v_modify))"
   ]
  },
  {
   "cell_type": "code",
   "execution_count": null,
   "metadata": {},
   "outputs": [],
   "source": [
    "# Вариант решения 2\n",
    "import json\n",
    "import shutil \n",
    "dict = {}\n",
    "with open('purchase_log.txt', 'r', encoding='utf-8') as f:\n",
    "    with open('visit_log.csv', 'r') as v:\n",
    "        with open('visit_log_1.csv', 'w') as v_alt:\n",
    "            with open('funnel.csv', 'w') as w:\n",
    "                for f_line in f:\n",
    "                    [key, value] = json.loads(f_line.strip()).values()\n",
    "                    dict[key]=value\n",
    "                    \n",
    "                for v_line in v:    \n",
    "                    v_l = v_line.strip().split(',')\n",
    "                    if v_l[0] in dict:\n",
    "                        v_modify = [v_l[0], v_l[1], dict[v_l[0]], '\\n']\n",
    "                        v_alt.write(','.join(v_modify))\n",
    "                        w.write(','.join(v_modify))\n",
    "                    else:\n",
    "                        v_alt.write(v_line)\n",
    "v.close()\n",
    "v_alt.close()\n",
    "                \n",
    "                    \n",
    "source = 'visit_log_1.csv'\n",
    "destination = 'visit_log.csv'\n",
    "shutil.move(source, destination)"
   ]
  },
  {
   "cell_type": "code",
   "execution_count": null,
   "metadata": {},
   "outputs": [],
   "source": []
  },
  {
   "cell_type": "code",
   "execution_count": null,
   "metadata": {},
   "outputs": [],
   "source": []
  },
  {
   "cell_type": "code",
   "execution_count": null,
   "metadata": {},
   "outputs": [],
   "source": []
  }
 ],
 "metadata": {
  "kernelspec": {
   "display_name": "Python 3",
   "language": "python",
   "name": "python3"
  },
  "language_info": {
   "codemirror_mode": {
    "name": "ipython",
    "version": 3
   },
   "file_extension": ".py",
   "mimetype": "text/x-python",
   "name": "python",
   "nbconvert_exporter": "python",
   "pygments_lexer": "ipython3",
   "version": "3.7.4"
  }
 },
 "nbformat": 4,
 "nbformat_minor": 2
}
