{
  "nbformat": 4,
  "nbformat_minor": 0,
  "metadata": {
    "colab": {
      "name": "DLL_hw_1.ipynb",
      "provenance": [],
      "collapsed_sections": []
    },
    "kernelspec": {
      "name": "python3",
      "display_name": "Python 3"
    },
    "language_info": {
      "name": "python"
    },
    "accelerator": "GPU"
  },
  "cells": [
    {
      "cell_type": "markdown",
      "metadata": {
        "id": "gjRN8AZrKpZH"
      },
      "source": [
        "## DLL\n",
        "\n",
        "## Домашняя работа 1  |  Персептрон\n",
        "\n",
        "## Иванов Денис"
      ]
    },
    {
      "cell_type": "code",
      "metadata": {
        "id": "PelZUiZNDRW-"
      },
      "source": [
        "import torch\n",
        "import pandas as pd\n",
        "import numpy as np\n",
        "from sklearn.model_selection import train_test_split\n",
        "import matplotlib.pyplot as plt\n",
        "\n",
        "from torch.utils.data import TensorDataset, DataLoader\n",
        "\n",
        "from google.colab import drive "
      ],
      "execution_count": 22,
      "outputs": []
    },
    {
      "cell_type": "code",
      "metadata": {
        "colab": {
          "base_uri": "https://localhost:8080/"
        },
        "id": "NISjnBsCQa0Q",
        "outputId": "7b34fac6-bd6e-43b2-9e06-ec257ba7a515"
      },
      "source": [
        "drive.mount('/content/drive')"
      ],
      "execution_count": 23,
      "outputs": [
        {
          "output_type": "stream",
          "text": [
            "Drive already mounted at /content/drive; to attempt to forcibly remount, call drive.mount(\"/content/drive\", force_remount=True).\n"
          ],
          "name": "stdout"
        }
      ]
    },
    {
      "cell_type": "code",
      "metadata": {
        "id": "R3gkl8X9QdOv"
      },
      "source": [
        "PATH  = '/content/drive/My Drive/DLL/'"
      ],
      "execution_count": 24,
      "outputs": []
    },
    {
      "cell_type": "markdown",
      "metadata": {
        "id": "EEmVVFUAIWAy"
      },
      "source": [
        "1.   Реализовать обучение линейной регрессии для задачи boston house prices (https://www.kaggle.com/vikrishnan/boston-house-prices) с использованием torch’а"
      ]
    },
    {
      "cell_type": "code",
      "metadata": {
        "colab": {
          "base_uri": "https://localhost:8080/"
        },
        "id": "f4fLdo0LPzPi",
        "outputId": "6a01f916-7453-4d71-841a-f79bab2f1591"
      },
      "source": [
        "df = pd.read_csv(PATH+'housing.csv', header=None, delimiter=r\"\\s+\")\n",
        "print(df.head())"
      ],
      "execution_count": 25,
      "outputs": [
        {
          "output_type": "stream",
          "text": [
            "        0     1     2   3      4      5   ...  8      9     10      11    12    13\n",
            "0  0.00632  18.0  2.31   0  0.538  6.575  ...   1  296.0  15.3  396.90  4.98  24.0\n",
            "1  0.02731   0.0  7.07   0  0.469  6.421  ...   2  242.0  17.8  396.90  9.14  21.6\n",
            "2  0.02729   0.0  7.07   0  0.469  7.185  ...   2  242.0  17.8  392.83  4.03  34.7\n",
            "3  0.03237   0.0  2.18   0  0.458  6.998  ...   3  222.0  18.7  394.63  2.94  33.4\n",
            "4  0.06905   0.0  2.18   0  0.458  7.147  ...   3  222.0  18.7  396.90  5.33  36.2\n",
            "\n",
            "[5 rows x 14 columns]\n"
          ],
          "name": "stdout"
        }
      ]
    },
    {
      "cell_type": "code",
      "metadata": {
        "id": "vUANiMjTPzS5"
      },
      "source": [
        "features_data = df[df.columns[:-1]]\n",
        "\n",
        "# Нормализация X\n",
        "features_data = features_data.apply(lambda x: (x - x.mean()) / x.std()) "
      ],
      "execution_count": 26,
      "outputs": []
    },
    {
      "cell_type": "code",
      "metadata": {
        "colab": {
          "base_uri": "https://localhost:8080/"
        },
        "id": "tVjeMpWXPzWC",
        "outputId": "8ab4425f-1521-4a72-936d-cbf7ef5edace"
      },
      "source": [
        "features = features_data.to_numpy()\n",
        "labels = df[df.columns[-1]].to_numpy()\n",
        "\n",
        "X_train, X_test, Y_train, Y_test = train_test_split(features, labels, test_size=0.2)\n",
        "print(X_train.shape, X_test.shape, Y_train.shape, Y_test.shape)"
      ],
      "execution_count": 27,
      "outputs": [
        {
          "output_type": "stream",
          "text": [
            "(404, 13) (102, 13) (404,) (102,)\n"
          ],
          "name": "stdout"
        }
      ]
    },
    {
      "cell_type": "code",
      "metadata": {
        "colab": {
          "base_uri": "https://localhost:8080/"
        },
        "id": "3m3_qQ5rPzZN",
        "outputId": "783c0856-2f2f-4dd0-d018-b26e4c39a7eb"
      },
      "source": [
        "X_train = torch.tensor(X_train, dtype=torch.float)\n",
        "X_test  = torch.tensor(X_test, dtype=torch.float)\n",
        "Y_train = torch.tensor(Y_train, dtype=torch.float).view(-1, 1)\n",
        "Y_test  = torch.tensor(Y_test, dtype=torch.float).view(-1, 1)\n",
        "\n",
        "print(X_train.shape, Y_train.shape, X_train.type(), Y_train.type())"
      ],
      "execution_count": 28,
      "outputs": [
        {
          "output_type": "stream",
          "text": [
            "torch.Size([404, 13]) torch.Size([404, 1]) torch.FloatTensor torch.FloatTensor\n"
          ],
          "name": "stdout"
        }
      ]
    },
    {
      "cell_type": "markdown",
      "metadata": {
        "id": "3cpQRvX5PW3S"
      },
      "source": [
        "shaffle - false"
      ]
    },
    {
      "cell_type": "code",
      "metadata": {
        "id": "mtnwAHt2Pzch"
      },
      "source": [
        "model      = torch.nn.Sequential(torch.nn.Linear(13, 1))\n",
        "\n",
        "torch.nn.init.normal_(model[0].weight, mean=0, std=0.1)\n",
        "torch.nn.init.constant_(model[0].bias, val=0)\n",
        "\n",
        "datasets   = torch.utils.data.TensorDataset(X_train, Y_train)\n",
        "train_iter = torch.utils.data.DataLoader(datasets, batch_size=25, shuffle=False)\n",
        "loss       = torch.nn.MSELoss()\n",
        "optimizer  = torch.optim.SGD(model.parameters(), lr=0.005)"
      ],
      "execution_count": 29,
      "outputs": []
    },
    {
      "cell_type": "code",
      "metadata": {
        "colab": {
          "base_uri": "https://localhost:8080/"
        },
        "id": "QA8hIfQLPzfg",
        "outputId": "00862ca8-04f7-428d-f796-31b4b4dcea3a"
      },
      "source": [
        "# Обучение\n",
        "num_epochs = 17\n",
        "for epoch in range(1, num_epochs + 1):\n",
        "    for x, y in train_iter:\n",
        "        output = model(x)\n",
        "        l = loss(output, y)\n",
        "        optimizer.zero_grad()\n",
        "        l.backward()\n",
        "        optimizer.step()\n",
        "    print('epoch #', epoch, 'loss = ', l.item())"
      ],
      "execution_count": 30,
      "outputs": [
        {
          "output_type": "stream",
          "text": [
            "epoch # 1 loss =  453.84637451171875\n",
            "epoch # 2 loss =  305.9334411621094\n",
            "epoch # 3 loss =  216.44424438476562\n",
            "epoch # 4 loss =  156.87657165527344\n",
            "epoch # 5 loss =  115.84310150146484\n",
            "epoch # 6 loss =  87.13327026367188\n",
            "epoch # 7 loss =  66.86174011230469\n",
            "epoch # 8 loss =  52.44938659667969\n",
            "epoch # 9 loss =  42.137107849121094\n",
            "epoch # 10 loss =  34.70861053466797\n",
            "epoch # 11 loss =  29.316774368286133\n",
            "epoch # 12 loss =  25.36882972717285\n",
            "epoch # 13 loss =  22.448713302612305\n",
            "epoch # 14 loss =  20.26336669921875\n",
            "epoch # 15 loss =  18.60589599609375\n",
            "epoch # 16 loss =  17.32981300354004\n",
            "epoch # 17 loss =  16.33102035522461\n"
          ],
          "name": "stdout"
        }
      ]
    },
    {
      "cell_type": "code",
      "metadata": {
        "colab": {
          "base_uri": "https://localhost:8080/"
        },
        "id": "2yKOTVPWxFDF",
        "outputId": "2bf2cdb5-9d47-4d43-878d-4a11015f869f"
      },
      "source": [
        "loss(model(X_test), Y_test).item()"
      ],
      "execution_count": 31,
      "outputs": [
        {
          "output_type": "execute_result",
          "data": {
            "text/plain": [
              "27.58080291748047"
            ]
          },
          "metadata": {
            "tags": []
          },
          "execution_count": 31
        }
      ]
    },
    {
      "cell_type": "code",
      "metadata": {
        "colab": {
          "base_uri": "https://localhost:8080/"
        },
        "id": "xFObIN-60nE4",
        "outputId": "25d05874-1eaa-4838-8ecf-a90a6d804813"
      },
      "source": [
        "model[0].weight, model[0].bias"
      ],
      "execution_count": 32,
      "outputs": [
        {
          "output_type": "execute_result",
          "data": {
            "text/plain": [
              "(Parameter containing:\n",
              " tensor([[-0.5530,  1.1708, -0.2637,  0.9477, -0.7979,  3.7356, -0.3595, -2.0585,\n",
              "           0.3740, -0.6030, -1.7492,  0.6615, -2.9374]], requires_grad=True),\n",
              " Parameter containing:\n",
              " tensor([21.3390], requires_grad=True))"
            ]
          },
          "metadata": {
            "tags": []
          },
          "execution_count": 32
        }
      ]
    },
    {
      "cell_type": "markdown",
      "metadata": {
        "id": "ri62lWbFPheI"
      },
      "source": [
        "shuffle - true"
      ]
    },
    {
      "cell_type": "code",
      "metadata": {
        "id": "nzmEjpcQPzi8"
      },
      "source": [
        "model_shuff      = torch.nn.Sequential(torch.nn.Linear(13, 1))\n",
        "\n",
        "torch.nn.init.normal_(model_shuff[0].weight, mean=0, std=0.1)\n",
        "torch.nn.init.constant_(model_shuff[0].bias, val=0)\n",
        "\n",
        "datasets   = torch.utils.data.TensorDataset(X_train, Y_train)\n",
        "train_iter = torch.utils.data.DataLoader(datasets, batch_size=25, shuffle=True)\n",
        "loss       = torch.nn.MSELoss()\n",
        "optimizer  = torch.optim.SGD(model_shuff.parameters(), lr=0.02)"
      ],
      "execution_count": 33,
      "outputs": []
    },
    {
      "cell_type": "code",
      "metadata": {
        "colab": {
          "base_uri": "https://localhost:8080/"
        },
        "id": "DvB_6z9uuPpg",
        "outputId": "c60d94a6-8d25-4adc-a7d4-935da6e53fdf"
      },
      "source": [
        "# Обучение\n",
        "num_epochs = 100\n",
        "for epoch in range(1, num_epochs + 1):\n",
        "    for x, y in train_iter:\n",
        "        output = model_shuff(x)\n",
        "        l = loss(output, y)\n",
        "        optimizer.zero_grad()\n",
        "        l.backward()\n",
        "        optimizer.step()\n",
        "    if epoch % 10 == 0:\n",
        "        print('epoch #', epoch, 'loss = ', l.item())"
      ],
      "execution_count": 34,
      "outputs": [
        {
          "output_type": "stream",
          "text": [
            "epoch # 10 loss =  5.965022087097168\n",
            "epoch # 20 loss =  7.293479919433594\n",
            "epoch # 30 loss =  16.871173858642578\n",
            "epoch # 40 loss =  109.49775695800781\n",
            "epoch # 50 loss =  3.425614833831787\n",
            "epoch # 60 loss =  12.973479270935059\n",
            "epoch # 70 loss =  13.088701248168945\n",
            "epoch # 80 loss =  9.239013671875\n",
            "epoch # 90 loss =  47.209049224853516\n",
            "epoch # 100 loss =  10.703770637512207\n"
          ],
          "name": "stdout"
        }
      ]
    },
    {
      "cell_type": "code",
      "metadata": {
        "id": "3ieDZ2QBustc",
        "colab": {
          "base_uri": "https://localhost:8080/"
        },
        "outputId": "bbde3f62-0cef-40cc-81fd-08155f3ba2e6"
      },
      "source": [
        "loss(model_shuff(X_test), Y_test).item()"
      ],
      "execution_count": 35,
      "outputs": [
        {
          "output_type": "execute_result",
          "data": {
            "text/plain": [
              "23.270339965820312"
            ]
          },
          "metadata": {
            "tags": []
          },
          "execution_count": 35
        }
      ]
    },
    {
      "cell_type": "code",
      "metadata": {
        "id": "nojlQ35avd98",
        "colab": {
          "base_uri": "https://localhost:8080/"
        },
        "outputId": "2a1840bc-1c7c-4467-a133-02aad15bf2f3"
      },
      "source": [
        "model_shuff[0].weight, model_shuff[0].bias"
      ],
      "execution_count": 36,
      "outputs": [
        {
          "output_type": "execute_result",
          "data": {
            "text/plain": [
              "(Parameter containing:\n",
              " tensor([[-0.8894,  1.2769,  0.2122,  0.7815, -1.9610,  2.8155, -0.2345, -3.2558,\n",
              "           2.3972, -2.2946, -2.1414,  0.9104, -3.6077]], requires_grad=True),\n",
              " Parameter containing:\n",
              " tensor([22.5218], requires_grad=True))"
            ]
          },
          "metadata": {
            "tags": []
          },
          "execution_count": 36
        }
      ]
    },
    {
      "cell_type": "markdown",
      "metadata": {
        "id": "B5211HgYLEU9"
      },
      "source": [
        "2.   Реализоыать наивный баесовский классификатор для MNIST (взяв всего 2 цифры “1” и “2”) "
      ]
    },
    {
      "cell_type": "code",
      "metadata": {
        "id": "bMA-bdoCMe13"
      },
      "source": [
        "import torchvision"
      ],
      "execution_count": 37,
      "outputs": []
    },
    {
      "cell_type": "code",
      "metadata": {
        "id": "bRWLEo1kMfSB"
      },
      "source": [
        "def transform(data):\n",
        "    data = torch.tensor(data.getdata(), dtype=torch.float32)\n",
        "    return torch.floor(data / 128.).squeeze(axis=-1)"
      ],
      "execution_count": 38,
      "outputs": []
    },
    {
      "cell_type": "code",
      "metadata": {
        "id": "Vex6TAyYMuMl"
      },
      "source": [
        "mnist_train = torchvision.datasets.MNIST('.', train=True, transform=transform, download=True)\n",
        "mnist_test  = torchvision.datasets.MNIST('.', train=False, transform=transform, download=True)"
      ],
      "execution_count": 39,
      "outputs": []
    },
    {
      "cell_type": "code",
      "metadata": {
        "colab": {
          "base_uri": "https://localhost:8080/",
          "height": 282
        },
        "id": "2Au9WKzgM52l",
        "outputId": "672a88b0-51ce-4d7b-d555-cc87a7494a30"
      },
      "source": [
        "import matplotlib.pyplot as plt\n",
        "%matplotlib inline\n",
        "plt.imshow(mnist_train[0][0].reshape(28, 28), cmap='gray', vmin=0, vmax=1)"
      ],
      "execution_count": 40,
      "outputs": [
        {
          "output_type": "execute_result",
          "data": {
            "text/plain": [
              "<matplotlib.image.AxesImage at 0x7f64c37bbf50>"
            ]
          },
          "metadata": {
            "tags": []
          },
          "execution_count": 40
        },
        {
          "output_type": "display_data",
          "data": {
            "image/png": "[encoded data removed]",
            "text/plain": [
              "<Figure size 432x288 with 1 Axes>"
            ]
          },
          "metadata": {
            "tags": [],
            "needs_background": "light"
          }
        }
      ]
    },
    {
      "cell_type": "code",
      "metadata": {
        "colab": {
          "base_uri": "https://localhost:8080/"
        },
        "id": "6Qzo4CAMM-L1",
        "outputId": "d95834cc-988f-4f2a-ad91-bfc5c4a79c2d"
      },
      "source": [
        "mnist_train"
      ],
      "execution_count": 41,
      "outputs": [
        {
          "output_type": "execute_result",
          "data": {
            "text/plain": [
              "Dataset MNIST\n",
              "    Number of datapoints: 60000\n",
              "    Root location: .\n",
              "    Split: Train\n",
              "    StandardTransform\n",
              "Transform: <function transform at 0x7f64c61115f0>"
            ]
          },
          "metadata": {
            "tags": []
          },
          "execution_count": 41
        }
      ]
    },
    {
      "cell_type": "code",
      "metadata": {
        "id": "ocDZANIiNH-P"
      },
      "source": [
        "n_class1, n_class2  = torch.tensor(0), torch.tensor(0)\n",
        "\n",
        "classes_stat        = torch.zeros((2,2,784))#.to(dev) \n",
        "total_stat          = torch.zeros((2,784))#.to(dev) "
      ],
      "execution_count": 44,
      "outputs": []
    },
    {
      "cell_type": "code",
      "metadata": {
        "id": "1wp4vqbhNQxZ",
        "colab": {
          "base_uri": "https://localhost:8080/"
        },
        "outputId": "28a71cd3-62bd-4143-e189-5596de6a39e7"
      },
      "source": [
        "for i in range(len(mnist_train)):\n",
        "    class_id = mnist_train[i][1]\n",
        "    if class_id == 1 or class_id == 2:\n",
        "        n_class1 += 1 if class_id == 1 else 0\n",
        "        n_class2 += 1 if class_id == 2 else 0\n",
        "    \n",
        "        mnist_train_item = mnist_train[i][0].numpy().astype(int)\n",
        "        \n",
        "        for p in range(784):\n",
        "            v = mnist_train_item[p]\n",
        "            classes_stat[class_id - 1][v][p] += 1\n",
        "            total_stat[v][p] += 1\n",
        "\n",
        "print(n_class1, n_class2)"
      ],
      "execution_count": 45,
      "outputs": [
        {
          "output_type": "stream",
          "text": [
            "tensor(6742) tensor(5958)\n"
          ],
          "name": "stdout"
        }
      ]
    },
    {
      "cell_type": "code",
      "metadata": {
        "id": "LuCWUo2FNQ7M"
      },
      "source": [
        "p_1 = n_class1 / float(n_class1 + n_class2)\n",
        "p_2 = 1. - p_1\n",
        "\n",
        "classes_stat[0] /= float(n_class1)\n",
        "classes_stat[1] /= float(n_class2)\n",
        "\n",
        "total_stat /= float(n_class1 + n_class2)"
      ],
      "execution_count": 46,
      "outputs": []
    },
    {
      "cell_type": "code",
      "metadata": {
        "id": "5rZ5eLJrCsi1"
      },
      "source": [
        "from sklearn.metrics import classification_report"
      ],
      "execution_count": 47,
      "outputs": []
    },
    {
      "cell_type": "code",
      "metadata": {
        "id": "c-rd8PRsNQ-r",
        "colab": {
          "base_uri": "https://localhost:8080/"
        },
        "outputId": "36f791ab-0b94-4de4-fea3-f79bfb774592"
      },
      "source": [
        "forecast = []\n",
        "labels =   []\n",
        "\n",
        "for i in range(len(mnist_test)):\n",
        "    class_id = mnist_test[i][1]\n",
        "    if class_id == 1 or class_id == 2:\n",
        "        labels.append(class_id)\n",
        "        class_fcst, p1 = 1, 1.\n",
        "        mnist_test_item = mnist_test[i][0].numpy().astype(int)\n",
        "        for p in range(784):\n",
        "            v = mnist_test_item[p]\n",
        "            p1 *= classes_stat[0][v][p] / total_stat[v][p] \n",
        "\n",
        "            if p1 * p_1 > 0.5:\n",
        "                class_fcst = 1\n",
        "            else:\n",
        "                class_fcst = 2\n",
        "        forecast.append(class_fcst)   \n",
        "\n",
        "print(classification_report(forecast, labels))"
      ],
      "execution_count": 48,
      "outputs": [
        {
          "output_type": "stream",
          "text": [
            "              precision    recall  f1-score   support\n",
            "\n",
            "           1       0.93      1.00      0.96      1055\n",
            "           2       1.00      0.92      0.96      1112\n",
            "\n",
            "    accuracy                           0.96      2167\n",
            "   macro avg       0.96      0.96      0.96      2167\n",
            "weighted avg       0.96      0.96      0.96      2167\n",
            "\n"
          ],
          "name": "stdout"
        }
      ]
    },
    {
      "cell_type": "markdown",
      "metadata": {
        "id": "IhdLZAENIbTb"
      },
      "source": [
        "2.1.   Сравнить наивный баесовский классификатор для MNIST  с sclearn’овским"
      ]
    },
    {
      "cell_type": "code",
      "metadata": {
        "id": "y2CjSVT6IYap"
      },
      "source": [
        "train = np.loadtxt(PATH + 'mnist/train.csv', delimiter=',', skiprows=1)\n",
        "test  = np.loadtxt(PATH + 'mnist/test.csv' , delimiter=',', skiprows=1)"
      ],
      "execution_count": 49,
      "outputs": []
    },
    {
      "cell_type": "code",
      "metadata": {
        "id": "REnoIXiUGkDf"
      },
      "source": [
        "train_label = train[:, 0]\n",
        "train_img   = np.resize(train[:, 1:], (train.shape[0], 28, 28))\n",
        "test_img    = np.resize(test, (test.shape[0], 28, 28))"
      ],
      "execution_count": 50,
      "outputs": []
    },
    {
      "cell_type": "code",
      "metadata": {
        "id": "Di8Mq19eGkP_"
      },
      "source": [
        "X_train, X_valid, y_train, y_valid = train_test_split(np.resize(train_img, (train.shape[0], 28*28)), \n",
        "                                                      train_label, \n",
        "                                                      test_size=0.20, \n",
        "                                                      random_state=42)"
      ],
      "execution_count": 51,
      "outputs": []
    },
    {
      "cell_type": "code",
      "metadata": {
        "id": "n1ej55j1JkP3"
      },
      "source": [
        "from sklearn.linear_model import LogisticRegression\n",
        "from sklearn.naive_bayes import GaussianNB\n",
        "from sklearn.ensemble import RandomForestClassifier, VotingClassifier, GradientBoostingClassifier\n",
        "\n",
        "\n",
        "clf2 = RandomForestClassifier(n_estimators=50, random_state=1)\n",
        "clf3 = GaussianNB()\n",
        "clf4 = GradientBoostingClassifier(n_estimators =50, learning_rate=0.1, \n",
        "                                  random_state=1)"
      ],
      "execution_count": 54,
      "outputs": []
    },
    {
      "cell_type": "code",
      "metadata": {
        "colab": {
          "base_uri": "https://localhost:8080/"
        },
        "id": "qpSGYoE7JttB",
        "outputId": "4faea63e-8904-40ee-d2d6-b225b40a1473"
      },
      "source": [
        "eclf2 = VotingClassifier(estimators=[\n",
        "         ('rf', clf2), \n",
        "         ('gnb', clf3),\n",
        "         ('xgb', clf4)], \n",
        "         voting='hard')\n",
        "\n",
        "eclf2.fit(X_train,  y_train)"
      ],
      "execution_count": 55,
      "outputs": [
        {
          "output_type": "execute_result",
          "data": {
            "text/plain": [
              "VotingClassifier(estimators=[('rf',\n",
              "                              RandomForestClassifier(bootstrap=True,\n",
              "                                                     ccp_alpha=0.0,\n",
              "                                                     class_weight=None,\n",
              "                                                     criterion='gini',\n",
              "                                                     max_depth=None,\n",
              "                                                     max_features='auto',\n",
              "                                                     max_leaf_nodes=None,\n",
              "                                                     max_samples=None,\n",
              "                                                     min_impurity_decrease=0.0,\n",
              "                                                     min_impurity_split=None,\n",
              "                                                     min_samples_leaf=1,\n",
              "                                                     min_samples_split=2,\n",
              "                                                     min_weight_fraction_leaf=0.0,\n",
              "                                                     n_estimators=50,\n",
              "                                                     n_jobs=None,\n",
              "                                                     oob_score=...\n",
              "                                                         max_leaf_nodes=None,\n",
              "                                                         min_impurity_decrease=0.0,\n",
              "                                                         min_impurity_split=None,\n",
              "                                                         min_samples_leaf=1,\n",
              "                                                         min_samples_split=2,\n",
              "                                                         min_weight_fraction_leaf=0.0,\n",
              "                                                         n_estimators=50,\n",
              "                                                         n_iter_no_change=None,\n",
              "                                                         presort='deprecated',\n",
              "                                                         random_state=1,\n",
              "                                                         subsample=1.0,\n",
              "                                                         tol=0.0001,\n",
              "                                                         validation_fraction=0.1,\n",
              "                                                         verbose=0,\n",
              "                                                         warm_start=False))],\n",
              "                 flatten_transform=True, n_jobs=None, voting='hard',\n",
              "                 weights=None)"
            ]
          },
          "metadata": {
            "tags": []
          },
          "execution_count": 55
        }
      ]
    },
    {
      "cell_type": "code",
      "metadata": {
        "colab": {
          "base_uri": "https://localhost:8080/"
        },
        "id": "v1GsXROkJt9P",
        "outputId": "a79d2c20-4e60-44b0-905c-90191f5c9127"
      },
      "source": [
        "from sklearn.model_selection import cross_val_score\n",
        "\n",
        "for clf, label in zip([ clf2, clf3, clf4, eclf2], \n",
        "                      ['Random Forest', 'GaussianNB',\n",
        "                       'XG boost', 'Ensemble']):\n",
        "     scores = cross_val_score(clf, X_train, y_train, scoring='accuracy', cv=5)\n",
        "     print(\"Accuracy: %0.2f (+/- %0.2f) [%s]\" % (scores.mean(), \n",
        "                                                 scores.std(), label))"
      ],
      "execution_count": null,
      "outputs": [
        {
          "output_type": "stream",
          "text": [
            "Accuracy: 0.96 (+/- 0.00) [Random Forest]\n",
            "Accuracy: 0.57 (+/- 0.01) [GaussianNB]\n",
            "Accuracy: 0.92 (+/- 0.00) [XG boost]\n"
          ],
          "name": "stdout"
        }
      ]
    },
    {
      "cell_type": "code",
      "metadata": {
        "id": "nKSvILnpJuA5"
      },
      "source": [
        ""
      ],
      "execution_count": null,
      "outputs": []
    }
  ]
}