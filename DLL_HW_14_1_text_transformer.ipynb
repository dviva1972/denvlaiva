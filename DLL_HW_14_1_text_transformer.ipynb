{
  "nbformat": 4,
  "nbformat_minor": 0,
  "metadata": {
    "kernelspec": {
      "display_name": "Python 3",
      "language": "python",
      "name": "python3"
    },
    "language_info": {
      "codemirror_mode": {
        "name": "ipython",
        "version": 3
      },
      "file_extension": ".py",
      "mimetype": "text/x-python",
      "name": "python",
      "nbconvert_exporter": "python",
      "pygments_lexer": "ipython3",
      "version": "3.6.13"
    },
    "colab": {
      "name": "DLL_HW_14_1_text_transformer.ipynb",
      "provenance": [],
      "collapsed_sections": [],
      "machine_shape": "hm",
      "include_colab_link": true
    },
    "accelerator": "GPU"
  },
  "cells": [
    {
      "cell_type": "markdown",
      "metadata": {
        "id": "view-in-github",
        "colab_type": "text"
      },
      "source": [
        "<a href=\"https://colab.research.google.com/github/dviva1972/denvlaiva/blob/master/DLL_HW_14_1_text_transformer.ipynb\" target=\"_parent\"><img src=\"https://colab.research.google.com/assets/colab-badge.svg\" alt=\"Open In Colab\"/></a>"
      ]
    },
    {
      "cell_type": "markdown",
      "metadata": {
        "id": "kDgFV2qNmj7Z"
      },
      "source": [
        "## DLL\n",
        "\n",
        "## Домашняя работа 13 | Работа с текстом / Трансформеры\n",
        "\n",
        "## Иванов Денис"
      ]
    },
    {
      "cell_type": "markdown",
      "metadata": {
        "id": "xfjxV1j_O6Ud"
      },
      "source": [
        "Решить задачу перевода с использованием трансформеров\n",
        "\n",
        "Возьмите англо-испанские пары фраз (www.manythings.org....org/anki/)\n",
        "\n",
        "Обучите на них seq2seq with transformers"
      ]
    },
    {
      "cell_type": "markdown",
      "metadata": {
        "id": "md2vJgynQ3tn"
      },
      "source": [
        "### 1. Импорт библиотек / данных"
      ]
    },
    {
      "cell_type": "code",
      "metadata": {
        "id": "o149LPQazGH3"
      },
      "source": [
        "from io import open\n",
        "import unicodedata\n",
        "import string\n",
        "import re\n",
        "import random\n",
        "import math\n",
        "import numpy as np\n",
        "from collections import Counter\n",
        "\n",
        "import torch as tr\n",
        "import torch.nn as nn\n",
        "from   torch import Tensor\n",
        "from   torch.nn import Transformer\n",
        "import torch.nn.functional as F\n",
        "\n",
        "from timeit import default_timer as timer\n",
        "\n",
        "import matplotlib.pyplot as plt\n",
        "import seaborn as sns\n",
        "%matplotlib inline"
      ],
      "execution_count": 1,
      "outputs": []
    },
    {
      "cell_type": "code",
      "metadata": {
        "colab": {
          "base_uri": "https://localhost:8080/"
        },
        "id": "d897g22jzJcd",
        "outputId": "1129c79b-eb97-4033-d4dc-c20e4104bf19"
      },
      "source": [
        "DEVICE = tr.device('cuda:0' if tr.cuda.is_available() else 'cpu')\n",
        "print(f\"work on {(tr.cuda.get_device_name() if DEVICE.type == 'cuda' else 'cpu')}\")"
      ],
      "execution_count": 2,
      "outputs": [
        {
          "output_type": "stream",
          "name": "stdout",
          "text": [
            "work on Tesla P100-PCIE-16GB\n"
          ]
        }
      ]
    },
    {
      "cell_type": "markdown",
      "metadata": {
        "id": "rqBNcHqgTuH2"
      },
      "source": [
        "### 2. Импорт и предобработка текста"
      ]
    },
    {
      "cell_type": "code",
      "metadata": {
        "colab": {
          "base_uri": "https://localhost:8080/"
        },
        "id": "QSfLae0XzJfi",
        "outputId": "973b1524-88d7-4d33-ba47-0e092d6fe114"
      },
      "source": [
        "!wget https://www.manythings.org/anki/spa-eng.zip\n",
        "!unzip spa-eng.zip"
      ],
      "execution_count": 3,
      "outputs": [
        {
          "output_type": "stream",
          "name": "stdout",
          "text": [
            "--2021-10-17 05:19:14--  https://www.manythings.org/anki/spa-eng.zip\n",
            "Resolving www.manythings.org (www.manythings.org)... 104.21.92.44, 172.67.186.54, 2606:4700:3030::6815:5c2c, ...\n",
            "Connecting to www.manythings.org (www.manythings.org)|104.21.92.44|:443... connected.\n",
            "HTTP request sent, awaiting response... 200 OK\n",
            "Length: 5192744 (5.0M) [application/zip]\n",
            "Saving to: ‘spa-eng.zip’\n",
            "\n",
            "spa-eng.zip         100%[===================>]   4.95M  --.-KB/s    in 0.07s   \n",
            "\n",
            "2021-10-17 05:19:14 (73.9 MB/s) - ‘spa-eng.zip’ saved [5192744/5192744]\n",
            "\n",
            "Archive:  spa-eng.zip\n",
            "  inflating: _about.txt              \n",
            "  inflating: spa.txt                 \n"
          ]
        }
      ]
    },
    {
      "cell_type": "markdown",
      "metadata": {
        "id": "0Vw1t9mvRG4s"
      },
      "source": [
        "Для решения задачи принят следующий алгоритм подготовки данных:\n",
        "\n",
        "*   в качестве единицы / наблюдения анализа принято 1 предложение, разделенное окончанием пары фраз или знаками окончания предложения '.!?' \n",
        "*   предложение - не более  20 слов, если более - предложение обрезается, к анализу берется 20 первых слов\n",
        "*   в случае, если в исходной паре фраз содержится несколько предложений - то количество наблюдений по паре фраз соответствует количеству отдельных предложений к переводу\n",
        "*   в случае, если в исходной паре фраз количество предложений на входе не совпадает с количеством предложений на выходе - такая пара фраз в обучении модели не участвует\n",
        "*   в случае, если хотя бы в одном из пары предложений встречаются редкие слова (встречающиеся по всему корпусу исходных данных менее 5 раз) - такая пара фраз в обучении модели не участвует"
      ]
    },
    {
      "cell_type": "code",
      "metadata": {
        "id": "36CjyvkyzJiC"
      },
      "source": [
        "SOS_token   = 'SOS'\n",
        "EOS_token   = 'EOS'\n",
        "lang1       = 'eng'\n",
        "lang2       = 'spa'\n",
        "\n",
        "class Lang:\n",
        "    def __init__(self, name):\n",
        "        self.name = name\n",
        "        self.word2index = {'<pad>': 0, SOS_token: 1, EOS_token: 2}\n",
        "        self.index2word = {0: '<pad>', 1: SOS_token, 2: EOS_token}\n",
        "        self.word2count = {}\n",
        "        self.n_words = 3 \n",
        "\n",
        "    def addSentence(self, sentence):\n",
        "        for word in sentence:#.split(' '):\n",
        "            self.addWord(word)\n",
        "\n",
        "    def addWord(self, word):\n",
        "        if word not in self.word2index:\n",
        "            self.word2index[word] = self.n_words\n",
        "            self.word2count[word] = 1\n",
        "            self.index2word[self.n_words] = word\n",
        "            self.n_words += 1\n",
        "        else:\n",
        "            self.word2count[word] += 1"
      ],
      "execution_count": 4,
      "outputs": []
    },
    {
      "cell_type": "code",
      "metadata": {
        "id": "p8RbtrXjzJkq"
      },
      "source": [
        "def unicodeToAscii(s):\n",
        "    return ''.join(\n",
        "        c for c in unicodedata.normalize('NFD', s)\n",
        "           if unicodedata.category(c) != 'Mn')\n",
        "\n",
        "def normalizeString(s):\n",
        "    s = unicodeToAscii(s.lower().strip())\n",
        "    s = re.sub(r\"([.!?])\", r\" \\1\", s)\n",
        "    s = re.sub(r\"[^a-zA-Zа-яА-ЯёЁ.!?]+\", r\" \", s)\n",
        "    return s"
      ],
      "execution_count": 5,
      "outputs": []
    },
    {
      "cell_type": "code",
      "metadata": {
        "id": "upp4H7rlzJnR"
      },
      "source": [
        "def readLangs(s_limit):\n",
        "    print(\"Reading lines...\")\n",
        "    lines = open('spa.txt', encoding='utf-8').read().strip().split('\\n')\n",
        "    pairs = [[normalizeString(s) for s in re.split('\\t', l)] for l in lines]\n",
        "    pairs_list = []\n",
        "    for string in pairs:\n",
        "        eng_split =  [i for i in re.split('[\\.!?]', string[0]) if i != '']\n",
        "        esp_split =  [i for i in re.split('[\\.!?]', string[1]) if i != '']    \n",
        "        if len(eng_split) ==  len(esp_split):\n",
        "            for i in range(len(eng_split)):            \n",
        "                eng_s = re.findall('[\\w]+', eng_split[i])[:s_limit]\n",
        "                esp_s = re.findall('[\\w]+', esp_split[i])[:s_limit]\n",
        "                pairs_list.append([eng_s, esp_s]) \n",
        "    return pairs_list"
      ],
      "execution_count": 6,
      "outputs": []
    },
    {
      "cell_type": "code",
      "metadata": {
        "id": "R6JKviCpzJqi"
      },
      "source": [
        "def prepareData(i_lang, o_lang, se_limit):\n",
        "    pairs     = readLangs(se_limit)\n",
        "    inp_lang  = Lang(i_lang)\n",
        "    out_lang  = Lang(o_lang)\n",
        "    print(\"Read %s sentence pairs\" % len(pairs))\n",
        "    print(\"Trimmed to %s sentence pairs\" % len(pairs))\n",
        "    print(\"Counting words...\")\n",
        "    for pair in pairs:\n",
        "        inp_lang.addSentence(pair[0])\n",
        "        out_lang.addSentence(pair[1])\n",
        "    print(\"Counted words:\")\n",
        "    print(inp_lang.name, inp_lang.n_words)\n",
        "    print(out_lang.name, out_lang.n_words)\n",
        "    return inp_lang, out_lang, pairs"
      ],
      "execution_count": 7,
      "outputs": []
    },
    {
      "cell_type": "code",
      "metadata": {
        "id": "ijZ8ShBCzJtc"
      },
      "source": [
        "def Prepare_Filt_Data(im_lang = lang1, ou_lang = lang2, \n",
        "                      sen_limit = 20,  w_limit = 5):\n",
        "    i1_lang, o1_lang, pairs=prepareData(im_lang, ou_lang, sen_limit)\n",
        "    inp_lang_  = Lang(im_lang)\n",
        "    out_lang_  = Lang(ou_lang)\n",
        "\n",
        "    eng_words_select = set([i for i in i1_lang.word2count.keys() \n",
        "                               if i1_lang.word2count[i] > w_limit])\n",
        "    esp_words_select = set([i for i in o1_lang.word2count.keys() \n",
        "                               if o1_lang.word2count[i] > w_limit])\n",
        "    \n",
        "    for pair in pairs:\n",
        "        for wrd_i in pair[0]:\n",
        "            if wrd_i in eng_words_select:\n",
        "                inp_lang_.addWord(wrd_i)\n",
        "        for wrd_o in pair[1]:\n",
        "            if wrd_o in esp_words_select:\n",
        "                out_lang_.addWord(wrd_o)\n",
        "\n",
        "    print('Using filter: every dict word in sentenses > ', w_limit)\n",
        "    print(inp_lang_.name, inp_lang_.n_words)\n",
        "    print(out_lang_.name, out_lang_.n_words)\n",
        "\n",
        "    pairs_select = []\n",
        "    for i in range(len(pairs)):\n",
        "        if all(word in eng_words_select for word in pairs[i][0]):\n",
        "            if all(word in esp_words_select for word in pairs[i][1]):\n",
        "                   pairs_select.append([pairs[i][0], pairs[i][1]]) \n",
        "\n",
        "    print(len(pairs_select), ' sentenses')\n",
        "    return inp_lang_, out_lang_, pairs_select"
      ],
      "execution_count": 8,
      "outputs": []
    },
    {
      "cell_type": "code",
      "metadata": {
        "colab": {
          "base_uri": "https://localhost:8080/"
        },
        "id": "ocqhc3f50or3",
        "outputId": "fe17695f-eea0-4fae-8ccc-e38e8ddafbcd"
      },
      "source": [
        "input_lang, output_lang, pairs =  Prepare_Filt_Data(sen_limit = 20,  \n",
        "                                                    w_limit   = 5)"
      ],
      "execution_count": 9,
      "outputs": [
        {
          "output_type": "stream",
          "name": "stdout",
          "text": [
            "Reading lines...\n",
            "Read 135511 sentence pairs\n",
            "Trimmed to 135511 sentence pairs\n",
            "Counting words...\n",
            "Counted words:\n",
            "eng 13489\n",
            "spa 26094\n",
            "Using filter: every dict word in sentenses >  5\n",
            "eng 4998\n",
            "spa 7106\n",
            "101567  sentenses\n"
          ]
        }
      ]
    },
    {
      "cell_type": "code",
      "metadata": {
        "id": "YC98Mbvna-Kr"
      },
      "source": [
        "full_len   = len(pairs)\n",
        "train_list = random.sample(range(full_len),   int(round(full_len*0.85, 0)))\n",
        "test_list  = list((Counter(range(full_len)) - Counter(train_list)).elements())"
      ],
      "execution_count": 10,
      "outputs": []
    },
    {
      "cell_type": "code",
      "metadata": {
        "id": "US0E7znY2t_w"
      },
      "source": [
        "def get_batch(pairs_num_list, batch_size):\n",
        "    batch_list = random.sample(pairs_num_list, batch_size)\n",
        "    Max_src_len, Max_tgt_len = 20, 20\n",
        "    inp_matrix = np.zeros((batch_size, Max_src_len))\n",
        "    out_matrix = np.zeros((batch_size, Max_tgt_len))\n",
        "    training_pairs = []\n",
        "    batch_pairs  = []\n",
        "\n",
        "    for a in range(batch_size):\n",
        "        sent_in = pairs[batch_list[a]][0]\n",
        "        for b in range(len(sent_in)+2):\n",
        "            if b == 0:\n",
        "                inp_matrix[a][b] = 1\n",
        "            elif b < len(sent_in):\n",
        "                inp_matrix[a][b] = input_lang.word2index[sent_in[b-1]]\n",
        "            elif (b==len(sent_in) and b< Max_src_len-1) or b==Max_src_len-1:\n",
        "                inp_matrix[a][b] = 2\n",
        "            else:\n",
        "                break\n",
        "\n",
        "        sent_out = pairs[batch_list[a]][1]\n",
        "        for b in range(len(sent_in)+2):\n",
        "            if b == 0:\n",
        "                out_matrix[a][b] = 1\n",
        "            elif b < len(sent_out):\n",
        "                out_matrix[a][b] = output_lang.word2index[sent_out[b-1]]\n",
        "            elif (b==len(sent_out) and b < Max_tgt_len-1) or b==Max_tgt_len-1:\n",
        "                out_matrix[a][b] = 2\n",
        "            else:\n",
        "                break\n",
        "\n",
        "        data   = tr.tensor(inp_matrix, dtype=tr.long, device=DEVICE)\n",
        "        target = tr.tensor(out_matrix, dtype=tr.long, device=DEVICE)\n",
        "        training_pairs.append([data, target])\n",
        "\n",
        "    return training_pairs"
      ],
      "execution_count": 11,
      "outputs": []
    },
    {
      "cell_type": "markdown",
      "metadata": {
        "id": "eLrWUY2ITyM0"
      },
      "source": [
        "### 3. Архитектура сети"
      ]
    },
    {
      "cell_type": "markdown",
      "metadata": {
        "id": "1RN5GDwaUAKI"
      },
      "source": [
        "#### 3.1. Positional Encoder"
      ]
    },
    {
      "cell_type": "code",
      "metadata": {
        "id": "a35Jr093zJ1q"
      },
      "source": [
        "class PositionalEncoding(nn.Module):\n",
        "    def __init__(self, d_model, dropout=0.5, max_len=7000):\n",
        "        super(PositionalEncoding, self).__init__()\n",
        "        self.dropout = nn.Dropout(p=dropout)\n",
        "        pe = tr.zeros(max_len, d_model)\n",
        "        position = tr.arange(0, max_len, dtype=tr.float).unsqueeze(1)\n",
        "        div_term = tr.exp(tr.arange(0, d_model, 2).float() * (-math.log(10000.0) / d_model))\n",
        "        pe[:, 0::2] = tr.sin(position * div_term)\n",
        "        pe[:, 1::2] = tr.cos(position * div_term)\n",
        "        pe = pe.unsqueeze(0).transpose(0, 1)\n",
        "        self.register_buffer('pe', pe)\n",
        "\n",
        "    def forward(self, x):\n",
        "        x = x + self.pe[:x.size(0), :]\n",
        "        return self.dropout(x)"
      ],
      "execution_count": 12,
      "outputs": []
    },
    {
      "cell_type": "markdown",
      "metadata": {
        "id": "oQnb2myGUGPG"
      },
      "source": [
        "#### 3.2. Transformer"
      ]
    },
    {
      "cell_type": "code",
      "metadata": {
        "id": "k6t6tZRpzJ4y"
      },
      "source": [
        "class Trans1(tr.nn.Module):\n",
        "    def __init__(self, n_classes_in, n_classes_out, \n",
        "                 n_emb, n_layers = 4, activ = tr.nn.LeakyReLU, \n",
        "                 dropout: float = 0.5):\n",
        "        super().__init__()\n",
        "        self.emb_srs = tr.nn.Embedding(n_classes_in, n_emb)\n",
        "        self.emb_tgt = tr.nn.Embedding(n_classes_out, n_emb)\n",
        "        self.trans = tr.nn.Transformer(n_emb, num_encoder_layers = n_layers, \n",
        "                                       num_decoder_layers = n_layers, \n",
        "                                       dropout = dropout)\n",
        "\n",
        "        self.pos_encoder = PositionalEncoding(n_emb)\n",
        "        self.fc  = tr.nn.Linear(n_emb, n_classes_out)\n",
        "\n",
        "    def forward(self, srs, tgt):            \n",
        "        srs = self.emb_srs(srs)\n",
        "        tgt = self.emb_tgt(tgt)\n",
        "\n",
        "        srs = self.pos_encoder(srs)\n",
        "        tgt = self.pos_encoder(tgt)\n",
        "\n",
        "        x = self.trans(srs, tgt)\n",
        "        x = self.fc(x)\n",
        "\n",
        "        return x"
      ],
      "execution_count": 13,
      "outputs": []
    },
    {
      "cell_type": "markdown",
      "metadata": {
        "id": "Y3A7Gg01ZDC4"
      },
      "source": [
        "#### 3.3. Train"
      ]
    },
    {
      "cell_type": "code",
      "metadata": {
        "id": "WKPB_A4EoE_o"
      },
      "source": [
        "def train_epoch(model, optimizer):\n",
        "    model.train()\n",
        "    losses = 0    \n",
        "    train_data = get_batch(train_list, 100)\n",
        "    for i, [src, tgt] in enumerate(train_data):\n",
        "        src         = src.squeeze().to(DEVICE)\n",
        "        tgt         = tgt.squeeze().to(DEVICE)\n",
        "        optimizer.zero_grad() \n",
        "        pred        = transformer(src, tgt)           \n",
        "        loss        = loss_fn(pred.reshape(-1, n_classes_out), tgt.reshape(-1))\n",
        "        losses += loss.item()\n",
        "        loss.backward()\n",
        "        optimizer.step()\n",
        "    return losses / len(train_data)\n",
        "\n",
        "\n",
        "def evaluate(model):\n",
        "    model.eval()\n",
        "    losses      = 0\n",
        "    val_data    = get_batch(test_list, 10)\n",
        "    for i, [src, tgt] in enumerate(val_data):\n",
        "        src         = src.squeeze().to(DEVICE)\n",
        "        tgt         = tgt.squeeze().to(DEVICE)        \n",
        "        pred        = transformer(src, tgt)           \n",
        "        loss        = loss_fn(pred.reshape(-1, n_classes_out), tgt.reshape(-1))\n",
        "        losses += loss.item()\n",
        "    return losses / len(val_data)"
      ],
      "execution_count": 14,
      "outputs": []
    },
    {
      "cell_type": "markdown",
      "metadata": {
        "id": "Z0NjT5IBZIam"
      },
      "source": [
        "### 4. Обучение модели"
      ]
    },
    {
      "cell_type": "code",
      "metadata": {
        "id": "WIiwjeoGoE_m"
      },
      "source": [
        "n_classes_in  = input_lang.n_words\n",
        "n_classes_out = output_lang.n_words\n",
        "n_emb         = 128\n",
        "n_layers      = 2\n",
        "\n",
        "transformer   = Trans1(n_classes_in, n_classes_out, n_emb, n_layers)\n",
        "transformer   = transformer.to(DEVICE)\n",
        "loss_fn       = tr.nn.CrossEntropyLoss()\n",
        "optimizer     = tr.optim.Adam(transformer.parameters(), lr=0.0000009) "
      ],
      "execution_count": 15,
      "outputs": []
    },
    {
      "cell_type": "code",
      "metadata": {
        "id": "OqN5vHMS0yXf",
        "colab": {
          "base_uri": "https://localhost:8080/"
        },
        "outputId": "db460046-7c3e-443a-c9f6-76535092e205"
      },
      "source": [
        "n_iters       = 400\n",
        "step          = 20\n",
        "loss_items    = []\n",
        "loss_values   = []\n",
        "start_time = timer()\n",
        "\n",
        "for epoch in range(1, n_iters+1):    \n",
        "    train_loss = train_epoch(transformer, optimizer)\n",
        "    end_time   = timer()\n",
        "    val_loss   = evaluate(transformer)\n",
        "    loss_items.append(epoch)\n",
        "    loss_values.append(train_loss)\n",
        "    if epoch in range(0, n_iters, step):\n",
        "        end_time   = timer()\n",
        "        print((f\"Epoch: {epoch}, Train loss: {train_loss:.3f}, Val loss: {val_loss:.3f}, \"f\"Epoch time = {(end_time - start_time):.3f}s\"))\n",
        "        start_time = timer()"
      ],
      "execution_count": 16,
      "outputs": [
        {
          "output_type": "stream",
          "name": "stdout",
          "text": [
            "Epoch: 20, Train loss: 4.868, Val loss: 3.711, Epoch time = 40.404s\n",
            "Epoch: 40, Train loss: 4.177, Val loss: 3.289, Epoch time = 40.217s\n",
            "Epoch: 60, Train loss: 3.626, Val loss: 3.058, Epoch time = 40.237s\n",
            "Epoch: 80, Train loss: 3.145, Val loss: 2.623, Epoch time = 40.240s\n",
            "Epoch: 100, Train loss: 2.731, Val loss: 2.169, Epoch time = 40.235s\n",
            "Epoch: 120, Train loss: 2.333, Val loss: 2.194, Epoch time = 40.217s\n",
            "Epoch: 140, Train loss: 2.077, Val loss: 2.011, Epoch time = 40.240s\n",
            "Epoch: 160, Train loss: 1.774, Val loss: 1.691, Epoch time = 40.210s\n",
            "Epoch: 180, Train loss: 1.565, Val loss: 1.423, Epoch time = 40.234s\n",
            "Epoch: 200, Train loss: 1.348, Val loss: 1.887, Epoch time = 40.212s\n",
            "Epoch: 220, Train loss: 1.244, Val loss: 1.095, Epoch time = 40.223s\n",
            "Epoch: 240, Train loss: 1.138, Val loss: 1.344, Epoch time = 40.225s\n",
            "Epoch: 260, Train loss: 1.108, Val loss: 0.938, Epoch time = 40.226s\n",
            "Epoch: 280, Train loss: 0.977, Val loss: 1.097, Epoch time = 40.224s\n",
            "Epoch: 300, Train loss: 0.955, Val loss: 0.811, Epoch time = 40.218s\n",
            "Epoch: 320, Train loss: 0.893, Val loss: 0.787, Epoch time = 40.230s\n",
            "Epoch: 340, Train loss: 0.980, Val loss: 0.582, Epoch time = 40.215s\n",
            "Epoch: 360, Train loss: 0.773, Val loss: 1.016, Epoch time = 40.226s\n",
            "Epoch: 380, Train loss: 0.789, Val loss: 0.863, Epoch time = 40.206s\n"
          ]
        }
      ]
    },
    {
      "cell_type": "code",
      "metadata": {
        "id": "nh4XV0lHIIQK",
        "colab": {
          "base_uri": "https://localhost:8080/",
          "height": 762
        },
        "outputId": "d9b09ba6-3de7-4061-d17d-c106ae946a63"
      },
      "source": [
        "diskr_iters = [20, 75, 200, 400]\n",
        "\n",
        "fig, ((ax_1, ax_2), \n",
        "      (ax_3, ax_4)\n",
        "    )  = plt.subplots(nrows = 2, ncols = 2, figsize = (10, 10))\n",
        "\n",
        "ax_1.set_title('Loss по эпохам с 1 по ' + str(loss_items[diskr_iters[0]]))\n",
        "sns.lineplot([loss_items[i]  for i in  range(diskr_iters[0])], \n",
        "             [loss_values[i] for i in  range(diskr_iters[0])],\n",
        "              ax = ax_1)\n",
        "\n",
        "ax_2.set_title('Loss по эпохам с ' + str(loss_items[diskr_iters[0]]) + \n",
        "               ' по ' + str(loss_items[diskr_iters[1]]))\n",
        "sns.lineplot([loss_items[i]  for i in  range(diskr_iters[0], diskr_iters[1])], \n",
        "             [loss_values[i] for i in  range(diskr_iters[0], diskr_iters[1])],\n",
        "             ax = ax_2)\n",
        "\n",
        "ax_3.set_title('Loss по эпохам с  '+ str(loss_items[diskr_iters[1]])+ \n",
        "               ' по ' + str(loss_items[diskr_iters[2]]))\n",
        "sns.lineplot([loss_items[i]  for i in  range(diskr_iters[1], diskr_iters[2])], \n",
        "            [loss_values[i] for i in  range(diskr_iters[1], diskr_iters[2])],\n",
        "             ax = ax_3)\n",
        "\n",
        "ax_4.set_title('Loss по эпохам с  '+ str(loss_items[diskr_iters[2]]))\n",
        "sns.lineplot([loss_items[i]  for i in  range(diskr_iters[2], diskr_iters[3])], \n",
        "            [loss_values[i]  for i in  range(diskr_iters[2], diskr_iters[3])],\n",
        "             ax = ax_4)\n",
        "\n",
        "plt.show()"
      ],
      "execution_count": 17,
      "outputs": [
        {
          "output_type": "stream",
          "name": "stderr",
          "text": [
            "/usr/local/lib/python3.7/dist-packages/seaborn/_decorators.py:43: FutureWarning: Pass the following variables as keyword args: x, y. From version 0.12, the only valid positional argument will be `data`, and passing other arguments without an explicit keyword will result in an error or misinterpretation.\n",
            "  FutureWarning\n",
            "/usr/local/lib/python3.7/dist-packages/seaborn/_decorators.py:43: FutureWarning: Pass the following variables as keyword args: x, y. From version 0.12, the only valid positional argument will be `data`, and passing other arguments without an explicit keyword will result in an error or misinterpretation.\n",
            "  FutureWarning\n",
            "/usr/local/lib/python3.7/dist-packages/seaborn/_decorators.py:43: FutureWarning: Pass the following variables as keyword args: x, y. From version 0.12, the only valid positional argument will be `data`, and passing other arguments without an explicit keyword will result in an error or misinterpretation.\n",
            "  FutureWarning\n",
            "/usr/local/lib/python3.7/dist-packages/seaborn/_decorators.py:43: FutureWarning: Pass the following variables as keyword args: x, y. From version 0.12, the only valid positional argument will be `data`, and passing other arguments without an explicit keyword will result in an error or misinterpretation.\n",
            "  FutureWarning\n"
          ]
        },
        {
          "output_type": "display_data",
          "data": {
            "image/png": "[encoded data removed]",
            "text/plain": [
              "<Figure size 720x720 with 4 Axes>"
            ]
          },
          "metadata": {
            "needs_background": "light"
          }
        }
      ]
    },
    {
      "cell_type": "code",
      "metadata": {
        "id": "B6C1LXg4U5LJ"
      },
      "source": [
        ""
      ],
      "execution_count": 17,
      "outputs": []
    }
  ]
}