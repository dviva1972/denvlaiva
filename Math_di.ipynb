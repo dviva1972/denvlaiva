{
 "cells": [
  {
   "cell_type": "markdown",
   "metadata": {},
   "source": [
    "Денис Иванов\n",
    "\n",
    "Итоговая работа по курсу \"Математика для DS\""
   ]
  },
  {
   "cell_type": "code",
   "execution_count": 13,
   "metadata": {},
   "outputs": [],
   "source": [
    "import numpy as np\n",
    "from sympy import *\n",
    "\n",
    "from scipy.misc import derivative\n",
    "from scipy.optimize import minimize, approx_fprime, fmin, differential_evolution\n",
    "\n",
    "from sklearn.decomposition import PCA\n",
    "\n",
    "import matplotlib.pyplot as plt"
   ]
  },
  {
   "cell_type": "markdown",
   "metadata": {},
   "source": [
    "Задание 1\n",
    "\n",
    "\n",
    "Дана матрица рейтингов фильмов (строки - пользователи (10 человек), столбцы - фильмы (15 фильмов))"
   ]
  },
  {
   "cell_type": "code",
   "execution_count": 14,
   "metadata": {},
   "outputs": [],
   "source": [
    "\n",
    "raitings = np.array([[ 4,  4,  9,  4,  1,  6, 10,  7,  9,  6,  9,  2,  8,  6,  6],\n",
    "                     [ 9,  2,  5, 10,  7,  8, 10,  5,  6,  2,  1,  6,  8,  9,  7],\n",
    "                     [ 1,  6,  8,  8,  4,  9,  3,  8, 10,  5,  2,  6,  8,  1,  6],\n",
    "                     [ 6,  1,  9,  7,  7,  9,  2,  3,  5,  1,  6,  6,  3,  2,  7],\n",
    "                     [ 3,  7,  3,  5,  7,  9,  9,  6,  2,  9,  1,  2,  8, 10,  6],\n",
    "                     [ 8,  3,  7,  3,  8,  6,  1,  8,  8,  6,  1,  9,  4, 10,  1],\n",
    "                     [ 9,  8,  4,  8,  8, 10,  6,  1,  1,  2,  9,  5,  2,  7,  2],\n",
    "                     [ 4,  1,  6,  4,  3, 10,  4,  4,  2,  8,  7,  9,  3,  8,  3],\n",
    "                     [ 2,  7,  7,  6, 10,  6,  8,  9,  8,  6, 10,  1,  7, 10,  4],\n",
    "                     [ 5, 10,  8,  8,  9,  7,  2,  9,  9, 10,  8,  8,  8,  6, 10]])"
   ]
  },
  {
   "cell_type": "markdown",
   "metadata": {},
   "source": [
    "a) Необходимо найти наиболее похожего пользователя по косинусной метрике для каждого из (ответ: 10 пар вида (x, y), где y - наиболее похожий пользователь на пользователя x)."
   ]
  },
  {
   "cell_type": "code",
   "execution_count": 15,
   "metadata": {},
   "outputs": [],
   "source": [
    "def cosine(x, y):\n",
    "    xLength = np.linalg.norm( x )\n",
    "    yLength = np.linalg.norm( y )\n",
    "    return np.dot(x,y) / ( xLength * yLength)"
   ]
  },
  {
   "cell_type": "code",
   "execution_count": 16,
   "metadata": {},
   "outputs": [
    {
     "name": "stdout",
     "output_type": "stream",
     "text": [
      "на пользователя 1 больше всего похож пользователь 9 , cos =  0.9107\n",
      "на пользователя 2 больше всего похож пользователь 5 , cos =  0.8714\n",
      "на пользователя 3 больше всего похож пользователь 10 , cos =  0.9187\n",
      "на пользователя 4 больше всего похож пользователь 10 , cos =  0.8589\n",
      "на пользователя 5 больше всего похож пользователь 9 , cos =  0.8795\n",
      "на пользователя 6 больше всего похож пользователь 10 , cos =  0.8551\n",
      "на пользователя 7 больше всего похож пользователь 4 , cos =  0.8327\n",
      "на пользователя 8 больше всего похож пользователь 6 , cos =  0.8445\n",
      "на пользователя 9 больше всего похож пользователь 1 , cos =  0.9107\n",
      "на пользователя 10 больше всего похож пользователь 3 , cos =  0.9187\n"
     ]
    }
   ],
   "source": [
    "\n",
    "for i in range(len(raitings)):\n",
    "    similar = 0\n",
    "    for j in range(len(raitings)):\n",
    "        if i == j:\n",
    "            continue\n",
    "            \n",
    "        x = raitings[i]\n",
    "        y = raitings[j]\n",
    "\n",
    "        cos = cosine(x, y)\n",
    "            \n",
    "        if cos > similar:\n",
    "            similar = cos\n",
    "            user = j + 1\n",
    "            \n",
    "    print('на пользователя', i+1, 'больше всего похож пользователь', user, ', cos = ', similar.round(4))"
   ]
  },
  {
   "cell_type": "markdown",
   "metadata": {},
   "source": [
    "b) Предположим, вы захотели сжать признаковые описания пользователя с 15 фильмов, до, скажем, 5-ти признаков, как вы это сделаете?"
   ]
  },
  {
   "cell_type": "code",
   "execution_count": 17,
   "metadata": {},
   "outputs": [
    {
     "data": {
      "text/plain": [
       "array([[-5.30986101,  1.92919845, -4.93300027,  2.70188013,  5.50497886],\n",
       "       [ 2.87763403,  2.71659559,  1.40592782,  7.26325751, -4.50322291],\n",
       "       [-4.94010408, -6.68861167, -0.94550184,  3.61556661, -0.68969272],\n",
       "       [ 5.14939908, -6.28027284, -4.65978558,  1.09024004, -1.01471112],\n",
       "       [-1.37488691,  7.54357985,  4.00834369,  2.1284001 , -0.16324949],\n",
       "       [ 2.65341956, -3.77075601,  8.58430748, -1.46628319,  1.67401769],\n",
       "       [ 8.61573944,  3.78603335, -4.02721027, -4.37582577, -3.13880277],\n",
       "       [ 5.39658258, -1.0170466 ,  1.01456742, -1.89512837,  6.54883538],\n",
       "       [-5.7843488 ,  5.29857107, -1.48083611, -3.71295542,  0.21312695],\n",
       "       [-7.2835739 , -3.51729118,  1.03318766, -5.34915166, -4.43127987]])"
      ]
     },
     "execution_count": 17,
     "metadata": {},
     "output_type": "execute_result"
    }
   ],
   "source": [
    "from sklearn.decomposition import PCA\n",
    "\n",
    "pca  = PCA(n_components=5) \n",
    "itog = pca.fit_transform(raitings)\n",
    "\n",
    "itog"
   ]
  },
  {
   "cell_type": "markdown",
   "metadata": {},
   "source": [
    "Задание 2\n",
    "\n",
    "Вычислите производную $tg^2(sin(x) + cos(2x+3))$ в точке $x_0=1$ на python и на бумаге (просто подставить точку в производную и ничего не упрощать)."
   ]
  },
  {
   "cell_type": "code",
   "execution_count": 18,
   "metadata": {},
   "outputs": [
    {
     "name": "stdout",
     "output_type": "stream",
     "text": [
      "Первая производная на python:          55.3859176464222\n",
      "Первая производная на бумаге/ ручками: 55.385917635337854\n"
     ]
    }
   ],
   "source": [
    "def f(x):\n",
    "    return np.tan(np.sin(x) + np.cos(2*x + 3))**2\n",
    "print(f\"Первая производная на python:          {derivative(f, 1.0, dx=1e-6)}\")\n",
    "\n",
    "def f_prime(x):\n",
    "    return 2 *(np.cos(x)  -  2 *np.sin(2*x+3)\n",
    "           ) *(np.tan(np.sin(x)+np.cos(2*x+3))**2 + 1\n",
    "           ) * np.tan(np.sin(x)+np.cos(2*x+3))\n",
    "\n",
    "print(f\"Первая производная на бумаге/ ручками: {f_prime(1)}\")"
   ]
  },
  {
   "cell_type": "markdown",
   "metadata": {},
   "source": [
    "При $x_0$ = 1\n",
    "\n",
    "$f = (2 * (cos(1) - 2 * sin(2 * 1 + 3)) * (1 + tan^2(sin(1)+cos(2 * 1 + 3))) * tan(sin(1)+cos(2 * 1 + 3)) $\n",
    "\n",
    "$f = (2 * (cos(1) - 2 * sin(5)) * (1 + tan^2(sin(1)+cos(5))) * tan(sin(1)+cos(5)) $"
   ]
  },
  {
   "cell_type": "markdown",
   "metadata": {},
   "source": [
    "Задание 3\n",
    "\n",
    "\n",
    "Дана функция с неизвестными параметрами a и b, вам также известны значения функции fx в точках x. Найдите оптимальные параметры a, b, минимизирующие абсолютную ошибку error"
   ]
  },
  {
   "cell_type": "code",
   "execution_count": 19,
   "metadata": {},
   "outputs": [],
   "source": [
    "def f(x, a, b):\n",
    "    return np.e**a * np.sin(b*x) + x"
   ]
  },
  {
   "cell_type": "code",
   "execution_count": 20,
   "metadata": {},
   "outputs": [],
   "source": [
    "x = np.array([0.        , 0.26315789, 0.52631579, 0.78947368, 1.05263158,\n",
    "              1.31578947, 1.57894737, 1.84210526, 2.10526316, 2.36842105,\n",
    "              2.63157895, 2.89473684, 3.15789474, 3.42105263, 3.68421053,\n",
    "              3.94736842, 4.21052632, 4.47368421, 4.73684211, 5.        ])"
   ]
  },
  {
   "cell_type": "code",
   "execution_count": 21,
   "metadata": {},
   "outputs": [],
   "source": [
    "fx = np.array([  0.        , -12.01819092, -18.90968634, -17.68786571,\n",
    "                -8.7529108 ,   4.27524517,  16.06801336,  21.81250213,\n",
    "                19.22059845,   9.48411207,  -3.22273056, -13.48576488,\n",
    "               -16.91096359, -11.95866834,  -0.58630088,  12.56873816,\n",
    "                22.12489421,  24.20292139,  18.04522521,   6.33211092])"
   ]
  },
  {
   "cell_type": "code",
   "execution_count": 22,
   "metadata": {},
   "outputs": [
    {
     "data": {
      "image/png": "[encoded data removed]",
      "text/plain": [
       "<Figure size 432x288 with 1 Axes>"
      ]
     },
     "metadata": {
      "needs_background": "light"
     },
     "output_type": "display_data"
    }
   ],
   "source": [
    "plt.plot(x, fx)\n",
    "plt.show()"
   ]
  },
  {
   "cell_type": "code",
   "execution_count": 23,
   "metadata": {},
   "outputs": [],
   "source": [
    "def error(params):\n",
    "    return np.sum(np.abs(fx - f(x, params[0], params[1])))"
   ]
  },
  {
   "cell_type": "code",
   "execution_count": 30,
   "metadata": {},
   "outputs": [
    {
     "name": "stdout",
     "output_type": "stream",
     "text": [
      "Параметры a, b - [ 3.  -2.5]\n"
     ]
    }
   ],
   "source": [
    "bounds = [(-10, 10), (-10, 10)]\n",
    "result = differential_evolution(error, bounds, seed=42)\n",
    "\n",
    "print('Параметры a, b - {}'.format(result.x))"
   ]
  },
  {
   "cell_type": "markdown",
   "metadata": {},
   "source": [
    "Задание 4¶\n",
    "\n",
    "\n",
    "Создайте собственную дискретную случайную величину с 20 значениями. Сгенерируйте 1000 выборок размера 50. Посчитайте среднее для каждой выборки. Постройте гистограмму распределения средних."
   ]
  },
  {
   "cell_type": "code",
   "execution_count": 26,
   "metadata": {},
   "outputs": [
    {
     "data": {
      "text/plain": [
       "array([12, 16, 18,  8,  7, 17, 19,  6, 19, 13,  4,  8, 10, 18,  8,  6,  5,\n",
       "        3,  7,  3])"
      ]
     },
     "execution_count": 26,
     "metadata": {},
     "output_type": "execute_result"
    }
   ],
   "source": [
    "rand_array = np.random.randint(low=1, high=20, size=20)\n",
    "rand_array"
   ]
  },
  {
   "cell_type": "code",
   "execution_count": 27,
   "metadata": {},
   "outputs": [
    {
     "name": "stdout",
     "output_type": "stream",
     "text": [
      "[ 8.  7.  6. ...  8. 19.  8.]\n",
      "[10.02, 8.76, 11.1, 9.76, 9.48, 10.04, 10.14, 10.08, 9.38, 10.46, 9.84, 10.18, 11.24, 9.34, 11.06]\n"
     ]
    }
   ],
   "source": [
    "total_array = np.array([])\n",
    "total_mean = []\n",
    "for i in range(1000):\n",
    "    new_array = np.random.choice(rand_array, 50)\n",
    "    total_array = np.concatenate((total_array, new_array), axis=None)\n",
    "    total_mean.append(new_array.mean())\n",
    "\n",
    "print(total_array)\n",
    "print(total_mean[0:15])"
   ]
  },
  {
   "cell_type": "code",
   "execution_count": 28,
   "metadata": {},
   "outputs": [
    {
     "data": {
      "image/png": "[encoded data removed]",
      "text/plain": [
       "<Figure size 432x288 with 1 Axes>"
      ]
     },
     "metadata": {
      "needs_background": "light"
     },
     "output_type": "display_data"
    }
   ],
   "source": [
    "plt.hist(total_mean, 50,  color='g')\n",
    "plt.show()"
   ]
  },
  {
   "cell_type": "markdown",
   "metadata": {},
   "source": [
    "Задание 5\n",
    "\n",
    "\n",
    "Найдите собственные значения и собственные вектора матрицы (на python и на бумаге)\n",
    "\n",
    "[[1, 4],\n",
    "\n",
    "[1, 1]]"
   ]
  },
  {
   "cell_type": "code",
   "execution_count": 29,
   "metadata": {},
   "outputs": [
    {
     "name": "stdout",
     "output_type": "stream",
     "text": [
      "собственные значения\n",
      " [ 3. -1.],\n",
      "\n",
      "собственные вектора \n",
      "[[ 0.89442719 -0.89442719]\n",
      " [ 0.4472136   0.4472136 ]]\n"
     ]
    }
   ],
   "source": [
    "z = np.array([[1, 4],\n",
    "              [1, 1]])\n",
    "v, vec = np.linalg.eig(z)\n",
    "print(f'собственные значения\\n {v},\\n\\nсобственные вектора \\n{vec}')"
   ]
  },
  {
   "cell_type": "markdown",
   "metadata": {},
   "source": [
    "решаем уравнение \n",
    "\n",
    "$(1-λ)(1-λ) - 4 = 0$\n",
    "\n",
    "$λ^2 - 2*λ - 3 = 0$\n",
    "\n",
    "cобственные значения:  \n",
    "\n",
    "$λ1 = 3$ и \n",
    "\n",
    "$λ2 = -1$\n",
    "\n",
    "собственный вектор №1 \n",
    "\n",
    "из уравнений \n",
    "\n",
    "$-2x + 4y = 0$   \n",
    "\n",
    "и   \n",
    "\n",
    "$x - 2y = 0$\n",
    "\n",
    "$x = 2y$\n",
    "\n",
    "$\\begin{pmatrix}2 \\\\ 1\\end{pmatrix} $ \n",
    "\n",
    "\n",
    "\n",
    "\n",
    "собственный вектор №2 \n",
    "\n",
    "из уравнений \n",
    "\n",
    "$2x + 4y = 0$    \n",
    "\n",
    "и    \n",
    "\n",
    "$x + 2y = 0$\n",
    "\n",
    "\n",
    "$x = -2y$\n",
    "\n",
    "\n",
    "$\\begin{pmatrix} -2 \\\\ 1\\end{pmatrix} $ "
   ]
  },
  {
   "cell_type": "code",
   "execution_count": null,
   "metadata": {},
   "outputs": [],
   "source": []
  },
  {
   "cell_type": "code",
   "execution_count": null,
   "metadata": {},
   "outputs": [],
   "source": []
  }
 ],
 "metadata": {
  "kernelspec": {
   "display_name": "Python 3",
   "language": "python",
   "name": "python3"
  },
  "language_info": {
   "codemirror_mode": {
    "name": "ipython",
    "version": 3
   },
   "file_extension": ".py",
   "mimetype": "text/x-python",
   "name": "python",
   "nbconvert_exporter": "python",
   "pygments_lexer": "ipython3",
   "version": "3.7.4"
  }
 },
 "nbformat": 4,
 "nbformat_minor": 2
}
