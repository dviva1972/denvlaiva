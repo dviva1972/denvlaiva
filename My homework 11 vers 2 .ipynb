{
 "cells": [
  {
   "cell_type": "code",
   "execution_count": null,
   "metadata": {},
   "outputs": [],
   "source": [
    "Денис Иванов\n",
    "Домашнее задание по теме \"Библиотека Pandas\""
   ]
  },
  {
   "cell_type": "code",
   "execution_count": null,
   "metadata": {},
   "outputs": [],
   "source": [
    "Задание 1\n",
    "Скачайте с сайта https://grouplens.org/datasets/movielens/ датасет любого размера. \n",
    "Определите какому фильму было выставлено больше всего оценок 5.0.   "
   ]
  },
  {
   "cell_type": "code",
   "execution_count": 3,
   "metadata": {},
   "outputs": [
    {
     "name": "stdout",
     "output_type": "stream",
     "text": [
      "Star Wars (1977)    325\n",
      "Name: film, dtype: int64\n"
     ]
    }
   ],
   "source": [
    "import pandas as pd\n",
    "import zipfile as zf\n",
    "import requests, io\n",
    "\n",
    "r = requests.get('http://files.grouplens.org/datasets/movielens/ml-100k.zip')\n",
    "z = zf.ZipFile(io.BytesIO(r.content))\n",
    "\n",
    "rate  = pd.read_table(z.extract('ml-100k/u.data'), names=['user_id', 'item_id', 'rating', 'timestamp'], header =0)\n",
    "\n",
    "films = pd.read_table(z.extract('ml-100k/u.item'), encoding = \"ISO-8859-1\", delimiter='|')\n",
    "f2 = films.drop(films.columns[[2,3,4,5,6,7,8,9,10,11,12,13,14,15,16,17,18,19,20,21,22,23]], axis=1)\n",
    "f2.rename(columns={'1': 'item_id', 'Toy Story (1995)': 'film'}, inplace=True)\n",
    "\n",
    "f3=rate.merge(f2, how = 'left', left_on='item_id', right_on= 'item_id')\n",
    "f4 = f3 [f3 ['rating']==5.0]['film'].value_counts().head(1)\n",
    "print(f4)"
   ]
  },
  {
   "cell_type": "code",
   "execution_count": null,
   "metadata": {},
   "outputs": [],
   "source": [
    "Задание 2\n",
    "По данным файла power.csv посчитайте суммарное потребление стран Прибалтики (Латвия, Литва и Эстония) \n",
    "категорий 4, 12 и 21 за период с 2005 по 2010 года. Не учитывайте в расчетах отрицательные значения quantity."
   ]
  },
  {
   "cell_type": "code",
   "execution_count": 17,
   "metadata": {},
   "outputs": [
    {
     "name": "stdout",
     "output_type": "stream",
     "text": [
      "country\n",
      "Estonia       63440.0\n",
      "Latvia        54844.0\n",
      "Lithuania    122197.0\n",
      "Name: quantity, dtype: float64\n",
      "суммарное потребление стран Прибалтики за период: 240481.0\n"
     ]
    }
   ],
   "source": [
    "data=pd.read_csv('power.csv', 'r', delimiter=',')\n",
    "filtered_data = data[\n",
    "                ((data['country']  == 'Latvia') | (data['country']=='Lithuania') | (data['country']=='Estonia')) &\n",
    "                ((data['category'] == 4) | (data['category'] == 12)| (data['category'] == 21)) &\n",
    "                ((data['year'] >=2005) & (data['year'] <= 2010)) &\n",
    "                  data['quantity']>0]\n",
    "f1 = filtered_data.groupby('country')['quantity'].sum()\n",
    "f2 = filtered_data ['quantity'].sum()\n",
    "print(f1)\n",
    "print('суммарное потребление стран Прибалтики за период: {}'.format(f2))\n"
   ]
  },
  {
   "cell_type": "code",
   "execution_count": null,
   "metadata": {},
   "outputs": [],
   "source": [
    "Задание 3\n",
    "Выберите страницу любого сайта с табличными данными. Импортируйте таблицы в pandas dataframe."
   ]
  },
  {
   "cell_type": "code",
   "execution_count": 15,
   "metadata": {},
   "outputs": [
    {
     "data": {
      "text/html": [
       "<div>\n",
       "<style scoped>\n",
       "    .dataframe tbody tr th:only-of-type {\n",
       "        vertical-align: middle;\n",
       "    }\n",
       "\n",
       "    .dataframe tbody tr th {\n",
       "        vertical-align: top;\n",
       "    }\n",
       "\n",
       "    .dataframe thead th {\n",
       "        text-align: right;\n",
       "    }\n",
       "</style>\n",
       "<table border=\"1\" class=\"dataframe\">\n",
       "  <thead>\n",
       "    <tr style=\"text-align: right;\">\n",
       "      <th></th>\n",
       "      <th>Краткое наименование норматива</th>\n",
       "      <th>Фактическое значение, процент</th>\n",
       "    </tr>\n",
       "  </thead>\n",
       "  <tbody>\n",
       "    <tr>\n",
       "      <th>0</th>\n",
       "      <td>Н1.1</td>\n",
       "      <td>24725.0</td>\n",
       "    </tr>\n",
       "    <tr>\n",
       "      <th>1</th>\n",
       "      <td>Н1.2</td>\n",
       "      <td>24725.0</td>\n",
       "    </tr>\n",
       "    <tr>\n",
       "      <th>2</th>\n",
       "      <td>Н1.0</td>\n",
       "      <td>32103.0</td>\n",
       "    </tr>\n",
       "    <tr>\n",
       "      <th>3</th>\n",
       "      <td>Н1.3</td>\n",
       "      <td>NaN</td>\n",
       "    </tr>\n",
       "    <tr>\n",
       "      <th>4</th>\n",
       "      <td>Н1.4</td>\n",
       "      <td>24822.0</td>\n",
       "    </tr>\n",
       "    <tr>\n",
       "      <th>5</th>\n",
       "      <td>Н2</td>\n",
       "      <td>103072.0</td>\n",
       "    </tr>\n",
       "    <tr>\n",
       "      <th>6</th>\n",
       "      <td>Н3</td>\n",
       "      <td>10751.0</td>\n",
       "    </tr>\n",
       "    <tr>\n",
       "      <th>7</th>\n",
       "      <td>Н4</td>\n",
       "      <td>9705.0</td>\n",
       "    </tr>\n",
       "    <tr>\n",
       "      <th>8</th>\n",
       "      <td>Н7</td>\n",
       "      <td>54522.0</td>\n",
       "    </tr>\n",
       "    <tr>\n",
       "      <th>9</th>\n",
       "      <td>Н10.1</td>\n",
       "      <td>212.0</td>\n",
       "    </tr>\n",
       "    <tr>\n",
       "      <th>10</th>\n",
       "      <td>Н12</td>\n",
       "      <td>0.0</td>\n",
       "    </tr>\n",
       "    <tr>\n",
       "      <th>11</th>\n",
       "      <td>Н15</td>\n",
       "      <td>NaN</td>\n",
       "    </tr>\n",
       "    <tr>\n",
       "      <th>12</th>\n",
       "      <td>Н15.1</td>\n",
       "      <td>NaN</td>\n",
       "    </tr>\n",
       "    <tr>\n",
       "      <th>13</th>\n",
       "      <td>Н16</td>\n",
       "      <td>NaN</td>\n",
       "    </tr>\n",
       "    <tr>\n",
       "      <th>14</th>\n",
       "      <td>Н16.1</td>\n",
       "      <td>NaN</td>\n",
       "    </tr>\n",
       "    <tr>\n",
       "      <th>15</th>\n",
       "      <td>Н16.2</td>\n",
       "      <td>NaN</td>\n",
       "    </tr>\n",
       "    <tr>\n",
       "      <th>16</th>\n",
       "      <td>Н18</td>\n",
       "      <td>0.0</td>\n",
       "    </tr>\n",
       "  </tbody>\n",
       "</table>\n",
       "</div>"
      ],
      "text/plain": [
       "   Краткое наименование норматива  Фактическое значение, процент\n",
       "0                            Н1.1                        24725.0\n",
       "1                            Н1.2                        24725.0\n",
       "2                            Н1.0                        32103.0\n",
       "3                            Н1.3                            NaN\n",
       "4                            Н1.4                        24822.0\n",
       "5                              Н2                       103072.0\n",
       "6                              Н3                        10751.0\n",
       "7                              Н4                         9705.0\n",
       "8                              Н7                        54522.0\n",
       "9                           Н10.1                          212.0\n",
       "10                            Н12                            0.0\n",
       "11                            Н15                            NaN\n",
       "12                          Н15.1                            NaN\n",
       "13                            Н16                            NaN\n",
       "14                          Н16.1                            NaN\n",
       "15                          Н16.2                            NaN\n",
       "16                            Н18                            0.0"
      ]
     },
     "execution_count": 15,
     "metadata": {},
     "output_type": "execute_result"
    }
   ],
   "source": [
    "n_67 = pd.read_html('http://cbr.ru/banking_sector/credit/coinfo/f135/?regnum=67&dt=2020-01-01')[1]\n",
    "n_67.filter(items = ['Краткое наименование норматива', 'Фактическое значение, процент']).head(20)"
   ]
  }
 ],
 "metadata": {
  "kernelspec": {
   "display_name": "Python 3",
   "language": "python",
   "name": "python3"
  },
  "language_info": {
   "codemirror_mode": {
    "name": "ipython",
    "version": 3
   },
   "file_extension": ".py",
   "mimetype": "text/x-python",
   "name": "python",
   "nbconvert_exporter": "python",
   "pygments_lexer": "ipython3",
   "version": "3.7.4"
  }
 },
 "nbformat": 4,
 "nbformat_minor": 4
}
