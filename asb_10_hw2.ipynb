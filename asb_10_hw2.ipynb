{
 "cells": [
  {
   "cell_type": "markdown",
   "metadata": {},
   "source": [
    "Иванов Денис \n",
    "\n",
    "ASB-10\n",
    "\n",
    "Домашнее задание # 2\n",
    "\n",
    "Использовать арсенал статистических критериев для проверки следующих гипотез:\n",
    "- Средняя стоимость lastsoldprice у типа недвижимости (usecode) Condominium отличается от SingleFamily\n",
    "- Средняя оценочная стоимость zestimate отличается от реальной lastsoldprice\n",
    "\n",
    "Проверить любую выборку (из тех, что использовались в п. 5 #  в задании нет п. 5)\n",
    "на равенство средних с нормальным распределением."
   ]
  },
  {
   "cell_type": "code",
   "execution_count": 1,
   "metadata": {},
   "outputs": [],
   "source": [
    "import pandas as pd\n",
    "import numpy as np\n",
    "\n",
    "from scipy import stats as sts\n",
    "from scipy.stats import mannwhitneyu\n",
    "from scipy.stats import shapiro\n",
    "from scipy.stats import spearmanr\n",
    "\n",
    "import statistics\n",
    "\n",
    "import matplotlib.pyplot as plt\n",
    "import seaborn as sns\n",
    "%matplotlib inline\n",
    "\n",
    "from IPython.display import Image"
   ]
  },
  {
   "cell_type": "code",
   "execution_count": 2,
   "metadata": {},
   "outputs": [
    {
     "data": {
      "text/html": [
       "<div>\n",
       "<style scoped>\n",
       "    .dataframe tbody tr th:only-of-type {\n",
       "        vertical-align: middle;\n",
       "    }\n",
       "\n",
       "    .dataframe tbody tr th {\n",
       "        vertical-align: top;\n",
       "    }\n",
       "\n",
       "    .dataframe thead th {\n",
       "        text-align: right;\n",
       "    }\n",
       "</style>\n",
       "<table border=\"1\" class=\"dataframe\">\n",
       "  <thead>\n",
       "    <tr style=\"text-align: right;\">\n",
       "      <th></th>\n",
       "      <th>Unnamed: 0</th>\n",
       "      <th>address</th>\n",
       "      <th>info</th>\n",
       "      <th>z_address</th>\n",
       "      <th>bathrooms</th>\n",
       "      <th>bedrooms</th>\n",
       "      <th>finishedsqft</th>\n",
       "      <th>lastsolddate</th>\n",
       "      <th>lastsoldprice</th>\n",
       "      <th>latitude</th>\n",
       "      <th>longitude</th>\n",
       "      <th>neighborhood</th>\n",
       "      <th>totalrooms</th>\n",
       "      <th>usecode</th>\n",
       "      <th>yearbuilt</th>\n",
       "      <th>zestimate</th>\n",
       "      <th>zindexvalue</th>\n",
       "      <th>zipcode</th>\n",
       "      <th>zpid</th>\n",
       "    </tr>\n",
       "  </thead>\n",
       "  <tbody>\n",
       "    <tr>\n",
       "      <td>0</td>\n",
       "      <td>2</td>\n",
       "      <td>Address: 1160 Mission Street #2007</td>\n",
       "      <td>San FranciscoSales price: 1300000Sales date: ...</td>\n",
       "      <td>1160 Mission St UNIT 2007</td>\n",
       "      <td>2.0</td>\n",
       "      <td>2</td>\n",
       "      <td>1043</td>\n",
       "      <td>02/17/2016</td>\n",
       "      <td>1300000</td>\n",
       "      <td>37.778705</td>\n",
       "      <td>-122.412635</td>\n",
       "      <td>South of Market</td>\n",
       "      <td>4</td>\n",
       "      <td>Condominium</td>\n",
       "      <td>2007</td>\n",
       "      <td>1167508</td>\n",
       "      <td>975,700</td>\n",
       "      <td>94103</td>\n",
       "      <td>83152781</td>\n",
       "    </tr>\n",
       "    <tr>\n",
       "      <td>1</td>\n",
       "      <td>5</td>\n",
       "      <td>Address: 260 King Street #475</td>\n",
       "      <td>San FranciscoSales price: 750000Sales date: 0...</td>\n",
       "      <td>260 King St UNIT 475</td>\n",
       "      <td>1.0</td>\n",
       "      <td>1</td>\n",
       "      <td>903</td>\n",
       "      <td>02/17/2016</td>\n",
       "      <td>750000</td>\n",
       "      <td>37.777641</td>\n",
       "      <td>-122.393417</td>\n",
       "      <td>South of Market</td>\n",
       "      <td>3</td>\n",
       "      <td>Condominium</td>\n",
       "      <td>2004</td>\n",
       "      <td>823719</td>\n",
       "      <td>975,700</td>\n",
       "      <td>94107</td>\n",
       "      <td>69819817</td>\n",
       "    </tr>\n",
       "    <tr>\n",
       "      <td>2</td>\n",
       "      <td>7</td>\n",
       "      <td>Address: 560 Missouri Street #B</td>\n",
       "      <td>San FranciscoSales price: 1495000Sales date: ...</td>\n",
       "      <td>560 Missouri St # B</td>\n",
       "      <td>4.0</td>\n",
       "      <td>3</td>\n",
       "      <td>1425</td>\n",
       "      <td>02/17/2016</td>\n",
       "      <td>1495000</td>\n",
       "      <td>37.759198</td>\n",
       "      <td>-122.396516</td>\n",
       "      <td>Potrero Hill</td>\n",
       "      <td>6</td>\n",
       "      <td>Condominium</td>\n",
       "      <td>2003</td>\n",
       "      <td>1708594</td>\n",
       "      <td>1,277,600</td>\n",
       "      <td>94107</td>\n",
       "      <td>64972847</td>\n",
       "    </tr>\n",
       "    <tr>\n",
       "      <td>3</td>\n",
       "      <td>9</td>\n",
       "      <td>Address: 350 Missouri Street</td>\n",
       "      <td>San FranciscoSales price: 2700000Sales date: ...</td>\n",
       "      <td>350 Missouri St</td>\n",
       "      <td>3.0</td>\n",
       "      <td>3</td>\n",
       "      <td>2231</td>\n",
       "      <td>02/17/2016</td>\n",
       "      <td>2700000</td>\n",
       "      <td>37.761886</td>\n",
       "      <td>-122.396769</td>\n",
       "      <td>Potrero Hill</td>\n",
       "      <td>10</td>\n",
       "      <td>SingleFamily</td>\n",
       "      <td>1927</td>\n",
       "      <td>2411236</td>\n",
       "      <td>1,277,600</td>\n",
       "      <td>94107</td>\n",
       "      <td>15149489</td>\n",
       "    </tr>\n",
       "    <tr>\n",
       "      <td>4</td>\n",
       "      <td>11</td>\n",
       "      <td>Address: 3658 Folsom Street</td>\n",
       "      <td>San FranciscoSales price: 1530000Sales date: ...</td>\n",
       "      <td>3658 Folsom St</td>\n",
       "      <td>3.0</td>\n",
       "      <td>3</td>\n",
       "      <td>1300</td>\n",
       "      <td>02/17/2016</td>\n",
       "      <td>1530000</td>\n",
       "      <td>37.740795</td>\n",
       "      <td>-122.413453</td>\n",
       "      <td>Bernal Heights</td>\n",
       "      <td>4</td>\n",
       "      <td>SingleFamily</td>\n",
       "      <td>1900</td>\n",
       "      <td>1918539</td>\n",
       "      <td>1,248,000</td>\n",
       "      <td>94110</td>\n",
       "      <td>15161978</td>\n",
       "    </tr>\n",
       "  </tbody>\n",
       "</table>\n",
       "</div>"
      ],
      "text/plain": [
       "   Unnamed: 0                             address  \\\n",
       "0           2  Address: 1160 Mission Street #2007   \n",
       "1           5       Address: 260 King Street #475   \n",
       "2           7     Address: 560 Missouri Street #B   \n",
       "3           9        Address: 350 Missouri Street   \n",
       "4          11         Address: 3658 Folsom Street   \n",
       "\n",
       "                                                info  \\\n",
       "0   San FranciscoSales price: 1300000Sales date: ...   \n",
       "1   San FranciscoSales price: 750000Sales date: 0...   \n",
       "2   San FranciscoSales price: 1495000Sales date: ...   \n",
       "3   San FranciscoSales price: 2700000Sales date: ...   \n",
       "4   San FranciscoSales price: 1530000Sales date: ...   \n",
       "\n",
       "                   z_address  bathrooms  bedrooms  finishedsqft lastsolddate  \\\n",
       "0  1160 Mission St UNIT 2007        2.0         2          1043   02/17/2016   \n",
       "1       260 King St UNIT 475        1.0         1           903   02/17/2016   \n",
       "2        560 Missouri St # B        4.0         3          1425   02/17/2016   \n",
       "3            350 Missouri St        3.0         3          2231   02/17/2016   \n",
       "4             3658 Folsom St        3.0         3          1300   02/17/2016   \n",
       "\n",
       "   lastsoldprice   latitude   longitude     neighborhood  totalrooms  \\\n",
       "0        1300000  37.778705 -122.412635  South of Market           4   \n",
       "1         750000  37.777641 -122.393417  South of Market           3   \n",
       "2        1495000  37.759198 -122.396516     Potrero Hill           6   \n",
       "3        2700000  37.761886 -122.396769     Potrero Hill          10   \n",
       "4        1530000  37.740795 -122.413453   Bernal Heights           4   \n",
       "\n",
       "        usecode  yearbuilt  zestimate zindexvalue  zipcode      zpid  \n",
       "0   Condominium       2007    1167508     975,700    94103  83152781  \n",
       "1   Condominium       2004     823719     975,700    94107  69819817  \n",
       "2   Condominium       2003    1708594   1,277,600    94107  64972847  \n",
       "3  SingleFamily       1927    2411236   1,277,600    94107  15149489  \n",
       "4  SingleFamily       1900    1918539   1,248,000    94110  15161978  "
      ]
     },
     "execution_count": 2,
     "metadata": {},
     "output_type": "execute_result"
    }
   ],
   "source": [
    "# загружаем датасет\n",
    "data = pd.read_excel('san_francisco_houses.xlsx')\n",
    "data.head()"
   ]
  },
  {
   "cell_type": "markdown",
   "metadata": {},
   "source": [
    "Проверка гипотезы:\n",
    "Средняя стоимость lastsoldprice у типа недвижимости (usecode) Condominium отличается от SingleFamily"
   ]
  },
  {
   "cell_type": "code",
   "execution_count": 5,
   "metadata": {},
   "outputs": [
    {
     "name": "stdout",
     "output_type": "stream",
     "text": [
      "count       4802.00\n",
      "mean     1083701.40\n",
      "std       651837.48\n",
      "min          600.00\n",
      "25%       700000.00\n",
      "50%       925000.00\n",
      "75%      1300000.00\n",
      "max      8100000.00\n",
      "Name: lastsoldprice, dtype: float64\n",
      "Стандартное отклонение = 651769.601\n",
      "По тесту Шапиро - p =  0.0\n"
     ]
    }
   ],
   "source": [
    "# пределяем выборки и их базовые статистики\n",
    "\n",
    "# Condominium_price\n",
    "Condominium_price  = data.lastsoldprice[data.usecode == 'Condominium']\n",
    "print (Condominium_price.describe().round(2))\n",
    "print('Стандартное отклонение = %.3f' % (statistics.pstdev(Condominium_price)))\n",
    "print('По тесту Шапиро - p = ', shapiro(Condominium_price)[1])"
   ]
  },
  {
   "cell_type": "code",
   "execution_count": 6,
   "metadata": {},
   "outputs": [
    {
     "name": "stdout",
     "output_type": "stream",
     "text": [
      "count        5803.00\n",
      "mean      1408017.87\n",
      "std       1283274.60\n",
      "min          3000.00\n",
      "25%        750000.00\n",
      "50%       1045000.00\n",
      "75%       1595000.00\n",
      "max      23889000.00\n",
      "Name: lastsoldprice, dtype: float64\n",
      "Стандартное отклонение = 1283164.022\n",
      "По тесту Шапиро - p =  0.0\n"
     ]
    },
    {
     "name": "stderr",
     "output_type": "stream",
     "text": [
      "C:\\Users\\admin\\Anaconda3\\lib\\site-packages\\scipy\\stats\\morestats.py:1660: UserWarning: p-value may not be accurate for N > 5000.\n",
      "  warnings.warn(\"p-value may not be accurate for N > 5000.\")\n"
     ]
    }
   ],
   "source": [
    "# SingleFamily_price\n",
    "\n",
    "SingleFamily_price = data.lastsoldprice[data.usecode == 'SingleFamily']\n",
    "print(SingleFamily_price.describe().round(2))\n",
    "print('Стандартное отклонение = %.3f' % (statistics.pstdev(SingleFamily_price)))\n",
    "print('По тесту Шапиро - p = ', shapiro(SingleFamily_price)[1])"
   ]
  },
  {
   "cell_type": "markdown",
   "metadata": {},
   "source": [
    "Проверка на равенство средних с нормальным распределением:\n",
    "Средняя стоимость lastsoldprice у типа недвижимости (usecode) Condominium отличается от SingleFamily"
   ]
  },
  {
   "cell_type": "code",
   "execution_count": 12,
   "metadata": {},
   "outputs": [
    {
     "name": "stdout",
     "output_type": "stream",
     "text": [
      "Согласно t-тесту : stat=-15.898, p=0.000\n"
     ]
    }
   ],
   "source": [
    "print('Согласно t-тесту : stat=%.3f, p=%.3f' % (sts.ttest_ind(Condominium_price, SingleFamily_price)))\n",
    "\n",
    "# Если бы распределение было нормальным,  тогда "
   ]
  },
  {
   "cell_type": "code",
   "execution_count": 148,
   "metadata": {},
   "outputs": [
    {
     "name": "stdout",
     "output_type": "stream",
     "text": [
      "Согласно тесту Манна Уитни : stat = 11910878.000, p = 0.000\n"
     ]
    }
   ],
   "source": [
    "# так как по формальным признакам распределение не нормально,\n",
    "# дополнительно проверяем схожесть выборок по тесту Манна Уитни\n",
    "print('Согласно тесту Манна Уитни : stat = %.3f, p = %.3f' % (mannwhitneyu(Condominium_price, SingleFamily_price)))"
   ]
  },
  {
   "cell_type": "code",
   "execution_count": 19,
   "metadata": {},
   "outputs": [
    {
     "data": {
      "image/png": "[encoded data removed]",
      "text/plain": [
       "<Figure size 432x288 with 1 Axes>"
      ]
     },
     "metadata": {
      "needs_background": "light"
     },
     "output_type": "display_data"
    }
   ],
   "source": [
    "sns.distplot(Condominium_price, kde=False)\n",
    "sns.distplot(SingleFamily_price, kde=False)\n",
    "plt.xlabel('Уровень показателя')\n",
    "plt.ylabel('Количество наблюдений')\n",
    "plt.legend(['Condominium_price', 'SingleFamily_price'])\n",
    "plt.title('Гистограмма')\n",
    "plt.show()"
   ]
  },
  {
   "cell_type": "markdown",
   "metadata": {},
   "source": [
    "Проведенные статистические тесты свидетельствуют о наличии статистических различий между рассматриваемыми выборками,\n",
    "хотя гистограмма и демонстрирует некоторое сходство  распределения"
   ]
  },
  {
   "cell_type": "markdown",
   "metadata": {},
   "source": [
    "Проверка гипотезы:\n",
    "Средняя оценочная стоимость zestimate отличается от реальной lastsoldprice"
   ]
  },
  {
   "cell_type": "markdown",
   "metadata": {},
   "source": [
    "# пределяем выборки и их базовые статистики\n",
    "# Lastoldprice\n",
    "\n",
    "Lastoldprice  = data.lastsoldprice\n",
    "print (Lastoldprice.describe().round(2))\n",
    "print('Стандартное отклонение = %.3f' % (statistics.pstdev(Lastoldprice)))\n",
    "print('По тесту Шапиро - p = ', shapiro(Lastoldprice)[1])"
   ]
  },
  {
   "cell_type": "code",
   "execution_count": 16,
   "metadata": {},
   "outputs": [
    {
     "name": "stdout",
     "output_type": "stream",
     "text": [
      "count       11330.00\n",
      "mean      1565695.26\n",
      "std       1229417.07\n",
      "min        432385.00\n",
      "25%        905237.50\n",
      "50%       1230758.00\n",
      "75%       1731169.75\n",
      "max      15533253.00\n",
      "Name: zestimate, dtype: float64\n",
      "Стандартное отклонение = 1229362.812\n",
      "По тесту Шапиро - p =  0.0\n"
     ]
    }
   ],
   "source": [
    "# Zestimate\n",
    "Zestimate  = data.zestimate\n",
    "print (Zestimate.describe().round(2))\n",
    "print('Стандартное отклонение = %.3f' % (statistics.pstdev(Zestimate)))\n",
    "print('По тесту Шапиро - p = ', shapiro(Zestimate)[1])"
   ]
  },
  {
   "cell_type": "code",
   "execution_count": 17,
   "metadata": {},
   "outputs": [
    {
     "data": {
      "text/plain": [
       "(-19.93048193633458, 1.2484003889039498e-87)"
      ]
     },
     "execution_count": 17,
     "metadata": {},
     "output_type": "execute_result"
    }
   ],
   "source": [
    "stattt, ptt = sts.ttest_ind(Lastoldprice, Zestimate)\n",
    "stattt, ptt\n",
    "# Если бы распределение было нормальным"
   ]
  },
  {
   "cell_type": "code",
   "execution_count": 18,
   "metadata": {},
   "outputs": [
    {
     "data": {
      "text/plain": [
       "(48719805.5, 7.494642636548625e-217)"
      ]
     },
     "execution_count": 18,
     "metadata": {},
     "output_type": "execute_result"
    }
   ],
   "source": [
    "# так как по формальным признакам распределение не нормально,\n",
    "# дополнительно проверяем схожесть выборок по тесту Манна Уитни\n",
    "statm, pm = mannwhitneyu(Lastoldprice, Zestimate)\n",
    "statm, pm"
   ]
  },
  {
   "cell_type": "code",
   "execution_count": 130,
   "metadata": {},
   "outputs": [
    {
     "data": {
      "image/png": "[encoded data removed]",
      "text/plain": [
       "<Figure size 432x288 with 1 Axes>"
      ]
     },
     "metadata": {
      "needs_background": "light"
     },
     "output_type": "display_data"
    }
   ],
   "source": [
    "sns.distplot(Lastoldprice, kde=False)\n",
    "sns.distplot(Zestimate, kde=False)\n",
    "plt.xlabel('Уровень показателя')\n",
    "plt.ylabel('Количество наблюдений')\n",
    "plt.legend(['Lastoldprice', 'Zestimate'])\n",
    "plt.title('Гистограмма')\n",
    "plt.show()"
   ]
  },
  {
   "cell_type": "markdown",
   "metadata": {},
   "source": [
    "Проведенные статистические тесты свидетельствуют о наличии статистических различий между рассматриваемыми выборками, хотя гистограмма и демонстрирует некоторое сходство распределения"
   ]
  },
  {
   "cell_type": "code",
   "execution_count": null,
   "metadata": {},
   "outputs": [],
   "source": []
  }
 ],
 "metadata": {
  "kernelspec": {
   "display_name": "Python 3",
   "language": "python",
   "name": "python3"
  },
  "language_info": {
   "codemirror_mode": {
    "name": "ipython",
    "version": 3
   },
   "file_extension": ".py",
   "mimetype": "text/x-python",
   "name": "python",
   "nbconvert_exporter": "python",
   "pygments_lexer": "ipython3",
   "version": "3.7.4"
  }
 },
 "nbformat": 4,
 "nbformat_minor": 2
}
