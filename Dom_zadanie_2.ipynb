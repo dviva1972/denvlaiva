{
 "cells": [
  {
   "cell_type": "markdown",
   "metadata": {},
   "source": [
    "**Задание 1**. Даны 2 строки: *long_phrase* и *short_phrase*. \n",
    "Напишите код, который проверяет действительно ли длинная фраза *long_phrase* длиннее короткой *short_phrase*. И выводит *True* или *False* в зависимости от результата сравнения."
   ]
  },
  {
   "cell_type": "code",
   "execution_count": null,
   "metadata": {},
   "outputs": [],
   "source": [
    "long_phrase = 'Насколько проще было бы писать программы, если бы не заказчики'\n",
    "short_phrase = '640Кб должно хватить для любых задач. Билл Гейтс (по легенде)'"
   ]
  },
  {
   "cell_type": "code",
   "execution_count": 4,
   "metadata": {},
   "outputs": [
    {
     "data": {
      "text/plain": [
       "False"
      ]
     },
     "execution_count": 4,
     "metadata": {},
     "output_type": "execute_result"
    }
   ],
   "source": [
    "len('long_phrase') > len('short_phrase')                  "
   ]
  },
  {
   "cell_type": "markdown",
   "metadata": {},
   "source": [
    "**Задание 2**. Дано значение объема файла в байтах (*в мегабайте 2^20 байт*). Напишите перевод этого значения в мегабайты в формате: \"*Объем файла равен 213.68Mb*\"."
   ]
  },
  {
   "cell_type": "code",
   "execution_count": 9,
   "metadata": {},
   "outputs": [
    {
     "name": "stdout",
     "output_type": "stream",
     "text": [
      "Объём файла  равен  213.68 Mb\n"
     ]
    }
   ],
   "source": [
    "weight_fail = 213.68 * (2 ** 20)\n",
    "print (\"Объём файла  равен \", weight_fail / (2 ** 20), \"Mb\")"
   ]
  },
  {
   "cell_type": "markdown",
   "metadata": {},
   "source": [
    "**Задание 3**. Разработать приложение для определения знака зодиака по дате рождения. Пример:\n",
    "\n",
    "Введите месяц: март\n",
    "\n",
    "Введите число: 6\n",
    "\n",
    "Вывод:\n",
    "Рыбы"
   ]
  },
  {
   "cell_type": "code",
   "execution_count": 1,
   "metadata": {},
   "outputs": [
    {
     "name": "stdout",
     "output_type": "stream",
     "text": [
      "Введите месяц  6\n",
      "Введите число  35\n",
      "Дата указана неверно\n"
     ]
    }
   ],
   "source": [
    "mounth = input('Введите месяц  ')\n",
    "day = int(input('Введите число  '))\n",
    "\n",
    "if (mounth == 'март' and 31 >= day >= 21) or (mounth == 'апрель' and 30 <= day <= 21):\n",
    "    print ('Овен')\n",
    "elif (mounth == 'апрель' and 30 >= day >= 20) or (mounth == 'май' and 31 <= day <= 20):\n",
    "    print ('Телец')\n",
    "elif (mounth == 'май' and 31 >= day >= 21) or (mounth == 'июнь' and 30 <= day <= 21):\n",
    "    print ('Близнецы')\n",
    "elif (mounth == 'июнь' and 30 >= day >= 22) or (mounth == 'июль' and 31 <= day <= 22):\n",
    "    print ('Рак')\n",
    "elif (mounth == 'июль' and 31 >= day >= 23) or (mounth == 'август' and 31 <= day <= 22):\n",
    "    print ('Лев')\n",
    "elif (mounth == 'август' and 31 >= day >= 23) or (mounth == 'сентябрь' and 30 <= day <= 22):\n",
    "    print ('Дева')\n",
    "elif (mounth == 'сентябрь' and 30 >= day >= 23) or (mounth == 'октябрь' and 31 <= day <= 23):\n",
    "    print ('Весы')\n",
    "elif (mounth == 'октябрь' and 31 >= day >= 24) or (mounth == 'ноябрь' and 30 <= day <= 22):\n",
    "    print ('Скорпион')\n",
    "elif (mounth == 'ноябрь' and 30 >= day >= 23) or (mounth == 'декабрь' and 31 <= day <= 21):\n",
    "    print ('Стрелец')\n",
    "elif (mounth == 'декабрь' and 31 >= day >= 22) or (mounth == 'январь' and 31 <= day <= 20):\n",
    "    print ('Козерог')\n",
    "elif (mounth == 'январь' and 31 >= day >= 21) or (mounth == 'февраль' and 29 <= day <= 18):\n",
    "    print ('Водолей')\n",
    "elif (mounth == 'февраль' and 29 >= day >= 19) or (mounth == 'март' and 31 <= day <= 20):\n",
    "    print ('Рыбы')\n",
    "else: print ('Дата указана неверно')"
   ]
  },
  {
   "cell_type": "markdown",
   "metadata": {},
   "source": [
    "**Задание 4**. Нужно разработать приложение для финансового планирования.\n",
    "Приложение учитывает сколько уходит на ипотеку, \"на жизнь\" и сколько нужно отложить на пенсию.\n",
    "Пользователь вводит:\n",
    "- заработанную плату в месяц.\n",
    "- сколько процентов от ЗП уходит на ипотеку.\n",
    "- сколько процентов от ЗП уходит \"на жизнь\".\n",
    "- сколько раз приходит премия в год.\n",
    "\n",
    "Остальная часть заработанной платы откладывается на пенсию.\n",
    "\n",
    "Также пользователю приходит премия в размере зарплаты, от которой половина уходит на отпуск, а вторая половина откладывается.\n",
    "\n",
    "Программа должна учитывать сколько премий было в год.\n",
    "\n",
    "Нужно вывести сколько денег тратит пользователь на ипотеку и сколько он накопит за год.\n",
    "\n",
    "Пример:\n",
    "\n",
    "Введите заработанную плату в месяц: 100000\n",
    "\n",
    "Введите сколько процентов уходит на ипотеку: 30\n",
    "\n",
    "Введите сколько процентов уходит на жизнь: 50\n",
    "\n",
    "Введите количество премий за год: 2\n",
    "\n",
    "Вывод:\n",
    "На ипотеку было потрачено: 360000 рублей\n",
    "Было накоплено: 340000 рублей"
   ]
  },
  {
   "cell_type": "code",
   "execution_count": null,
   "metadata": {},
   "outputs": [],
   "source": [
    "zarplata = int(input('Введите сумму заработной платы за месяц  '))\n",
    "dolja_ipoteki = int(input('Введите долю ежемесячных расходов на ипотеку (в%)  '))\n",
    "dolja_na_zhizn = int(input('Введите долю ежемесячных расходов на жизнь (в%)  '))\n",
    "premij_za_god = int(input('Введите количество премий за год  '))\n",
    "\n",
    "rashod_na_ipoteky = zarplata * 12 * dolja_ipoteki / 100\n",
    "nakopleno = zarplata * 12 * ( 1 - dolja_ipoteki - dolja_na_zhizn ) / 100 + (zarplata * premij_za_god ) / 2\n",
    "\n",
    "print ('На ипотеку было потрачено: ', rashod_na_ipoteky,'Было накоплено: ', nakopleno)"
   ]
  },
  {
   "cell_type": "code",
   "execution_count": null,
   "metadata": {},
   "outputs": [],
   "source": []
  }
 ],
 "metadata": {
  "kernelspec": {
   "display_name": "Python 3",
   "language": "python",
   "name": "python3"
  },
  "language_info": {
   "codemirror_mode": {
    "name": "ipython",
    "version": 3
   },
   "file_extension": ".py",
   "mimetype": "text/x-python",
   "name": "python",
   "nbconvert_exporter": "python",
   "pygments_lexer": "ipython3",
   "version": "3.7.4"
  }
 },
 "nbformat": 4,
 "nbformat_minor": 2
}
