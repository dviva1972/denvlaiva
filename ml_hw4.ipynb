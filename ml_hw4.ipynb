{
 "cells": [
  {
   "cell_type": "markdown",
   "metadata": {},
   "source": [
    "Денис Иванов\n",
    "\n",
    "Домашнее задание \n",
    "\n",
    "Оценка точности модели, переобучение, регуляризация"
   ]
  },
  {
   "cell_type": "code",
   "execution_count": 43,
   "metadata": {},
   "outputs": [],
   "source": [
    "import pandas as pd\n",
    "import numpy as np\n",
    "\n",
    "from sklearn.linear_model import LogisticRegression\n",
    "from sklearn.model_selection import train_test_split\n",
    "from sklearn.preprocessing import LabelEncoder, OneHotEncoder\n",
    "\n",
    "from sklearn.metrics import roc_curve, roc_auc_score\n",
    "import seaborn as sns\n",
    "from matplotlib import pyplot as plt"
   ]
  },
  {
   "cell_type": "code",
   "execution_count": 4,
   "metadata": {},
   "outputs": [
    {
     "data": {
      "text/html": [
       "<div>\n",
       "<style scoped>\n",
       "    .dataframe tbody tr th:only-of-type {\n",
       "        vertical-align: middle;\n",
       "    }\n",
       "\n",
       "    .dataframe tbody tr th {\n",
       "        vertical-align: top;\n",
       "    }\n",
       "\n",
       "    .dataframe thead th {\n",
       "        text-align: right;\n",
       "    }\n",
       "</style>\n",
       "<table border=\"1\" class=\"dataframe\">\n",
       "  <thead>\n",
       "    <tr style=\"text-align: right;\">\n",
       "      <th></th>\n",
       "      <th>id</th>\n",
       "      <th>name</th>\n",
       "      <th>nationality</th>\n",
       "      <th>sex</th>\n",
       "      <th>dob</th>\n",
       "      <th>height</th>\n",
       "      <th>weight</th>\n",
       "      <th>sport</th>\n",
       "      <th>gold</th>\n",
       "      <th>silver</th>\n",
       "      <th>bronze</th>\n",
       "    </tr>\n",
       "  </thead>\n",
       "  <tbody>\n",
       "    <tr>\n",
       "      <td>0</td>\n",
       "      <td>736041664</td>\n",
       "      <td>A Jesus Garcia</td>\n",
       "      <td>ESP</td>\n",
       "      <td>male</td>\n",
       "      <td>10/17/69</td>\n",
       "      <td>1.72</td>\n",
       "      <td>64.0</td>\n",
       "      <td>athletics</td>\n",
       "      <td>0</td>\n",
       "      <td>0</td>\n",
       "      <td>0</td>\n",
       "    </tr>\n",
       "    <tr>\n",
       "      <td>1</td>\n",
       "      <td>532037425</td>\n",
       "      <td>A Lam Shin</td>\n",
       "      <td>KOR</td>\n",
       "      <td>female</td>\n",
       "      <td>9/23/86</td>\n",
       "      <td>1.68</td>\n",
       "      <td>56.0</td>\n",
       "      <td>fencing</td>\n",
       "      <td>0</td>\n",
       "      <td>0</td>\n",
       "      <td>0</td>\n",
       "    </tr>\n",
       "    <tr>\n",
       "      <td>2</td>\n",
       "      <td>435962603</td>\n",
       "      <td>Aaron Brown</td>\n",
       "      <td>CAN</td>\n",
       "      <td>male</td>\n",
       "      <td>5/27/92</td>\n",
       "      <td>1.98</td>\n",
       "      <td>79.0</td>\n",
       "      <td>athletics</td>\n",
       "      <td>0</td>\n",
       "      <td>0</td>\n",
       "      <td>1</td>\n",
       "    </tr>\n",
       "    <tr>\n",
       "      <td>3</td>\n",
       "      <td>521041435</td>\n",
       "      <td>Aaron Cook</td>\n",
       "      <td>MDA</td>\n",
       "      <td>male</td>\n",
       "      <td>1/2/91</td>\n",
       "      <td>1.83</td>\n",
       "      <td>80.0</td>\n",
       "      <td>taekwondo</td>\n",
       "      <td>0</td>\n",
       "      <td>0</td>\n",
       "      <td>0</td>\n",
       "    </tr>\n",
       "    <tr>\n",
       "      <td>4</td>\n",
       "      <td>33922579</td>\n",
       "      <td>Aaron Gate</td>\n",
       "      <td>NZL</td>\n",
       "      <td>male</td>\n",
       "      <td>11/26/90</td>\n",
       "      <td>1.81</td>\n",
       "      <td>71.0</td>\n",
       "      <td>cycling</td>\n",
       "      <td>0</td>\n",
       "      <td>0</td>\n",
       "      <td>0</td>\n",
       "    </tr>\n",
       "  </tbody>\n",
       "</table>\n",
       "</div>"
      ],
      "text/plain": [
       "          id            name nationality     sex       dob  height  weight  \\\n",
       "0  736041664  A Jesus Garcia         ESP    male  10/17/69    1.72    64.0   \n",
       "1  532037425      A Lam Shin         KOR  female   9/23/86    1.68    56.0   \n",
       "2  435962603     Aaron Brown         CAN    male   5/27/92    1.98    79.0   \n",
       "3  521041435      Aaron Cook         MDA    male    1/2/91    1.83    80.0   \n",
       "4   33922579      Aaron Gate         NZL    male  11/26/90    1.81    71.0   \n",
       "\n",
       "       sport  gold  silver  bronze  \n",
       "0  athletics     0       0       0  \n",
       "1    fencing     0       0       0  \n",
       "2  athletics     0       0       1  \n",
       "3  taekwondo     0       0       0  \n",
       "4    cycling     0       0       0  "
      ]
     },
     "execution_count": 4,
     "metadata": {},
     "output_type": "execute_result"
    }
   ],
   "source": [
    "data = pd.read_csv('athletes.csv')\n",
    "data.head()"
   ]
  },
  {
   "cell_type": "code",
   "execution_count": 5,
   "metadata": {},
   "outputs": [
    {
     "name": "stdout",
     "output_type": "stream",
     "text": [
      "<class 'pandas.core.frame.DataFrame'>\n",
      "RangeIndex: 11538 entries, 0 to 11537\n",
      "Data columns (total 11 columns):\n",
      "id             11538 non-null int64\n",
      "name           11538 non-null object\n",
      "nationality    11538 non-null object\n",
      "sex            11538 non-null object\n",
      "dob            11537 non-null object\n",
      "height         11208 non-null float64\n",
      "weight         10879 non-null float64\n",
      "sport          11538 non-null object\n",
      "gold           11538 non-null int64\n",
      "silver         11538 non-null int64\n",
      "bronze         11538 non-null int64\n",
      "dtypes: float64(2), int64(4), object(5)\n",
      "memory usage: 991.7+ KB\n"
     ]
    }
   ],
   "source": [
    "data.info()"
   ]
  },
  {
   "cell_type": "markdown",
   "metadata": {},
   "source": [
    "Посмотрим много ли в наших признаках пустых значений"
   ]
  },
  {
   "cell_type": "code",
   "execution_count": 6,
   "metadata": {},
   "outputs": [
    {
     "name": "stdout",
     "output_type": "stream",
     "text": [
      "Для height пустых строк 330\n",
      "Для weight пустых строк 659\n",
      "Для dob пустых строк 1\n",
      "Всего строк в наборе 11538\n"
     ]
    }
   ],
   "source": [
    "print('Для height пустых строк ' + str( len( data[ pd.isnull( data['height'] ) ] ) ))\n",
    "print('Для weight пустых строк ' + str( len( data[ pd.isnull( data['weight'] ) ] ) ))\n",
    "print('Для dob пустых строк ' + str( len( data[ pd.isnull( data['dob'] ) ] ) ))\n",
    "print('Всего строк в наборе ' + str( len( data ) ))"
   ]
  },
  {
   "cell_type": "code",
   "execution_count": 7,
   "metadata": {},
   "outputs": [
    {
     "data": {
      "text/html": [
       "<div>\n",
       "<style scoped>\n",
       "    .dataframe tbody tr th:only-of-type {\n",
       "        vertical-align: middle;\n",
       "    }\n",
       "\n",
       "    .dataframe tbody tr th {\n",
       "        vertical-align: top;\n",
       "    }\n",
       "\n",
       "    .dataframe thead th {\n",
       "        text-align: right;\n",
       "    }\n",
       "</style>\n",
       "<table border=\"1\" class=\"dataframe\">\n",
       "  <thead>\n",
       "    <tr style=\"text-align: right;\">\n",
       "      <th></th>\n",
       "      <th>id</th>\n",
       "      <th>name</th>\n",
       "      <th>nationality</th>\n",
       "      <th>sex</th>\n",
       "      <th>dob</th>\n",
       "      <th>height</th>\n",
       "      <th>weight</th>\n",
       "      <th>sport</th>\n",
       "      <th>gold</th>\n",
       "      <th>silver</th>\n",
       "      <th>bronze</th>\n",
       "    </tr>\n",
       "  </thead>\n",
       "  <tbody>\n",
       "    <tr>\n",
       "      <td>8546</td>\n",
       "      <td>663676373</td>\n",
       "      <td>Pavel Sozykin</td>\n",
       "      <td>RUS</td>\n",
       "      <td>male</td>\n",
       "      <td>NaN</td>\n",
       "      <td>NaN</td>\n",
       "      <td>NaN</td>\n",
       "      <td>sailing</td>\n",
       "      <td>0</td>\n",
       "      <td>0</td>\n",
       "      <td>0</td>\n",
       "    </tr>\n",
       "  </tbody>\n",
       "</table>\n",
       "</div>"
      ],
      "text/plain": [
       "             id           name nationality   sex  dob  height  weight  \\\n",
       "8546  663676373  Pavel Sozykin         RUS  male  NaN     NaN     NaN   \n",
       "\n",
       "        sport  gold  silver  bronze  \n",
       "8546  sailing     0       0       0  "
      ]
     },
     "execution_count": 7,
     "metadata": {},
     "output_type": "execute_result"
    }
   ],
   "source": [
    "data[data.dob.isna()]"
   ]
  },
  {
   "cell_type": "markdown",
   "metadata": {},
   "source": [
    "По одному из наблюдений нет никаких наблюдений - посчитаем за выброс и удалим\n"
   ]
  },
  {
   "cell_type": "code",
   "execution_count": 8,
   "metadata": {},
   "outputs": [],
   "source": [
    "data = data[~data.dob.isna()]"
   ]
  },
  {
   "cell_type": "markdown",
   "metadata": {},
   "source": [
    "###  Страна и национальность "
   ]
  },
  {
   "cell_type": "code",
   "execution_count": 9,
   "metadata": {},
   "outputs": [
    {
     "data": {
      "text/plain": [
       "(LBR    2\n",
       " GEQ    2\n",
       " NRU    2\n",
       " BHU    2\n",
       " TUV    1\n",
       " Name: nationality, dtype: int64, (207,))"
      ]
     },
     "execution_count": 9,
     "metadata": {},
     "output_type": "execute_result"
    }
   ],
   "source": [
    "data['nationality'].value_counts().tail(), data['nationality'].value_counts().shape"
   ]
  },
  {
   "cell_type": "markdown",
   "metadata": {},
   "source": [
    "Итого спортсмены из 207 стран / национальностей ... Попробуем раскодировать и сгруппировать по доступным кодировкам стран"
   ]
  },
  {
   "cell_type": "code",
   "execution_count": 10,
   "metadata": {},
   "outputs": [
    {
     "data": {
      "text/html": [
       "<div>\n",
       "<style scoped>\n",
       "    .dataframe tbody tr th:only-of-type {\n",
       "        vertical-align: middle;\n",
       "    }\n",
       "\n",
       "    .dataframe tbody tr th {\n",
       "        vertical-align: top;\n",
       "    }\n",
       "\n",
       "    .dataframe thead th {\n",
       "        text-align: right;\n",
       "    }\n",
       "</style>\n",
       "<table border=\"1\" class=\"dataframe\">\n",
       "  <thead>\n",
       "    <tr style=\"text-align: right;\">\n",
       "      <th></th>\n",
       "      <th>id</th>\n",
       "      <th>name</th>\n",
       "      <th>nationality</th>\n",
       "      <th>sex</th>\n",
       "      <th>dob</th>\n",
       "      <th>height</th>\n",
       "      <th>weight</th>\n",
       "      <th>sport</th>\n",
       "      <th>gold</th>\n",
       "      <th>silver</th>\n",
       "      <th>bronze</th>\n",
       "      <th>На английском</th>\n",
       "      <th>Часть света</th>\n",
       "      <th>Расположение</th>\n",
       "    </tr>\n",
       "  </thead>\n",
       "  <tbody>\n",
       "    <tr>\n",
       "      <td>0</td>\n",
       "      <td>736041664</td>\n",
       "      <td>A Jesus Garcia</td>\n",
       "      <td>ESP</td>\n",
       "      <td>male</td>\n",
       "      <td>10/17/69</td>\n",
       "      <td>1.72</td>\n",
       "      <td>64.0</td>\n",
       "      <td>athletics</td>\n",
       "      <td>0</td>\n",
       "      <td>0</td>\n",
       "      <td>0</td>\n",
       "      <td>Spain</td>\n",
       "      <td>Европа</td>\n",
       "      <td>Южная Европа</td>\n",
       "    </tr>\n",
       "    <tr>\n",
       "      <td>1</td>\n",
       "      <td>532037425</td>\n",
       "      <td>A Lam Shin</td>\n",
       "      <td>KOR</td>\n",
       "      <td>female</td>\n",
       "      <td>9/23/86</td>\n",
       "      <td>1.68</td>\n",
       "      <td>56.0</td>\n",
       "      <td>fencing</td>\n",
       "      <td>0</td>\n",
       "      <td>0</td>\n",
       "      <td>0</td>\n",
       "      <td>Korea, Republic of</td>\n",
       "      <td>Азия</td>\n",
       "      <td>Восточная Азия</td>\n",
       "    </tr>\n",
       "    <tr>\n",
       "      <td>2</td>\n",
       "      <td>435962603</td>\n",
       "      <td>Aaron Brown</td>\n",
       "      <td>CAN</td>\n",
       "      <td>male</td>\n",
       "      <td>5/27/92</td>\n",
       "      <td>1.98</td>\n",
       "      <td>79.0</td>\n",
       "      <td>athletics</td>\n",
       "      <td>0</td>\n",
       "      <td>0</td>\n",
       "      <td>1</td>\n",
       "      <td>Canada</td>\n",
       "      <td>Америка</td>\n",
       "      <td>Северная Америка</td>\n",
       "    </tr>\n",
       "    <tr>\n",
       "      <td>3</td>\n",
       "      <td>521041435</td>\n",
       "      <td>Aaron Cook</td>\n",
       "      <td>MDA</td>\n",
       "      <td>male</td>\n",
       "      <td>1/2/91</td>\n",
       "      <td>1.83</td>\n",
       "      <td>80.0</td>\n",
       "      <td>taekwondo</td>\n",
       "      <td>0</td>\n",
       "      <td>0</td>\n",
       "      <td>0</td>\n",
       "      <td>Moldova</td>\n",
       "      <td>Европа</td>\n",
       "      <td>Восточная Европа</td>\n",
       "    </tr>\n",
       "    <tr>\n",
       "      <td>4</td>\n",
       "      <td>33922579</td>\n",
       "      <td>Aaron Gate</td>\n",
       "      <td>NZL</td>\n",
       "      <td>male</td>\n",
       "      <td>11/26/90</td>\n",
       "      <td>1.81</td>\n",
       "      <td>71.0</td>\n",
       "      <td>cycling</td>\n",
       "      <td>0</td>\n",
       "      <td>0</td>\n",
       "      <td>0</td>\n",
       "      <td>New Zealand</td>\n",
       "      <td>Океания</td>\n",
       "      <td>Австралия и Новая Зеландия</td>\n",
       "    </tr>\n",
       "    <tr>\n",
       "      <td>...</td>\n",
       "      <td>...</td>\n",
       "      <td>...</td>\n",
       "      <td>...</td>\n",
       "      <td>...</td>\n",
       "      <td>...</td>\n",
       "      <td>...</td>\n",
       "      <td>...</td>\n",
       "      <td>...</td>\n",
       "      <td>...</td>\n",
       "      <td>...</td>\n",
       "      <td>...</td>\n",
       "      <td>...</td>\n",
       "      <td>...</td>\n",
       "      <td>...</td>\n",
       "    </tr>\n",
       "    <tr>\n",
       "      <td>11532</td>\n",
       "      <td>265605954</td>\n",
       "      <td>Zurian Hechavarria</td>\n",
       "      <td>CUB</td>\n",
       "      <td>female</td>\n",
       "      <td>8/10/95</td>\n",
       "      <td>1.64</td>\n",
       "      <td>58.0</td>\n",
       "      <td>athletics</td>\n",
       "      <td>0</td>\n",
       "      <td>0</td>\n",
       "      <td>0</td>\n",
       "      <td>Cuba</td>\n",
       "      <td>Америка</td>\n",
       "      <td>Карибский бассейн</td>\n",
       "    </tr>\n",
       "    <tr>\n",
       "      <td>11533</td>\n",
       "      <td>214461847</td>\n",
       "      <td>Zuzana Hejnova</td>\n",
       "      <td>CZE</td>\n",
       "      <td>female</td>\n",
       "      <td>12/19/86</td>\n",
       "      <td>1.73</td>\n",
       "      <td>63.0</td>\n",
       "      <td>athletics</td>\n",
       "      <td>0</td>\n",
       "      <td>0</td>\n",
       "      <td>0</td>\n",
       "      <td>Czech Republic</td>\n",
       "      <td>Европа</td>\n",
       "      <td>Восточная Европа</td>\n",
       "    </tr>\n",
       "    <tr>\n",
       "      <td>11534</td>\n",
       "      <td>88361042</td>\n",
       "      <td>di Xiao</td>\n",
       "      <td>CHN</td>\n",
       "      <td>male</td>\n",
       "      <td>5/14/91</td>\n",
       "      <td>1.85</td>\n",
       "      <td>100.0</td>\n",
       "      <td>wrestling</td>\n",
       "      <td>0</td>\n",
       "      <td>0</td>\n",
       "      <td>0</td>\n",
       "      <td>China</td>\n",
       "      <td>Азия</td>\n",
       "      <td>Восточная Азия</td>\n",
       "    </tr>\n",
       "    <tr>\n",
       "      <td>11535</td>\n",
       "      <td>900065925</td>\n",
       "      <td>le Quoc Toan Tran</td>\n",
       "      <td>VIE</td>\n",
       "      <td>male</td>\n",
       "      <td>4/5/89</td>\n",
       "      <td>1.60</td>\n",
       "      <td>56.0</td>\n",
       "      <td>weightlifting</td>\n",
       "      <td>0</td>\n",
       "      <td>0</td>\n",
       "      <td>0</td>\n",
       "      <td>NaN</td>\n",
       "      <td>NaN</td>\n",
       "      <td>NaN</td>\n",
       "    </tr>\n",
       "    <tr>\n",
       "      <td>11536</td>\n",
       "      <td>711404576</td>\n",
       "      <td>le Roux Hamman</td>\n",
       "      <td>RSA</td>\n",
       "      <td>male</td>\n",
       "      <td>1/6/92</td>\n",
       "      <td>1.85</td>\n",
       "      <td>70.0</td>\n",
       "      <td>athletics</td>\n",
       "      <td>0</td>\n",
       "      <td>0</td>\n",
       "      <td>0</td>\n",
       "      <td>NaN</td>\n",
       "      <td>NaN</td>\n",
       "      <td>NaN</td>\n",
       "    </tr>\n",
       "  </tbody>\n",
       "</table>\n",
       "<p>11537 rows × 14 columns</p>\n",
       "</div>"
      ],
      "text/plain": [
       "              id                name nationality     sex       dob  height  \\\n",
       "0      736041664      A Jesus Garcia         ESP    male  10/17/69    1.72   \n",
       "1      532037425          A Lam Shin         KOR  female   9/23/86    1.68   \n",
       "2      435962603         Aaron Brown         CAN    male   5/27/92    1.98   \n",
       "3      521041435          Aaron Cook         MDA    male    1/2/91    1.83   \n",
       "4       33922579          Aaron Gate         NZL    male  11/26/90    1.81   \n",
       "...          ...                 ...         ...     ...       ...     ...   \n",
       "11532  265605954  Zurian Hechavarria         CUB  female   8/10/95    1.64   \n",
       "11533  214461847      Zuzana Hejnova         CZE  female  12/19/86    1.73   \n",
       "11534   88361042             di Xiao         CHN    male   5/14/91    1.85   \n",
       "11535  900065925   le Quoc Toan Tran         VIE    male    4/5/89    1.60   \n",
       "11536  711404576      le Roux Hamman         RSA    male    1/6/92    1.85   \n",
       "\n",
       "       weight          sport  gold  silver  bronze       На английском  \\\n",
       "0        64.0      athletics     0       0       0               Spain   \n",
       "1        56.0        fencing     0       0       0  Korea, Republic of   \n",
       "2        79.0      athletics     0       0       1              Canada   \n",
       "3        80.0      taekwondo     0       0       0             Moldova   \n",
       "4        71.0        cycling     0       0       0         New Zealand   \n",
       "...       ...            ...   ...     ...     ...                 ...   \n",
       "11532    58.0      athletics     0       0       0                Cuba   \n",
       "11533    63.0      athletics     0       0       0      Czech Republic   \n",
       "11534   100.0      wrestling     0       0       0               China   \n",
       "11535    56.0  weightlifting     0       0       0                 NaN   \n",
       "11536    70.0      athletics     0       0       0                 NaN   \n",
       "\n",
       "      Часть света                Расположение  \n",
       "0          Европа                Южная Европа  \n",
       "1            Азия              Восточная Азия  \n",
       "2         Америка            Северная Америка  \n",
       "3          Европа            Восточная Европа  \n",
       "4         Океания  Австралия и Новая Зеландия  \n",
       "...           ...                         ...  \n",
       "11532     Америка           Карибский бассейн  \n",
       "11533      Европа            Восточная Европа  \n",
       "11534        Азия              Восточная Азия  \n",
       "11535         NaN                         NaN  \n",
       "11536         NaN                         NaN  \n",
       "\n",
       "[11537 rows x 14 columns]"
      ]
     },
     "execution_count": 10,
     "metadata": {},
     "output_type": "execute_result"
    }
   ],
   "source": [
    "# Страны отмеченные по коду Alpha3\n",
    "Countries = pd.read_html('https://www.artlebedev.ru/country-list/', encoding = 'utf-8')[0]\n",
    "Countries_groups = Countries.groupby(['Alpha3'])['На английском', 'Часть света', 'Расположение'].max()\n",
    "\n",
    "data = data.merge(Countries_groups, how = 'left', left_on='nationality', right_on='Alpha3')\n",
    "data"
   ]
  },
  {
   "cell_type": "code",
   "execution_count": 11,
   "metadata": {},
   "outputs": [
    {
     "data": {
      "text/plain": [
       "GER    441\n",
       "NED    249\n",
       "RSA    146\n",
       "DEN    128\n",
       "SUI    104\n",
       "      ... \n",
       "BIZ      3\n",
       "GEQ      2\n",
       "MTN      2\n",
       "BHU      2\n",
       "CHA      2\n",
       "Name: nationality, Length: 87, dtype: int64"
      ]
     },
     "execution_count": 11,
     "metadata": {},
     "output_type": "execute_result"
    }
   ],
   "source": [
    "data[data['Расположение'].isna()].nationality.value_counts()"
   ]
  },
  {
   "cell_type": "markdown",
   "metadata": {},
   "source": [
    "87 стран выпали из кодировки ISO Alpha3, попробуем другие стандарты кодировок, например"
   ]
  },
  {
   "cell_type": "code",
   "execution_count": 12,
   "metadata": {},
   "outputs": [
    {
     "data": {
      "text/html": [
       "<div>\n",
       "<style scoped>\n",
       "    .dataframe tbody tr th:only-of-type {\n",
       "        vertical-align: middle;\n",
       "    }\n",
       "\n",
       "    .dataframe tbody tr th {\n",
       "        vertical-align: top;\n",
       "    }\n",
       "\n",
       "    .dataframe thead th {\n",
       "        text-align: right;\n",
       "    }\n",
       "</style>\n",
       "<table border=\"1\" class=\"dataframe\">\n",
       "  <thead>\n",
       "    <tr style=\"text-align: right;\">\n",
       "      <th></th>\n",
       "      <th>id</th>\n",
       "      <th>name</th>\n",
       "      <th>nationality</th>\n",
       "      <th>sex</th>\n",
       "      <th>dob</th>\n",
       "      <th>height</th>\n",
       "      <th>weight</th>\n",
       "      <th>sport</th>\n",
       "      <th>gold</th>\n",
       "      <th>silver</th>\n",
       "      <th>bronze</th>\n",
       "      <th>На английском</th>\n",
       "      <th>Часть света</th>\n",
       "      <th>Расположение</th>\n",
       "      <th>249 countries</th>\n",
       "    </tr>\n",
       "  </thead>\n",
       "  <tbody>\n",
       "    <tr>\n",
       "      <td>0</td>\n",
       "      <td>736041664</td>\n",
       "      <td>A Jesus Garcia</td>\n",
       "      <td>ESP</td>\n",
       "      <td>male</td>\n",
       "      <td>10/17/69</td>\n",
       "      <td>1.72</td>\n",
       "      <td>64.0</td>\n",
       "      <td>athletics</td>\n",
       "      <td>0</td>\n",
       "      <td>0</td>\n",
       "      <td>0</td>\n",
       "      <td>Spain</td>\n",
       "      <td>Европа</td>\n",
       "      <td>Южная Европа</td>\n",
       "      <td>Spain</td>\n",
       "    </tr>\n",
       "    <tr>\n",
       "      <td>1</td>\n",
       "      <td>532037425</td>\n",
       "      <td>A Lam Shin</td>\n",
       "      <td>KOR</td>\n",
       "      <td>female</td>\n",
       "      <td>9/23/86</td>\n",
       "      <td>1.68</td>\n",
       "      <td>56.0</td>\n",
       "      <td>fencing</td>\n",
       "      <td>0</td>\n",
       "      <td>0</td>\n",
       "      <td>0</td>\n",
       "      <td>Korea, Republic of</td>\n",
       "      <td>Азия</td>\n",
       "      <td>Восточная Азия</td>\n",
       "      <td>Korea, South</td>\n",
       "    </tr>\n",
       "    <tr>\n",
       "      <td>2</td>\n",
       "      <td>435962603</td>\n",
       "      <td>Aaron Brown</td>\n",
       "      <td>CAN</td>\n",
       "      <td>male</td>\n",
       "      <td>5/27/92</td>\n",
       "      <td>1.98</td>\n",
       "      <td>79.0</td>\n",
       "      <td>athletics</td>\n",
       "      <td>0</td>\n",
       "      <td>0</td>\n",
       "      <td>1</td>\n",
       "      <td>Canada</td>\n",
       "      <td>Америка</td>\n",
       "      <td>Северная Америка</td>\n",
       "      <td>Canada</td>\n",
       "    </tr>\n",
       "    <tr>\n",
       "      <td>3</td>\n",
       "      <td>521041435</td>\n",
       "      <td>Aaron Cook</td>\n",
       "      <td>MDA</td>\n",
       "      <td>male</td>\n",
       "      <td>1/2/91</td>\n",
       "      <td>1.83</td>\n",
       "      <td>80.0</td>\n",
       "      <td>taekwondo</td>\n",
       "      <td>0</td>\n",
       "      <td>0</td>\n",
       "      <td>0</td>\n",
       "      <td>Moldova</td>\n",
       "      <td>Европа</td>\n",
       "      <td>Восточная Европа</td>\n",
       "      <td>Moldova</td>\n",
       "    </tr>\n",
       "    <tr>\n",
       "      <td>4</td>\n",
       "      <td>33922579</td>\n",
       "      <td>Aaron Gate</td>\n",
       "      <td>NZL</td>\n",
       "      <td>male</td>\n",
       "      <td>11/26/90</td>\n",
       "      <td>1.81</td>\n",
       "      <td>71.0</td>\n",
       "      <td>cycling</td>\n",
       "      <td>0</td>\n",
       "      <td>0</td>\n",
       "      <td>0</td>\n",
       "      <td>New Zealand</td>\n",
       "      <td>Океания</td>\n",
       "      <td>Австралия и Новая Зеландия</td>\n",
       "      <td>New Zealand</td>\n",
       "    </tr>\n",
       "  </tbody>\n",
       "</table>\n",
       "</div>"
      ],
      "text/plain": [
       "          id            name nationality     sex       dob  height  weight  \\\n",
       "0  736041664  A Jesus Garcia         ESP    male  10/17/69    1.72    64.0   \n",
       "1  532037425      A Lam Shin         KOR  female   9/23/86    1.68    56.0   \n",
       "2  435962603     Aaron Brown         CAN    male   5/27/92    1.98    79.0   \n",
       "3  521041435      Aaron Cook         MDA    male    1/2/91    1.83    80.0   \n",
       "4   33922579      Aaron Gate         NZL    male  11/26/90    1.81    71.0   \n",
       "\n",
       "       sport  gold  silver  bronze       На английском Часть света  \\\n",
       "0  athletics     0       0       0               Spain      Европа   \n",
       "1    fencing     0       0       0  Korea, Republic of        Азия   \n",
       "2  athletics     0       0       1              Canada     Америка   \n",
       "3  taekwondo     0       0       0             Moldova      Европа   \n",
       "4    cycling     0       0       0         New Zealand     Океания   \n",
       "\n",
       "                 Расположение 249 countries  \n",
       "0                Южная Европа         Spain  \n",
       "1              Восточная Азия  Korea, South  \n",
       "2            Северная Америка        Canada  \n",
       "3            Восточная Европа       Moldova  \n",
       "4  Австралия и Новая Зеландия   New Zealand  "
      ]
     },
     "execution_count": 12,
     "metadata": {},
     "output_type": "execute_result"
    }
   ],
   "source": [
    "# Страны отмеченные по коду IOC\n",
    "Countries2 = pd.read_html('http://www.statoids.com/wab.html', encoding = 'utf-8')[0]\n",
    "Countries2_groups = Countries2.groupby(['IOC'])['249 countries'].max()\n",
    "Countries2_groups\n",
    "\n",
    "data = data.merge(Countries2_groups, how = 'left', left_on='nationality', right_on='IOC')\n",
    "data.head()"
   ]
  },
  {
   "cell_type": "code",
   "execution_count": 13,
   "metadata": {},
   "outputs": [
    {
     "data": {
      "text/html": [
       "<div>\n",
       "<style scoped>\n",
       "    .dataframe tbody tr th:only-of-type {\n",
       "        vertical-align: middle;\n",
       "    }\n",
       "\n",
       "    .dataframe tbody tr th {\n",
       "        vertical-align: top;\n",
       "    }\n",
       "\n",
       "    .dataframe thead th {\n",
       "        text-align: right;\n",
       "    }\n",
       "</style>\n",
       "<table border=\"1\" class=\"dataframe\">\n",
       "  <thead>\n",
       "    <tr style=\"text-align: right;\">\n",
       "      <th></th>\n",
       "      <th>id</th>\n",
       "      <th>name</th>\n",
       "      <th>nationality</th>\n",
       "      <th>sex</th>\n",
       "      <th>dob</th>\n",
       "      <th>height</th>\n",
       "      <th>weight</th>\n",
       "      <th>sport</th>\n",
       "      <th>gold</th>\n",
       "      <th>silver</th>\n",
       "      <th>bronze</th>\n",
       "      <th>Country</th>\n",
       "      <th>Geotype_big</th>\n",
       "      <th>Geotype_small</th>\n",
       "      <th>Country_2</th>\n",
       "    </tr>\n",
       "  </thead>\n",
       "  <tbody>\n",
       "    <tr>\n",
       "      <td>0</td>\n",
       "      <td>736041664</td>\n",
       "      <td>A Jesus Garcia</td>\n",
       "      <td>ESP</td>\n",
       "      <td>male</td>\n",
       "      <td>10/17/69</td>\n",
       "      <td>1.72</td>\n",
       "      <td>64.0</td>\n",
       "      <td>athletics</td>\n",
       "      <td>0</td>\n",
       "      <td>0</td>\n",
       "      <td>0</td>\n",
       "      <td>Spain</td>\n",
       "      <td>Европа</td>\n",
       "      <td>Южная Европа</td>\n",
       "      <td>Spain</td>\n",
       "    </tr>\n",
       "  </tbody>\n",
       "</table>\n",
       "</div>"
      ],
      "text/plain": [
       "          id            name nationality   sex       dob  height  weight  \\\n",
       "0  736041664  A Jesus Garcia         ESP  male  10/17/69    1.72    64.0   \n",
       "\n",
       "       sport  gold  silver  bronze Country Geotype_big Geotype_small Country_2  \n",
       "0  athletics     0       0       0   Spain      Европа  Южная Европа     Spain  "
      ]
     },
     "execution_count": 13,
     "metadata": {},
     "output_type": "execute_result"
    }
   ],
   "source": [
    "data.rename(columns = {'На английском': 'Country', \n",
    "                       'Часть света'  : 'Geotype_big', \n",
    "                       'Расположение' : 'Geotype_small', \n",
    "                       '249 countries': 'Country_2'}, \n",
    "                        inplace = True) \n",
    "data.head(1)"
   ]
  },
  {
   "cell_type": "code",
   "execution_count": 14,
   "metadata": {},
   "outputs": [
    {
     "data": {
      "text/plain": [
       "ROT    10\n",
       "IOA     9\n",
       "KOS     8\n",
       "Name: nationality, dtype: int64"
      ]
     },
     "execution_count": 14,
     "metadata": {},
     "output_type": "execute_result"
    }
   ],
   "source": [
    "data[(data['Geotype_small'].isna())&(data['Country_2'].isna())].nationality.value_counts()"
   ]
  },
  {
   "cell_type": "code",
   "execution_count": 15,
   "metadata": {},
   "outputs": [],
   "source": [
    "data.loc[data.Country.isna(), 'Country'] = data['Country_2']\n",
    "data.loc[data.Country.isna()].nationality.value_counts()  #  ROT = 10, IOA = 9, KOS = 8\n",
    "\n",
    "#  Может быть недостающие коды nationality - это коды аэропортов, из которых прилетели спортсмены \n",
    "# https://proaeroporty.ru/airports/aeroporty-iata-s  |  по справочнику IATA\n",
    "\n",
    "data.loc[data.nationality == 'ROT', 'Country'] = 'New Zealand'\n",
    "data.loc[data.nationality == 'IOA', 'Country'] = 'Greece'\n",
    "data.loc[data.nationality == 'KOS', 'Country'] = 'Cambodja'"
   ]
  },
  {
   "cell_type": "markdown",
   "metadata": {},
   "source": [
    "Объединим информацию о происхождении спортсменов из всех доступных источников"
   ]
  },
  {
   "cell_type": "code",
   "execution_count": 16,
   "metadata": {},
   "outputs": [],
   "source": [
    "data = data.merge(Countries_groups, how = 'left', left_on='Country', right_on='На английском')"
   ]
  },
  {
   "cell_type": "code",
   "execution_count": 17,
   "metadata": {},
   "outputs": [
    {
     "data": {
      "text/html": [
       "<div>\n",
       "<style scoped>\n",
       "    .dataframe tbody tr th:only-of-type {\n",
       "        vertical-align: middle;\n",
       "    }\n",
       "\n",
       "    .dataframe tbody tr th {\n",
       "        vertical-align: top;\n",
       "    }\n",
       "\n",
       "    .dataframe thead th {\n",
       "        text-align: right;\n",
       "    }\n",
       "</style>\n",
       "<table border=\"1\" class=\"dataframe\">\n",
       "  <thead>\n",
       "    <tr style=\"text-align: right;\">\n",
       "      <th></th>\n",
       "      <th>id</th>\n",
       "      <th>name</th>\n",
       "      <th>nationality</th>\n",
       "      <th>sex</th>\n",
       "      <th>dob</th>\n",
       "      <th>height</th>\n",
       "      <th>weight</th>\n",
       "      <th>sport</th>\n",
       "      <th>gold</th>\n",
       "      <th>silver</th>\n",
       "      <th>bronze</th>\n",
       "      <th>Country</th>\n",
       "      <th>Geotype_big</th>\n",
       "      <th>Geotype_small</th>\n",
       "      <th>Country_2</th>\n",
       "      <th>На английском</th>\n",
       "      <th>Часть света</th>\n",
       "      <th>Расположение</th>\n",
       "    </tr>\n",
       "  </thead>\n",
       "  <tbody>\n",
       "    <tr>\n",
       "      <td>12</td>\n",
       "      <td>258556239</td>\n",
       "      <td>Abbas Qali</td>\n",
       "      <td>IOA</td>\n",
       "      <td>male</td>\n",
       "      <td>10/11/92</td>\n",
       "      <td>NaN</td>\n",
       "      <td>NaN</td>\n",
       "      <td>aquatics</td>\n",
       "      <td>0</td>\n",
       "      <td>0</td>\n",
       "      <td>0</td>\n",
       "      <td>Greece</td>\n",
       "      <td>NaN</td>\n",
       "      <td>NaN</td>\n",
       "      <td>NaN</td>\n",
       "      <td>Greece</td>\n",
       "      <td>Европа</td>\n",
       "      <td>Южная Европа</td>\n",
       "    </tr>\n",
       "    <tr>\n",
       "      <td>17</td>\n",
       "      <td>256673338</td>\n",
       "      <td>Abbubaker Mobara</td>\n",
       "      <td>RSA</td>\n",
       "      <td>male</td>\n",
       "      <td>2/18/94</td>\n",
       "      <td>1.75</td>\n",
       "      <td>64.0</td>\n",
       "      <td>football</td>\n",
       "      <td>0</td>\n",
       "      <td>0</td>\n",
       "      <td>0</td>\n",
       "      <td>South Africa</td>\n",
       "      <td>NaN</td>\n",
       "      <td>NaN</td>\n",
       "      <td>South Africa</td>\n",
       "      <td>South Africa</td>\n",
       "      <td>Африка</td>\n",
       "      <td>Южная часть Африки</td>\n",
       "    </tr>\n",
       "    <tr>\n",
       "      <td>22</td>\n",
       "      <td>924593601</td>\n",
       "      <td>Abdalla Targan</td>\n",
       "      <td>SUD</td>\n",
       "      <td>male</td>\n",
       "      <td>9/28/96</td>\n",
       "      <td>1.77</td>\n",
       "      <td>65.0</td>\n",
       "      <td>athletics</td>\n",
       "      <td>0</td>\n",
       "      <td>0</td>\n",
       "      <td>0</td>\n",
       "      <td>Sudan</td>\n",
       "      <td>NaN</td>\n",
       "      <td>NaN</td>\n",
       "      <td>Sudan</td>\n",
       "      <td>Sudan</td>\n",
       "      <td>Африка</td>\n",
       "      <td>Северная Африка</td>\n",
       "    </tr>\n",
       "    <tr>\n",
       "      <td>26</td>\n",
       "      <td>189931373</td>\n",
       "      <td>Abdelaziz Mohamed Ahmed</td>\n",
       "      <td>SUD</td>\n",
       "      <td>male</td>\n",
       "      <td>10/12/94</td>\n",
       "      <td>1.81</td>\n",
       "      <td>72.0</td>\n",
       "      <td>aquatics</td>\n",
       "      <td>0</td>\n",
       "      <td>0</td>\n",
       "      <td>0</td>\n",
       "      <td>Sudan</td>\n",
       "      <td>NaN</td>\n",
       "      <td>NaN</td>\n",
       "      <td>Sudan</td>\n",
       "      <td>Sudan</td>\n",
       "      <td>Африка</td>\n",
       "      <td>Северная Африка</td>\n",
       "    </tr>\n",
       "    <tr>\n",
       "      <td>27</td>\n",
       "      <td>677622742</td>\n",
       "      <td>Abdelghani Demmou</td>\n",
       "      <td>ALG</td>\n",
       "      <td>male</td>\n",
       "      <td>1/29/89</td>\n",
       "      <td>1.85</td>\n",
       "      <td>75.0</td>\n",
       "      <td>football</td>\n",
       "      <td>0</td>\n",
       "      <td>0</td>\n",
       "      <td>0</td>\n",
       "      <td>Algeria</td>\n",
       "      <td>NaN</td>\n",
       "      <td>NaN</td>\n",
       "      <td>Algeria</td>\n",
       "      <td>Algeria</td>\n",
       "      <td>Африка</td>\n",
       "      <td>Северная Африка</td>\n",
       "    </tr>\n",
       "  </tbody>\n",
       "</table>\n",
       "</div>"
      ],
      "text/plain": [
       "           id                     name nationality   sex       dob  height  \\\n",
       "12  258556239               Abbas Qali         IOA  male  10/11/92     NaN   \n",
       "17  256673338         Abbubaker Mobara         RSA  male   2/18/94    1.75   \n",
       "22  924593601           Abdalla Targan         SUD  male   9/28/96    1.77   \n",
       "26  189931373  Abdelaziz Mohamed Ahmed         SUD  male  10/12/94    1.81   \n",
       "27  677622742        Abdelghani Demmou         ALG  male   1/29/89    1.85   \n",
       "\n",
       "    weight      sport  gold  silver  bronze       Country Geotype_big  \\\n",
       "12     NaN   aquatics     0       0       0        Greece         NaN   \n",
       "17    64.0   football     0       0       0  South Africa         NaN   \n",
       "22    65.0  athletics     0       0       0         Sudan         NaN   \n",
       "26    72.0   aquatics     0       0       0         Sudan         NaN   \n",
       "27    75.0   football     0       0       0       Algeria         NaN   \n",
       "\n",
       "   Geotype_small     Country_2 На английском Часть света        Расположение  \n",
       "12           NaN           NaN        Greece      Европа        Южная Европа  \n",
       "17           NaN  South Africa  South Africa      Африка  Южная часть Африки  \n",
       "22           NaN         Sudan         Sudan      Африка     Северная Африка  \n",
       "26           NaN         Sudan         Sudan      Африка     Северная Африка  \n",
       "27           NaN       Algeria       Algeria      Африка     Северная Африка  "
      ]
     },
     "execution_count": 17,
     "metadata": {},
     "output_type": "execute_result"
    }
   ],
   "source": [
    "data.loc[data.Geotype_small.isna()].head()"
   ]
  },
  {
   "cell_type": "code",
   "execution_count": 18,
   "metadata": {},
   "outputs": [],
   "source": [
    "data.loc[data.Geotype_big.isna(),   'Geotype_big']   = data['Часть света']\n",
    "data.loc[data.Geotype_small.isna(), 'Geotype_small'] = data['Расположение']"
   ]
  },
  {
   "cell_type": "code",
   "execution_count": 19,
   "metadata": {},
   "outputs": [
    {
     "data": {
      "text/plain": [
       "Iran                               64\n",
       "Taiwan                             56\n",
       "Congo (Brazzaville)                10\n",
       "Cambodja                            8\n",
       "Libya                               7\n",
       "Tanzania                            7\n",
       "Myanmar                             7\n",
       "Palestine                           6\n",
       "Saint Vincent and theGrenadines     4\n",
       "Name: Country, dtype: int64"
      ]
     },
     "execution_count": 19,
     "metadata": {},
     "output_type": "execute_result"
    }
   ],
   "source": [
    "data.loc[data.Geotype_small.isna()].Country.value_counts()"
   ]
  },
  {
   "cell_type": "code",
   "execution_count": 20,
   "metadata": {},
   "outputs": [
    {
     "data": {
      "text/html": [
       "<div>\n",
       "<style scoped>\n",
       "    .dataframe tbody tr th:only-of-type {\n",
       "        vertical-align: middle;\n",
       "    }\n",
       "\n",
       "    .dataframe tbody tr th {\n",
       "        vertical-align: top;\n",
       "    }\n",
       "\n",
       "    .dataframe thead th {\n",
       "        text-align: right;\n",
       "    }\n",
       "</style>\n",
       "<table border=\"1\" class=\"dataframe\">\n",
       "  <thead>\n",
       "    <tr style=\"text-align: right;\">\n",
       "      <th></th>\n",
       "      <th>На английском</th>\n",
       "      <th>Часть света</th>\n",
       "      <th>Расположение</th>\n",
       "    </tr>\n",
       "  </thead>\n",
       "  <tbody>\n",
       "    <tr>\n",
       "      <td>4</td>\n",
       "      <td>Libya</td>\n",
       "      <td>Африка</td>\n",
       "      <td>Восточная Африка</td>\n",
       "    </tr>\n",
       "    <tr>\n",
       "      <td>5</td>\n",
       "      <td>Tanzania</td>\n",
       "      <td>Азия</td>\n",
       "      <td>Юго-Восточная Азия</td>\n",
       "    </tr>\n",
       "    <tr>\n",
       "      <td>6</td>\n",
       "      <td>Myanmar</td>\n",
       "      <td>Африка</td>\n",
       "      <td>Северная Африка</td>\n",
       "    </tr>\n",
       "    <tr>\n",
       "      <td>7</td>\n",
       "      <td>Palestine</td>\n",
       "      <td>Азия</td>\n",
       "      <td>Западная Азия</td>\n",
       "    </tr>\n",
       "    <tr>\n",
       "      <td>8</td>\n",
       "      <td>Saint Vincent and theGrenadines</td>\n",
       "      <td>Америка</td>\n",
       "      <td>Карибский бассейн</td>\n",
       "    </tr>\n",
       "  </tbody>\n",
       "</table>\n",
       "</div>"
      ],
      "text/plain": [
       "                     На английском Часть света        Расположение\n",
       "4                            Libya      Африка    Восточная Африка\n",
       "5                         Tanzania        Азия  Юго-Восточная Азия\n",
       "6                          Myanmar      Африка     Северная Африка\n",
       "7                        Palestine        Азия       Западная Азия\n",
       "8  Saint Vincent and theGrenadines     Америка   Карибский бассейн"
      ]
     },
     "execution_count": 20,
     "metadata": {},
     "output_type": "execute_result"
    }
   ],
   "source": [
    "b = data.loc[data.Geotype_small.isna()].Country.value_counts().index\n",
    "c = ['Азия','Азия','Африка','Африка', 'Африка', 'Азия', 'Африка','Азия','Америка']\n",
    "d = ['Западная Азия','Восточная Азия','Центральная Африка', 'Юго-Восточная Африка', 'Восточная Африка',\n",
    "     'Юго-Восточная Азия', 'Северная Африка', 'Западная Азия', 'Карибский бассейн']\n",
    "\n",
    "Contries_dop = pd.DataFrame(list(zip(b,c,d)), columns = Countries_groups.columns)\n",
    "\n",
    "Countries_groups = pd.concat([Countries_groups, \n",
    "                              pd.DataFrame(list(zip(b,c,d)), columns = Countries_groups.columns) ]) \n",
    "Countries_groups.tail()"
   ]
  },
  {
   "cell_type": "code",
   "execution_count": 21,
   "metadata": {},
   "outputs": [
    {
     "data": {
      "text/html": [
       "<div>\n",
       "<style scoped>\n",
       "    .dataframe tbody tr th:only-of-type {\n",
       "        vertical-align: middle;\n",
       "    }\n",
       "\n",
       "    .dataframe tbody tr th {\n",
       "        vertical-align: top;\n",
       "    }\n",
       "\n",
       "    .dataframe thead th {\n",
       "        text-align: right;\n",
       "    }\n",
       "</style>\n",
       "<table border=\"1\" class=\"dataframe\">\n",
       "  <thead>\n",
       "    <tr style=\"text-align: right;\">\n",
       "      <th></th>\n",
       "      <th>id</th>\n",
       "      <th>name</th>\n",
       "      <th>nationality</th>\n",
       "      <th>sex</th>\n",
       "      <th>dob</th>\n",
       "      <th>height</th>\n",
       "      <th>weight</th>\n",
       "      <th>sport</th>\n",
       "      <th>gold</th>\n",
       "      <th>silver</th>\n",
       "      <th>...</th>\n",
       "      <th>Country</th>\n",
       "      <th>Geotype_big</th>\n",
       "      <th>Geotype_small</th>\n",
       "      <th>Country_2</th>\n",
       "      <th>На английском_x</th>\n",
       "      <th>Часть света_x</th>\n",
       "      <th>Расположение_x</th>\n",
       "      <th>На английском_y</th>\n",
       "      <th>Часть света_y</th>\n",
       "      <th>Расположение_y</th>\n",
       "    </tr>\n",
       "  </thead>\n",
       "  <tbody>\n",
       "    <tr>\n",
       "      <td>0</td>\n",
       "      <td>736041664</td>\n",
       "      <td>A Jesus Garcia</td>\n",
       "      <td>ESP</td>\n",
       "      <td>male</td>\n",
       "      <td>10/17/69</td>\n",
       "      <td>1.72</td>\n",
       "      <td>64.0</td>\n",
       "      <td>athletics</td>\n",
       "      <td>0</td>\n",
       "      <td>0</td>\n",
       "      <td>...</td>\n",
       "      <td>Spain</td>\n",
       "      <td>Европа</td>\n",
       "      <td>Южная Европа</td>\n",
       "      <td>Spain</td>\n",
       "      <td>Spain</td>\n",
       "      <td>Европа</td>\n",
       "      <td>Южная Европа</td>\n",
       "      <td>Spain</td>\n",
       "      <td>Европа</td>\n",
       "      <td>Южная Европа</td>\n",
       "    </tr>\n",
       "  </tbody>\n",
       "</table>\n",
       "<p>1 rows × 21 columns</p>\n",
       "</div>"
      ],
      "text/plain": [
       "          id            name nationality   sex       dob  height  weight  \\\n",
       "0  736041664  A Jesus Garcia         ESP  male  10/17/69    1.72    64.0   \n",
       "\n",
       "       sport  gold  silver  ...  Country Geotype_big Geotype_small Country_2  \\\n",
       "0  athletics     0       0  ...    Spain      Европа  Южная Европа     Spain   \n",
       "\n",
       "  На английском_x Часть света_x Расположение_x На английском_y Часть света_y  \\\n",
       "0           Spain        Европа   Южная Европа           Spain        Европа   \n",
       "\n",
       "  Расположение_y  \n",
       "0   Южная Европа  \n",
       "\n",
       "[1 rows x 21 columns]"
      ]
     },
     "execution_count": 21,
     "metadata": {},
     "output_type": "execute_result"
    }
   ],
   "source": [
    "data = data.merge(Countries_groups, how = 'left', left_on='Country', right_on='На английском')\n",
    "data.head(1)"
   ]
  },
  {
   "cell_type": "code",
   "execution_count": 22,
   "metadata": {},
   "outputs": [],
   "source": [
    "data.loc[data.Geotype_big.isna(),   'Geotype_big']   = data['Часть света_y']\n",
    "data.loc[data.Geotype_small.isna(), 'Geotype_small'] = data['Расположение_y']"
   ]
  },
  {
   "cell_type": "code",
   "execution_count": 23,
   "metadata": {},
   "outputs": [],
   "source": [
    "data = data.iloc[:,3:14]"
   ]
  },
  {
   "cell_type": "code",
   "execution_count": 24,
   "metadata": {},
   "outputs": [
    {
     "data": {
      "text/plain": [
       "Европа     4901\n",
       "Америка    2610\n",
       "Азия       2219\n",
       "Африка     1035\n",
       "Океания     772\n",
       "Name: Geotype_big, dtype: int64"
      ]
     },
     "execution_count": 24,
     "metadata": {},
     "output_type": "execute_result"
    }
   ],
   "source": [
    "data.Geotype_big.value_counts()"
   ]
  },
  {
   "cell_type": "code",
   "execution_count": 25,
   "metadata": {},
   "outputs": [
    {
     "data": {
      "text/plain": [
       "Западная Европа                 1399\n",
       "Восточная Европа                1336\n",
       "Южная Европа                    1151\n",
       "Восточная Азия                  1131\n",
       "Южная Америка                   1111\n",
       "Северная Европа                 1015\n",
       "Северная Америка                 896\n",
       "Австралия и Новая Зеландия       649\n",
       "Западная Азия                    484\n",
       "Карибский бассейн                392\n",
       "Южная часть Центральной Азии     370\n",
       "Северная Африка                  316\n",
       "Восточная Африка                 267\n",
       "Юго-Восточная Азия               234\n",
       "Центральная Америка              211\n",
       "Западная Африка                  183\n",
       "Южная часть Африки               178\n",
       "Центральная Африка                83\n",
       "Меланезия                         69\n",
       "Полинезия                         29\n",
       "Микронезия                        25\n",
       "Юго-Восточная Африка               8\n",
       "Name: Geotype_small, dtype: int64"
      ]
     },
     "execution_count": 25,
     "metadata": {},
     "output_type": "execute_result"
    }
   ],
   "source": [
    "data.Geotype_small.value_counts()"
   ]
  },
  {
   "cell_type": "code",
   "execution_count": 26,
   "metadata": {},
   "outputs": [
    {
     "data": {
      "text/plain": [
       "Западная Европа                 1399\n",
       "Восточная Европа                1336\n",
       "Южная Европа                    1151\n",
       "Восточная Азия                  1131\n",
       "Южная Америка                   1111\n",
       "Северная Европа                 1015\n",
       "Северная Америка                 896\n",
       "Австралия и Океания              772\n",
       "Западная Азия                    484\n",
       "Карибский бассейн                392\n",
       "Южная часть Центральной Азии     370\n",
       "Северная Африка                  316\n",
       "Южная Африка                     269\n",
       "Восточная Африка                 267\n",
       "Юго-Восточная Азия               234\n",
       "Центральная Америка              211\n",
       "Западная Африка                  183\n",
       "Name: Geotype_small, dtype: int64"
      ]
     },
     "execution_count": 26,
     "metadata": {},
     "output_type": "execute_result"
    }
   ],
   "source": [
    "data[data.Geotype_big == 'Океания'].Geotype_small.value_counts()  \n",
    "data[data.Geotype_big == 'Африка'].Geotype_small.value_counts()  \n",
    "data.loc[(data.Geotype_small == 'Южная часть Африки'),   'Geotype_small'] = 'Южная Африка'\n",
    "data.loc[(data.Geotype_small == 'Центральная Африка'),   'Geotype_small'] = 'Южная Африка'\n",
    "data.loc[(data.Geotype_small == 'Юго-Восточная Африка'), 'Geotype_small'] = 'Южная Африка'\n",
    "\n",
    "data.loc[(data.Geotype_big   == 'Океания'),               'Geotype_small'] = 'Австралия и Океания'       \n",
    "        \n",
    "data.Geotype_small.value_counts()     "
   ]
  },
  {
   "cell_type": "markdown",
   "metadata": {},
   "source": [
    "### Виды спорта"
   ]
  },
  {
   "cell_type": "code",
   "execution_count": 27,
   "metadata": {},
   "outputs": [
    {
     "data": {
      "text/plain": [
       "(athletics    2363\n",
       " aquatics     1445\n",
       " football      611\n",
       " rowing        547\n",
       " cycling       525\n",
       " Name: sport, dtype: int64, (28,))"
      ]
     },
     "execution_count": 27,
     "metadata": {},
     "output_type": "execute_result"
    }
   ],
   "source": [
    "data['sport'].value_counts().head(), data['sport'].value_counts().shape"
   ]
  },
  {
   "cell_type": "markdown",
   "metadata": {},
   "source": [
    "Обычные виды спорта ничего не буду менять"
   ]
  },
  {
   "cell_type": "markdown",
   "metadata": {},
   "source": [
    "### Возраст / год рождения"
   ]
  },
  {
   "cell_type": "code",
   "execution_count": 28,
   "metadata": {},
   "outputs": [],
   "source": [
    "data['age_type']  = pd.cut(pd.to_datetime(data.dob).dt.year, \n",
    "                           [0, 1985, 1990, 1995, 29999], \n",
    "                           include_lowest=True)"
   ]
  },
  {
   "cell_type": "code",
   "execution_count": 29,
   "metadata": {},
   "outputs": [
    {
     "data": {
      "text/plain": [
       "(1990.0, 1995.0]     4157\n",
       "(1985.0, 1990.0]     3965\n",
       "(-0.001, 1985.0]     2254\n",
       "(1995.0, 29999.0]    1161\n",
       "Name: age_type, dtype: int64"
      ]
     },
     "execution_count": 29,
     "metadata": {},
     "output_type": "execute_result"
    }
   ],
   "source": [
    "data['age_type'].value_counts()"
   ]
  },
  {
   "cell_type": "markdown",
   "metadata": {},
   "source": [
    "### Рост"
   ]
  },
  {
   "cell_type": "markdown",
   "metadata": {},
   "source": [
    "предсказываем рост виду спорта и части света происхождения спортсмена / медиана"
   ]
  },
  {
   "cell_type": "code",
   "execution_count": 30,
   "metadata": {},
   "outputs": [
    {
     "data": {
      "text/html": [
       "<div>\n",
       "<style scoped>\n",
       "    .dataframe tbody tr th:only-of-type {\n",
       "        vertical-align: middle;\n",
       "    }\n",
       "\n",
       "    .dataframe tbody tr th {\n",
       "        vertical-align: top;\n",
       "    }\n",
       "\n",
       "    .dataframe thead th {\n",
       "        text-align: right;\n",
       "    }\n",
       "</style>\n",
       "<table border=\"1\" class=\"dataframe\">\n",
       "  <thead>\n",
       "    <tr style=\"text-align: right;\">\n",
       "      <th></th>\n",
       "      <th>sex</th>\n",
       "      <th>dob</th>\n",
       "      <th>height_x</th>\n",
       "      <th>weight</th>\n",
       "      <th>sport</th>\n",
       "      <th>gold</th>\n",
       "      <th>silver</th>\n",
       "      <th>bronze</th>\n",
       "      <th>Country</th>\n",
       "      <th>Geotype_big</th>\n",
       "      <th>Geotype_small</th>\n",
       "      <th>age_type</th>\n",
       "      <th>height_y</th>\n",
       "    </tr>\n",
       "  </thead>\n",
       "  <tbody>\n",
       "    <tr>\n",
       "      <td>0</td>\n",
       "      <td>male</td>\n",
       "      <td>10/17/69</td>\n",
       "      <td>1.72</td>\n",
       "      <td>64.0</td>\n",
       "      <td>athletics</td>\n",
       "      <td>0</td>\n",
       "      <td>0</td>\n",
       "      <td>0</td>\n",
       "      <td>Spain</td>\n",
       "      <td>Европа</td>\n",
       "      <td>Южная Европа</td>\n",
       "      <td>(1995.0, 29999.0]</td>\n",
       "      <td>1.770</td>\n",
       "    </tr>\n",
       "    <tr>\n",
       "      <td>1</td>\n",
       "      <td>female</td>\n",
       "      <td>9/23/86</td>\n",
       "      <td>1.68</td>\n",
       "      <td>56.0</td>\n",
       "      <td>fencing</td>\n",
       "      <td>0</td>\n",
       "      <td>0</td>\n",
       "      <td>0</td>\n",
       "      <td>Korea, Republic of</td>\n",
       "      <td>Азия</td>\n",
       "      <td>Восточная Азия</td>\n",
       "      <td>(1985.0, 1990.0]</td>\n",
       "      <td>1.760</td>\n",
       "    </tr>\n",
       "    <tr>\n",
       "      <td>2</td>\n",
       "      <td>male</td>\n",
       "      <td>5/27/92</td>\n",
       "      <td>1.98</td>\n",
       "      <td>79.0</td>\n",
       "      <td>athletics</td>\n",
       "      <td>0</td>\n",
       "      <td>0</td>\n",
       "      <td>1</td>\n",
       "      <td>Canada</td>\n",
       "      <td>Америка</td>\n",
       "      <td>Северная Америка</td>\n",
       "      <td>(1990.0, 1995.0]</td>\n",
       "      <td>1.750</td>\n",
       "    </tr>\n",
       "    <tr>\n",
       "      <td>3</td>\n",
       "      <td>male</td>\n",
       "      <td>1/2/91</td>\n",
       "      <td>1.83</td>\n",
       "      <td>80.0</td>\n",
       "      <td>taekwondo</td>\n",
       "      <td>0</td>\n",
       "      <td>0</td>\n",
       "      <td>0</td>\n",
       "      <td>Moldova</td>\n",
       "      <td>Европа</td>\n",
       "      <td>Восточная Европа</td>\n",
       "      <td>(1990.0, 1995.0]</td>\n",
       "      <td>1.785</td>\n",
       "    </tr>\n",
       "    <tr>\n",
       "      <td>4</td>\n",
       "      <td>male</td>\n",
       "      <td>11/26/90</td>\n",
       "      <td>1.81</td>\n",
       "      <td>71.0</td>\n",
       "      <td>cycling</td>\n",
       "      <td>0</td>\n",
       "      <td>0</td>\n",
       "      <td>0</td>\n",
       "      <td>New Zealand</td>\n",
       "      <td>Океания</td>\n",
       "      <td>Австралия и Океания</td>\n",
       "      <td>(1985.0, 1990.0]</td>\n",
       "      <td>1.770</td>\n",
       "    </tr>\n",
       "    <tr>\n",
       "      <td>...</td>\n",
       "      <td>...</td>\n",
       "      <td>...</td>\n",
       "      <td>...</td>\n",
       "      <td>...</td>\n",
       "      <td>...</td>\n",
       "      <td>...</td>\n",
       "      <td>...</td>\n",
       "      <td>...</td>\n",
       "      <td>...</td>\n",
       "      <td>...</td>\n",
       "      <td>...</td>\n",
       "      <td>...</td>\n",
       "      <td>...</td>\n",
       "    </tr>\n",
       "    <tr>\n",
       "      <td>11532</td>\n",
       "      <td>female</td>\n",
       "      <td>8/10/95</td>\n",
       "      <td>1.64</td>\n",
       "      <td>58.0</td>\n",
       "      <td>athletics</td>\n",
       "      <td>0</td>\n",
       "      <td>0</td>\n",
       "      <td>0</td>\n",
       "      <td>Cuba</td>\n",
       "      <td>Америка</td>\n",
       "      <td>Карибский бассейн</td>\n",
       "      <td>(1990.0, 1995.0]</td>\n",
       "      <td>1.750</td>\n",
       "    </tr>\n",
       "    <tr>\n",
       "      <td>11533</td>\n",
       "      <td>female</td>\n",
       "      <td>12/19/86</td>\n",
       "      <td>1.73</td>\n",
       "      <td>63.0</td>\n",
       "      <td>athletics</td>\n",
       "      <td>0</td>\n",
       "      <td>0</td>\n",
       "      <td>0</td>\n",
       "      <td>Czech Republic</td>\n",
       "      <td>Европа</td>\n",
       "      <td>Восточная Европа</td>\n",
       "      <td>(1985.0, 1990.0]</td>\n",
       "      <td>1.770</td>\n",
       "    </tr>\n",
       "    <tr>\n",
       "      <td>11534</td>\n",
       "      <td>male</td>\n",
       "      <td>5/14/91</td>\n",
       "      <td>1.85</td>\n",
       "      <td>100.0</td>\n",
       "      <td>wrestling</td>\n",
       "      <td>0</td>\n",
       "      <td>0</td>\n",
       "      <td>0</td>\n",
       "      <td>China</td>\n",
       "      <td>Азия</td>\n",
       "      <td>Восточная Азия</td>\n",
       "      <td>(1990.0, 1995.0]</td>\n",
       "      <td>1.700</td>\n",
       "    </tr>\n",
       "    <tr>\n",
       "      <td>11535</td>\n",
       "      <td>male</td>\n",
       "      <td>4/5/89</td>\n",
       "      <td>1.60</td>\n",
       "      <td>56.0</td>\n",
       "      <td>weightlifting</td>\n",
       "      <td>0</td>\n",
       "      <td>0</td>\n",
       "      <td>0</td>\n",
       "      <td>Vietnam</td>\n",
       "      <td>Азия</td>\n",
       "      <td>Юго-Восточная Азия</td>\n",
       "      <td>(1985.0, 1990.0]</td>\n",
       "      <td>1.635</td>\n",
       "    </tr>\n",
       "    <tr>\n",
       "      <td>11536</td>\n",
       "      <td>male</td>\n",
       "      <td>1/6/92</td>\n",
       "      <td>1.85</td>\n",
       "      <td>70.0</td>\n",
       "      <td>athletics</td>\n",
       "      <td>0</td>\n",
       "      <td>0</td>\n",
       "      <td>0</td>\n",
       "      <td>South Africa</td>\n",
       "      <td>Африка</td>\n",
       "      <td>Южная Африка</td>\n",
       "      <td>(1990.0, 1995.0]</td>\n",
       "      <td>1.720</td>\n",
       "    </tr>\n",
       "  </tbody>\n",
       "</table>\n",
       "<p>11537 rows × 13 columns</p>\n",
       "</div>"
      ],
      "text/plain": [
       "          sex       dob  height_x  weight          sport  gold  silver  \\\n",
       "0        male  10/17/69      1.72    64.0      athletics     0       0   \n",
       "1      female   9/23/86      1.68    56.0        fencing     0       0   \n",
       "2        male   5/27/92      1.98    79.0      athletics     0       0   \n",
       "3        male    1/2/91      1.83    80.0      taekwondo     0       0   \n",
       "4        male  11/26/90      1.81    71.0        cycling     0       0   \n",
       "...       ...       ...       ...     ...            ...   ...     ...   \n",
       "11532  female   8/10/95      1.64    58.0      athletics     0       0   \n",
       "11533  female  12/19/86      1.73    63.0      athletics     0       0   \n",
       "11534    male   5/14/91      1.85   100.0      wrestling     0       0   \n",
       "11535    male    4/5/89      1.60    56.0  weightlifting     0       0   \n",
       "11536    male    1/6/92      1.85    70.0      athletics     0       0   \n",
       "\n",
       "       bronze             Country Geotype_big        Geotype_small  \\\n",
       "0           0               Spain      Европа         Южная Европа   \n",
       "1           0  Korea, Republic of        Азия       Восточная Азия   \n",
       "2           1              Canada     Америка     Северная Америка   \n",
       "3           0             Moldova      Европа     Восточная Европа   \n",
       "4           0         New Zealand     Океания  Австралия и Океания   \n",
       "...       ...                 ...         ...                  ...   \n",
       "11532       0                Cuba     Америка    Карибский бассейн   \n",
       "11533       0      Czech Republic      Европа     Восточная Европа   \n",
       "11534       0               China        Азия       Восточная Азия   \n",
       "11535       0             Vietnam        Азия   Юго-Восточная Азия   \n",
       "11536       0        South Africa      Африка         Южная Африка   \n",
       "\n",
       "                age_type  height_y  \n",
       "0      (1995.0, 29999.0]     1.770  \n",
       "1       (1985.0, 1990.0]     1.760  \n",
       "2       (1990.0, 1995.0]     1.750  \n",
       "3       (1990.0, 1995.0]     1.785  \n",
       "4       (1985.0, 1990.0]     1.770  \n",
       "...                  ...       ...  \n",
       "11532   (1990.0, 1995.0]     1.750  \n",
       "11533   (1985.0, 1990.0]     1.770  \n",
       "11534   (1990.0, 1995.0]     1.700  \n",
       "11535   (1985.0, 1990.0]     1.635  \n",
       "11536   (1990.0, 1995.0]     1.720  \n",
       "\n",
       "[11537 rows x 13 columns]"
      ]
     },
     "execution_count": 30,
     "metadata": {},
     "output_type": "execute_result"
    }
   ],
   "source": [
    "h1 = data.groupby(['sport', 'Geotype_big']).height.median()\n",
    "data1 = pd.merge(data, h1, how ='left', on = ['sport', 'Geotype_big']) \n",
    "data1"
   ]
  },
  {
   "cell_type": "code",
   "execution_count": 31,
   "metadata": {},
   "outputs": [
    {
     "data": {
      "text/plain": [
       "0.009490216809421841"
      ]
     },
     "execution_count": 31,
     "metadata": {},
     "output_type": "execute_result"
    }
   ],
   "source": [
    "from sklearn.metrics import mean_squared_error \n",
    "\n",
    "Yh_true = data1[data1.height_x >0].height_x\n",
    "Yh_pred = data1[data1.height_x >0].height_y\n",
    "\n",
    "mean_squared_error(Yh_true,Yh_pred)"
   ]
  },
  {
   "cell_type": "code",
   "execution_count": 32,
   "metadata": {},
   "outputs": [
    {
     "data": {
      "text/html": [
       "<div>\n",
       "<style scoped>\n",
       "    .dataframe tbody tr th:only-of-type {\n",
       "        vertical-align: middle;\n",
       "    }\n",
       "\n",
       "    .dataframe tbody tr th {\n",
       "        vertical-align: top;\n",
       "    }\n",
       "\n",
       "    .dataframe thead th {\n",
       "        text-align: right;\n",
       "    }\n",
       "</style>\n",
       "<table border=\"1\" class=\"dataframe\">\n",
       "  <thead>\n",
       "    <tr style=\"text-align: right;\">\n",
       "      <th></th>\n",
       "      <th>sex</th>\n",
       "      <th>height_x</th>\n",
       "      <th>weight</th>\n",
       "      <th>sport</th>\n",
       "      <th>gold</th>\n",
       "      <th>silver</th>\n",
       "      <th>bronze</th>\n",
       "      <th>Country</th>\n",
       "      <th>Geotype_big</th>\n",
       "      <th>Geotype_small</th>\n",
       "      <th>age_type</th>\n",
       "    </tr>\n",
       "  </thead>\n",
       "  <tbody>\n",
       "    <tr>\n",
       "      <td>0</td>\n",
       "      <td>male</td>\n",
       "      <td>1.72</td>\n",
       "      <td>64.0</td>\n",
       "      <td>athletics</td>\n",
       "      <td>0</td>\n",
       "      <td>0</td>\n",
       "      <td>0</td>\n",
       "      <td>Spain</td>\n",
       "      <td>Европа</td>\n",
       "      <td>Южная Европа</td>\n",
       "      <td>(1995.0, 29999.0]</td>\n",
       "    </tr>\n",
       "  </tbody>\n",
       "</table>\n",
       "</div>"
      ],
      "text/plain": [
       "    sex  height_x  weight      sport  gold  silver  bronze Country  \\\n",
       "0  male      1.72    64.0  athletics     0       0       0   Spain   \n",
       "\n",
       "  Geotype_big Geotype_small           age_type  \n",
       "0      Европа  Южная Европа  (1995.0, 29999.0]  "
      ]
     },
     "execution_count": 32,
     "metadata": {},
     "output_type": "execute_result"
    }
   ],
   "source": [
    "data1.loc[data1.height_x.isna(), 'height_x'] = data1.height_y\n",
    "data1 = data1.iloc[:,[0,2,3,4,5,6,7,8,9,10,11]]\n",
    "data1.head(1)"
   ]
  },
  {
   "cell_type": "code",
   "execution_count": 33,
   "metadata": {},
   "outputs": [
    {
     "name": "stderr",
     "output_type": "stream",
     "text": [
      "C:\\Users\\admin\\Anaconda3\\lib\\site-packages\\ipykernel_launcher.py:3: SettingWithCopyWarning: \n",
      "A value is trying to be set on a copy of a slice from a DataFrame.\n",
      "Try using .loc[row_indexer,col_indexer] = value instead\n",
      "\n",
      "See the caveats in the documentation: http://pandas.pydata.org/pandas-docs/stable/user_guide/indexing.html#returning-a-view-versus-a-copy\n",
      "  This is separate from the ipykernel package so we can avoid doing imports until\n"
     ]
    }
   ],
   "source": [
    "data1['heigh_type']  = pd.cut(data1.height_x, \n",
    "                              [0, 1.6, 1.7, 1.8, 1.9, 2.0, 3.00], \n",
    "                               include_lowest=True)"
   ]
  },
  {
   "cell_type": "code",
   "execution_count": 34,
   "metadata": {},
   "outputs": [
    {
     "data": {
      "text/plain": [
       "(1.7, 1.8]       3976\n",
       "(1.6, 1.7]       2805\n",
       "(1.8, 1.9]       2683\n",
       "(1.9, 2.0]       1045\n",
       "(-0.001, 1.6]     801\n",
       "(2.0, 3.0]        227\n",
       "Name: heigh_type, dtype: int64"
      ]
     },
     "execution_count": 34,
     "metadata": {},
     "output_type": "execute_result"
    }
   ],
   "source": [
    "data1['heigh_type'].value_counts()"
   ]
  },
  {
   "cell_type": "markdown",
   "metadata": {},
   "source": [
    "Предсказываем вес по медиане  .... "
   ]
  },
  {
   "cell_type": "code",
   "execution_count": 35,
   "metadata": {},
   "outputs": [
    {
     "data": {
      "text/html": [
       "<div>\n",
       "<style scoped>\n",
       "    .dataframe tbody tr th:only-of-type {\n",
       "        vertical-align: middle;\n",
       "    }\n",
       "\n",
       "    .dataframe tbody tr th {\n",
       "        vertical-align: top;\n",
       "    }\n",
       "\n",
       "    .dataframe thead th {\n",
       "        text-align: right;\n",
       "    }\n",
       "</style>\n",
       "<table border=\"1\" class=\"dataframe\">\n",
       "  <thead>\n",
       "    <tr style=\"text-align: right;\">\n",
       "      <th></th>\n",
       "      <th>sex</th>\n",
       "      <th>height_x</th>\n",
       "      <th>weight_x</th>\n",
       "      <th>sport</th>\n",
       "      <th>gold</th>\n",
       "      <th>silver</th>\n",
       "      <th>bronze</th>\n",
       "      <th>Country</th>\n",
       "      <th>Geotype_big</th>\n",
       "      <th>Geotype_small</th>\n",
       "      <th>age_type</th>\n",
       "      <th>heigh_type</th>\n",
       "      <th>weight_y</th>\n",
       "    </tr>\n",
       "  </thead>\n",
       "  <tbody>\n",
       "    <tr>\n",
       "      <td>0</td>\n",
       "      <td>male</td>\n",
       "      <td>1.72</td>\n",
       "      <td>64.0</td>\n",
       "      <td>athletics</td>\n",
       "      <td>0</td>\n",
       "      <td>0</td>\n",
       "      <td>0</td>\n",
       "      <td>Spain</td>\n",
       "      <td>Европа</td>\n",
       "      <td>Южная Европа</td>\n",
       "      <td>(1995.0, 29999.0]</td>\n",
       "      <td>(1.7, 1.8]</td>\n",
       "      <td>63.0</td>\n",
       "    </tr>\n",
       "    <tr>\n",
       "      <td>1</td>\n",
       "      <td>female</td>\n",
       "      <td>1.68</td>\n",
       "      <td>56.0</td>\n",
       "      <td>fencing</td>\n",
       "      <td>0</td>\n",
       "      <td>0</td>\n",
       "      <td>0</td>\n",
       "      <td>Korea, Republic of</td>\n",
       "      <td>Азия</td>\n",
       "      <td>Восточная Азия</td>\n",
       "      <td>(1985.0, 1990.0]</td>\n",
       "      <td>(1.6, 1.7]</td>\n",
       "      <td>59.0</td>\n",
       "    </tr>\n",
       "    <tr>\n",
       "      <td>2</td>\n",
       "      <td>male</td>\n",
       "      <td>1.98</td>\n",
       "      <td>79.0</td>\n",
       "      <td>athletics</td>\n",
       "      <td>0</td>\n",
       "      <td>0</td>\n",
       "      <td>1</td>\n",
       "      <td>Canada</td>\n",
       "      <td>Америка</td>\n",
       "      <td>Северная Америка</td>\n",
       "      <td>(1990.0, 1995.0]</td>\n",
       "      <td>(1.9, 2.0]</td>\n",
       "      <td>88.0</td>\n",
       "    </tr>\n",
       "    <tr>\n",
       "      <td>3</td>\n",
       "      <td>male</td>\n",
       "      <td>1.83</td>\n",
       "      <td>80.0</td>\n",
       "      <td>taekwondo</td>\n",
       "      <td>0</td>\n",
       "      <td>0</td>\n",
       "      <td>0</td>\n",
       "      <td>Moldova</td>\n",
       "      <td>Европа</td>\n",
       "      <td>Восточная Европа</td>\n",
       "      <td>(1990.0, 1995.0]</td>\n",
       "      <td>(1.8, 1.9]</td>\n",
       "      <td>80.0</td>\n",
       "    </tr>\n",
       "    <tr>\n",
       "      <td>4</td>\n",
       "      <td>male</td>\n",
       "      <td>1.81</td>\n",
       "      <td>71.0</td>\n",
       "      <td>cycling</td>\n",
       "      <td>0</td>\n",
       "      <td>0</td>\n",
       "      <td>0</td>\n",
       "      <td>New Zealand</td>\n",
       "      <td>Океания</td>\n",
       "      <td>Австралия и Океания</td>\n",
       "      <td>(1985.0, 1990.0]</td>\n",
       "      <td>(1.8, 1.9]</td>\n",
       "      <td>77.5</td>\n",
       "    </tr>\n",
       "  </tbody>\n",
       "</table>\n",
       "</div>"
      ],
      "text/plain": [
       "      sex  height_x  weight_x      sport  gold  silver  bronze  \\\n",
       "0    male      1.72      64.0  athletics     0       0       0   \n",
       "1  female      1.68      56.0    fencing     0       0       0   \n",
       "2    male      1.98      79.0  athletics     0       0       1   \n",
       "3    male      1.83      80.0  taekwondo     0       0       0   \n",
       "4    male      1.81      71.0    cycling     0       0       0   \n",
       "\n",
       "              Country Geotype_big        Geotype_small           age_type  \\\n",
       "0               Spain      Европа         Южная Европа  (1995.0, 29999.0]   \n",
       "1  Korea, Republic of        Азия       Восточная Азия   (1985.0, 1990.0]   \n",
       "2              Canada     Америка     Северная Америка   (1990.0, 1995.0]   \n",
       "3             Moldova      Европа     Восточная Европа   (1990.0, 1995.0]   \n",
       "4         New Zealand     Океания  Австралия и Океания   (1985.0, 1990.0]   \n",
       "\n",
       "   heigh_type  weight_y  \n",
       "0  (1.7, 1.8]      63.0  \n",
       "1  (1.6, 1.7]      59.0  \n",
       "2  (1.9, 2.0]      88.0  \n",
       "3  (1.8, 1.9]      80.0  \n",
       "4  (1.8, 1.9]      77.5  "
      ]
     },
     "execution_count": 35,
     "metadata": {},
     "output_type": "execute_result"
    }
   ],
   "source": [
    "params = ['Geotype_small', 'sport', 'heigh_type']\n",
    "w1    = data1.groupby(params).weight.median()\n",
    "data2 = pd.merge(data1, w1, how ='left', on = params) \n",
    "data2.head()"
   ]
  },
  {
   "cell_type": "code",
   "execution_count": 36,
   "metadata": {},
   "outputs": [],
   "source": [
    "data2.loc[data2.weight_x.isna(), 'weight_x'] = data2.weight_y"
   ]
  },
  {
   "cell_type": "code",
   "execution_count": 37,
   "metadata": {},
   "outputs": [
    {
     "data": {
      "text/plain": [
       "boxing       286\n",
       "badminton      2\n",
       "rowing         1\n",
       "golf           1\n",
       "judo           1\n",
       "Name: sport, dtype: int64"
      ]
     },
     "execution_count": 37,
     "metadata": {},
     "output_type": "execute_result"
    }
   ],
   "source": [
    "data2.loc[data2.weight_x.isna()].sport.value_counts()"
   ]
  },
  {
   "cell_type": "code",
   "execution_count": 38,
   "metadata": {},
   "outputs": [
    {
     "data": {
      "text/html": [
       "<div>\n",
       "<style scoped>\n",
       "    .dataframe tbody tr th:only-of-type {\n",
       "        vertical-align: middle;\n",
       "    }\n",
       "\n",
       "    .dataframe tbody tr th {\n",
       "        vertical-align: top;\n",
       "    }\n",
       "\n",
       "    .dataframe thead th {\n",
       "        text-align: right;\n",
       "    }\n",
       "</style>\n",
       "<table border=\"1\" class=\"dataframe\">\n",
       "  <thead>\n",
       "    <tr style=\"text-align: right;\">\n",
       "      <th></th>\n",
       "      <th>sex</th>\n",
       "      <th>height_x</th>\n",
       "      <th>weight_x_x</th>\n",
       "      <th>sport</th>\n",
       "      <th>gold</th>\n",
       "      <th>silver</th>\n",
       "      <th>bronze</th>\n",
       "      <th>Country</th>\n",
       "      <th>Geotype_big</th>\n",
       "      <th>Geotype_small</th>\n",
       "      <th>age_type</th>\n",
       "      <th>heigh_type</th>\n",
       "      <th>weight_y</th>\n",
       "      <th>weight_x_y</th>\n",
       "    </tr>\n",
       "  </thead>\n",
       "  <tbody>\n",
       "    <tr>\n",
       "      <td>0</td>\n",
       "      <td>male</td>\n",
       "      <td>1.72</td>\n",
       "      <td>64.0</td>\n",
       "      <td>athletics</td>\n",
       "      <td>0</td>\n",
       "      <td>0</td>\n",
       "      <td>0</td>\n",
       "      <td>Spain</td>\n",
       "      <td>Европа</td>\n",
       "      <td>Южная Европа</td>\n",
       "      <td>(1995.0, 29999.0]</td>\n",
       "      <td>(1.7, 1.8]</td>\n",
       "      <td>63.0</td>\n",
       "      <td>69.0</td>\n",
       "    </tr>\n",
       "    <tr>\n",
       "      <td>1</td>\n",
       "      <td>female</td>\n",
       "      <td>1.68</td>\n",
       "      <td>56.0</td>\n",
       "      <td>fencing</td>\n",
       "      <td>0</td>\n",
       "      <td>0</td>\n",
       "      <td>0</td>\n",
       "      <td>Korea, Republic of</td>\n",
       "      <td>Азия</td>\n",
       "      <td>Восточная Азия</td>\n",
       "      <td>(1985.0, 1990.0]</td>\n",
       "      <td>(1.6, 1.7]</td>\n",
       "      <td>59.0</td>\n",
       "      <td>59.0</td>\n",
       "    </tr>\n",
       "    <tr>\n",
       "      <td>2</td>\n",
       "      <td>male</td>\n",
       "      <td>1.98</td>\n",
       "      <td>79.0</td>\n",
       "      <td>athletics</td>\n",
       "      <td>0</td>\n",
       "      <td>0</td>\n",
       "      <td>1</td>\n",
       "      <td>Canada</td>\n",
       "      <td>Америка</td>\n",
       "      <td>Северная Америка</td>\n",
       "      <td>(1990.0, 1995.0]</td>\n",
       "      <td>(1.9, 2.0]</td>\n",
       "      <td>88.0</td>\n",
       "      <td>88.0</td>\n",
       "    </tr>\n",
       "    <tr>\n",
       "      <td>3</td>\n",
       "      <td>male</td>\n",
       "      <td>1.83</td>\n",
       "      <td>80.0</td>\n",
       "      <td>taekwondo</td>\n",
       "      <td>0</td>\n",
       "      <td>0</td>\n",
       "      <td>0</td>\n",
       "      <td>Moldova</td>\n",
       "      <td>Европа</td>\n",
       "      <td>Восточная Европа</td>\n",
       "      <td>(1990.0, 1995.0]</td>\n",
       "      <td>(1.8, 1.9]</td>\n",
       "      <td>80.0</td>\n",
       "      <td>80.0</td>\n",
       "    </tr>\n",
       "    <tr>\n",
       "      <td>4</td>\n",
       "      <td>male</td>\n",
       "      <td>1.81</td>\n",
       "      <td>71.0</td>\n",
       "      <td>cycling</td>\n",
       "      <td>0</td>\n",
       "      <td>0</td>\n",
       "      <td>0</td>\n",
       "      <td>New Zealand</td>\n",
       "      <td>Океания</td>\n",
       "      <td>Австралия и Океания</td>\n",
       "      <td>(1985.0, 1990.0]</td>\n",
       "      <td>(1.8, 1.9]</td>\n",
       "      <td>77.5</td>\n",
       "      <td>81.0</td>\n",
       "    </tr>\n",
       "  </tbody>\n",
       "</table>\n",
       "</div>"
      ],
      "text/plain": [
       "      sex  height_x  weight_x_x      sport  gold  silver  bronze  \\\n",
       "0    male      1.72        64.0  athletics     0       0       0   \n",
       "1  female      1.68        56.0    fencing     0       0       0   \n",
       "2    male      1.98        79.0  athletics     0       0       1   \n",
       "3    male      1.83        80.0  taekwondo     0       0       0   \n",
       "4    male      1.81        71.0    cycling     0       0       0   \n",
       "\n",
       "              Country Geotype_big        Geotype_small           age_type  \\\n",
       "0               Spain      Европа         Южная Европа  (1995.0, 29999.0]   \n",
       "1  Korea, Republic of        Азия       Восточная Азия   (1985.0, 1990.0]   \n",
       "2              Canada     Америка     Северная Америка   (1990.0, 1995.0]   \n",
       "3             Moldova      Европа     Восточная Европа   (1990.0, 1995.0]   \n",
       "4         New Zealand     Океания  Австралия и Океания   (1985.0, 1990.0]   \n",
       "\n",
       "   heigh_type  weight_y  weight_x_y  \n",
       "0  (1.7, 1.8]      63.0        69.0  \n",
       "1  (1.6, 1.7]      59.0        59.0  \n",
       "2  (1.9, 2.0]      88.0        88.0  \n",
       "3  (1.8, 1.9]      80.0        80.0  \n",
       "4  (1.8, 1.9]      77.5        81.0  "
      ]
     },
     "execution_count": 38,
     "metadata": {},
     "output_type": "execute_result"
    }
   ],
   "source": [
    "params = ['Geotype_small', 'heigh_type']\n",
    "w2    = data2.groupby(params).weight_x.median()\n",
    "data2 = pd.merge(data2, w2, how ='left', on = params) \n",
    "data2.head()"
   ]
  },
  {
   "cell_type": "code",
   "execution_count": 39,
   "metadata": {},
   "outputs": [],
   "source": [
    "data2.loc[data2.weight_x_x.isna(), 'weight_x_x'] = data2.weight_x_y"
   ]
  },
  {
   "cell_type": "markdown",
   "metadata": {},
   "source": [
    "### Нормализуем данные"
   ]
  },
  {
   "cell_type": "code",
   "execution_count": 40,
   "metadata": {},
   "outputs": [],
   "source": [
    "from sklearn import preprocessing\n",
    "headers           = list(data2.iloc[:,[1,2]].columns.values)\n",
    "min_max_scaler    = preprocessing.MinMaxScaler(feature_range=(-1,1))\n",
    "data_scaled       = min_max_scaler.fit_transform(data2.iloc[:,[1,2]])\n",
    "data_norm         = pd.DataFrame(data_scaled)\n",
    "data_norm.columns = headers\n",
    "\n",
    "data2 = data2.merge(data_norm, how = 'left', left_on = data.index, right_on=data_norm.index)\n"
   ]
  },
  {
   "cell_type": "code",
   "execution_count": 41,
   "metadata": {},
   "outputs": [
    {
     "data": {
      "text/html": [
       "<div>\n",
       "<style scoped>\n",
       "    .dataframe tbody tr th:only-of-type {\n",
       "        vertical-align: middle;\n",
       "    }\n",
       "\n",
       "    .dataframe tbody tr th {\n",
       "        vertical-align: top;\n",
       "    }\n",
       "\n",
       "    .dataframe thead th {\n",
       "        text-align: right;\n",
       "    }\n",
       "</style>\n",
       "<table border=\"1\" class=\"dataframe\">\n",
       "  <thead>\n",
       "    <tr style=\"text-align: right;\">\n",
       "      <th></th>\n",
       "      <th>sex</th>\n",
       "      <th>sport</th>\n",
       "      <th>gold</th>\n",
       "      <th>silver</th>\n",
       "      <th>bronze</th>\n",
       "      <th>Country</th>\n",
       "      <th>Geotype_big</th>\n",
       "      <th>Geotype_small</th>\n",
       "      <th>age_type</th>\n",
       "      <th>height_x_y</th>\n",
       "      <th>weight_x_x_y</th>\n",
       "    </tr>\n",
       "  </thead>\n",
       "  <tbody>\n",
       "    <tr>\n",
       "      <td>0</td>\n",
       "      <td>male</td>\n",
       "      <td>athletics</td>\n",
       "      <td>0</td>\n",
       "      <td>0</td>\n",
       "      <td>0</td>\n",
       "      <td>Spain</td>\n",
       "      <td>Европа</td>\n",
       "      <td>Южная Европа</td>\n",
       "      <td>(1995.0, 29999.0]</td>\n",
       "      <td>0.02</td>\n",
       "      <td>-0.525180</td>\n",
       "    </tr>\n",
       "    <tr>\n",
       "      <td>1</td>\n",
       "      <td>female</td>\n",
       "      <td>fencing</td>\n",
       "      <td>0</td>\n",
       "      <td>0</td>\n",
       "      <td>0</td>\n",
       "      <td>Korea, Republic of</td>\n",
       "      <td>Азия</td>\n",
       "      <td>Восточная Азия</td>\n",
       "      <td>(1985.0, 1990.0]</td>\n",
       "      <td>-0.06</td>\n",
       "      <td>-0.640288</td>\n",
       "    </tr>\n",
       "    <tr>\n",
       "      <td>2</td>\n",
       "      <td>male</td>\n",
       "      <td>athletics</td>\n",
       "      <td>0</td>\n",
       "      <td>0</td>\n",
       "      <td>1</td>\n",
       "      <td>Canada</td>\n",
       "      <td>Америка</td>\n",
       "      <td>Северная Америка</td>\n",
       "      <td>(1990.0, 1995.0]</td>\n",
       "      <td>0.54</td>\n",
       "      <td>-0.309353</td>\n",
       "    </tr>\n",
       "    <tr>\n",
       "      <td>3</td>\n",
       "      <td>male</td>\n",
       "      <td>taekwondo</td>\n",
       "      <td>0</td>\n",
       "      <td>0</td>\n",
       "      <td>0</td>\n",
       "      <td>Moldova</td>\n",
       "      <td>Европа</td>\n",
       "      <td>Восточная Европа</td>\n",
       "      <td>(1990.0, 1995.0]</td>\n",
       "      <td>0.24</td>\n",
       "      <td>-0.294964</td>\n",
       "    </tr>\n",
       "    <tr>\n",
       "      <td>4</td>\n",
       "      <td>male</td>\n",
       "      <td>cycling</td>\n",
       "      <td>0</td>\n",
       "      <td>0</td>\n",
       "      <td>0</td>\n",
       "      <td>New Zealand</td>\n",
       "      <td>Океания</td>\n",
       "      <td>Австралия и Океания</td>\n",
       "      <td>(1985.0, 1990.0]</td>\n",
       "      <td>0.20</td>\n",
       "      <td>-0.424460</td>\n",
       "    </tr>\n",
       "    <tr>\n",
       "      <td>...</td>\n",
       "      <td>...</td>\n",
       "      <td>...</td>\n",
       "      <td>...</td>\n",
       "      <td>...</td>\n",
       "      <td>...</td>\n",
       "      <td>...</td>\n",
       "      <td>...</td>\n",
       "      <td>...</td>\n",
       "      <td>...</td>\n",
       "      <td>...</td>\n",
       "      <td>...</td>\n",
       "    </tr>\n",
       "    <tr>\n",
       "      <td>11532</td>\n",
       "      <td>female</td>\n",
       "      <td>athletics</td>\n",
       "      <td>0</td>\n",
       "      <td>0</td>\n",
       "      <td>0</td>\n",
       "      <td>Cuba</td>\n",
       "      <td>Америка</td>\n",
       "      <td>Карибский бассейн</td>\n",
       "      <td>(1990.0, 1995.0]</td>\n",
       "      <td>-0.14</td>\n",
       "      <td>-0.611511</td>\n",
       "    </tr>\n",
       "    <tr>\n",
       "      <td>11533</td>\n",
       "      <td>female</td>\n",
       "      <td>athletics</td>\n",
       "      <td>0</td>\n",
       "      <td>0</td>\n",
       "      <td>0</td>\n",
       "      <td>Czech Republic</td>\n",
       "      <td>Европа</td>\n",
       "      <td>Восточная Европа</td>\n",
       "      <td>(1985.0, 1990.0]</td>\n",
       "      <td>0.04</td>\n",
       "      <td>-0.539568</td>\n",
       "    </tr>\n",
       "    <tr>\n",
       "      <td>11534</td>\n",
       "      <td>male</td>\n",
       "      <td>wrestling</td>\n",
       "      <td>0</td>\n",
       "      <td>0</td>\n",
       "      <td>0</td>\n",
       "      <td>China</td>\n",
       "      <td>Азия</td>\n",
       "      <td>Восточная Азия</td>\n",
       "      <td>(1990.0, 1995.0]</td>\n",
       "      <td>0.28</td>\n",
       "      <td>-0.007194</td>\n",
       "    </tr>\n",
       "    <tr>\n",
       "      <td>11535</td>\n",
       "      <td>male</td>\n",
       "      <td>weightlifting</td>\n",
       "      <td>0</td>\n",
       "      <td>0</td>\n",
       "      <td>0</td>\n",
       "      <td>Vietnam</td>\n",
       "      <td>Азия</td>\n",
       "      <td>Юго-Восточная Азия</td>\n",
       "      <td>(1985.0, 1990.0]</td>\n",
       "      <td>-0.22</td>\n",
       "      <td>-0.640288</td>\n",
       "    </tr>\n",
       "    <tr>\n",
       "      <td>11536</td>\n",
       "      <td>male</td>\n",
       "      <td>athletics</td>\n",
       "      <td>0</td>\n",
       "      <td>0</td>\n",
       "      <td>0</td>\n",
       "      <td>South Africa</td>\n",
       "      <td>Африка</td>\n",
       "      <td>Южная Африка</td>\n",
       "      <td>(1990.0, 1995.0]</td>\n",
       "      <td>0.28</td>\n",
       "      <td>-0.438849</td>\n",
       "    </tr>\n",
       "  </tbody>\n",
       "</table>\n",
       "<p>11537 rows × 11 columns</p>\n",
       "</div>"
      ],
      "text/plain": [
       "          sex          sport  gold  silver  bronze             Country  \\\n",
       "0        male      athletics     0       0       0               Spain   \n",
       "1      female        fencing     0       0       0  Korea, Republic of   \n",
       "2        male      athletics     0       0       1              Canada   \n",
       "3        male      taekwondo     0       0       0             Moldova   \n",
       "4        male        cycling     0       0       0         New Zealand   \n",
       "...       ...            ...   ...     ...     ...                 ...   \n",
       "11532  female      athletics     0       0       0                Cuba   \n",
       "11533  female      athletics     0       0       0      Czech Republic   \n",
       "11534    male      wrestling     0       0       0               China   \n",
       "11535    male  weightlifting     0       0       0             Vietnam   \n",
       "11536    male      athletics     0       0       0        South Africa   \n",
       "\n",
       "      Geotype_big        Geotype_small           age_type  height_x_y  \\\n",
       "0          Европа         Южная Европа  (1995.0, 29999.0]        0.02   \n",
       "1            Азия       Восточная Азия   (1985.0, 1990.0]       -0.06   \n",
       "2         Америка     Северная Америка   (1990.0, 1995.0]        0.54   \n",
       "3          Европа     Восточная Европа   (1990.0, 1995.0]        0.24   \n",
       "4         Океания  Австралия и Океания   (1985.0, 1990.0]        0.20   \n",
       "...           ...                  ...                ...         ...   \n",
       "11532     Америка    Карибский бассейн   (1990.0, 1995.0]       -0.14   \n",
       "11533      Европа     Восточная Европа   (1985.0, 1990.0]        0.04   \n",
       "11534        Азия       Восточная Азия   (1990.0, 1995.0]        0.28   \n",
       "11535        Азия   Юго-Восточная Азия   (1985.0, 1990.0]       -0.22   \n",
       "11536      Африка         Южная Африка   (1990.0, 1995.0]        0.28   \n",
       "\n",
       "       weight_x_x_y  \n",
       "0         -0.525180  \n",
       "1         -0.640288  \n",
       "2         -0.309353  \n",
       "3         -0.294964  \n",
       "4         -0.424460  \n",
       "...             ...  \n",
       "11532     -0.611511  \n",
       "11533     -0.539568  \n",
       "11534     -0.007194  \n",
       "11535     -0.640288  \n",
       "11536     -0.438849  \n",
       "\n",
       "[11537 rows x 11 columns]"
      ]
     },
     "execution_count": 41,
     "metadata": {},
     "output_type": "execute_result"
    }
   ],
   "source": [
    "data2 = data2.iloc[:,[1,4,5,6,7,8,9,10,11,15,16]]\n",
    "data2"
   ]
  },
  {
   "cell_type": "code",
   "execution_count": 44,
   "metadata": {},
   "outputs": [
    {
     "data": {
      "text/plain": [
       "(5.0, 0.0)"
      ]
     },
     "execution_count": 44,
     "metadata": {},
     "output_type": "execute_result"
    },
    {
     "data": {
      "image/png": "[encoded data removed]",
      "text/plain": [
       "<Figure size 360x360 with 2 Axes>"
      ]
     },
     "metadata": {},
     "output_type": "display_data"
    }
   ],
   "source": [
    "sns.set(rc={'figure.figsize':(5,5)})\n",
    "ax = sns.heatmap(data2.corr().round(3),  \n",
    "                annot = True, \n",
    "                fmt='.3g', \n",
    "                cmap= 'YlGnBu', \n",
    "                linewidths=0.1, \n",
    "                linecolor='black', \n",
    "                square=True)\n",
    "\n",
    "plt.title('Матрица корреляций ключевых параметров датасета')\n",
    "plt.xticks(rotation=45)\n",
    "plt.yticks(rotation=45)\n",
    "i, k = ax.get_ylim()\n",
    "ax.set_ylim(i+0.5, k-0.5)"
   ]
  },
  {
   "cell_type": "markdown",
   "metadata": {},
   "source": [
    "Не могу объяснить корелляцию между ростом и весом,  интуитивно - так не может быть ... или это выборка по видам спорта особенная\n"
   ]
  },
  {
   "cell_type": "markdown",
   "metadata": {},
   "source": [
    "### Строим модель"
   ]
  },
  {
   "cell_type": "code",
   "execution_count": 45,
   "metadata": {},
   "outputs": [],
   "source": [
    "from sklearn.linear_model import LogisticRegression\n",
    "from sklearn.model_selection import train_test_split\n",
    "from sklearn.preprocessing import LabelEncoder, OneHotEncoder\n",
    "\n",
    "from sklearn.metrics import roc_curve, roc_auc_score\n",
    "from matplotlib import pyplot as plt"
   ]
  },
  {
   "cell_type": "code",
   "execution_count": 46,
   "metadata": {},
   "outputs": [],
   "source": [
    "X          = pd.get_dummies(data=data2.iloc[:,[1,5,9,10]], columns=['sport', 'Country'])\n",
    "y          = data2['sex']\n",
    "\n",
    "le         = LabelEncoder()\n",
    "ohe        = OneHotEncoder()\n",
    "le.fit(      data2['sex'])\n",
    "y          = pd.Series( data = le.transform( data['sex'] ) )\n",
    "model      = LogisticRegression(max_iter=100000)\n",
    "\n",
    "X_train, X_test, y_train, y_test = train_test_split(X, y, test_size=0.3, random_state=10000)\n",
    "model.fit(X_train, y_train)\n",
    "\n",
    "predictions     = model.predict_proba(X_test)[:, 1]\n",
    "fpr, tpr, thres = roc_curve( y_test, predictions)"
   ]
  },
  {
   "cell_type": "code",
   "execution_count": 47,
   "metadata": {},
   "outputs": [
    {
     "data": {
      "text/plain": [
       "0.83487908468406"
      ]
     },
     "execution_count": 47,
     "metadata": {},
     "output_type": "execute_result"
    }
   ],
   "source": [
    "model.score(X, y)"
   ]
  },
  {
   "cell_type": "code",
   "execution_count": 48,
   "metadata": {},
   "outputs": [
    {
     "data": {
      "image/png": "[encoded data removed]",
      "text/plain": [
       "<Figure size 360x288 with 1 Axes>"
      ]
     },
     "metadata": {},
     "output_type": "display_data"
    }
   ],
   "source": [
    "sns.set(font_scale=1.5)\n",
    "sns.set_color_codes(\"muted\")\n",
    "\n",
    "plt.figure(figsize=(5, 4))\n",
    "fpr, tpr, thresholds = roc_curve(y_test, model.predict_proba(X_test)[:,1], pos_label=1)\n",
    "lw = 2\n",
    "plt.plot(fpr, tpr, lw=lw, label='ROC curve ')\n",
    "plt.plot([0, 1], [0, 1])\n",
    "plt.xlim([0.0, 1.0])\n",
    "plt.ylim([0.0, 1.05])\n",
    "plt.xlabel('False Positive Rate')\n",
    "plt.ylabel('True Positive Rate')\n",
    "plt.title('ROC curve')\n",
    "plt.savefig(\"ROC.png\")\n",
    "plt.show()"
   ]
  },
  {
   "cell_type": "code",
   "execution_count": 49,
   "metadata": {},
   "outputs": [
    {
     "data": {
      "text/plain": [
       "0.9015858812585942"
      ]
     },
     "execution_count": 49,
     "metadata": {},
     "output_type": "execute_result"
    }
   ],
   "source": [
    "roc_auc_score(y_test, predictions)"
   ]
  },
  {
   "cell_type": "code",
   "execution_count": 50,
   "metadata": {},
   "outputs": [
    {
     "data": {
      "text/plain": [
       "0.8219172126506512"
      ]
     },
     "execution_count": 50,
     "metadata": {},
     "output_type": "execute_result"
    }
   ],
   "source": [
    "roc_auc_score(y_test, model.predict(X_test))"
   ]
  },
  {
   "cell_type": "code",
   "execution_count": null,
   "metadata": {},
   "outputs": [],
   "source": []
  },
  {
   "cell_type": "code",
   "execution_count": 52,
   "metadata": {},
   "outputs": [],
   "source": [
    "tp = 0 # True positive\n",
    "fp = 0 # False positive\n",
    "fn = 0 # False negative\n",
    "tn = 0 # True negative\n",
    "\n",
    "predictions = model.predict_proba( X_test )\n",
    "for predicted_prob, actual in zip( predictions[:, 1], y_test ):    \n",
    "    if predicted_prob >= 0.5:\n",
    "        predicted = 1\n",
    "    else:\n",
    "        predicted = 0\n",
    "    \n",
    "    if predicted == 1:\n",
    "        if actual == 1:\n",
    "            tp += 1\n",
    "        else:\n",
    "            fp += 1\n",
    "    \n",
    "    else:\n",
    "        if actual == 1:\n",
    "            fn += 1\n",
    "        else:\n",
    "            tn += 1"
   ]
  },
  {
   "cell_type": "code",
   "execution_count": 53,
   "metadata": {},
   "outputs": [
    {
     "data": {
      "text/plain": [
       "0.8235124205661467"
      ]
     },
     "execution_count": 53,
     "metadata": {},
     "output_type": "execute_result"
    }
   ],
   "source": [
    "# Расчетная точность модели\n",
    "(tp + tn) / (tp + fp + fn + tn)"
   ]
  },
  {
   "cell_type": "code",
   "execution_count": null,
   "metadata": {},
   "outputs": [],
   "source": []
  },
  {
   "cell_type": "code",
   "execution_count": 55,
   "metadata": {},
   "outputs": [
    {
     "name": "stdout",
     "output_type": "stream",
     "text": [
      "Populating the interactive namespace from numpy and matplotlib\n"
     ]
    },
    {
     "data": {
      "text/plain": [
       "Text(0, 0.5, 'precision')"
      ]
     },
     "execution_count": 55,
     "metadata": {},
     "output_type": "execute_result"
    },
    {
     "data": {
      "image/png": "[encoded data removed]",
      "text/plain": [
       "<Figure size 720x432 with 1 Axes>"
      ]
     },
     "metadata": {
      "needs_background": "light"
     },
     "output_type": "display_data"
    }
   ],
   "source": [
    "# График precision-recall\n",
    "from sklearn.metrics import precision_recall_curve\n",
    "%pylab inline\n",
    "\n",
    "pr, rec, thres = precision_recall_curve( y_test, predictions[:, 1] )\n",
    "\n",
    "plt.figure(figsize=(10, 6))\n",
    "plt.plot( rec, pr )\n",
    "plt.xlabel('recall')\n",
    "plt.ylabel('precision')"
   ]
  },
  {
   "cell_type": "code",
   "execution_count": 57,
   "metadata": {},
   "outputs": [
    {
     "data": {
      "text/plain": [
       "0.9125713384559438"
      ]
     },
     "execution_count": 57,
     "metadata": {},
     "output_type": "execute_result"
    }
   ],
   "source": [
    "from sklearn.metrics import average_precision_score\n",
    "average_precision_score( y_test, predictions[:, 1] )"
   ]
  },
  {
   "cell_type": "code",
   "execution_count": 93,
   "metadata": {},
   "outputs": [
    {
     "data": {
      "image/png": "[encoded data removed]",
      "text/plain": [
       "<Figure size 432x288 with 1 Axes>"
      ]
     },
     "metadata": {
      "needs_background": "light"
     },
     "output_type": "display_data"
    }
   ],
   "source": [
    "# ROC-кривая (Receiver Operating Characteristic)\n",
    "from sklearn.metrics import roc_curve\n",
    "\n",
    "# получаем значения false и true positive rate для различных значений порога\n",
    "fpr, tpr, thres = roc_curve( y_test, predictions[:, 1] )\n",
    "    \n",
    "plt.plot( fpr, tpr )\n",
    "plt.show()"
   ]
  },
  {
   "cell_type": "code",
   "execution_count": 92,
   "metadata": {},
   "outputs": [
    {
     "data": {
      "image/png": "[encoded data removed]",
      "text/plain": [
       "<Figure size 432x288 with 1 Axes>"
      ]
     },
     "metadata": {
      "needs_background": "light"
     },
     "output_type": "display_data"
    }
   ],
   "source": [
    "# Влияние L1 и L2-регуляризации\n",
    "\n",
    "model1 = LogisticRegression( penalty = 'l1', C = 0.01, solver='liblinear' ).fit( X_train, y_train )\n",
    "predictions = model1.predict_proba( X_test )\n",
    "\n",
    "model2 = LogisticRegression(  C = 0.002 ).fit( X_train, y_train )\n",
    "predictions2 = model2.predict_proba( X_test )\n",
    "\n",
    "model3 = LogisticRegression( penalty = 'l1', C = 0.02, solver='liblinear' ).fit( X_train, y_train )\n",
    "predictions3 = model3.predict_proba( X_test )\n",
    "\n",
    "fpr, tpr, thres    = roc_curve( y_test, predictions[:, 1] )\n",
    "fpr2, tpr2, thres2 = roc_curve( y_test, predictions2[:, 1] )\n",
    "fpr3, tpr3, thres3 = roc_curve( y_test, predictions3[:, 1] )\n",
    "\n",
    "plt.plot( fpr, tpr, label   = 'l1, c=0.01' )\n",
    "plt.plot( fpr2, tpr2, label = 'l2, c=0.002' )\n",
    "plt.plot( fpr3, tpr3, label = 'l1, c=0.02')\n",
    "\n",
    "plt.xlabel('False Positive Rate')\n",
    "plt.ylabel('True Positive Rate')\n",
    "\n",
    "plt.legend( loc = 0 )\n",
    "plt.show()\n"
   ]
  },
  {
   "cell_type": "code",
   "execution_count": null,
   "metadata": {},
   "outputs": [],
   "source": []
  }
 ],
 "metadata": {
  "kernelspec": {
   "display_name": "Python 3",
   "language": "python",
   "name": "python3"
  },
  "language_info": {
   "codemirror_mode": {
    "name": "ipython",
    "version": 3
   },
   "file_extension": ".py",
   "mimetype": "text/x-python",
   "name": "python",
   "nbconvert_exporter": "python",
   "pygments_lexer": "ipython3",
   "version": "3.7.4"
  }
 },
 "nbformat": 4,
 "nbformat_minor": 2
}
