{
 "cells": [
  {
   "cell_type": "markdown",
   "metadata": {},
   "source": [
    "Задание 1. Напишите функцию, которая принимает на вход строку и проверяет является ли она валидным транспортным номером. Если да, то функция должна возвращать отдельно номер и регион."
   ]
  },
  {
   "cell_type": "code",
   "execution_count": 4,
   "metadata": {},
   "outputs": [
    {
     "name": "stdout",
     "output_type": "stream",
     "text": [
      "Гос номер: B645AA118, номер - 645, регион: 118\n"
     ]
    },
    {
     "data": {
      "text/plain": [
       "('645', '118')"
      ]
     },
     "execution_count": 4,
     "metadata": {},
     "output_type": "execute_result"
    }
   ],
   "source": [
    "import re\n",
    "def validate_car_sign(car_sign):\n",
    "    pattern = '([ABCDEHKMOPTXYАВСДЕНКМОРТХУ]{1})(\\\\d{3})([ABCDEHKMOPTXYАВСДЕНКМОРТХУ]{2})(\\\\d{2,3})$'\n",
    "    if re.match(pattern, car_sign):\n",
    "        number = re.match(pattern, car_sign).group(2)\n",
    "        region = re.match(pattern, car_sign).group(4)\n",
    "        print ('Гос номер: {}, номер - {}, регион: {}'.format(car_sign, number, region))\n",
    "        return number, region\n",
    "    else:\n",
    "        print ('Номер {} - указан некорректно'.format(car_sign))\n",
    "        \n",
    "validate_car_sign('B645AA118')\n"
   ]
  },
  {
   "cell_type": "markdown",
   "metadata": {},
   "source": [
    "**Задание 2**. Напишите функцию, которая проверяет e-mail адрес на валидность по стандарту RFC822: http://www.w3.org/Protocols/rfc822/. Для этого постарайтесь написать (в крайнем случае найти) самый полный шаблон для проверки e-mail адресов через регулярное выражение. Разберитесь и напишите примеры, какие ваш шаблон может не охватить."
   ]
  },
  {
   "cell_type": "code",
   "execution_count": 8,
   "metadata": {},
   "outputs": [
    {
     "name": "stdout",
     "output_type": "stream",
     "text": [
      "The email dviva-y.too@list.ru.com is a valid email\n"
     ]
    }
   ],
   "source": [
    "import re\n",
    "def mail_check(mail): \n",
    "    pattern = '((([0-9A-Za-z]{1}[-0-9A-z\\.]{1,}[0-9A-Za-z]{1})|([0-9А-Яа-я]{1}[-0-9А-я\\.]{1,}[0-9А-Яа-я]{1}))@([-A-Za-z]{1,}\\.){1,2}[-A-Za-z]{2,})'\n",
    "    if re.match(pattern, mail):\n",
    "        print('The email {} is a valid email'.format(mail))\n",
    "    else:\n",
    "        print('The email {} is invalid'.format(mail)) \n",
    "\n",
    "mail_check('dviva-y.too@list.ru.com')"
   ]
  },
  {
   "cell_type": "code",
   "execution_count": null,
   "metadata": {},
   "outputs": [],
   "source": [
    "Представленный шаблон не охватывает (работает с оговорками):\n",
    "    - использовение в email  символов  !#$%&'*+/=?^_`{|}~ \n",
    "    - ограничения по общему количеству символов имени и домена\n",
    "    - использование одновременно русских и латинских символов в имени"
   ]
  },
  {
   "cell_type": "markdown",
   "metadata": {},
   "source": [
    "**Задание 3.** Напишите функцию, которая будет удалять все последовательные повторы слов из заданной строки при помощи регулярных выражений."
   ]
  },
  {
   "cell_type": "code",
   "execution_count": 18,
   "metadata": {},
   "outputs": [
    {
     "name": "stdout",
     "output_type": "stream",
     "text": [
      "Над ним не было ничего уже, кроме неба,— высокого неба, не ясного, но все-таки неизмеримо высокого, с тихо ползущими по нему серыми облаками\n"
     ]
    }
   ],
   "source": [
    "text = \"Над ним не не было ничего уже, кроме неба,— высокого неба, не не ясного, но все-таки неизмеримо высокого, с тихо ползущими по нему серыми облаками\"\n",
    "\n",
    "import re\n",
    "def remove_repeats(string):\n",
    "    print( re.sub(r'\\b([^\\W\\d]+)(\\s+\\1)+\\b', r'\\1', string, flags=re.I) )\n",
    "\n",
    "remove_repeats(text)"
   ]
  },
  {
   "cell_type": "markdown",
   "metadata": {},
   "source": [
    "**Задание 4**. Напишите функцию, которая будет проверять номер сотового телефона на валидность, если он валиден, то переводить его в формат:   \n",
    "+7(xxx)-xxx-xx-xx  \n",
    "Постарайтесь предусмотреть как можно больше адекватных форматов изначального ввода номера.\n",
    "Примеры валидных форматов:\n",
    "- +7 955 555-55-55;\n",
    "- 9555555555;\n",
    "- 8(955)555-55-55;\n",
    "- +7 955 555 55 55;\n",
    "- 7(955) 555-55-55;\n",
    "- +7 955+555+55+55."
   ]
  },
  {
   "cell_type": "code",
   "execution_count": 3,
   "metadata": {},
   "outputs": [
    {
     "name": "stdout",
     "output_type": "stream",
     "text": [
      "+7(955)-555-55-55\n",
      "+7(955)-555-55-55\n",
      "+7(955)-555-55-55\n",
      "+7(955)-555-55-55\n",
      "+7(955)-555-55-55\n",
      "+7(955)-555-55-55\n"
     ]
    }
   ],
   "source": [
    "list = ['+7 955 555-55-55', '9555555555', '8(955)555-55-55', '+7 955 555 55 55', '7(955) 555-55-55', '+7 955+555+55+55']\n",
    "\n",
    "import re\n",
    "for num in list:\n",
    "    dig_num = ''.join(re.sub(r'[\\s\\+\\-()]', '', num)[-10:])\n",
    "    print ('+7({})-{}-{}-{}'.format(dig_num[:3], dig_num[3:6], dig_num[6:8], dig_num[8:]))"
   ]
  }
 ],
 "metadata": {
  "kernelspec": {
   "display_name": "Python 3",
   "language": "python",
   "name": "python3"
  },
  "language_info": {
   "codemirror_mode": {
    "name": "ipython",
    "version": 3
   },
   "file_extension": ".py",
   "mimetype": "text/x-python",
   "name": "python",
   "nbconvert_exporter": "python",
   "pygments_lexer": "ipython3",
   "version": "3.7.4"
  }
 },
 "nbformat": 4,
 "nbformat_minor": 2
}
