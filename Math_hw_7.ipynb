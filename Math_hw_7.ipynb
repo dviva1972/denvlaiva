{
 "cells": [
  {
   "cell_type": "markdown",
   "metadata": {},
   "source": [
    "Денис Иванов\n",
    "\n",
    "Домашнее задание  \n",
    "\n",
    "Теория вероятности. Дискретные С.В."
   ]
  },
  {
   "cell_type": "code",
   "execution_count": 11,
   "metadata": {},
   "outputs": [],
   "source": [
    "import matplotlib.pyplot as plt\n",
    "import numpy as np\n",
    "import random\n",
    "import seaborn as sns\n",
    "import math\n",
    "\n",
    "from numpy.random import choice\n",
    "from scipy.stats import *\n",
    "%matplotlib inline"
   ]
  },
  {
   "cell_type": "markdown",
   "metadata": {},
   "source": [
    "Задание 1\n",
    "\n",
    "Монетку подбрасывают 15 раз, найдите вероятность выпадения простого числа орлов (решение на бумажке и на python)."
   ]
  },
  {
   "cell_type": "markdown",
   "metadata": {},
   "source": [
    "Количество экспериментов (n) - 15. \n",
    "\n",
    "Количество простых чисел от 1 до 15 - 6 (1-  простым числом не считаем, 2,3,5,7,11,13)\n",
    "\n",
    "Броски монет - события независимые (результат броска одной монеты не влияет на последующие броски\n",
    "\n",
    "Вероятность выпадения герба в каждом броске одинакова (равна p=1/2)\n",
    "\n",
    "Формула Бернулли:\n",
    "p(k) = c*((1/2)**n) \n",
    "\n",
    "где \n",
    "\n",
    "c         = n!/(k!*(1-k)!)\n",
    "\n",
    "(1/2)**n  = 1/32768\n",
    "\n",
    "Сумма вероятности всех событий:\n",
    "\n",
    "p = (p(2)+p(3)+p(5)+p(7)+p(11)+p(13))/32768 = (105+455+3003+6435+1365+105) / 32768 = 11468/32768 = 0,35"
   ]
  },
  {
   "cell_type": "code",
   "execution_count": 7,
   "metadata": {},
   "outputs": [
    {
     "data": {
      "text/plain": [
       "0.350006103515625"
      ]
     },
     "execution_count": 7,
     "metadata": {},
     "output_type": "execute_result"
    }
   ],
   "source": [
    "prime       = [0,2,3,5,7,11,13]\n",
    "probability = 0.5\n",
    "n           = 15\n",
    "itog        = 0\n",
    "\n",
    "sum([math.factorial(15)/\n",
    "     math.factorial(i)/\n",
    "     math.factorial(15-i)*probability**i*probability**(15-i) \n",
    "     for i in prime])"
   ]
  },
  {
   "cell_type": "code",
   "execution_count": 8,
   "metadata": {},
   "outputs": [
    {
     "data": {
      "text/plain": [
       "0.3500061035156259"
      ]
     },
     "execution_count": 8,
     "metadata": {},
     "output_type": "execute_result"
    }
   ],
   "source": [
    "sum(binom.pmf(prime, n, probability))"
   ]
  },
  {
   "cell_type": "markdown",
   "metadata": {},
   "source": [
    "Задание 2\n",
    "\n",
    "Создайте свою дискретную случайную величину с не менее, чем 10 значениями. Просемплируйте 1000 случайных значений, постройте гистограмму плотности распределения по выборке, посчитайте среднее, дисперсию и медиану."
   ]
  },
  {
   "cell_type": "markdown",
   "metadata": {},
   "source": [
    "рассмотрим 10 подбрасываний \n",
    "кубика с 6 гранями от 1 до 6"
   ]
  },
  {
   "cell_type": "code",
   "execution_count": 18,
   "metadata": {},
   "outputs": [
    {
     "name": "stdout",
     "output_type": "stream",
     "text": [
      "mean 10.038\n",
      "std 2.834882008126617\n",
      "median 10.0\n"
     ]
    },
    {
     "data": {
      "image/png": "[encoded data removed]",
      "text/plain": [
       "<Figure size 432x288 with 1 Axes>"
      ]
     },
     "metadata": {
      "needs_background": "light"
     },
     "output_type": "display_data"
    }
   ],
   "source": [
    "data=binom.rvs(n=60, p=1/6, size=1000)  # loc=0,\n",
    "\n",
    "ax=sns.distplot(data,\n",
    "                kde=True,\n",
    "                color='b',\n",
    "                hist_kws={\"linewidth\": 20,'alpha':0.77})\n",
    "\n",
    "ax.set(xlabel='Binomial',ylabel='Frequency')\n",
    "\n",
    "print('mean',data.mean())\n",
    "print('std',data.std())\n",
    "print('median',np.median(data))"
   ]
  },
  {
   "cell_type": "markdown",
   "metadata": {},
   "source": [
    "Задание 3\n",
    "\n",
    "Пусть брошены 3 уравновешенные монеты.\n",
    "Рассмотрим 3 события:\n",
    "A1 - монеты 1 и 2 упали одной и той же стороной,\n",
    "A2 - монеты 2 и 3 упали одной и той же стороной,\n",
    "A3 - монеты 1 и 3 упали одной и той же стороной.\n",
    "Покажите, почему эти 3 события (A1, A2, A3) являются попарно независимыми, но не являются независимыми в совокупности."
   ]
  },
  {
   "cell_type": "markdown",
   "metadata": {},
   "source": [
    "$P(A1UA2) = P(A1) * P(A2)$ - каждая пара отдельно независима\n",
    "\n",
    "$P(A2UA3) = P(A2) * P(A3)$\n",
    "\n",
    "$P(A1UA3) = P(A1) * P(A3)$ - но если первые 2 пары определились, то A2 в первой паре должна быть такой же как A2 во второй паре, что разрушает предположение что общая совокупность независима. В совокупности все монеты должны падать только одной стороной"
   ]
  },
  {
   "cell_type": "markdown",
   "metadata": {},
   "source": [
    "Задание 4 \n",
    "\n",
    "В магазин привезли устройства с 3-х разных предприятий. Соотношение устройств следующее: 20% - продукция первого предприятия, 30% - продукция второго предприятия, 50% - продукция третьего предприятия; далее, 10% продукции первого предприятия высшего сорта, на втором предприятии - 5% и на третьем - 20% продукции высшего сорта. Найти вероятность того, что случайно купленная новая продукция окажется высшего сорта."
   ]
  },
  {
   "cell_type": "markdown",
   "metadata": {},
   "source": [
    "вероятность купить: \n",
    "\n",
    "\n",
    "- деталь первого завода 20%, \n",
    "- деталь первого завода и хорошего качества - 20%10% - 2%\n",
    "\n",
    "\n",
    "- деталь второго завода 30%, \n",
    "- деталь второго завода и хорошего качества - 30%5% - 1,5% \n",
    "\n",
    "\n",
    "- деталь третьего завода 50%, \n",
    "- деталь третьего завода и хорошего качества - 50%*20% - 10% \n",
    "\n",
    "\n",
    "Вероятность купить деталь хорошего качества - 2+ 1,5 + 10 = 13,5% "
   ]
  },
  {
   "cell_type": "code",
   "execution_count": null,
   "metadata": {},
   "outputs": [],
   "source": []
  },
  {
   "cell_type": "code",
   "execution_count": null,
   "metadata": {},
   "outputs": [],
   "source": []
  },
  {
   "cell_type": "code",
   "execution_count": null,
   "metadata": {},
   "outputs": [],
   "source": []
  },
  {
   "cell_type": "code",
   "execution_count": null,
   "metadata": {},
   "outputs": [],
   "source": []
  }
 ],
 "metadata": {
  "kernelspec": {
   "display_name": "Python 3",
   "language": "python",
   "name": "python3"
  },
  "language_info": {
   "codemirror_mode": {
    "name": "ipython",
    "version": 3
   },
   "file_extension": ".py",
   "mimetype": "text/x-python",
   "name": "python",
   "nbconvert_exporter": "python",
   "pygments_lexer": "ipython3",
   "version": "3.7.4"
  }
 },
 "nbformat": 4,
 "nbformat_minor": 2
}
