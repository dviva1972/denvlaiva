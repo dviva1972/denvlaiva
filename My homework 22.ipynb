{
 "cells": [
  {
   "cell_type": "markdown",
   "metadata": {},
   "source": [
    "Денис Иванов\n",
    "\n",
    "Домашнее задание:  Задачи классификации"
   ]
  },
  {
   "cell_type": "code",
   "execution_count": 26,
   "metadata": {},
   "outputs": [],
   "source": [
    "import pandas as pd\n",
    "import numpy as np\n",
    "\n",
    "import matplotlib.pyplot as plt\n",
    "import seaborn as sns\n",
    "\n",
    "from sklearn import preprocessing\n",
    "from sklearn.ensemble import RandomForestClassifier\n",
    "from sklearn.linear_model import LogisticRegression\n",
    "from sklearn.metrics import classification_report\n",
    "from sklearn.model_selection import train_test_split\n",
    "from sklearn.preprocessing import LabelEncoder\n",
    "\n",
    "from imblearn.over_sampling import RandomOverSampler\n",
    "from imblearn.under_sampling import RandomUnderSampler\n",
    "\n",
    "import io\n",
    "import requests\n",
    "import ssl"
   ]
  },
  {
   "cell_type": "markdown",
   "metadata": {},
   "source": [
    "1. Загрузить датасет"
   ]
  },
  {
   "cell_type": "code",
   "execution_count": 27,
   "metadata": {},
   "outputs": [
    {
     "data": {
      "text/html": [
       "<div>\n",
       "<style scoped>\n",
       "    .dataframe tbody tr th:only-of-type {\n",
       "        vertical-align: middle;\n",
       "    }\n",
       "\n",
       "    .dataframe tbody tr th {\n",
       "        vertical-align: top;\n",
       "    }\n",
       "\n",
       "    .dataframe thead th {\n",
       "        text-align: right;\n",
       "    }\n",
       "</style>\n",
       "<table border=\"1\" class=\"dataframe\">\n",
       "  <thead>\n",
       "    <tr style=\"text-align: right;\">\n",
       "      <th></th>\n",
       "      <th>Time</th>\n",
       "      <th>V1</th>\n",
       "      <th>V2</th>\n",
       "      <th>V3</th>\n",
       "      <th>V4</th>\n",
       "      <th>V5</th>\n",
       "      <th>V6</th>\n",
       "      <th>V7</th>\n",
       "      <th>V8</th>\n",
       "      <th>V9</th>\n",
       "      <th>...</th>\n",
       "      <th>V21</th>\n",
       "      <th>V22</th>\n",
       "      <th>V23</th>\n",
       "      <th>V24</th>\n",
       "      <th>V25</th>\n",
       "      <th>V26</th>\n",
       "      <th>V27</th>\n",
       "      <th>V28</th>\n",
       "      <th>Amount</th>\n",
       "      <th>Class</th>\n",
       "    </tr>\n",
       "  </thead>\n",
       "  <tbody>\n",
       "    <tr>\n",
       "      <td>count</td>\n",
       "      <td>284807.000000</td>\n",
       "      <td>2.848070e+05</td>\n",
       "      <td>2.848070e+05</td>\n",
       "      <td>2.848070e+05</td>\n",
       "      <td>2.848070e+05</td>\n",
       "      <td>2.848070e+05</td>\n",
       "      <td>2.848070e+05</td>\n",
       "      <td>2.848070e+05</td>\n",
       "      <td>2.848070e+05</td>\n",
       "      <td>2.848070e+05</td>\n",
       "      <td>...</td>\n",
       "      <td>2.848070e+05</td>\n",
       "      <td>2.848070e+05</td>\n",
       "      <td>2.848070e+05</td>\n",
       "      <td>2.848070e+05</td>\n",
       "      <td>2.848070e+05</td>\n",
       "      <td>2.848070e+05</td>\n",
       "      <td>2.848070e+05</td>\n",
       "      <td>2.848070e+05</td>\n",
       "      <td>284807.000000</td>\n",
       "      <td>284807.000000</td>\n",
       "    </tr>\n",
       "    <tr>\n",
       "      <td>mean</td>\n",
       "      <td>94813.859575</td>\n",
       "      <td>3.919560e-15</td>\n",
       "      <td>5.688174e-16</td>\n",
       "      <td>-8.769071e-15</td>\n",
       "      <td>2.782312e-15</td>\n",
       "      <td>-1.552563e-15</td>\n",
       "      <td>2.010663e-15</td>\n",
       "      <td>-1.694249e-15</td>\n",
       "      <td>-1.927028e-16</td>\n",
       "      <td>-3.137024e-15</td>\n",
       "      <td>...</td>\n",
       "      <td>1.537294e-16</td>\n",
       "      <td>7.959909e-16</td>\n",
       "      <td>5.367590e-16</td>\n",
       "      <td>4.458112e-15</td>\n",
       "      <td>1.453003e-15</td>\n",
       "      <td>1.699104e-15</td>\n",
       "      <td>-3.660161e-16</td>\n",
       "      <td>-1.206049e-16</td>\n",
       "      <td>88.349619</td>\n",
       "      <td>0.001727</td>\n",
       "    </tr>\n",
       "    <tr>\n",
       "      <td>std</td>\n",
       "      <td>47488.145955</td>\n",
       "      <td>1.958696e+00</td>\n",
       "      <td>1.651309e+00</td>\n",
       "      <td>1.516255e+00</td>\n",
       "      <td>1.415869e+00</td>\n",
       "      <td>1.380247e+00</td>\n",
       "      <td>1.332271e+00</td>\n",
       "      <td>1.237094e+00</td>\n",
       "      <td>1.194353e+00</td>\n",
       "      <td>1.098632e+00</td>\n",
       "      <td>...</td>\n",
       "      <td>7.345240e-01</td>\n",
       "      <td>7.257016e-01</td>\n",
       "      <td>6.244603e-01</td>\n",
       "      <td>6.056471e-01</td>\n",
       "      <td>5.212781e-01</td>\n",
       "      <td>4.822270e-01</td>\n",
       "      <td>4.036325e-01</td>\n",
       "      <td>3.300833e-01</td>\n",
       "      <td>250.120109</td>\n",
       "      <td>0.041527</td>\n",
       "    </tr>\n",
       "    <tr>\n",
       "      <td>min</td>\n",
       "      <td>0.000000</td>\n",
       "      <td>-5.640751e+01</td>\n",
       "      <td>-7.271573e+01</td>\n",
       "      <td>-4.832559e+01</td>\n",
       "      <td>-5.683171e+00</td>\n",
       "      <td>-1.137433e+02</td>\n",
       "      <td>-2.616051e+01</td>\n",
       "      <td>-4.355724e+01</td>\n",
       "      <td>-7.321672e+01</td>\n",
       "      <td>-1.343407e+01</td>\n",
       "      <td>...</td>\n",
       "      <td>-3.483038e+01</td>\n",
       "      <td>-1.093314e+01</td>\n",
       "      <td>-4.480774e+01</td>\n",
       "      <td>-2.836627e+00</td>\n",
       "      <td>-1.029540e+01</td>\n",
       "      <td>-2.604551e+00</td>\n",
       "      <td>-2.256568e+01</td>\n",
       "      <td>-1.543008e+01</td>\n",
       "      <td>0.000000</td>\n",
       "      <td>0.000000</td>\n",
       "    </tr>\n",
       "    <tr>\n",
       "      <td>25%</td>\n",
       "      <td>54201.500000</td>\n",
       "      <td>-9.203734e-01</td>\n",
       "      <td>-5.985499e-01</td>\n",
       "      <td>-8.903648e-01</td>\n",
       "      <td>-8.486401e-01</td>\n",
       "      <td>-6.915971e-01</td>\n",
       "      <td>-7.682956e-01</td>\n",
       "      <td>-5.540759e-01</td>\n",
       "      <td>-2.086297e-01</td>\n",
       "      <td>-6.430976e-01</td>\n",
       "      <td>...</td>\n",
       "      <td>-2.283949e-01</td>\n",
       "      <td>-5.423504e-01</td>\n",
       "      <td>-1.618463e-01</td>\n",
       "      <td>-3.545861e-01</td>\n",
       "      <td>-3.171451e-01</td>\n",
       "      <td>-3.269839e-01</td>\n",
       "      <td>-7.083953e-02</td>\n",
       "      <td>-5.295979e-02</td>\n",
       "      <td>5.600000</td>\n",
       "      <td>0.000000</td>\n",
       "    </tr>\n",
       "    <tr>\n",
       "      <td>50%</td>\n",
       "      <td>84692.000000</td>\n",
       "      <td>1.810880e-02</td>\n",
       "      <td>6.548556e-02</td>\n",
       "      <td>1.798463e-01</td>\n",
       "      <td>-1.984653e-02</td>\n",
       "      <td>-5.433583e-02</td>\n",
       "      <td>-2.741871e-01</td>\n",
       "      <td>4.010308e-02</td>\n",
       "      <td>2.235804e-02</td>\n",
       "      <td>-5.142873e-02</td>\n",
       "      <td>...</td>\n",
       "      <td>-2.945017e-02</td>\n",
       "      <td>6.781943e-03</td>\n",
       "      <td>-1.119293e-02</td>\n",
       "      <td>4.097606e-02</td>\n",
       "      <td>1.659350e-02</td>\n",
       "      <td>-5.213911e-02</td>\n",
       "      <td>1.342146e-03</td>\n",
       "      <td>1.124383e-02</td>\n",
       "      <td>22.000000</td>\n",
       "      <td>0.000000</td>\n",
       "    </tr>\n",
       "    <tr>\n",
       "      <td>75%</td>\n",
       "      <td>139320.500000</td>\n",
       "      <td>1.315642e+00</td>\n",
       "      <td>8.037239e-01</td>\n",
       "      <td>1.027196e+00</td>\n",
       "      <td>7.433413e-01</td>\n",
       "      <td>6.119264e-01</td>\n",
       "      <td>3.985649e-01</td>\n",
       "      <td>5.704361e-01</td>\n",
       "      <td>3.273459e-01</td>\n",
       "      <td>5.971390e-01</td>\n",
       "      <td>...</td>\n",
       "      <td>1.863772e-01</td>\n",
       "      <td>5.285536e-01</td>\n",
       "      <td>1.476421e-01</td>\n",
       "      <td>4.395266e-01</td>\n",
       "      <td>3.507156e-01</td>\n",
       "      <td>2.409522e-01</td>\n",
       "      <td>9.104512e-02</td>\n",
       "      <td>7.827995e-02</td>\n",
       "      <td>77.165000</td>\n",
       "      <td>0.000000</td>\n",
       "    </tr>\n",
       "    <tr>\n",
       "      <td>max</td>\n",
       "      <td>172792.000000</td>\n",
       "      <td>2.454930e+00</td>\n",
       "      <td>2.205773e+01</td>\n",
       "      <td>9.382558e+00</td>\n",
       "      <td>1.687534e+01</td>\n",
       "      <td>3.480167e+01</td>\n",
       "      <td>7.330163e+01</td>\n",
       "      <td>1.205895e+02</td>\n",
       "      <td>2.000721e+01</td>\n",
       "      <td>1.559499e+01</td>\n",
       "      <td>...</td>\n",
       "      <td>2.720284e+01</td>\n",
       "      <td>1.050309e+01</td>\n",
       "      <td>2.252841e+01</td>\n",
       "      <td>4.584549e+00</td>\n",
       "      <td>7.519589e+00</td>\n",
       "      <td>3.517346e+00</td>\n",
       "      <td>3.161220e+01</td>\n",
       "      <td>3.384781e+01</td>\n",
       "      <td>25691.160000</td>\n",
       "      <td>1.000000</td>\n",
       "    </tr>\n",
       "  </tbody>\n",
       "</table>\n",
       "<p>8 rows × 31 columns</p>\n",
       "</div>"
      ],
      "text/plain": [
       "                Time            V1            V2            V3            V4  \\\n",
       "count  284807.000000  2.848070e+05  2.848070e+05  2.848070e+05  2.848070e+05   \n",
       "mean    94813.859575  3.919560e-15  5.688174e-16 -8.769071e-15  2.782312e-15   \n",
       "std     47488.145955  1.958696e+00  1.651309e+00  1.516255e+00  1.415869e+00   \n",
       "min         0.000000 -5.640751e+01 -7.271573e+01 -4.832559e+01 -5.683171e+00   \n",
       "25%     54201.500000 -9.203734e-01 -5.985499e-01 -8.903648e-01 -8.486401e-01   \n",
       "50%     84692.000000  1.810880e-02  6.548556e-02  1.798463e-01 -1.984653e-02   \n",
       "75%    139320.500000  1.315642e+00  8.037239e-01  1.027196e+00  7.433413e-01   \n",
       "max    172792.000000  2.454930e+00  2.205773e+01  9.382558e+00  1.687534e+01   \n",
       "\n",
       "                 V5            V6            V7            V8            V9  \\\n",
       "count  2.848070e+05  2.848070e+05  2.848070e+05  2.848070e+05  2.848070e+05   \n",
       "mean  -1.552563e-15  2.010663e-15 -1.694249e-15 -1.927028e-16 -3.137024e-15   \n",
       "std    1.380247e+00  1.332271e+00  1.237094e+00  1.194353e+00  1.098632e+00   \n",
       "min   -1.137433e+02 -2.616051e+01 -4.355724e+01 -7.321672e+01 -1.343407e+01   \n",
       "25%   -6.915971e-01 -7.682956e-01 -5.540759e-01 -2.086297e-01 -6.430976e-01   \n",
       "50%   -5.433583e-02 -2.741871e-01  4.010308e-02  2.235804e-02 -5.142873e-02   \n",
       "75%    6.119264e-01  3.985649e-01  5.704361e-01  3.273459e-01  5.971390e-01   \n",
       "max    3.480167e+01  7.330163e+01  1.205895e+02  2.000721e+01  1.559499e+01   \n",
       "\n",
       "       ...           V21           V22           V23           V24  \\\n",
       "count  ...  2.848070e+05  2.848070e+05  2.848070e+05  2.848070e+05   \n",
       "mean   ...  1.537294e-16  7.959909e-16  5.367590e-16  4.458112e-15   \n",
       "std    ...  7.345240e-01  7.257016e-01  6.244603e-01  6.056471e-01   \n",
       "min    ... -3.483038e+01 -1.093314e+01 -4.480774e+01 -2.836627e+00   \n",
       "25%    ... -2.283949e-01 -5.423504e-01 -1.618463e-01 -3.545861e-01   \n",
       "50%    ... -2.945017e-02  6.781943e-03 -1.119293e-02  4.097606e-02   \n",
       "75%    ...  1.863772e-01  5.285536e-01  1.476421e-01  4.395266e-01   \n",
       "max    ...  2.720284e+01  1.050309e+01  2.252841e+01  4.584549e+00   \n",
       "\n",
       "                V25           V26           V27           V28         Amount  \\\n",
       "count  2.848070e+05  2.848070e+05  2.848070e+05  2.848070e+05  284807.000000   \n",
       "mean   1.453003e-15  1.699104e-15 -3.660161e-16 -1.206049e-16      88.349619   \n",
       "std    5.212781e-01  4.822270e-01  4.036325e-01  3.300833e-01     250.120109   \n",
       "min   -1.029540e+01 -2.604551e+00 -2.256568e+01 -1.543008e+01       0.000000   \n",
       "25%   -3.171451e-01 -3.269839e-01 -7.083953e-02 -5.295979e-02       5.600000   \n",
       "50%    1.659350e-02 -5.213911e-02  1.342146e-03  1.124383e-02      22.000000   \n",
       "75%    3.507156e-01  2.409522e-01  9.104512e-02  7.827995e-02      77.165000   \n",
       "max    7.519589e+00  3.517346e+00  3.161220e+01  3.384781e+01   25691.160000   \n",
       "\n",
       "               Class  \n",
       "count  284807.000000  \n",
       "mean        0.001727  \n",
       "std         0.041527  \n",
       "min         0.000000  \n",
       "25%         0.000000  \n",
       "50%         0.000000  \n",
       "75%         0.000000  \n",
       "max         1.000000  \n",
       "\n",
       "[8 rows x 31 columns]"
      ]
     },
     "execution_count": 27,
     "metadata": {},
     "output_type": "execute_result"
    }
   ],
   "source": [
    "ssl._create_default_https_context = ssl._create_unverified_context\n",
    "url=\"http://yustiks.ru/dataset/creditcard.csv\"\n",
    "dataset=pd.read_csv(url)\n",
    "dataset.describe()"
   ]
  },
  {
   "cell_type": "code",
   "execution_count": 4,
   "metadata": {},
   "outputs": [
    {
     "data": {
      "text/html": [
       "<div>\n",
       "<style scoped>\n",
       "    .dataframe tbody tr th:only-of-type {\n",
       "        vertical-align: middle;\n",
       "    }\n",
       "\n",
       "    .dataframe tbody tr th {\n",
       "        vertical-align: top;\n",
       "    }\n",
       "\n",
       "    .dataframe thead th {\n",
       "        text-align: right;\n",
       "    }\n",
       "</style>\n",
       "<table border=\"1\" class=\"dataframe\">\n",
       "  <thead>\n",
       "    <tr style=\"text-align: right;\">\n",
       "      <th></th>\n",
       "      <th>clear</th>\n",
       "      <th>defolt</th>\n",
       "      <th>bad_rate</th>\n",
       "    </tr>\n",
       "    <tr>\n",
       "      <th>Amount</th>\n",
       "      <th></th>\n",
       "      <th></th>\n",
       "      <th></th>\n",
       "    </tr>\n",
       "  </thead>\n",
       "  <tbody>\n",
       "    <tr>\n",
       "      <td>(-0.01, 0.01]</td>\n",
       "      <td>2511</td>\n",
       "      <td>32</td>\n",
       "      <td>1.258356</td>\n",
       "    </tr>\n",
       "    <tr>\n",
       "      <td>(0.01, 1.0]</td>\n",
       "      <td>27800</td>\n",
       "      <td>149</td>\n",
       "      <td>0.533114</td>\n",
       "    </tr>\n",
       "    <tr>\n",
       "      <td>(1.0, 90.0]</td>\n",
       "      <td>191828</td>\n",
       "      <td>147</td>\n",
       "      <td>0.076572</td>\n",
       "    </tr>\n",
       "    <tr>\n",
       "      <td>(90.0, 1200.0]</td>\n",
       "      <td>60083</td>\n",
       "      <td>156</td>\n",
       "      <td>0.258968</td>\n",
       "    </tr>\n",
       "    <tr>\n",
       "      <td>(1200.0, 99999.0]</td>\n",
       "      <td>2093</td>\n",
       "      <td>8</td>\n",
       "      <td>0.380771</td>\n",
       "    </tr>\n",
       "  </tbody>\n",
       "</table>\n",
       "</div>"
      ],
      "text/plain": [
       "                    clear  defolt  bad_rate\n",
       "Amount                                     \n",
       "(-0.01, 0.01]        2511      32  1.258356\n",
       "(0.01, 1.0]         27800     149  0.533114\n",
       "(1.0, 90.0]        191828     147  0.076572\n",
       "(90.0, 1200.0]      60083     156  0.258968\n",
       "(1200.0, 99999.0]    2093       8  0.380771"
      ]
     },
     "execution_count": 4,
     "metadata": {},
     "output_type": "execute_result"
    }
   ],
   "source": [
    "# Выявляем выбросы по старинке\n",
    "amount_group = pd.cut(dataset['Amount'], [-0.01, 0.01, 1,  90, 1200,  99999]) \n",
    "table = pd.pivot_table(dataset, \n",
    "                       values =['V22'], \n",
    "                       index = amount_group, \n",
    "                       columns = ['Class'], \n",
    "                       aggfunc = 'count') \n",
    "table.columns = ['clear', 'defolt']\n",
    "table['bad_rate']= 100 * table['defolt']/(table['clear']+table['defolt'])\n",
    "table"
   ]
  },
  {
   "cell_type": "code",
   "execution_count": 5,
   "metadata": {},
   "outputs": [
    {
     "name": "stdout",
     "output_type": "stream",
     "text": [
      "Отбросили  4669 наблюдений, что составило 1.6393557742611664 % выборки\n"
     ]
    }
   ],
   "source": [
    "# Удаляем выбросы:\n",
    "# Удаляем столбец Time,  ибо судя по содержанию столбца - это период времени \n",
    "# (в секундах или минутах) с начала наблюдений,  но не отметка о времени события.\n",
    "# (в моем понимании: в кредитном скоринге время информативно только если это timestamp, \n",
    "# который можно првязать к времени суток (части рабочего дня), дням недели или \n",
    "# или графику работы сотрудников - иначе \n",
    "# абстрактный период времени от точки в прошлом которую мы не знаем, есть - шумы, имхо)\n",
    "\n",
    "ds= dataset[(dataset['Amount'] > 0.01)&(dataset['Amount'] < 1200)].iloc[:, 1:31]\n",
    "print('Отбросили ', len(dataset) - len(ds), 'наблюдений, что составило', \n",
    "      100* (len(dataset) - len(ds)) / len(dataset), '% выборки') \n"
   ]
  },
  {
   "cell_type": "markdown",
   "metadata": {},
   "source": [
    "2. Посмотреть отсутствующие значения (какое количество Nan элементов)."
   ]
  },
  {
   "cell_type": "code",
   "execution_count": 6,
   "metadata": {},
   "outputs": [
    {
     "name": "stdout",
     "output_type": "stream",
     "text": [
      "В датасете отсутствуют значения по следующим полям: \n",
      " V1        0\n",
      "V2        0\n",
      "V3        0\n",
      "V4        0\n",
      "V5        0\n",
      "V6        0\n",
      "V7        0\n",
      "V8        0\n",
      "V9        0\n",
      "V10       0\n",
      "V11       0\n",
      "V12       0\n",
      "V13       0\n",
      "V14       0\n",
      "V15       0\n",
      "V16       0\n",
      "V17       0\n",
      "V18       0\n",
      "V19       0\n",
      "V20       0\n",
      "V21       0\n",
      "V22       0\n",
      "V23       0\n",
      "V24       0\n",
      "V25       0\n",
      "V26       0\n",
      "V27       0\n",
      "V28       0\n",
      "Amount    0\n",
      "Class     0\n",
      "dtype: int64\n",
      "Итого в датасете отсутствуют: 0 значений\n"
     ]
    }
   ],
   "source": [
    "print('В датасете отсутствуют значения по следующим полям: \\n', ds.isna().sum())\n",
    "print('Итого в датасете отсутствуют:', ds.isna().sum().sum(), 'значений')"
   ]
  },
  {
   "cell_type": "markdown",
   "metadata": {},
   "source": [
    "3. Основное таргет значение: 1 - сделка была обманной, 0 - честной. \n",
    "Сделать график barplot для этих двух классов из колонки 'Class'. \n",
    "Посчитать количество элементов в классе 1 и в классе 2."
   ]
  },
  {
   "cell_type": "code",
   "execution_count": 7,
   "metadata": {},
   "outputs": [
    {
     "name": "stdout",
     "output_type": "stream",
     "text": [
      "Количество дефолтов       = 452\n",
      "Количество честных сделок = 279686\n",
      "Доля дефолтов по колич-ву = 0.16134904939708286 процентов\n"
     ]
    }
   ],
   "source": [
    "print('Количество дефолтов       =', np.sum(ds.Class==1))\n",
    "print('Количество честных сделок =', np.sum(ds.Class==0))\n",
    "print('Доля дефолтов по колич-ву =', 100 * np.sum(ds.Class==1) / ds.shape[0], 'процентов')"
   ]
  },
  {
   "cell_type": "code",
   "execution_count": 8,
   "metadata": {},
   "outputs": [
    {
     "data": {
      "image/png": "[encoded data removed]",
      "text/plain": [
       "<Figure size 360x216 with 1 Axes>"
      ]
     },
     "metadata": {
      "needs_background": "light"
     },
     "output_type": "display_data"
    }
   ],
   "source": [
    "ds['Class'].value_counts(dropna = False).plot.bar(color = 'orange', figsize = (5, 3))\n",
    "\n",
    "plt.title('Структура сделок')\n",
    "plt.xlabel('наличие дефолта: 1-да / 0 - нет')\n",
    "plt.ylabel('количество сделок')\n",
    "plt.show()"
   ]
  },
  {
   "cell_type": "markdown",
   "metadata": {},
   "source": [
    "4. Сколько денег было использовано в обманных операциях, \n",
    "а сколько - в нормальных операциях? \n",
    "Сделать частотный график по колонке Amount для колонки Class \n",
    "по двум независимым выборкам: обманная операция, нормальная операция"
   ]
  },
  {
   "cell_type": "code",
   "execution_count": 9,
   "metadata": {},
   "outputs": [
    {
     "name": "stdout",
     "output_type": "stream",
     "text": [
      "Сумма дефолтов         = 47987.58\n",
      "Сумма честных сделок   = 20690693.04\n",
      "Доля дефолтов по сумме = 0.23139167278424488 процентов\n",
      "в среднем по выборке крупные кредиты чаще в дефолте (0,16 < 0,23)\n"
     ]
    }
   ],
   "source": [
    "ds_fraud = ds[ds['Class'] == 1].Amount\n",
    "ds_clear = ds[ds['Class'] == 0].Amount\n",
    "\n",
    "print('Сумма дефолтов         =', ds_fraud.sum())\n",
    "print('Сумма честных сделок   =', ds_clear.sum())\n",
    "print('Доля дефолтов по сумме =', ds_fraud.sum() * 100 /\n",
    "                                  (ds_clear.sum()+ ds_fraud.sum()),\n",
    "                                   'процентов')\n",
    "print('в среднем по выборке крупные кредиты чаще в дефолте (0,16 < 0,23)')"
   ]
  },
  {
   "cell_type": "code",
   "execution_count": 10,
   "metadata": {},
   "outputs": [
    {
     "data": {
      "image/png": "[encoded data removed]",
      "text/plain": [
       "<Figure size 432x288 with 1 Axes>"
      ]
     },
     "metadata": {
      "needs_background": "light"
     },
     "output_type": "display_data"
    }
   ],
   "source": [
    "plt.xlabel('Сумма дефолта')\n",
    "plt.ylabel('Количество случаев дефолта')\n",
    "ds_fraud.hist()\n",
    "plt.show()"
   ]
  },
  {
   "cell_type": "code",
   "execution_count": 11,
   "metadata": {},
   "outputs": [
    {
     "data": {
      "image/png": "[encoded data removed]",
      "text/plain": [
       "<Figure size 432x288 with 1 Axes>"
      ]
     },
     "metadata": {
      "needs_background": "light"
     },
     "output_type": "display_data"
    }
   ],
   "source": [
    "plt.xlabel('Сумма сделки')\n",
    "plt.ylabel('Количество сделок данной суммы')\n",
    "ds_clear.hist()\n",
    "plt.show()"
   ]
  },
  {
   "cell_type": "markdown",
   "metadata": {},
   "source": [
    "5. Построить графики histograms для всех значений"
   ]
  },
  {
   "cell_type": "code",
   "execution_count": 12,
   "metadata": {},
   "outputs": [
    {
     "data": {
      "image/png": "[encoded data removed]",
      "text/plain": [
       "<Figure size 2160x1440 with 30 Axes>"
      ]
     },
     "metadata": {
      "needs_background": "light"
     },
     "output_type": "display_data"
    }
   ],
   "source": [
    "ds.hist(figsize=(30,20))\n",
    "plt.show()"
   ]
  },
  {
   "cell_type": "markdown",
   "metadata": {},
   "source": [
    "6. Построить матрицу корреляций для всех значений"
   ]
  },
  {
   "cell_type": "code",
   "execution_count": 13,
   "metadata": {},
   "outputs": [
    {
     "name": "stdout",
     "output_type": "stream",
     "text": [
      "          V1    V2    V3    V4    V5    V6    V7    V8    V9   V10  ...   V21  \\\n",
      "V1      1.00 -0.13 -0.05  0.04 -0.06  0.03  0.08 -0.03  0.00 -0.01  ... -0.00   \n",
      "V2     -0.13  1.00 -0.09  0.06 -0.09  0.04  0.15 -0.03 -0.00 -0.03  ...  0.04   \n",
      "V3     -0.05 -0.09  1.00  0.02 -0.08  0.04  0.09 -0.03 -0.01 -0.02  ...  0.00   \n",
      "V4      0.04  0.06  0.02  1.00  0.03 -0.02 -0.03  0.01  0.01  0.00  ... -0.00   \n",
      "V5     -0.06 -0.09 -0.08  0.03  1.00  0.12  0.22 -0.05 -0.01 -0.04  ... -0.01   \n",
      "V6      0.03  0.04  0.04 -0.02  0.12  1.00 -0.14  0.03  0.01  0.02  ...  0.01   \n",
      "V7      0.08  0.15  0.09 -0.03  0.22 -0.14  1.00  0.04  0.01  0.04  ... -0.01   \n",
      "V8     -0.03 -0.03 -0.03  0.01 -0.05  0.03  0.04  1.00 -0.00 -0.01  ... -0.01   \n",
      "V9      0.00 -0.00 -0.01  0.01 -0.01  0.01  0.01 -0.00  1.00 -0.01  ...  0.01   \n",
      "V10    -0.01 -0.03 -0.02  0.00 -0.04  0.02  0.04 -0.01 -0.01  1.00  ...  0.01   \n",
      "V11     0.01  0.00  0.01  0.00  0.01 -0.00 -0.01  0.00 -0.00  0.00  ...  0.00   \n",
      "V12    -0.00  0.00 -0.01  0.00 -0.01  0.01  0.01 -0.00 -0.00 -0.00  ... -0.00   \n",
      "V13     0.01  0.01  0.00 -0.00  0.01 -0.01 -0.01  0.00 -0.00 -0.00  ...  0.00   \n",
      "V14     0.00  0.02  0.00  0.00 -0.00  0.00 -0.00  0.00  0.00  0.00  ... -0.01   \n",
      "V15     0.01  0.02  0.01  0.00  0.01 -0.00 -0.01  0.00  0.00  0.00  ...  0.00   \n",
      "V16     0.02  0.02  0.01 -0.01  0.03 -0.02 -0.04  0.01 -0.00 -0.00  ...  0.01   \n",
      "V17    -0.01  0.00 -0.01  0.01 -0.01  0.00  0.00 -0.00 -0.00 -0.01  ... -0.01   \n",
      "V18    -0.00  0.01 -0.00 -0.00  0.00  0.00 -0.01 -0.00  0.00  0.00  ... -0.01   \n",
      "V19    -0.00 -0.02 -0.01  0.01 -0.01  0.00  0.01 -0.00 -0.00 -0.00  ...  0.01   \n",
      "V20     0.03  0.18  0.04 -0.03  0.00  0.02 -0.02 -0.02  0.03  0.05  ... -0.13   \n",
      "V21    -0.00  0.04  0.00 -0.00 -0.01  0.01 -0.01 -0.01  0.01  0.01  ...  1.00   \n",
      "V22    -0.02 -0.05 -0.01  0.01 -0.01  0.00  0.01 -0.00  0.00 -0.00  ...  0.02   \n",
      "V23    -0.03 -0.07 -0.04  0.02 -0.03  0.00 -0.02 -0.04  0.02  0.02  ... -0.01   \n",
      "V24     0.01  0.01  0.01 -0.00  0.01 -0.00 -0.01  0.01 -0.00 -0.00  ...  0.00   \n",
      "V25    -0.01 -0.02 -0.01  0.01 -0.01  0.00 -0.00 -0.01  0.00 -0.00  ...  0.01   \n",
      "V26    -0.00 -0.01 -0.00 -0.00  0.00 -0.00 -0.00  0.00  0.00 -0.00  ...  0.00   \n",
      "V27     0.02 -0.00  0.02  0.00  0.06 -0.04 -0.07  0.03 -0.00  0.01  ...  0.03   \n",
      "V28     0.02  0.04  0.01 -0.01 -0.03  0.02  0.03 -0.00 -0.01 -0.02  ... -0.00   \n",
      "Amount -0.12 -0.44 -0.09  0.03 -0.26  0.13  0.17 -0.05 -0.04 -0.05  ...  0.07   \n",
      "Class  -0.10  0.10 -0.19  0.13 -0.10 -0.04 -0.21  0.02 -0.09 -0.21  ...  0.05   \n",
      "\n",
      "         V22   V23   V24   V25   V26   V27   V28  Amount  Class  \n",
      "V1     -0.02 -0.03  0.01 -0.01 -0.00  0.02  0.02   -0.12  -0.10  \n",
      "V2     -0.05 -0.07  0.01 -0.02 -0.01 -0.00  0.04   -0.44   0.10  \n",
      "V3     -0.01 -0.04  0.01 -0.01 -0.00  0.02  0.01   -0.09  -0.19  \n",
      "V4      0.01  0.02 -0.00  0.01 -0.00  0.00 -0.01    0.03   0.13  \n",
      "V5     -0.01 -0.03  0.01 -0.01  0.00  0.06 -0.03   -0.26  -0.10  \n",
      "V6      0.00  0.00 -0.00  0.00 -0.00 -0.04  0.02    0.13  -0.04  \n",
      "V7      0.01 -0.02 -0.01 -0.00 -0.00 -0.07  0.03    0.17  -0.21  \n",
      "V8     -0.00 -0.04  0.01 -0.01  0.00  0.03 -0.00   -0.05   0.02  \n",
      "V9      0.00  0.02 -0.00  0.00  0.00 -0.00 -0.01   -0.04  -0.09  \n",
      "V10    -0.00  0.02 -0.00 -0.00 -0.00  0.01 -0.02   -0.05  -0.21  \n",
      "V11     0.00  0.01  0.00  0.00 -0.00 -0.01 -0.00   -0.02   0.15  \n",
      "V12     0.00  0.01  0.00  0.00  0.00  0.01 -0.00    0.01  -0.25  \n",
      "V13     0.00  0.00 -0.00  0.00  0.00 -0.01 -0.00   -0.02  -0.00  \n",
      "V14     0.00  0.01  0.00  0.00  0.00  0.01  0.00    0.02  -0.29  \n",
      "V15     0.00  0.02 -0.00  0.00  0.00 -0.01 -0.00   -0.04  -0.00  \n",
      "V16    -0.00  0.01 -0.00  0.00  0.00 -0.02  0.00   -0.07  -0.19  \n",
      "V17     0.00  0.00  0.00  0.00  0.00  0.00 -0.00    0.02  -0.32  \n",
      "V18     0.00 -0.02 -0.00 -0.00  0.00  0.01  0.00    0.03  -0.11  \n",
      "V19    -0.01 -0.01 -0.00 -0.01 -0.00 -0.01 -0.00   -0.03   0.04  \n",
      "V20     0.05 -0.05  0.01  0.02  0.02  0.13 -0.02    0.24   0.02  \n",
      "V21     0.02 -0.01  0.00  0.01  0.00  0.03 -0.00    0.07   0.05  \n",
      "V22     1.00 -0.05  0.00 -0.01 -0.01 -0.01  0.01    0.01  -0.00  \n",
      "V23    -0.05  1.00  0.03 -0.10 -0.01  0.05  0.03   -0.02   0.00  \n",
      "V24     0.00  0.03  1.00  0.00 -0.00 -0.01  0.00   -0.02  -0.01  \n",
      "V25    -0.01 -0.10  0.00  1.00 -0.01  0.00 -0.00   -0.00   0.00  \n",
      "V26    -0.01 -0.01 -0.00 -0.01  1.00 -0.01  0.00    0.01   0.00  \n",
      "V27    -0.01  0.05 -0.01  0.00 -0.01  1.00  0.10   -0.03   0.02  \n",
      "V28     0.01  0.03  0.00 -0.00  0.00  0.10  1.00    0.01   0.01  \n",
      "Amount  0.01 -0.02 -0.02 -0.00  0.01 -0.03  0.01    1.00   0.01  \n",
      "Class  -0.00  0.00 -0.01  0.00  0.00  0.02  0.01    0.01   1.00  \n",
      "\n",
      "[30 rows x 30 columns]\n"
     ]
    },
    {
     "data": {
      "text/plain": [
       "<matplotlib.axes._subplots.AxesSubplot at 0xfcaf988>"
      ]
     },
     "execution_count": 13,
     "metadata": {},
     "output_type": "execute_result"
    },
    {
     "data": {
      "image/png": "[encoded data removed]",
      "text/plain": [
       "<Figure size 1440x1440 with 2 Axes>"
      ]
     },
     "metadata": {
      "needs_background": "light"
     },
     "output_type": "display_data"
    }
   ],
   "source": [
    "plt.subplots(figsize=(20, 20))\n",
    "m_corr = np.round_(ds.corr(), decimals=2)\n",
    "print(m_corr)\n",
    "sns.heatmap(m_corr, linewidths=0.2)"
   ]
  },
  {
   "cell_type": "markdown",
   "metadata": {},
   "source": [
    "7-8. \n",
    "Взять все имеющиеся атрибуты из таблицы для предсказания. \n",
    "Разделить на тренировочные и тестовые. Написать модель деревья решений. \n",
    "Сделать classification report.\n",
    "\n",
    "Нормализовать данные и написать модель Random Forest уже на нормализованных данных. Сделать classification report. Сравнить с результатом, полученном в задаче 7. Нужно ли нормализовывать данные?"
   ]
  },
  {
   "cell_type": "code",
   "execution_count": 14,
   "metadata": {},
   "outputs": [
    {
     "data": {
      "text/html": [
       "<div>\n",
       "<style scoped>\n",
       "    .dataframe tbody tr th:only-of-type {\n",
       "        vertical-align: middle;\n",
       "    }\n",
       "\n",
       "    .dataframe tbody tr th {\n",
       "        vertical-align: top;\n",
       "    }\n",
       "\n",
       "    .dataframe thead th {\n",
       "        text-align: right;\n",
       "    }\n",
       "</style>\n",
       "<table border=\"1\" class=\"dataframe\">\n",
       "  <thead>\n",
       "    <tr style=\"text-align: right;\">\n",
       "      <th></th>\n",
       "      <th>V1</th>\n",
       "      <th>V2</th>\n",
       "      <th>V3</th>\n",
       "      <th>V4</th>\n",
       "      <th>V5</th>\n",
       "      <th>V6</th>\n",
       "      <th>V7</th>\n",
       "      <th>V8</th>\n",
       "      <th>V9</th>\n",
       "      <th>V10</th>\n",
       "      <th>...</th>\n",
       "      <th>V19</th>\n",
       "      <th>V20</th>\n",
       "      <th>V21</th>\n",
       "      <th>V22</th>\n",
       "      <th>V23</th>\n",
       "      <th>V24</th>\n",
       "      <th>V25</th>\n",
       "      <th>V26</th>\n",
       "      <th>V27</th>\n",
       "      <th>V28</th>\n",
       "    </tr>\n",
       "  </thead>\n",
       "  <tbody>\n",
       "    <tr>\n",
       "      <td>0</td>\n",
       "      <td>0.845275</td>\n",
       "      <td>0.422195</td>\n",
       "      <td>0.682041</td>\n",
       "      <td>-0.249287</td>\n",
       "      <td>-0.192252</td>\n",
       "      <td>0.194647</td>\n",
       "      <td>0.414965</td>\n",
       "      <td>0.572888</td>\n",
       "      <td>-0.139991</td>\n",
       "      <td>-0.007138</td>\n",
       "      <td>...</td>\n",
       "      <td>0.014133</td>\n",
       "      <td>0.178376</td>\n",
       "      <td>0.122369</td>\n",
       "      <td>-0.054688</td>\n",
       "      <td>0.244453</td>\n",
       "      <td>-0.153420</td>\n",
       "      <td>0.015533</td>\n",
       "      <td>-0.327076</td>\n",
       "      <td>0.399219</td>\n",
       "      <td>-0.318991</td>\n",
       "    </tr>\n",
       "    <tr>\n",
       "      <td>1</td>\n",
       "      <td>0.948770</td>\n",
       "      <td>0.432373</td>\n",
       "      <td>0.571978</td>\n",
       "      <td>-0.348158</td>\n",
       "      <td>-0.178461</td>\n",
       "      <td>0.167485</td>\n",
       "      <td>0.402886</td>\n",
       "      <td>0.572597</td>\n",
       "      <td>-0.186337</td>\n",
       "      <td>-0.018113</td>\n",
       "      <td>...</td>\n",
       "      <td>-0.090340</td>\n",
       "      <td>0.162422</td>\n",
       "      <td>0.115680</td>\n",
       "      <td>-0.149221</td>\n",
       "      <td>0.251662</td>\n",
       "      <td>-0.272022</td>\n",
       "      <td>0.020678</td>\n",
       "      <td>-0.214289</td>\n",
       "      <td>0.390433</td>\n",
       "      <td>-0.316907</td>\n",
       "    </tr>\n",
       "    <tr>\n",
       "      <td>2</td>\n",
       "      <td>0.845334</td>\n",
       "      <td>0.384134</td>\n",
       "      <td>0.646599</td>\n",
       "      <td>-0.355427</td>\n",
       "      <td>-0.197960</td>\n",
       "      <td>0.261368</td>\n",
       "      <td>0.435900</td>\n",
       "      <td>0.576085</td>\n",
       "      <td>-0.280585</td>\n",
       "      <td>-0.002163</td>\n",
       "      <td>...</td>\n",
       "      <td>-0.492456</td>\n",
       "      <td>0.191994</td>\n",
       "      <td>0.130955</td>\n",
       "      <td>-0.003750</td>\n",
       "      <td>0.279173</td>\n",
       "      <td>-0.373905</td>\n",
       "      <td>-0.045229</td>\n",
       "      <td>-0.309167</td>\n",
       "      <td>0.387574</td>\n",
       "      <td>-0.321246</td>\n",
       "    </tr>\n",
       "    <tr>\n",
       "      <td>3</td>\n",
       "      <td>0.861237</td>\n",
       "      <td>0.418818</td>\n",
       "      <td>0.647518</td>\n",
       "      <td>-0.487582</td>\n",
       "      <td>-0.180896</td>\n",
       "      <td>0.233779</td>\n",
       "      <td>0.414889</td>\n",
       "      <td>0.578868</td>\n",
       "      <td>-0.271032</td>\n",
       "      <td>-0.013343</td>\n",
       "      <td>...</td>\n",
       "      <td>-0.296871</td>\n",
       "      <td>0.155505</td>\n",
       "      <td>0.119467</td>\n",
       "      <td>-0.082801</td>\n",
       "      <td>0.241735</td>\n",
       "      <td>-0.515693</td>\n",
       "      <td>0.084640</td>\n",
       "      <td>-0.338825</td>\n",
       "      <td>0.394853</td>\n",
       "      <td>-0.314185</td>\n",
       "    </tr>\n",
       "    <tr>\n",
       "      <td>4</td>\n",
       "      <td>0.853451</td>\n",
       "      <td>0.450740</td>\n",
       "      <td>0.636173</td>\n",
       "      <td>-0.352955</td>\n",
       "      <td>-0.194637</td>\n",
       "      <td>0.176374</td>\n",
       "      <td>0.428369</td>\n",
       "      <td>0.564967</td>\n",
       "      <td>-0.106015</td>\n",
       "      <td>0.021060</td>\n",
       "      <td>...</td>\n",
       "      <td>0.090049</td>\n",
       "      <td>0.186198</td>\n",
       "      <td>0.122655</td>\n",
       "      <td>-0.001006</td>\n",
       "      <td>0.243534</td>\n",
       "      <td>-0.131745</td>\n",
       "      <td>-0.029028</td>\n",
       "      <td>-0.079522</td>\n",
       "      <td>0.404512</td>\n",
       "      <td>-0.305231</td>\n",
       "    </tr>\n",
       "  </tbody>\n",
       "</table>\n",
       "<p>5 rows × 28 columns</p>\n",
       "</div>"
      ],
      "text/plain": [
       "         V1        V2        V3        V4        V5        V6        V7  \\\n",
       "0  0.845275  0.422195  0.682041 -0.249287 -0.192252  0.194647  0.414965   \n",
       "1  0.948770  0.432373  0.571978 -0.348158 -0.178461  0.167485  0.402886   \n",
       "2  0.845334  0.384134  0.646599 -0.355427 -0.197960  0.261368  0.435900   \n",
       "3  0.861237  0.418818  0.647518 -0.487582 -0.180896  0.233779  0.414889   \n",
       "4  0.853451  0.450740  0.636173 -0.352955 -0.194637  0.176374  0.428369   \n",
       "\n",
       "         V8        V9       V10  ...       V19       V20       V21       V22  \\\n",
       "0  0.572888 -0.139991 -0.007138  ...  0.014133  0.178376  0.122369 -0.054688   \n",
       "1  0.572597 -0.186337 -0.018113  ... -0.090340  0.162422  0.115680 -0.149221   \n",
       "2  0.576085 -0.280585 -0.002163  ... -0.492456  0.191994  0.130955 -0.003750   \n",
       "3  0.578868 -0.271032 -0.013343  ... -0.296871  0.155505  0.119467 -0.082801   \n",
       "4  0.564967 -0.106015  0.021060  ...  0.090049  0.186198  0.122655 -0.001006   \n",
       "\n",
       "        V23       V24       V25       V26       V27       V28  \n",
       "0  0.244453 -0.153420  0.015533 -0.327076  0.399219 -0.318991  \n",
       "1  0.251662 -0.272022  0.020678 -0.214289  0.390433 -0.316907  \n",
       "2  0.279173 -0.373905 -0.045229 -0.309167  0.387574 -0.321246  \n",
       "3  0.241735 -0.515693  0.084640 -0.338825  0.394853 -0.314185  \n",
       "4  0.243534 -0.131745 -0.029028 -0.079522  0.404512 -0.305231  \n",
       "\n",
       "[5 rows x 28 columns]"
      ]
     },
     "execution_count": 14,
     "metadata": {},
     "output_type": "execute_result"
    }
   ],
   "source": [
    "# Нормализуем параметры датасета / в части независимых переменных - сначала решаем задачу 8\n",
    "\n",
    "headers = list(ds.iloc[:,:28].columns.values)\n",
    "min_max_scaler = preprocessing.MinMaxScaler(feature_range=(-1,1))\n",
    "ds_scaled = min_max_scaler.fit_transform(ds.iloc[:,:28])\n",
    "ds_norm = pd.DataFrame(ds_scaled)\n",
    "ds_norm.columns = headers\n",
    "ds_norm.head()"
   ]
  },
  {
   "cell_type": "code",
   "execution_count": 20,
   "metadata": {},
   "outputs": [
    {
     "name": "stdout",
     "output_type": "stream",
     "text": [
      "[]\n",
      "    V1        V2        V3        V4        V5        V6        V7        V8  \\\n",
      "V1 NaN  0.128169  0.051747  0.035820  0.060428  0.032531  0.083710  0.028847   \n",
      "V2 NaN       NaN  0.091298  0.061438  0.088489  0.038327  0.145719  0.025175   \n",
      "V3 NaN       NaN       NaN  0.020371  0.075588  0.040057  0.093416  0.028323   \n",
      "\n",
      "          V9       V10  ...       V19       V20       V21       V22       V23  \\\n",
      "V1  0.004233  0.013843  ...  0.003642  0.030590  0.002819  0.018142  0.033739   \n",
      "V2  0.001363  0.028132  ...  0.021888  0.175889  0.043018  0.047288  0.068415   \n",
      "V3  0.008781  0.020024  ...  0.005636  0.035131  0.002691  0.012498  0.044404   \n",
      "\n",
      "         V24       V25       V26       V27       V28  \n",
      "V1  0.005312  0.006958  0.001125  0.015332  0.022820  \n",
      "V2  0.006383  0.022858  0.006650  0.004725  0.044127  \n",
      "V3  0.005047  0.012265  0.000105  0.017459  0.006113  \n",
      "\n",
      "[3 rows x 28 columns]\n",
      "Nothing to drop\n"
     ]
    }
   ],
   "source": [
    "#  тест на мультиколлениарность - по лекционному ноутбуку - что то не то\n",
    "corr_matrix = ds_norm.corr().abs()\n",
    "upper = corr_matrix.where(np.triu(np.ones(corr_matrix.shape), k=1).astype(np.bool))\n",
    "# Показатель мультиколлениарности в ноутбуке (>0.95)- преступно высок, , берем реальные цифры\n",
    "to_drop = [column for column in upper.columns if any(upper[column] > 0.3)]\n",
    "print(to_drop)\n",
    "\n",
    "# вижу ошибку, смотрите:\n",
    "print(upper.head(3))\n",
    "to_think = [min(upper[column]) for column in upper.columns]\n",
    "to_think[2]\n",
    "# минимальный показатель коллинеарности по V3 не может быть 0.051\n",
    "\n",
    "# для получения ответа нужно обращаться ко всей матрице корреляций, а не к треугольнику\n",
    "to_drop_2 = [column for column in corr_matrix.columns if all (corr_matrix[column] < 0.3)]\n",
    "if  len(to_drop_2) > 0:\n",
    "    print (to_drop_2)\n",
    "else:\n",
    "    print('Nothing to drop')"
   ]
  },
  {
   "cell_type": "code",
   "execution_count": 21,
   "metadata": {},
   "outputs": [
    {
     "name": "stdout",
     "output_type": "stream",
     "text": [
      "Amount    279799\n",
      "Class        339\n",
      "dtype: int64\n"
     ]
    }
   ],
   "source": [
    "input_x  = ds_norm\n",
    "output_y = ds.iloc[:,28:]\n",
    "\n",
    "le=LabelEncoder()\n",
    "targets=(output_y.iloc[:,:]==1).idxmax(1)\n",
    "print(targets.value_counts())\n",
    "Y=le.fit_transform(targets)"
   ]
  },
  {
   "cell_type": "code",
   "execution_count": 22,
   "metadata": {},
   "outputs": [
    {
     "name": "stdout",
     "output_type": "stream",
     "text": [
      "              precision    recall  f1-score   support\n",
      "\n",
      "           0       1.00      1.00      1.00     55957\n",
      "           1       0.77      0.68      0.72        71\n",
      "\n",
      "    accuracy                           1.00     56028\n",
      "   macro avg       0.89      0.84      0.86     56028\n",
      "weighted avg       1.00      1.00      1.00     56028\n",
      "\n"
     ]
    },
    {
     "data": {
      "text/plain": [
       "0.9993396159063326"
      ]
     },
     "execution_count": 22,
     "metadata": {},
     "output_type": "execute_result"
    }
   ],
   "source": [
    "X_train, X_test, y_train, y_test = train_test_split(input_x, Y, test_size=0.2)\n",
    "\n",
    "# создаем модель деревья решений\n",
    "# выбираем 100 деревьев в качестве параметра\n",
    "model=RandomForestClassifier(n_estimators=100)\n",
    "\n",
    "# обучаем модель\n",
    "model.fit(X_train, y_train)\n",
    "\n",
    "# classification report:\n",
    "model_pred = model.predict(X_test)\n",
    "print(classification_report(y_test, model_pred))\n",
    "model.score(X_test, y_test)"
   ]
  },
  {
   "cell_type": "code",
   "execution_count": 23,
   "metadata": {},
   "outputs": [
    {
     "name": "stdout",
     "output_type": "stream",
     "text": [
      "Amount    279799\n",
      "Class        339\n",
      "dtype: int64\n"
     ]
    }
   ],
   "source": [
    "# Без нормализации должно было быть бы хужеб но ....  # задача 7\n",
    "\n",
    "input_x_1  = ds.iloc[:,:28]\n",
    "output_y_1 = ds.iloc[:,28:]\n",
    "\n",
    "targets=(output_y_1.iloc[:,:]==1).idxmax(1)\n",
    "print(targets.value_counts())\n",
    "Y1=le.fit_transform(targets)"
   ]
  },
  {
   "cell_type": "code",
   "execution_count": 25,
   "metadata": {},
   "outputs": [
    {
     "name": "stdout",
     "output_type": "stream",
     "text": [
      "              precision    recall  f1-score   support\n",
      "\n",
      "           0       1.00      1.00      1.00     55959\n",
      "           1       0.83      0.64      0.72        69\n",
      "\n",
      "    accuracy                           1.00     56028\n",
      "   macro avg       0.91      0.82      0.86     56028\n",
      "weighted avg       1.00      1.00      1.00     56028\n",
      "\n"
     ]
    },
    {
     "data": {
      "text/plain": [
       "0.9993931605625759"
      ]
     },
     "execution_count": 25,
     "metadata": {},
     "output_type": "execute_result"
    }
   ],
   "source": [
    "X_train_1, X_test_1, y_train_1, y_test_1 = train_test_split(input_x_1, Y, test_size=0.2)\n",
    "model=RandomForestClassifier(n_estimators=100)\n",
    "model.fit(X_train_1,y_train_1)\n",
    "model_pred_1 = model.predict(X_test_1)\n",
    "print(classification_report(y_test_1, model_pred_1))\n",
    "model.score(X_test_1, y_test_1)"
   ]
  },
  {
   "cell_type": "markdown",
   "metadata": {},
   "source": [
    "Почему результаты расчетов сопоставимы - версия:\n",
    "Изначально в Датасете данные до нормализации были очень хороши и приемлемо сопоставимы - в жизни так бывает очень редко.\n",
    "Любая нормализация есть искажение первичных данных,  которая дает ошибку.\n",
    "В представленных расчетах ошибка от нормализации уравновесила положительный эффект от нормализации, что дало сопоставимые результаты анализа.  \n",
    "Обычно данные мене сопоставимы и нормализация дает больше хорошего чем плохого."
   ]
  },
  {
   "cell_type": "markdown",
   "metadata": {},
   "source": [
    "9. Уравновесить классы с помощью up-sampling (тестовые данные не меняем, только тренировочные)."
   ]
  },
  {
   "cell_type": "code",
   "execution_count": 240,
   "metadata": {},
   "outputs": [],
   "source": [
    "X_train,X_test,y_train,y_test = train_test_split(ds_norm,\n",
    "                                                 Y,\n",
    "                                                 test_size = 0.2,\n",
    "                                                 random_state = 3)"
   ]
  },
  {
   "cell_type": "code",
   "execution_count": 241,
   "metadata": {},
   "outputs": [
    {
     "name": "stdout",
     "output_type": "stream",
     "text": [
      "Количество элементов до операции: 196096\n",
      "Количество элементов после операции: 391716\n"
     ]
    }
   ],
   "source": [
    "ros = RandomOverSampler(random_state=0)\n",
    "ros.fit(X_train, y_train)\n",
    "X_resampled, y_resampled = ros.fit_sample(X_train, y_train)\n",
    "\n",
    "print('Количество элементов до операции:', len(X_train))\n",
    "print('Количество элементов после операции:', len(X_resampled))"
   ]
  },
  {
   "cell_type": "code",
   "execution_count": null,
   "metadata": {},
   "outputs": [],
   "source": []
  }
 ],
 "metadata": {
  "kernelspec": {
   "display_name": "Python 3",
   "language": "python",
   "name": "python3"
  },
  "language_info": {
   "codemirror_mode": {
    "name": "ipython",
    "version": 3
   },
   "file_extension": ".py",
   "mimetype": "text/x-python",
   "name": "python",
   "nbconvert_exporter": "python",
   "pygments_lexer": "ipython3",
   "version": "3.7.4"
  }
 },
 "nbformat": 4,
 "nbformat_minor": 2
}
