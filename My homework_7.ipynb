{
 "cells": [
  {
   "cell_type": "code",
   "execution_count": 34,
   "metadata": {},
   "outputs": [
    {
     "name": "stdout",
     "output_type": "stream",
     "text": [
      "['2018-02-28', '2018-03-01', '2018-03-02', '2018-03-03', '2018-03-04']\n"
     ]
    }
   ],
   "source": [
    "#Задание 1 \n",
    "#Напишите функцию date_range, которая возвращает список дней между датами \n",
    "#start_date и end_date. Даты должны вводиться в формате YYYY-MM-DD.\n",
    "\n",
    "from datetime import datetime\n",
    "from datetime import timedelta \n",
    "\n",
    "def date_range(start_date, end_date):\n",
    "    l_date = []\n",
    "    print_date = datetime.strptime(start_date, '%Y-%m-%d') + timedelta(days=1)\n",
    "    last_date = datetime.strptime(end_date, '%Y-%m-%d')\n",
    "    while print_date < last_date:\n",
    "        l_date.append(print_date.strftime('%Y-%m-%d'))\n",
    "        print_date += timedelta(days=1)    \n",
    "    print(l_date)\n",
    "    \n",
    "date_range('2018-02-27', '2018-03-05')"
   ]
  },
  {
   "cell_type": "code",
   "execution_count": 22,
   "metadata": {},
   "outputs": [
    {
     "name": "stdout",
     "output_type": "stream",
     "text": [
      "Введите дату начала периода в формате YYYY-MM-DD  2020-03-03\n",
      "Введите дату завершения периода в формате YYYY-MM-DD  2020-03-08\n",
      "['2020-03-04', '2020-03-05', '2020-03-06', '2020-03-07']\n"
     ]
    }
   ],
   "source": [
    "# Задание 2 \n",
    "#Дополните функцию из первого задания проверкой на корректность дат. \n",
    "# В случае неверного формата или если start_date > end_date должен возвращаться пустой список.\n",
    "\n",
    "from datetime import datetime\n",
    "from datetime import timedelta \n",
    "\n",
    "def date_range():\n",
    "    l_date = []\n",
    "    i=0\n",
    "    try:\n",
    "        start_date = input ('Введите дату начала периода в формате YYYY-MM-DD  ')\n",
    "        print_date = datetime.strptime(start_date, '%Y-%m-%d') + timedelta(days=1)\n",
    "    except:\n",
    "        print('Неверно указана дата начала периода:', start_date)\n",
    "        i+=1\n",
    "    try:\n",
    "        end_date = input ('Введите дату завершения периода в формате YYYY-MM-DD  ')\n",
    "        last_date = datetime.strptime(end_date, '%Y-%m-%d') \n",
    "    except:\n",
    "        print('Неверно указана дата завершения периода:', end_date)\n",
    "        i+=1\n",
    "    try: \n",
    "        if start_date > end_date:\n",
    "            print('Последовательность дат некорректна. Интервал не может быть создан:')\n",
    "            i+=1\n",
    "    finally: \n",
    "        if i==0:\n",
    "            while print_date < last_date:\n",
    "                l_date.append(print_date.strftime('%Y-%m-%d'))\n",
    "                print_date += timedelta(days=1)    \n",
    "        print(l_date)\n",
    "    \n",
    "date_range()"
   ]
  },
  {
   "cell_type": "code",
   "execution_count": 9,
   "metadata": {},
   "outputs": [
    {
     "name": "stdout",
     "output_type": "stream",
     "text": [
      "2018-04-02 True\n",
      "2018-02-29 False\n",
      "2018-19-02 False\n"
     ]
    }
   ],
   "source": [
    "#Задание 3 \n",
    "#Дан поток дат в формате YYYY-MM-DD, в которых встречаются некорректные значения: \n",
    "# Напишите функцию, которая проверяет эти даты на корректность. \n",
    "\n",
    "from datetime import datetime\n",
    "stream = ['2018-04-02', '2018-02-29', '2018-19-02']\n",
    "def check_date(s_date):\n",
    "    for i in s_date:\n",
    "        try:\n",
    "            i = datetime.strptime(i, '%Y-%m-%d')\n",
    "            print(i.strftime('%Y-%m-%d'), 'True')\n",
    "        except:\n",
    "            print(i, 'False')\n",
    "check_date(stream)"
   ]
  },
  {
   "cell_type": "code",
   "execution_count": null,
   "metadata": {},
   "outputs": [],
   "source": [
    "#Задание 4 (бонусное) Ваш коллега прислал код функции:\n",
    "DEFAULT_USER_COUNT = 3\n",
    "def delete_and_return_last_user(region, default_list=[‘A100’, ‘A101’, ‘A102’]): \n",
    "    element_to_delete = default_list[-1]\n",
    "    default_list.remove(element_to_delete)\n",
    "    return default_list[DEFAULT_USER_COUNT-2] "
   ]
  },
  {
   "cell_type": "code",
   "execution_count": null,
   "metadata": {},
   "outputs": [],
   "source": [
    "Задание:\n",
    "Что значит ошибка list index out of range? \n",
    "Почему при первом запуске функция работает корректно, а при втором - нет?\n",
    "\n",
    "Ответ:  \n",
    "1.  Содержание действия в составе функции delete_and_return_last_user это удаление \n",
    "последнего элемента списка, то есть сокращение количества элементов списка.\n",
    "2.  Если предполагается, что функция по отношению к списку вызывается более одного \n",
    "раза, то количество элементов списка (DEFAULT_USER_COUNT) не может быть константой \n",
    "(логическая ошибка) - это расчетная величина.\n",
    "3. В представленном случае, результатом повторного (№2)  запуска функции должно \n",
    "стать:\n",
    "    - количество элементов списка = 1 (3-1-1)\n",
    "    - индекс (результирующего) элемента  [-2]\n",
    "    в списке из одного элемента не может быть второго элемента с конца"
   ]
  }
 ],
 "metadata": {
  "kernelspec": {
   "display_name": "Python 3",
   "language": "python",
   "name": "python3"
  },
  "language_info": {
   "codemirror_mode": {
    "name": "ipython",
    "version": 3
   },
   "file_extension": ".py",
   "mimetype": "text/x-python",
   "name": "python",
   "nbconvert_exporter": "python",
   "pygments_lexer": "ipython3",
   "version": "3.7.4"
  }
 },
 "nbformat": 4,
 "nbformat_minor": 2
}
