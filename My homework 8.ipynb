{
 "cells": [
  {
   "cell_type": "code",
   "execution_count": null,
   "metadata": {},
   "outputs": [],
   "source": [
    "#Задание 1\n",
    "#Напишите функцию, которая возвращает название валюты (поле ‘Name’) \n",
    "#с максимальным значением курса \n",
    "#с помощью сервиса https://www.cbr-xml-daily.ru/daily_json.js"
   ]
  },
  {
   "cell_type": "code",
   "execution_count": 37,
   "metadata": {},
   "outputs": [
    {
     "name": "stdout",
     "output_type": "stream",
     "text": [
      "Валюта с максимальным значением курса - СДР (специальные права заимствования) 101.4571\n"
     ]
    }
   ],
   "source": [
    "import requests\n",
    "import json\n",
    "\n",
    "def currency_max_rate():\n",
    "    response = requests.get('https://www.cbr-xml-daily.ru/daily_json.js')\n",
    "    json = response.json()\n",
    "    max_currency = None\n",
    "\n",
    "    for key, currency in json['Valute'].items():\n",
    "        current_currency = {'name': currency['Name'], 'rate': currency['Value'] / currency['Nominal']}\n",
    "        if max_currency is None or max_currency['rate'] < current_currency['rate']:\n",
    "            max_currency = current_currency\n",
    "    return max_currency\n",
    "\n",
    "print('Валюта с максимальным значением курса -', currency_max_rate()['name'], currency_max_rate()['rate'])\n"
   ]
  },
  {
   "cell_type": "code",
   "execution_count": null,
   "metadata": {},
   "outputs": [],
   "source": [
    "#Задание 2\n",
    "#Добавьте в класс Rate параметр diff (со значениями True или False), \n",
    "#который в случае значения True в методах eur и usd будет возвращать \n",
    "#не курс валюты, а изменение по сравнению в прошлым значением. \n",
    "#Считайте, self.diff будет принимать значение True только при возврате значения курса. \n",
    "#При отображении всей информации о валюте он не используется."
   ]
  },
  {
   "cell_type": "code",
   "execution_count": 33,
   "metadata": {},
   "outputs": [
    {
     "name": "stdout",
     "output_type": "stream",
     "text": [
      "{'ID': 'R01239', 'NumCode': '978', 'CharCode': 'EUR', 'Nominal': 1, 'Name': 'Евро', 'Value': 81.861, 'Previous': 83.6584}\n",
      "81.861\n",
      "15.2743\n",
      "-1.7973999999999961\n"
     ]
    }
   ],
   "source": [
    "import requests\n",
    "class Rate:\n",
    "    def __init__(self, format_='value', diff=False):\n",
    "        self.format = format_\n",
    "        self.diff=diff\n",
    "        \n",
    "    def exchange_rates(self):\n",
    "        self.r = requests.get('https://www.cbr-xml-daily.ru/daily_json.js')\n",
    "        return self.r.json()['Valute']\n",
    "    \n",
    "    def make_format(self, currency, c_diff=0):       \n",
    "        response = self.exchange_rates()  \n",
    "        currency_diff = c_diff      \n",
    "        if currency in response:\n",
    "            if self.format == 'full':\n",
    "                return response[currency]            \n",
    "            if self.format == 'value':\n",
    "                if self.diff == True and currency_diff == 1:\n",
    "                    return response[currency]['Value']-response[currency]['Previous']                \n",
    "                else:\n",
    "                    return response[currency]['Value']\n",
    "        return 'Ошибка в коде валюты'\n",
    "    \n",
    "    def eur(self, c_diff=1):\n",
    "        return self.make_format('EUR', c_diff)       \n",
    "    def usd(self, c_diff=1):        \n",
    "        return self.make_format('USD', c_diff)    \n",
    "    def brl(self):\n",
    "        return self.make_format('BRL') \n",
    "    \n",
    "print (Rate(format_='full').make_format('EUR'))\n",
    "print (Rate(format_='value').make_format('EUR'))\n",
    "print (Rate(format_='value', diff=True).make_format('BRL'))\n",
    "print (Rate(diff=True).eur())\n"
   ]
  },
  {
   "cell_type": "code",
   "execution_count": 35,
   "metadata": {},
   "outputs": [],
   "source": [
    "# Задание 3\n",
    "# Напишите класс Designer, который учитывает количество международных премий. \n",
    "# (\"Повышение на 1 грейд за каждые 7 баллов. Получение международной премии – это +2 балла\").  \n",
    "# Считайте, что при выходе на работу сотрудник уже имеет две премии и их количество не меняется со стажем \n",
    "# Выполните проверку для 20 аккредитаций дизайнера Елены."
   ]
  },
  {
   "cell_type": "code",
   "execution_count": 12,
   "metadata": {},
   "outputs": [
    {
     "name": "stdout",
     "output_type": "stream",
     "text": [
      "Анна 5 1\n",
      "Анна 6 1\n",
      "Анна 7 2\n",
      "Анна 8 2\n",
      "Анна 9 2\n",
      "Анна 10 2\n",
      "Анна 11 2\n",
      "Анна 12 2\n",
      "Анна 13 2\n",
      "Анна 14 3\n",
      "Анна 15 3\n",
      "Анна 16 3\n",
      "Анна 17 3\n",
      "Анна 18 3\n",
      "Анна 19 3\n",
      "Анна 20 3\n",
      "Анна 21 4\n",
      "Анна 22 4\n",
      "Анна 23 4\n",
      "Анна 24 4\n"
     ]
    }
   ],
   "source": [
    "class Designer:\n",
    "    def __init__(self, name, seniority=0, int_awards=2):\n",
    "        self.name = name\n",
    "        self.seniority = int_awards*2\n",
    "        self.grade = 1\n",
    "       \n",
    "    def grade_up (self):\n",
    "        self.grade += 1\n",
    "    \n",
    "    def check_if_it_is_time_for_upgrade(self):\n",
    "        self.seniority += 1\n",
    "        if self.seniority % 7 == 0:\n",
    "            self.grade_up()            \n",
    "        return self.seniority, self.grade\n",
    "    \n",
    "    def publish_grade(self):\n",
    "        print(self.name, self.seniority, self.grade)\n",
    "    \n",
    "Ann = Designer('Анна')\n",
    "\n",
    "for i in range(20):\n",
    "    Ann.check_if_it_is_time_for_upgrade()\n",
    "    Ann.publish_grade()\n"
   ]
  },
  {
   "cell_type": "code",
   "execution_count": null,
   "metadata": {},
   "outputs": [],
   "source": []
  }
 ],
 "metadata": {
  "kernelspec": {
   "display_name": "Python 3",
   "language": "python",
   "name": "python3"
  },
  "language_info": {
   "codemirror_mode": {
    "name": "ipython",
    "version": 3
   },
   "file_extension": ".py",
   "mimetype": "text/x-python",
   "name": "python",
   "nbconvert_exporter": "python",
   "pygments_lexer": "ipython3",
   "version": "3.7.4"
  }
 },
 "nbformat": 4,
 "nbformat_minor": 2
}
