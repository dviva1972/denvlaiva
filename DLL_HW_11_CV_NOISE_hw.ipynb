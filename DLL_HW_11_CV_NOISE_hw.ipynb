{
  "nbformat": 4,
  "nbformat_minor": 0,
  "metadata": {
    "colab": {
      "name": "DLL_HW_11_CV_NOISE.hw.ipynb",
      "provenance": [],
      "collapsed_sections": [],
      "include_colab_link": true
    },
    "kernelspec": {
      "name": "python3",
      "display_name": "Python 3"
    },
    "language_info": {
      "name": "python"
    }
  },
  "cells": [
    {
      "cell_type": "markdown",
      "metadata": {
        "id": "view-in-github",
        "colab_type": "text"
      },
      "source": [
        "<a href=\"https://colab.research.google.com/github/dviva1972/denvlaiva/blob/master/DLL_HW_11_CV_NOISE_hw.ipynb\" target=\"_parent\"><img src=\"https://colab.research.google.com/assets/colab-badge.svg\" alt=\"Open In Colab\"/></a>"
      ]
    },
    {
      "cell_type": "markdown",
      "metadata": {
        "id": "kDgFV2qNmj7Z"
      },
      "source": [
        "## DLL\n",
        "\n",
        "## Домашняя работа 11 | CV-3\n",
        "\n",
        "## Иванов Денис"
      ]
    },
    {
      "cell_type": "markdown",
      "metadata": {
        "id": "eUK35-0Zfi3F"
      },
      "source": [
        "###Задание \n",
        "Возьмите MNIST, обучите на нем LeNet\n",
        "\n",
        "Обучите шум, который при добавлении к оригинальной картинке MNIST, заставит модель ошибаться в пользу заданного класса"
      ]
    },
    {
      "cell_type": "markdown",
      "metadata": {
        "id": "7ccBcHlEaO0r"
      },
      "source": [
        "### 1. Импорт библиотек"
      ]
    },
    {
      "cell_type": "code",
      "metadata": {
        "id": "0NRNWoW7m5eq"
      },
      "source": [
        "import torch\n",
        "import torch.nn as nn\n",
        "import torch.optim as optim\n",
        "import torch.nn.functional as F\n",
        "from torchvision import datasets, transforms\n",
        "from torch.autograd import Variable\n",
        "\n",
        "from PIL import Image\n",
        "import numpy as np\n",
        "import random"
      ],
      "execution_count": null,
      "outputs": []
    },
    {
      "cell_type": "code",
      "metadata": {
        "id": "vMbX2yqywbvU",
        "colab": {
          "base_uri": "https://localhost:8080/"
        },
        "outputId": "4b1e9fff-53a9-4633-95ac-c9468f845456"
      },
      "source": [
        "dev = torch.device('cuda:0' if torch.cuda.is_available() else 'cpu')\n",
        "print(f\"work on {(torch.cuda.get_device_name() if dev.type == 'cuda' else 'cpu')}\")"
      ],
      "execution_count": null,
      "outputs": [
        {
          "output_type": "stream",
          "name": "stdout",
          "text": [
            "work on cpu\n"
          ]
        }
      ]
    },
    {
      "cell_type": "markdown",
      "metadata": {
        "id": "zrMVWTG-abDX"
      },
      "source": [
        "### 2. Загрузка данных"
      ]
    },
    {
      "cell_type": "code",
      "metadata": {
        "id": "OAp2pt4hm5lf"
      },
      "source": [
        "def load_data(train_batch_size, test_batch_size):\n",
        "    train_loader = torch.utils.data.DataLoader(\n",
        "        datasets.MNIST('data', train=True, download=True,\n",
        "                       transform=transforms.Compose([\n",
        "                           transforms.Resize((32, 32)),\n",
        "                           transforms.ToTensor(),\n",
        "                           transforms.Normalize((0.1307,), (0.3081,))\n",
        "                       ])),\n",
        "        batch_size=train_batch_size, shuffle=True)\n",
        "\n",
        "    test_loader = torch.utils.data.DataLoader(\n",
        "        datasets.MNIST('data', train=False, transform=transforms.Compose([\n",
        "            transforms.Resize((32, 32)),\n",
        "            transforms.ToTensor(),\n",
        "            transforms.Normalize((0.1307,), (0.3081,))\n",
        "        ])),\n",
        "        batch_size=test_batch_size, shuffle=True)\n",
        "\n",
        "    return (train_loader, test_loader)"
      ],
      "execution_count": null,
      "outputs": []
    },
    {
      "cell_type": "markdown",
      "metadata": {
        "id": "xURQi9sraoEV"
      },
      "source": [
        "### 3. MNIST to LeNet\n",
        "\n",
        "https://www.kaggle.com/vincentman0403/pytorch-v0-3-1b-on-mnist-by-lenet"
      ]
    },
    {
      "cell_type": "markdown",
      "metadata": {
        "id": "nZ4wpprcbdX4"
      },
      "source": [
        "#### 3.1. Конфигурация и базовые функции \n",
        "\n",
        "##### https://www.kaggle.com/vincentman0403/pytorch-v0-3-1b-on-mnist-by-lenet"
      ]
    },
    {
      "cell_type": "code",
      "metadata": {
        "id": "GmK_YRhSm5iH"
      },
      "source": [
        "class LeNet(nn.Module):  # try LeNet from DLL11\n",
        "    def __init__(self):\n",
        "        super(LeNet, self).__init__()\n",
        "        self.conv1 = nn.Conv2d(1, 6, 5)\n",
        "        self.conv2 = nn.Conv2d(6, 16, 5)      \n",
        "        self.fc1 = nn.Linear(16 * 5 * 5, 120)          \n",
        "        self.fc2 = nn.Linear(120, 84)         \n",
        "        self.fc3 = nn.Linear(84, 10)\n",
        "\n",
        "    def forward(self, x):\n",
        "        x = F.max_pool2d(F.relu(self.conv1(x)), 2)\n",
        "        x = F.max_pool2d(F.relu(self.conv2(x)), 2)   \n",
        "        x = x.view(x.size()[0], -1)\n",
        "        x = F.relu(self.fc1(x))\n",
        "        x = F.relu(self.fc2(x))\n",
        "        x = self.fc3(x)\n",
        "        return x"
      ],
      "execution_count": null,
      "outputs": []
    },
    {
      "cell_type": "code",
      "metadata": {
        "id": "7B_syNCqm5o1"
      },
      "source": [
        "def train(model, optimizer, epoch, train_loader, log_interval):\n",
        "    model.train()\n",
        "    loss_fn = torch.nn.CrossEntropyLoss()\n",
        "    for batch_idx, (data, target) in enumerate(train_loader):\n",
        "        data, target = Variable(data), Variable(target)\n",
        "        optimizer.zero_grad()\n",
        "        output = model(data)\n",
        "        loss = loss_fn(output, target)\n",
        "        loss.backward()\n",
        "        optimizer.step()\n",
        "        if batch_idx % log_interval == 0:\n",
        "            print('Train set, Epoch {} [{}/{} ({:.0f}%)]\\tLoss: {:.6f}'.format(\n",
        "                epoch, batch_idx * len(data), len(train_loader.dataset),\n",
        "                       100. * batch_idx / len(train_loader),\n",
        "                loss.data#[0]\n",
        "                ))"
      ],
      "execution_count": null,
      "outputs": []
    },
    {
      "cell_type": "code",
      "metadata": {
        "id": "QGcU4n6Mm5v7"
      },
      "source": [
        "def test(model, epoch, test_loader):\n",
        "    model.eval()\n",
        "    test_loss = 0\n",
        "    correct = 0\n",
        "    loss_fn = torch.nn.CrossEntropyLoss(size_average=False)\n",
        "    for data, target in test_loader:\n",
        "        data, target = Variable(data), Variable(target)\n",
        "        output = model(data)\n",
        "        test_loss = loss_fn(output, target)\n",
        "        pred = np.argmax(output.data, axis=1)\n",
        "        correct = correct + np.equal(pred, target.data).sum()\n",
        "    test_loss /= len(test_loader.dataset)\n",
        "    print('\\nTest set, Epoch {} , Average loss: {:.4f}, Accuracy: {}/{} ({:.0f}%)\\n'.format(epoch,\n",
        "        test_loss, correct, len(test_loader.dataset),\n",
        "        100. * correct / len(test_loader.dataset)))"
      ],
      "execution_count": null,
      "outputs": []
    },
    {
      "cell_type": "markdown",
      "metadata": {
        "id": "xJGXycYyb0_4"
      },
      "source": [
        "### 3.2.  Обучение LeNet"
      ]
    },
    {
      "cell_type": "code",
      "metadata": {
        "colab": {
          "base_uri": "https://localhost:8080/"
        },
        "id": "fSYKAfr-m5zB",
        "outputId": "b3bda6c3-b6d1-4e4a-eb5a-e1b22bd3d17c"
      },
      "source": [
        "torch.manual_seed(123)\n",
        "\n",
        "model = LeNet()\n",
        "\n",
        "lr = 0.0005\n",
        "optimizer = optim.SGD(model.parameters(), lr=lr, momentum=momentum)\n",
        "\n",
        "train_batch_size = 128\n",
        "test_batch_size = 1000\n",
        "train_loader, test_loader = load_data(train_batch_size, test_batch_size)\n",
        "\n",
        "epochs = 10\n",
        "log_interval = 100\n",
        "for epoch in range(1, epochs + 1):\n",
        "    train(model, optimizer, epoch, train_loader, log_interval=log_interval)\n",
        "    test(model, epoch, test_loader)"
      ],
      "execution_count": null,
      "outputs": [
        {
          "output_type": "stream",
          "name": "stdout",
          "text": [
            "Train set, Epoch 1 [0/60000 (0%)]\tLoss: 2.297626\n",
            "Train set, Epoch 1 [12800/60000 (21%)]\tLoss: 2.295653\n",
            "Train set, Epoch 1 [25600/60000 (43%)]\tLoss: 2.295305\n",
            "Train set, Epoch 1 [38400/60000 (64%)]\tLoss: 2.295582\n",
            "Train set, Epoch 1 [51200/60000 (85%)]\tLoss: 2.292281\n"
          ]
        },
        {
          "output_type": "stream",
          "name": "stderr",
          "text": [
            "/usr/local/lib/python3.7/dist-packages/torch/nn/_reduction.py:42: UserWarning: size_average and reduce args will be deprecated, please use reduction='sum' instead.\n",
            "  warnings.warn(warning.format(ret))\n"
          ]
        },
        {
          "output_type": "stream",
          "name": "stdout",
          "text": [
            "\n",
            "Test set, Epoch 1 , Average loss: 0.2289, Accuracy: 1252/10000 (13%)\n",
            "\n",
            "Train set, Epoch 2 [0/60000 (0%)]\tLoss: 2.280790\n",
            "Train set, Epoch 2 [12800/60000 (21%)]\tLoss: 2.283422\n",
            "Train set, Epoch 2 [25600/60000 (43%)]\tLoss: 2.279119\n",
            "Train set, Epoch 2 [38400/60000 (64%)]\tLoss: 2.277004\n",
            "Train set, Epoch 2 [51200/60000 (85%)]\tLoss: 2.273926\n",
            "\n",
            "Test set, Epoch 2 , Average loss: 0.2265, Accuracy: 2586/10000 (26%)\n",
            "\n",
            "Train set, Epoch 3 [0/60000 (0%)]\tLoss: 2.261367\n",
            "Train set, Epoch 3 [12800/60000 (21%)]\tLoss: 2.252381\n",
            "Train set, Epoch 3 [25600/60000 (43%)]\tLoss: 2.239599\n",
            "Train set, Epoch 3 [38400/60000 (64%)]\tLoss: 2.229549\n",
            "Train set, Epoch 3 [51200/60000 (85%)]\tLoss: 2.223428\n",
            "\n",
            "Test set, Epoch 3 , Average loss: 0.2217, Accuracy: 3368/10000 (34%)\n",
            "\n",
            "Train set, Epoch 4 [0/60000 (0%)]\tLoss: 2.218352\n",
            "Train set, Epoch 4 [12800/60000 (21%)]\tLoss: 2.216971\n",
            "Train set, Epoch 4 [25600/60000 (43%)]\tLoss: 2.185018\n",
            "Train set, Epoch 4 [38400/60000 (64%)]\tLoss: 2.171707\n",
            "Train set, Epoch 4 [51200/60000 (85%)]\tLoss: 2.139733\n",
            "\n",
            "Test set, Epoch 4 , Average loss: 0.2113, Accuracy: 3788/10000 (38%)\n",
            "\n",
            "Train set, Epoch 5 [0/60000 (0%)]\tLoss: 2.125468\n",
            "Train set, Epoch 5 [12800/60000 (21%)]\tLoss: 2.070656\n",
            "Train set, Epoch 5 [25600/60000 (43%)]\tLoss: 2.019948\n",
            "Train set, Epoch 5 [38400/60000 (64%)]\tLoss: 1.919191\n",
            "Train set, Epoch 5 [51200/60000 (85%)]\tLoss: 1.836943\n",
            "\n",
            "Test set, Epoch 5 , Average loss: 0.1753, Accuracy: 5983/10000 (60%)\n",
            "\n",
            "Train set, Epoch 6 [0/60000 (0%)]\tLoss: 1.708060\n",
            "Train set, Epoch 6 [12800/60000 (21%)]\tLoss: 1.619945\n",
            "Train set, Epoch 6 [25600/60000 (43%)]\tLoss: 1.514064\n",
            "Train set, Epoch 6 [38400/60000 (64%)]\tLoss: 1.232798\n",
            "Train set, Epoch 6 [51200/60000 (85%)]\tLoss: 1.081821\n",
            "\n",
            "Test set, Epoch 6 , Average loss: 0.0939, Accuracy: 7592/10000 (76%)\n",
            "\n",
            "Train set, Epoch 7 [0/60000 (0%)]\tLoss: 0.968882\n",
            "Train set, Epoch 7 [12800/60000 (21%)]\tLoss: 0.869960\n",
            "Train set, Epoch 7 [25600/60000 (43%)]\tLoss: 0.677272\n",
            "Train set, Epoch 7 [38400/60000 (64%)]\tLoss: 0.759508\n",
            "Train set, Epoch 7 [51200/60000 (85%)]\tLoss: 0.667208\n",
            "\n",
            "Test set, Epoch 7 , Average loss: 0.0623, Accuracy: 8183/10000 (82%)\n",
            "\n",
            "Train set, Epoch 8 [0/60000 (0%)]\tLoss: 0.604901\n",
            "Train set, Epoch 8 [12800/60000 (21%)]\tLoss: 0.702670\n",
            "Train set, Epoch 8 [25600/60000 (43%)]\tLoss: 0.693909\n",
            "Train set, Epoch 8 [38400/60000 (64%)]\tLoss: 0.516467\n",
            "Train set, Epoch 8 [51200/60000 (85%)]\tLoss: 0.667822\n",
            "\n",
            "Test set, Epoch 8 , Average loss: 0.0478, Accuracy: 8545/10000 (85%)\n",
            "\n",
            "Train set, Epoch 9 [0/60000 (0%)]\tLoss: 0.539673\n",
            "Train set, Epoch 9 [12800/60000 (21%)]\tLoss: 0.553818\n",
            "Train set, Epoch 9 [25600/60000 (43%)]\tLoss: 0.476978\n",
            "Train set, Epoch 9 [38400/60000 (64%)]\tLoss: 0.505147\n",
            "Train set, Epoch 9 [51200/60000 (85%)]\tLoss: 0.509548\n",
            "\n",
            "Test set, Epoch 9 , Average loss: 0.0462, Accuracy: 8754/10000 (88%)\n",
            "\n",
            "Train set, Epoch 10 [0/60000 (0%)]\tLoss: 0.499371\n",
            "Train set, Epoch 10 [12800/60000 (21%)]\tLoss: 0.304475\n",
            "Train set, Epoch 10 [25600/60000 (43%)]\tLoss: 0.426353\n",
            "Train set, Epoch 10 [38400/60000 (64%)]\tLoss: 0.509129\n",
            "Train set, Epoch 10 [51200/60000 (85%)]\tLoss: 0.314797\n",
            "\n",
            "Test set, Epoch 10 , Average loss: 0.0372, Accuracy: 8866/10000 (89%)\n",
            "\n"
          ]
        }
      ]
    },
    {
      "cell_type": "code",
      "metadata": {
        "id": "cEnv5466y675",
        "colab": {
          "base_uri": "https://localhost:8080/"
        },
        "outputId": "6b409405-767b-42a0-d17f-e6f903f41d0b"
      },
      "source": [
        "model.eval()"
      ],
      "execution_count": null,
      "outputs": [
        {
          "output_type": "execute_result",
          "data": {
            "text/plain": [
              "LeNet(\n",
              "  (conv1): Conv2d(1, 6, kernel_size=(5, 5), stride=(1, 1))\n",
              "  (conv2): Conv2d(6, 16, kernel_size=(5, 5), stride=(1, 1))\n",
              "  (fc1): Linear(in_features=400, out_features=120, bias=True)\n",
              "  (fc2): Linear(in_features=120, out_features=84, bias=True)\n",
              "  (fc3): Linear(in_features=84, out_features=10, bias=True)\n",
              ")"
            ]
          },
          "metadata": {},
          "execution_count": 12
        }
      ]
    },
    {
      "cell_type": "markdown",
      "metadata": {
        "id": "f6iZIT_icM6v"
      },
      "source": [
        "### 4.  Обучение шума"
      ]
    },
    {
      "cell_type": "markdown",
      "metadata": {
        "id": "Ho75CqLMdkNL"
      },
      "source": [
        "#### 4.1. генерация случайного шума"
      ]
    },
    {
      "cell_type": "code",
      "metadata": {
        "id": "e-HDubuOy675"
      },
      "source": [
        "def noise_func(size, n):\n",
        "    h_points   = [random.choice(range(size)) for _ in range(n)]\n",
        "    w_points   = [random.choice(range(size)) for _ in range(n)]\n",
        "    matr_noise = np.ones((size, size))\n",
        "    for i in range(n):\n",
        "        matr_noise[w_points[i]][h_points[i]] = 0\n",
        "    return torch.from_numpy(matr_noise).float()"
      ],
      "execution_count": null,
      "outputs": []
    },
    {
      "cell_type": "markdown",
      "metadata": {
        "id": "pOeG0htxdtUx"
      },
      "source": [
        "#### 4.2. обучение случайного шума на  достижение схожести (любой)  произвольной картинки MNIST c целевым классом - 8 "
      ]
    },
    {
      "cell_type": "code",
      "metadata": {
        "id": "EI5Fc2upy67y"
      },
      "source": [
        "class Net1(nn.Module):\n",
        "    def __init__(self):\n",
        "        super().__init__()\n",
        "        self.line = nn.Linear(1024,1024)\n",
        "    def forward(self, input):\n",
        "        x = self.line(input.flatten())\n",
        "        x = x.view((32,32))\n",
        "        return x\n",
        "\n",
        "model_noise  = Net1()"
      ],
      "execution_count": null,
      "outputs": []
    },
    {
      "cell_type": "code",
      "metadata": {
        "id": "7Li81HKQm542",
        "colab": {
          "base_uri": "https://localhost:8080/"
        },
        "outputId": "406dfba1-52c0-4b57-eb4a-529c58801f75"
      },
      "source": [
        "train_loader, test_loader = load_data(10000, 10000)\n",
        "\n",
        "optim   = torch.optim.SGD(model_noise.parameters(), lr = 0.00002)\n",
        "crit    =  nn.CrossEntropyLoss()\n",
        "n_iters = 10\n",
        "target  = 8\n",
        "\n",
        "train_scores = []\n",
        "\n",
        "model_noise.train()\n",
        "\n",
        "for iter in range(n_iters):\n",
        "    for batch_idx, (data, target) in enumerate(train_loader):\n",
        "        X, y = Variable(data), Variable(target)\n",
        "        optim.zero_grad()\n",
        "        for noise_iter in range(25):\n",
        "            noise_matrix = noise_func(32, 100)\n",
        "            pred = model(X*model_noise(noise_matrix)).float()\n",
        "            y = y * 0 + target\n",
        "            loss = crit(pred, y) \n",
        "            train_score = torch.sum(torch.argmax(pred, axis=1) == y\n",
        "                                    ).item() / y.shape[0]\n",
        "            train_scores.append(train_score)\n",
        "            if train_score > best_score:\n",
        "                best_score = train_score\n",
        "                best_loss  = loss\n",
        "            loss.backward() \n",
        "            optim.step()    \n",
        "                       \n",
        "    print(f'iter {iter}, loss = {loss}, train score = {np.mean(train_scores)}')"
      ],
      "execution_count": null,
      "outputs": [
        {
          "output_type": "stream",
          "name": "stdout",
          "text": [
            "iter 0, loss = 0.8646298050880432, train score = 0.6577173333333334\n",
            "iter 1, loss = 0.6982666254043579, train score = 0.734982\n",
            "iter 2, loss = 0.598858118057251, train score = 0.7682935555555555\n",
            "iter 3, loss = 0.5670689940452576, train score = 0.787813\n",
            "iter 4, loss = 0.5209929943084717, train score = 0.8007902666666668\n",
            "iter 5, loss = 0.5264170169830322, train score = 0.810158\n",
            "iter 6, loss = 0.5017315149307251, train score = 0.8173024761904761\n",
            "iter 7, loss = 0.4829837381839752, train score = 0.8230334166666667\n",
            "iter 8, loss = 0.4802733361721039, train score = 0.827715111111111\n",
            "iter 9, loss = 0.44495707750320435, train score = 0.8316031333333334\n"
          ]
        }
      ]
    }
  ]
}