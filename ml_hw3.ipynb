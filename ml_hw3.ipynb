{
 "cells": [
  {
   "cell_type": "markdown",
   "metadata": {},
   "source": [
    "Денис Иванов"
   ]
  },
  {
   "cell_type": "markdown",
   "metadata": {},
   "source": [
    "Домашнее задание\n",
    "\n",
    "На базе dataset'а Iris, только в части данных  по 2 классам : Iris Versicolor и Iris Virginica\n",
    "реализовать самостоятельно логистическую регрессию и обучить ее методами: градиентный спуск, nesterov momentum,  rmsprop"
   ]
  },
  {
   "cell_type": "code",
   "execution_count": 1,
   "metadata": {},
   "outputs": [],
   "source": [
    "import pandas as pd\n",
    "import numpy as np\n",
    "\n",
    "from sklearn import datasets\n",
    "from sklearn.model_selection import train_test_split\n",
    "from sklearn import preprocessing\n",
    "from sklearn.linear_model import LogisticRegression\n",
    "from sklearn.metrics import accuracy_score, roc_auc_score, precision_score, f1_score, recall_score\n"
   ]
  },
  {
   "cell_type": "code",
   "execution_count": 14,
   "metadata": {},
   "outputs": [
    {
     "data": {
      "text/html": [
       "<div>\n",
       "<style scoped>\n",
       "    .dataframe tbody tr th:only-of-type {\n",
       "        vertical-align: middle;\n",
       "    }\n",
       "\n",
       "    .dataframe tbody tr th {\n",
       "        vertical-align: top;\n",
       "    }\n",
       "\n",
       "    .dataframe thead th {\n",
       "        text-align: right;\n",
       "    }\n",
       "</style>\n",
       "<table border=\"1\" class=\"dataframe\">\n",
       "  <thead>\n",
       "    <tr style=\"text-align: right;\">\n",
       "      <th></th>\n",
       "      <th>sepal length (cm)</th>\n",
       "      <th>sepal width (cm)</th>\n",
       "      <th>petal length (cm)</th>\n",
       "      <th>petal width (cm)</th>\n",
       "      <th>target</th>\n",
       "    </tr>\n",
       "  </thead>\n",
       "  <tbody>\n",
       "    <tr>\n",
       "      <td>0</td>\n",
       "      <td>5.1</td>\n",
       "      <td>3.5</td>\n",
       "      <td>1.4</td>\n",
       "      <td>0.2</td>\n",
       "      <td>0</td>\n",
       "    </tr>\n",
       "    <tr>\n",
       "      <td>1</td>\n",
       "      <td>4.9</td>\n",
       "      <td>3.0</td>\n",
       "      <td>1.4</td>\n",
       "      <td>0.2</td>\n",
       "      <td>0</td>\n",
       "    </tr>\n",
       "    <tr>\n",
       "      <td>2</td>\n",
       "      <td>4.7</td>\n",
       "      <td>3.2</td>\n",
       "      <td>1.3</td>\n",
       "      <td>0.2</td>\n",
       "      <td>0</td>\n",
       "    </tr>\n",
       "    <tr>\n",
       "      <td>3</td>\n",
       "      <td>4.6</td>\n",
       "      <td>3.1</td>\n",
       "      <td>1.5</td>\n",
       "      <td>0.2</td>\n",
       "      <td>0</td>\n",
       "    </tr>\n",
       "    <tr>\n",
       "      <td>4</td>\n",
       "      <td>5.0</td>\n",
       "      <td>3.6</td>\n",
       "      <td>1.4</td>\n",
       "      <td>0.2</td>\n",
       "      <td>0</td>\n",
       "    </tr>\n",
       "  </tbody>\n",
       "</table>\n",
       "</div>"
      ],
      "text/plain": [
       "   sepal length (cm)  sepal width (cm)  petal length (cm)  petal width (cm)  \\\n",
       "0                5.1               3.5                1.4               0.2   \n",
       "1                4.9               3.0                1.4               0.2   \n",
       "2                4.7               3.2                1.3               0.2   \n",
       "3                4.6               3.1                1.5               0.2   \n",
       "4                5.0               3.6                1.4               0.2   \n",
       "\n",
       "   target  \n",
       "0       0  \n",
       "1       0  \n",
       "2       0  \n",
       "3       0  \n",
       "4       0  "
      ]
     },
     "execution_count": 14,
     "metadata": {},
     "output_type": "execute_result"
    }
   ],
   "source": [
    "data = datasets.load_iris(as_frame=True).frame\n",
    "data.head()"
   ]
  },
  {
   "cell_type": "markdown",
   "metadata": {},
   "source": [
    "Исключаем из датасета записи по сорту № 0 - Setosa?  приводим целевой признак к бинарной классификации (0/1)"
   ]
  },
  {
   "cell_type": "code",
   "execution_count": 15,
   "metadata": {},
   "outputs": [
    {
     "data": {
      "text/plain": [
       "array(['setosa', 'versicolor', 'virginica'], dtype='<U10')"
      ]
     },
     "execution_count": 15,
     "metadata": {},
     "output_type": "execute_result"
    }
   ],
   "source": [
    "datasets.load_iris().target_names"
   ]
  },
  {
   "cell_type": "code",
   "execution_count": 16,
   "metadata": {},
   "outputs": [
    {
     "data": {
      "text/html": [
       "<div>\n",
       "<style scoped>\n",
       "    .dataframe tbody tr th:only-of-type {\n",
       "        vertical-align: middle;\n",
       "    }\n",
       "\n",
       "    .dataframe tbody tr th {\n",
       "        vertical-align: top;\n",
       "    }\n",
       "\n",
       "    .dataframe thead th {\n",
       "        text-align: right;\n",
       "    }\n",
       "</style>\n",
       "<table border=\"1\" class=\"dataframe\">\n",
       "  <thead>\n",
       "    <tr style=\"text-align: right;\">\n",
       "      <th></th>\n",
       "      <th>sepal length (cm)</th>\n",
       "      <th>sepal width (cm)</th>\n",
       "      <th>petal length (cm)</th>\n",
       "      <th>petal width (cm)</th>\n",
       "      <th>target</th>\n",
       "    </tr>\n",
       "  </thead>\n",
       "  <tbody>\n",
       "    <tr>\n",
       "      <td>50</td>\n",
       "      <td>7.0</td>\n",
       "      <td>3.2</td>\n",
       "      <td>4.7</td>\n",
       "      <td>1.4</td>\n",
       "      <td>0</td>\n",
       "    </tr>\n",
       "    <tr>\n",
       "      <td>51</td>\n",
       "      <td>6.4</td>\n",
       "      <td>3.2</td>\n",
       "      <td>4.5</td>\n",
       "      <td>1.5</td>\n",
       "      <td>0</td>\n",
       "    </tr>\n",
       "    <tr>\n",
       "      <td>52</td>\n",
       "      <td>6.9</td>\n",
       "      <td>3.1</td>\n",
       "      <td>4.9</td>\n",
       "      <td>1.5</td>\n",
       "      <td>0</td>\n",
       "    </tr>\n",
       "    <tr>\n",
       "      <td>53</td>\n",
       "      <td>5.5</td>\n",
       "      <td>2.3</td>\n",
       "      <td>4.0</td>\n",
       "      <td>1.3</td>\n",
       "      <td>0</td>\n",
       "    </tr>\n",
       "    <tr>\n",
       "      <td>54</td>\n",
       "      <td>6.5</td>\n",
       "      <td>2.8</td>\n",
       "      <td>4.6</td>\n",
       "      <td>1.5</td>\n",
       "      <td>0</td>\n",
       "    </tr>\n",
       "  </tbody>\n",
       "</table>\n",
       "</div>"
      ],
      "text/plain": [
       "    sepal length (cm)  sepal width (cm)  petal length (cm)  petal width (cm)  \\\n",
       "50                7.0               3.2                4.7               1.4   \n",
       "51                6.4               3.2                4.5               1.5   \n",
       "52                6.9               3.1                4.9               1.5   \n",
       "53                5.5               2.3                4.0               1.3   \n",
       "54                6.5               2.8                4.6               1.5   \n",
       "\n",
       "    target  \n",
       "50       0  \n",
       "51       0  \n",
       "52       0  \n",
       "53       0  \n",
       "54       0  "
      ]
     },
     "execution_count": 16,
     "metadata": {},
     "output_type": "execute_result"
    }
   ],
   "source": [
    "data = data[data.target >0]\n",
    "data.target = data.target - 1\n",
    "data.head()"
   ]
  },
  {
   "cell_type": "code",
   "execution_count": 17,
   "metadata": {},
   "outputs": [
    {
     "data": {
      "text/html": [
       "<div>\n",
       "<style scoped>\n",
       "    .dataframe tbody tr th:only-of-type {\n",
       "        vertical-align: middle;\n",
       "    }\n",
       "\n",
       "    .dataframe tbody tr th {\n",
       "        vertical-align: top;\n",
       "    }\n",
       "\n",
       "    .dataframe thead th {\n",
       "        text-align: right;\n",
       "    }\n",
       "</style>\n",
       "<table border=\"1\" class=\"dataframe\">\n",
       "  <thead>\n",
       "    <tr style=\"text-align: right;\">\n",
       "      <th></th>\n",
       "      <th>sepal length (cm)</th>\n",
       "      <th>sepal width (cm)</th>\n",
       "      <th>petal length (cm)</th>\n",
       "      <th>petal width (cm)</th>\n",
       "    </tr>\n",
       "  </thead>\n",
       "  <tbody>\n",
       "    <tr>\n",
       "      <td>0</td>\n",
       "      <td>0.400000</td>\n",
       "      <td>0.333333</td>\n",
       "      <td>-0.128205</td>\n",
       "      <td>-0.466667</td>\n",
       "    </tr>\n",
       "    <tr>\n",
       "      <td>1</td>\n",
       "      <td>0.000000</td>\n",
       "      <td>0.333333</td>\n",
       "      <td>-0.230769</td>\n",
       "      <td>-0.333333</td>\n",
       "    </tr>\n",
       "    <tr>\n",
       "      <td>2</td>\n",
       "      <td>0.333333</td>\n",
       "      <td>0.222222</td>\n",
       "      <td>-0.025641</td>\n",
       "      <td>-0.333333</td>\n",
       "    </tr>\n",
       "    <tr>\n",
       "      <td>3</td>\n",
       "      <td>-0.600000</td>\n",
       "      <td>-0.666667</td>\n",
       "      <td>-0.487179</td>\n",
       "      <td>-0.600000</td>\n",
       "    </tr>\n",
       "    <tr>\n",
       "      <td>4</td>\n",
       "      <td>0.066667</td>\n",
       "      <td>-0.111111</td>\n",
       "      <td>-0.179487</td>\n",
       "      <td>-0.333333</td>\n",
       "    </tr>\n",
       "  </tbody>\n",
       "</table>\n",
       "</div>"
      ],
      "text/plain": [
       "   sepal length (cm)  sepal width (cm)  petal length (cm)  petal width (cm)\n",
       "0           0.400000          0.333333          -0.128205         -0.466667\n",
       "1           0.000000          0.333333          -0.230769         -0.333333\n",
       "2           0.333333          0.222222          -0.025641         -0.333333\n",
       "3          -0.600000         -0.666667          -0.487179         -0.600000\n",
       "4           0.066667         -0.111111          -0.179487         -0.333333"
      ]
     },
     "execution_count": 17,
     "metadata": {},
     "output_type": "execute_result"
    }
   ],
   "source": [
    "#  Нормализуем данные \n",
    "headers = list(data.iloc[:,:4].columns.values)\n",
    "min_max_scaler = preprocessing.MinMaxScaler(feature_range=(-1,1))\n",
    "data_scaled = min_max_scaler.fit_transform(data.iloc[:,:4])\n",
    "data_norm = pd.DataFrame(data_scaled)\n",
    "data_norm.columns = headers\n",
    "data_norm.head()"
   ]
  },
  {
   "cell_type": "code",
   "execution_count": 72,
   "metadata": {},
   "outputs": [],
   "source": [
    "model = LogisticRegression()\n",
    "X = data_norm\n",
    "y = data.target"
   ]
  },
  {
   "cell_type": "code",
   "execution_count": 73,
   "metadata": {},
   "outputs": [],
   "source": [
    "X_train, X_test, y_train, y_test = train_test_split(X, y, test_size=0.2)\n",
    "\n",
    "X_train_tr = X_train.transpose()\n",
    "y_train_tr = np.array(y_train).reshape(1,y_train.shape[0])\n",
    "X_test_tr  = X_test.transpose()\n",
    "y_test_tr  = np.array(y_test).reshape(1,y_test.shape[0])"
   ]
  },
  {
   "cell_type": "markdown",
   "metadata": {},
   "source": [
    "Реализуем самостоятельно логистическую регрессию и сравним результаты со стандартным результатом работы функции sklearn."
   ]
  },
  {
   "cell_type": "code",
   "execution_count": 74,
   "metadata": {},
   "outputs": [],
   "source": [
    "class LogRegression():\n",
    "    \n",
    "    def __init__(self, num_iterations=1000, learning_rate=0.01, method='gb', gamma=None, eps=None):\n",
    "        self.num_iterations = num_iterations               # количество итераций цикла оптимизации\n",
    "        self.learning_rate  = learning_rate                # скорость обучения\n",
    "        self.method         = method                       # метод оптимизации\n",
    "        self.gamma          = gamma\n",
    "        self.eps            = eps\n",
    "        \n",
    "    def sigmoid(self, x):\n",
    "        s                   = 1.0 / (1.0 + np.exp(-x))\n",
    "        return s\n",
    "\n",
    "    def propagate(self, w, b, X, Y):                        # w - веса;  b - смещение, скаляр\n",
    "        number_of_features  = X.shape[1]\n",
    "        z                   = np.dot(w.T,X)+b\n",
    "        A                   = self.sigmoid(z)\n",
    "        dw                  = 1.0/number_of_features*np.dot(X, (A-Y).T) # градиент w\n",
    "        db                  = 1.0/number_of_features*np.sum(A-Y)        # градиент b\n",
    "        grads               = {\"dw\": dw, \"db\":db}\n",
    "        return grads\n",
    "\n",
    "    def optimize(self, X, Y, method):        \n",
    "        w                  = np.zeros((X.shape[0],1))\n",
    "        b                  = 0\n",
    "        costs              = []   \n",
    "        \n",
    "        if self.method    == 'gb':\n",
    "            for i in range(self.num_iterations):\n",
    "                grads      = self.propagate(w, b, X, Y)\n",
    "                dw         = grads[\"dw\"]\n",
    "                db         = grads[\"db\"]\n",
    "                w          = w - self.learning_rate*dw\n",
    "                b          = b - self.learning_rate*db\n",
    "        \n",
    "        elif self.method  == 'nm':\n",
    "            v_w            = 0\n",
    "            v_b            = 0\n",
    "            for i in range(self.num_iterations):\n",
    "                grads      = self.propagate(w, b, X, Y)\n",
    "                dw         = grads[\"dw\"]\n",
    "                db         = grads[\"db\"]\n",
    "                v_w        = self.gamma*v_w + self.learning_rate*(1-self.gamma)*dw             \n",
    "                v_b        = self.gamma*v_b + self.learning_rate*(1-self.gamma)*db                \n",
    "                w          = w - v_w\n",
    "                b          = b - v_b\n",
    "                \n",
    "        elif self.method  == 'rmsp':\n",
    "            EG_w = 0\n",
    "            EG_b = 0\n",
    "            for i in range(self.num_iterations):\n",
    "                grads      = self.propagate(w, b, X, Y)\n",
    "                dw         = grads[\"dw\"]\n",
    "                db         = grads[\"db\"]\n",
    "                EG_w       = self.gamma*EG_w + (1-self.gamma)*(dw/self.learning_rate)**2                \n",
    "                EG_b       = self.gamma*EG_b + (1-self.gamma)*(db/self.learning_rate)**2\n",
    "                w          = w - dw/(EG_w + self.eps)**0.5\n",
    "                b          = b - db/(EG_b + self.eps)**0.5\n",
    "\n",
    "        grads = {\"dw\": dw, \"db\": db}\n",
    "        params = {\"w\": w, \"b\": b}\n",
    "        return params\n",
    "        \n",
    "  \n",
    "    def predict(self, w, b, X):        # Предсказывает будет значение 0 или 1 (граница 0.5).\n",
    "        y_prediction     = np.zeros((1,X.shape[1]))\n",
    "        w                = w.reshape(X.shape[0],1)\n",
    "        A                = self.sigmoid(np.dot(w.T, X) + b)\n",
    "\n",
    "        for i in range(A.shape[1]):\n",
    "            if (A[:,i] > 0.5): \n",
    "                y_prediction[:, i] = 1\n",
    "            elif (A[:,i] <= 0.5):\n",
    "                y_prediction[:, i] = 0\n",
    "        return y_prediction[0]\n",
    "    \n",
    "    def fit_predict(self, X_train, y_train, X_test):\n",
    "        parameters      = self.optimize(X_train, y_train, self.method)\n",
    "        w               = parameters[\"w\"]\n",
    "        b               = parameters[\"b\"]\n",
    "        y_test_predict  = self.predict(w, b, X_test)\n",
    "        return y_test_predict"
   ]
  },
  {
   "cell_type": "code",
   "execution_count": 75,
   "metadata": {},
   "outputs": [],
   "source": [
    "lr_nm               = LogRegression(num_iterations=1000, learning_rate=0.001, method='nm',   gamma=0.85)\n",
    "lr_rmsp             = LogRegression(num_iterations=1000, learning_rate=0.001, method='rmsp', gamma=0.8, eps=1e-6)\n",
    "lr_gb               = LogRegression(num_iterations=1000, learning_rate=0.001, method='gb'  , gamma=0.95)\n",
    "\n",
    "y_test_predict_nm   = lr_nm.fit_predict  (X_train_tr, y_train_tr, X_test_tr)\n",
    "y_test_predict_rmsp = lr_rmsp.fit_predict(X_train_tr, y_train_tr, X_test_tr)\n",
    "y_test_predict_gb   = lr_gb.fit_predict  (X_train_tr, y_train_tr, X_test_tr)"
   ]
  },
  {
   "cell_type": "code",
   "execution_count": 76,
   "metadata": {},
   "outputs": [],
   "source": [
    "model.fit(X_train, y_train)\n",
    "y_test_predict_st   = model.predict(X_test)"
   ]
  },
  {
   "cell_type": "code",
   "execution_count": 77,
   "metadata": {},
   "outputs": [],
   "source": [
    "index           = ['lr_nm', 'lr_rmsp', 'lr_gb', 'lr_standart']\n",
    "metrics_columns = ['ROC_AUC', 'RECALL', 'ACCURACY', 'PRECISION', 'F1']\n",
    "y_preds         = [ y_test_predict_nm, y_test_predict_rmsp, y_test_predict_gb, y_test_predict_st]\n",
    "metrics_scores  = np.zeros(20).reshape(4,5)"
   ]
  },
  {
   "cell_type": "code",
   "execution_count": 78,
   "metadata": {},
   "outputs": [],
   "source": [
    "def metrics(y_test, y_pred, metric_type):\n",
    "    if metric_type == 'ROC_AUC':\n",
    "        return roc_auc_score(y_test, y_pred)    \n",
    "    elif metric_type == 'RECALL':\n",
    "        return recall_score(y_test, y_pred)    \n",
    "    elif metric_type == 'ACCURACY':\n",
    "        return accuracy_score(y_test, y_pred)    \n",
    "    elif metric_type == 'PRECISION':\n",
    "        return precision_score(y_test, y_pred)    \n",
    "    elif metric_type == 'F1':\n",
    "        return f1_score(y_test, y_pred)"
   ]
  },
  {
   "cell_type": "code",
   "execution_count": 79,
   "metadata": {},
   "outputs": [],
   "source": [
    "for i in range(0, len(index)):  \n",
    "    for k in range(0, len(metrics_columns)):\n",
    "        metrics_scores[i][k] = metrics(y_test, y_preds[i], metric_type=metrics_columns[k])"
   ]
  },
  {
   "cell_type": "code",
   "execution_count": 80,
   "metadata": {},
   "outputs": [
    {
     "data": {
      "text/html": [
       "<div>\n",
       "<style scoped>\n",
       "    .dataframe tbody tr th:only-of-type {\n",
       "        vertical-align: middle;\n",
       "    }\n",
       "\n",
       "    .dataframe tbody tr th {\n",
       "        vertical-align: top;\n",
       "    }\n",
       "\n",
       "    .dataframe thead th {\n",
       "        text-align: right;\n",
       "    }\n",
       "</style>\n",
       "<table border=\"1\" class=\"dataframe\">\n",
       "  <thead>\n",
       "    <tr style=\"text-align: right;\">\n",
       "      <th></th>\n",
       "      <th>ROC_AUC</th>\n",
       "      <th>RECALL</th>\n",
       "      <th>ACCURACY</th>\n",
       "      <th>PRECISION</th>\n",
       "      <th>F1</th>\n",
       "    </tr>\n",
       "  </thead>\n",
       "  <tbody>\n",
       "    <tr>\n",
       "      <td>lr_nm</td>\n",
       "      <td>0.909091</td>\n",
       "      <td>0.818182</td>\n",
       "      <td>0.90</td>\n",
       "      <td>1.0</td>\n",
       "      <td>0.900000</td>\n",
       "    </tr>\n",
       "    <tr>\n",
       "      <td>lr_rmsp</td>\n",
       "      <td>0.954545</td>\n",
       "      <td>0.909091</td>\n",
       "      <td>0.95</td>\n",
       "      <td>1.0</td>\n",
       "      <td>0.952381</td>\n",
       "    </tr>\n",
       "    <tr>\n",
       "      <td>lr_gb</td>\n",
       "      <td>0.909091</td>\n",
       "      <td>0.818182</td>\n",
       "      <td>0.90</td>\n",
       "      <td>1.0</td>\n",
       "      <td>0.900000</td>\n",
       "    </tr>\n",
       "    <tr>\n",
       "      <td>lr_standart</td>\n",
       "      <td>0.954545</td>\n",
       "      <td>0.909091</td>\n",
       "      <td>0.95</td>\n",
       "      <td>1.0</td>\n",
       "      <td>0.952381</td>\n",
       "    </tr>\n",
       "  </tbody>\n",
       "</table>\n",
       "</div>"
      ],
      "text/plain": [
       "              ROC_AUC    RECALL  ACCURACY  PRECISION        F1\n",
       "lr_nm        0.909091  0.818182      0.90        1.0  0.900000\n",
       "lr_rmsp      0.954545  0.909091      0.95        1.0  0.952381\n",
       "lr_gb        0.909091  0.818182      0.90        1.0  0.900000\n",
       "lr_standart  0.954545  0.909091      0.95        1.0  0.952381"
      ]
     },
     "execution_count": 80,
     "metadata": {},
     "output_type": "execute_result"
    }
   ],
   "source": [
    "metrics_df = pd.DataFrame(metrics_scores, index=index, columns=metrics_columns)\n",
    "metrics_df"
   ]
  },
  {
   "cell_type": "code",
   "execution_count": null,
   "metadata": {},
   "outputs": [],
   "source": []
  },
  {
   "cell_type": "code",
   "execution_count": null,
   "metadata": {},
   "outputs": [],
   "source": []
  },
  {
   "cell_type": "code",
   "execution_count": null,
   "metadata": {},
   "outputs": [],
   "source": []
  }
 ],
 "metadata": {
  "kernelspec": {
   "display_name": "Python 3",
   "language": "python",
   "name": "python3"
  },
  "language_info": {
   "codemirror_mode": {
    "name": "ipython",
    "version": 3
   },
   "file_extension": ".py",
   "mimetype": "text/x-python",
   "name": "python",
   "nbconvert_exporter": "python",
   "pygments_lexer": "ipython3",
   "version": "3.7.4"
  }
 },
 "nbformat": 4,
 "nbformat_minor": 2
}
