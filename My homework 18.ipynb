{
 "cells": [
  {
   "cell_type": "code",
   "execution_count": 46,
   "metadata": {},
   "outputs": [],
   "source": [
    "Денис Иванов\n",
    "Домашнее задание : Производная и градиентный спуск"
   ]
  },
  {
   "cell_type": "code",
   "execution_count": null,
   "metadata": {},
   "outputs": [],
   "source": [
    "Задание 1\n",
    "Придумайте функции со следующими свойствами:\n",
    "\n",
    "a) бесконечное количество локальных экстремумов\n",
    "f(x) = 5*sin(3*x)+8)\n",
    "\n",
    "b) 2 локальных экстремума\n",
    "f(x) = x^3-x^2\n",
    "\n",
    "с) 3 локальных экстремума\n",
    "f(x) = (1−x^3-x^2)^2\n",
    "\n",
    "d) область определения функции - 1 точка\n",
    "f(x)=(−x^2+2x+8)^(1/2)+(x-4)^(1/2)\n",
    "f(x) = 1"
   ]
  },
  {
   "cell_type": "code",
   "execution_count": null,
   "metadata": {},
   "outputs": [],
   "source": [
    "Задание 2\n",
    "Посчитайте 1-ую и 2-ую производные функции (на бумажке):\n",
    "    \n",
    "# f (x) = sin^2(2x+1)\n",
    "# f'(x) = (sin(2x+1)* sin(2x+1))' = (sin(2x+1))'*sin(2x+1) + sin(2x+1)*(sin(2x+1))' =  2*(sin(2x+1))'*sin(2x+1) = \n",
    "#       = 2 * 2 * cos(2x+1) * sin (2x+1) = 2*sin (4x+2)\n",
    "# f\"(x) = 2 * sin(4x+2)' * (4x+2)' = 8*cos(4x+2)\n",
    "\n",
    "# f'(x) =  2*sin(4x+2)\n",
    "# f\"(x) =  8*cos(4x+2)"
   ]
  },
  {
   "cell_type": "code",
   "execution_count": null,
   "metadata": {},
   "outputs": [],
   "source": [
    "Задание 3:\n",
    "Посчитайте частные производные функции в точкe в точке (1,2):\n",
    "# f(x,y)  = 2x^2y^3 + 1/x + y^2*x + 7     # если  y^2*x\n",
    "# fx(x,y) = 2* (x^2)' * y^3 + (1/x)' + y^2*(x)' = 4xy^3- 1/x^2 +y^2\n",
    "# fy(x,y) = 2* x2 * (y^3)' + x*(y^2)' = 6*x^2*y^2 + 2xy\n",
    "# fx(1,2) = 4*1*2^3- 1/1^2 +2^2 = 32-1+4 = 35\n",
    "# fy(1,2) = 6*1^2*2^2 + 2*1*2 = 24+4 = 28\n",
    "\n",
    "# f(x,y)  = 2x^2y^3 + 1/x + y^(2x) + 7     # если  y^(2x)\n",
    "# fx(x,y) = 2* (x^2)' * y^3 + (1/x)' + (y^2x)' = 4xy^3- 1/x^2 +2*y^(2x)*ln(y)\n",
    "# fy(x,y) = 2* x2 * (y^3)' + (y^2x)' = 6*x^2*y^2 + 2x*(y^2x)/y\n",
    "# fx(1,2) = 4*1*2^3- 1/1^2 + 2*2^2*ln(2) = 32-1+ 8*0.69 = 36,5\n",
    "# fy(1,2) = 6*1^2*2^2 + 2*2^2/2 = 24+4 = 28"
   ]
  },
  {
   "cell_type": "code",
   "execution_count": 52,
   "metadata": {},
   "outputs": [
    {
     "data": {
      "text/plain": [
       "array([35.00000024, 28.00000024])"
      ]
     },
     "execution_count": 52,
     "metadata": {},
     "output_type": "execute_result"
    }
   ],
   "source": [
    "import numpy as np\n",
    "from scipy.optimize import approx_fprime, minimize\n",
    "\n",
    "def func1(x, const_0, const_1):\n",
    "    return const_0*x[0]**2 * x[1]**3 + 1/x[0] +  x[1]**2 * x[0] + const_1\n",
    "def func2(x, const_0, const_1):\n",
    "    return const_0*x[0]**2 * x[1]**3 + 1/x[0] +  x[1]**(2 * x[0]) + const_1\n",
    "\n",
    "x = np.array([1, 2])\n",
    "const_0, const_1 = (2, 7)\n",
    "eps = np.sqrt(np.finfo(float).eps)\n",
    "\n",
    "approx_fprime(x, func1, [eps, eps], const_0, const_1)   # если  y^2*x\n",
    "# approx_fprime(x, func2, [eps, eps], const_0, const_1) # если  y^(2*x)"
   ]
  },
  {
   "cell_type": "code",
   "execution_count": 43,
   "metadata": {},
   "outputs": [
    {
     "name": "stdout",
     "output_type": "stream",
     "text": [
      "Минимум достигается в:  [1.29197811e-08 3.32901401e-08]\n",
      "Значение функции в минимуме:  1.2751541739575636e-15 , что по сути =  0.0\n"
     ]
    }
   ],
   "source": [
    "# Задание 4: Градиентный спуск своими руками\n",
    "\n",
    "def f(x):\n",
    "    return (x[0]**2) + (x[1]**2)\n",
    "\n",
    "x   = np.array([100, 200])\n",
    "lr  = 0.1\n",
    "eps = np.sqrt(np.finfo(float).eps)\n",
    "\n",
    "for i in range(100):\n",
    "    grad = approx_fprime(x, f, [eps, eps])\n",
    "    x1 = x - lr * grad \n",
    "    if f(x1) <= f(x):\n",
    "        x = x1\n",
    "    else:\n",
    "        break\n",
    "\n",
    "print(\"Минимум достигается в: \", x)\n",
    "print(\"Значение функции в минимуме: \", f(x), \", что по сути = \",  round(f(x), 2))"
   ]
  },
  {
   "cell_type": "code",
   "execution_count": 45,
   "metadata": {},
   "outputs": [
    {
     "name": "stdout",
     "output_type": "stream",
     "text": [
      "Optimization terminated successfully.\n",
      "         Current function value: 0.000044\n",
      "         Iterations: 42\n",
      "         Function evaluations: 80\n"
     ]
    },
    {
     "data": {
      "text/plain": [
       "array([0.00109217, 0.0065345 ])"
      ]
     },
     "execution_count": 45,
     "metadata": {},
     "output_type": "execute_result"
    }
   ],
   "source": [
    "#Проверка с помощью встроенной функции scipy:\n",
    "\n",
    "x = np.array([100, 200])\n",
    "chek_1 = minimize(f, x, method='nelder-mead', options={'xtol': lr, 'disp': True})\n",
    "chek_1.x"
   ]
  },
  {
   "cell_type": "code",
   "execution_count": null,
   "metadata": {},
   "outputs": [],
   "source": []
  }
 ],
 "metadata": {
  "kernelspec": {
   "display_name": "Python 3",
   "language": "python",
   "name": "python3"
  },
  "language_info": {
   "codemirror_mode": {
    "name": "ipython",
    "version": 3
   },
   "file_extension": ".py",
   "mimetype": "text/x-python",
   "name": "python",
   "nbconvert_exporter": "python",
   "pygments_lexer": "ipython3",
   "version": "3.7.4"
  }
 },
 "nbformat": 4,
 "nbformat_minor": 2
}
