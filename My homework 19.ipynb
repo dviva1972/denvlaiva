{
 "cells": [
  {
   "cell_type": "code",
   "execution_count": null,
   "metadata": {},
   "outputs": [],
   "source": [
    "Денис Иваанов\n",
    "Домашнее задание: Введение в статистику"
   ]
  },
  {
   "cell_type": "code",
   "execution_count": 1,
   "metadata": {},
   "outputs": [],
   "source": [
    "import pandas as pd\n",
    "import numpy as np\n",
    "import matplotlib.pyplot as plt\n",
    "import scipy.stats as sts\n",
    "import ssl\n",
    "import statistics\n",
    "%matplotlib inline"
   ]
  },
  {
   "cell_type": "code",
   "execution_count": 11,
   "metadata": {},
   "outputs": [
    {
     "data": {
      "text/html": [
       "<div>\n",
       "<style scoped>\n",
       "    .dataframe tbody tr th:only-of-type {\n",
       "        vertical-align: middle;\n",
       "    }\n",
       "\n",
       "    .dataframe tbody tr th {\n",
       "        vertical-align: top;\n",
       "    }\n",
       "\n",
       "    .dataframe thead th {\n",
       "        text-align: right;\n",
       "    }\n",
       "</style>\n",
       "<table border=\"1\" class=\"dataframe\">\n",
       "  <thead>\n",
       "    <tr style=\"text-align: right;\">\n",
       "      <th></th>\n",
       "      <th>Country (region)</th>\n",
       "      <th>Ladder</th>\n",
       "      <th>SD of Ladder</th>\n",
       "      <th>Positive affect</th>\n",
       "      <th>Negative affect</th>\n",
       "      <th>Social support</th>\n",
       "      <th>Freedom</th>\n",
       "      <th>Corruption</th>\n",
       "      <th>Generosity</th>\n",
       "      <th>Log of GDP\\nper capita</th>\n",
       "      <th>Healthy life\\nexpectancy</th>\n",
       "    </tr>\n",
       "  </thead>\n",
       "  <tbody>\n",
       "    <tr>\n",
       "      <td>0</td>\n",
       "      <td>Finland</td>\n",
       "      <td>1</td>\n",
       "      <td>4</td>\n",
       "      <td>41.0</td>\n",
       "      <td>10.0</td>\n",
       "      <td>2.0</td>\n",
       "      <td>5.0</td>\n",
       "      <td>4.0</td>\n",
       "      <td>47.0</td>\n",
       "      <td>22.0</td>\n",
       "      <td>27.0</td>\n",
       "    </tr>\n",
       "    <tr>\n",
       "      <td>1</td>\n",
       "      <td>Denmark</td>\n",
       "      <td>2</td>\n",
       "      <td>13</td>\n",
       "      <td>24.0</td>\n",
       "      <td>26.0</td>\n",
       "      <td>4.0</td>\n",
       "      <td>6.0</td>\n",
       "      <td>3.0</td>\n",
       "      <td>22.0</td>\n",
       "      <td>14.0</td>\n",
       "      <td>23.0</td>\n",
       "    </tr>\n",
       "    <tr>\n",
       "      <td>2</td>\n",
       "      <td>Norway</td>\n",
       "      <td>3</td>\n",
       "      <td>8</td>\n",
       "      <td>16.0</td>\n",
       "      <td>29.0</td>\n",
       "      <td>3.0</td>\n",
       "      <td>3.0</td>\n",
       "      <td>8.0</td>\n",
       "      <td>11.0</td>\n",
       "      <td>7.0</td>\n",
       "      <td>12.0</td>\n",
       "    </tr>\n",
       "    <tr>\n",
       "      <td>3</td>\n",
       "      <td>Iceland</td>\n",
       "      <td>4</td>\n",
       "      <td>9</td>\n",
       "      <td>3.0</td>\n",
       "      <td>3.0</td>\n",
       "      <td>1.0</td>\n",
       "      <td>7.0</td>\n",
       "      <td>45.0</td>\n",
       "      <td>3.0</td>\n",
       "      <td>15.0</td>\n",
       "      <td>13.0</td>\n",
       "    </tr>\n",
       "    <tr>\n",
       "      <td>4</td>\n",
       "      <td>Netherlands</td>\n",
       "      <td>5</td>\n",
       "      <td>1</td>\n",
       "      <td>12.0</td>\n",
       "      <td>25.0</td>\n",
       "      <td>15.0</td>\n",
       "      <td>19.0</td>\n",
       "      <td>12.0</td>\n",
       "      <td>7.0</td>\n",
       "      <td>12.0</td>\n",
       "      <td>18.0</td>\n",
       "    </tr>\n",
       "  </tbody>\n",
       "</table>\n",
       "</div>"
      ],
      "text/plain": [
       "  Country (region)  Ladder  SD of Ladder  Positive affect  Negative affect  \\\n",
       "0          Finland       1             4             41.0             10.0   \n",
       "1          Denmark       2            13             24.0             26.0   \n",
       "2           Norway       3             8             16.0             29.0   \n",
       "3          Iceland       4             9              3.0              3.0   \n",
       "4      Netherlands       5             1             12.0             25.0   \n",
       "\n",
       "   Social support  Freedom  Corruption  Generosity  Log of GDP\\nper capita  \\\n",
       "0             2.0      5.0         4.0        47.0                    22.0   \n",
       "1             4.0      6.0         3.0        22.0                    14.0   \n",
       "2             3.0      3.0         8.0        11.0                     7.0   \n",
       "3             1.0      7.0        45.0         3.0                    15.0   \n",
       "4            15.0     19.0        12.0         7.0                    12.0   \n",
       "\n",
       "   Healthy life\\nexpectancy  \n",
       "0                      27.0  \n",
       "1                      23.0  \n",
       "2                      12.0  \n",
       "3                      13.0  \n",
       "4                      18.0  "
      ]
     },
     "execution_count": 11,
     "metadata": {},
     "output_type": "execute_result"
    }
   ],
   "source": [
    "ssl._create_default_https_context = ssl._create_unverified_context # подключает сертификат для защищенного соединения\n",
    "url=\"http://yustiks.ru/dataset/world-happiness-report-2019.csv\"\n",
    "df=pd.read_csv(url)\n",
    "df.head()"
   ]
  },
  {
   "cell_type": "code",
   "execution_count": 150,
   "metadata": {},
   "outputs": [
    {
     "name": "stdout",
     "output_type": "stream",
     "text": [
      "Очевидный выброс  -  Qatar  - отсутствие наблюдений по ключевым параметрам\n"
     ]
    }
   ],
   "source": [
    "# проверяем датасет на наличие пропущенных значений / удаляем выбросы\n",
    "df.isnull().sum()\n",
    "df[df.Freedom.isnull()]\n",
    "df_1 = df[df.Freedom.notnull()]\n",
    "print('Очевидный выброс  - ', df[df.Freedom.isnull()].iloc[0, 0], ' - отсутствие наблюдений по ключевым параметрам')"
   ]
  },
  {
   "cell_type": "code",
   "execution_count": null,
   "metadata": {},
   "outputs": [],
   "source": [
    "Построить частотный график для двух параметров: Freedom и positive affect.  "
   ]
  },
  {
   "cell_type": "code",
   "execution_count": 174,
   "metadata": {},
   "outputs": [
    {
     "data": {
      "image/png": "[encoded data removed]",
      "text/plain": [
       "<Figure size 432x288 with 1 Axes>"
      ]
     },
     "metadata": {
      "needs_background": "light"
     },
     "output_type": "display_data"
    }
   ],
   "source": [
    "plt.hist(   df_1['Freedom']\n",
    "         ,  10\n",
    "         , facecolor='orangered')\n",
    "plt.xlabel('Freedom')\n",
    "plt.title('Частотный график Freedom (разбиение интервала по 10 элементов)')\n",
    "plt.grid(True)\n",
    "plt.show()\n",
    "# Имеет место равномерное распределение\n",
    "# \"кирпичики\" в верхней части графика не говорят о качестве распределения - \n",
    "# matplotlib по умолчанию не захватывает / теряет значение совпадающее с нижней границей диапазона"
   ]
  },
  {
   "cell_type": "code",
   "execution_count": 170,
   "metadata": {},
   "outputs": [
    {
     "data": {
      "image/png": "[encoded data removed]",
      "text/plain": [
       "<Figure size 432x288 with 1 Axes>"
      ]
     },
     "metadata": {
      "needs_background": "light"
     },
     "output_type": "display_data"
    }
   ],
   "source": [
    "n, bins, patches = plt.hist(   df_1['Positive affect']\n",
    "                            ,  20\n",
    "                            , facecolor='blue')\n",
    "plt.ylabel('Positive affect')\n",
    "plt.title('Частотный график Positive affect (разбиение интервала по 20 элементов)')\n",
    "plt.grid(True)\n",
    "plt.show()\n",
    "# Имеет место равномерное распределение"
   ]
  },
  {
   "cell_type": "code",
   "execution_count": null,
   "metadata": {},
   "outputs": [],
   "source": [
    "Найти медиану, моду, математическое ожидание, стандартное отклонение, дисперсию, минимум и максимум, \n",
    "найти выбросы (если есть), размах для колонки Freedom\n",
    "Почему нельзя найти моду?"
   ]
  },
  {
   "cell_type": "code",
   "execution_count": 24,
   "metadata": {},
   "outputs": [
    {
     "name": "stdout",
     "output_type": "stream",
     "text": [
      "В целом по полю  Freedom\n",
      "Медиана          составляет:  78.0\n",
      "Мат ожидание     составляет:  78.0\n",
      "Станд отклонение составляет:  44.74371464239419\n",
      "Дисперсия        составляет:  2002.0\n",
      "Минимум          составляет:  1.0\n",
      "Максимум         составляет:  155.0\n",
      "Размах           составляет:  154.0\n",
      "Мода  не может быть расчитана так как все значения по полю уникальны\n"
     ]
    }
   ],
   "source": [
    "print('В целом по полю  Freedom')\n",
    "print('Медиана          составляет: ', statistics.median(df_1['Freedom']))\n",
    "print('Мат ожидание     составляет: ', statistics.mean(df_1['Freedom']))\n",
    "print('Станд отклонение составляет: ', statistics.pstdev(df_1['Freedom']))\n",
    "print('Дисперсия        составляет: ', statistics.pvariance(df_1['Freedom']))\n",
    "print('Минимум          составляет: ', min(df_1['Freedom']))\n",
    "print('Максимум         составляет: ', max(df_1['Freedom']))\n",
    "print('Размах           составляет: ', max(df_1['Freedom'])- min(df_1['Freedom']))\n",
    "print('Мода  не может быть расчитана так как все значения по полю уникальны')"
   ]
  },
  {
   "cell_type": "code",
   "execution_count": null,
   "metadata": {},
   "outputs": [],
   "source": [
    "Посмотреть корреляцию между Freedom и positive affect (графически и математически). \n",
    "Графически - plt.scatter, математически - посчитать коэффициент Пирсона. \n",
    "О чем говорит знак коэффициента?"
   ]
  },
  {
   "cell_type": "code",
   "execution_count": 28,
   "metadata": {},
   "outputs": [
    {
     "data": {
      "image/png": "[encoded data removed]",
      "text/plain": [
       "<Figure size 432x288 with 1 Axes>"
      ]
     },
     "metadata": {
      "needs_background": "light"
     },
     "output_type": "display_data"
    }
   ],
   "source": [
    "fig, ax = plt.subplots()\n",
    "ax.scatter(df_1['Positive affect'], df_1['Freedom'], c='red', alpha=0.3, edgecolors='none')\n",
    "ax.grid(True)\n",
    "plt.xlabel('positive affect')\n",
    "plt.ylabel('freedom')\n",
    "plt.title('Визуальный анализ корелляци полей Positive affect и Freedom')\n",
    "plt.show()"
   ]
  },
  {
   "cell_type": "code",
   "execution_count": 30,
   "metadata": {},
   "outputs": [
    {
     "name": "stdout",
     "output_type": "stream",
     "text": [
      "Коэффициент корреляции Пирсона: 0.6817698430601657\n",
      "Коэффициент корреляции Пирсона > 0, что означает:\n",
      "большей величине Positive affect соответствует большая величина Freedom, прямая зависимость\n"
     ]
    }
   ],
   "source": [
    "from scipy.stats import pearsonr\n",
    "corr, p_value = pearsonr(df_1['Freedom'], df_1['Positive affect'])\n",
    "print('Коэффициент корреляции Пирсона:', corr)\n",
    "print('Коэффициент корреляции Пирсона > 0, что означает:')\n",
    "print('большей величине Positive affect соответствует большая величина Freedom, прямая зависимость')"
   ]
  },
  {
   "cell_type": "code",
   "execution_count": null,
   "metadata": {},
   "outputs": [],
   "source": [
    "Нормализовать данные колонки Freedom (централизация + масштабирование)"
   ]
  },
  {
   "cell_type": "code",
   "execution_count": 37,
   "metadata": {},
   "outputs": [
    {
     "name": "stdout",
     "output_type": "stream",
     "text": [
      "[-1.] [1.]\n"
     ]
    },
    {
     "data": {
      "text/plain": [
       "array([[ 0.06493506],\n",
       "       [ 0.92207792],\n",
       "       [-0.02597403],\n",
       "       [ 0.2987013 ],\n",
       "       [ 0.75324675],\n",
       "       [-0.38961039],\n",
       "       [-0.61038961]])"
      ]
     },
     "execution_count": 37,
     "metadata": {},
     "output_type": "execute_result"
    }
   ],
   "source": [
    "freedom = df_1['Freedom']\n",
    "freedom_1 = freedom - statistics.mean(freedom)\n",
    "\n",
    "from sklearn import preprocessing\n",
    "min_max_scaler = preprocessing.MinMaxScaler(feature_range=(-1,1))\n",
    "\n",
    "freedom_2 = min_max_scaler.fit_transform(np.array(freedom_1).reshape(-1, 1))\n",
    "print(min(freedom_2), max(freedom_2))\n",
    "\n",
    "#df_freedom_norm = pd.DataFrame(freedom_2)\n",
    "freedom_2[85:92]"
   ]
  },
  {
   "cell_type": "code",
   "execution_count": null,
   "metadata": {},
   "outputs": [],
   "source": [
    "Построить матрицу корреляций для всех колонок таблицы"
   ]
  },
  {
   "cell_type": "code",
   "execution_count": 22,
   "metadata": {},
   "outputs": [
    {
     "data": {
      "text/html": [
       "<div>\n",
       "<style scoped>\n",
       "    .dataframe tbody tr th:only-of-type {\n",
       "        vertical-align: middle;\n",
       "    }\n",
       "\n",
       "    .dataframe tbody tr th {\n",
       "        vertical-align: top;\n",
       "    }\n",
       "\n",
       "    .dataframe thead th {\n",
       "        text-align: right;\n",
       "    }\n",
       "</style>\n",
       "<table border=\"1\" class=\"dataframe\">\n",
       "  <thead>\n",
       "    <tr style=\"text-align: right;\">\n",
       "      <th></th>\n",
       "      <th>Ladder</th>\n",
       "      <th>SD of Ladder</th>\n",
       "      <th>Positive affect</th>\n",
       "      <th>Negative affect</th>\n",
       "      <th>Social support</th>\n",
       "      <th>Freedom</th>\n",
       "      <th>Corruption</th>\n",
       "      <th>Generosity</th>\n",
       "      <th>Log of GDP\\nper capita</th>\n",
       "      <th>Healthy life\\nexpectancy</th>\n",
       "    </tr>\n",
       "  </thead>\n",
       "  <tbody>\n",
       "    <tr>\n",
       "      <td>Ladder</td>\n",
       "      <td>1.000000</td>\n",
       "      <td>0.555987</td>\n",
       "      <td>0.511870</td>\n",
       "      <td>0.539677</td>\n",
       "      <td>0.833412</td>\n",
       "      <td>0.546414</td>\n",
       "      <td>0.224394</td>\n",
       "      <td>0.485704</td>\n",
       "      <td>0.820608</td>\n",
       "      <td>0.826677</td>\n",
       "    </tr>\n",
       "    <tr>\n",
       "      <td>SD of Ladder</td>\n",
       "      <td>0.555987</td>\n",
       "      <td>1.000000</td>\n",
       "      <td>0.090332</td>\n",
       "      <td>0.632734</td>\n",
       "      <td>0.600087</td>\n",
       "      <td>0.250246</td>\n",
       "      <td>0.253344</td>\n",
       "      <td>0.386337</td>\n",
       "      <td>0.663977</td>\n",
       "      <td>0.637554</td>\n",
       "    </tr>\n",
       "    <tr>\n",
       "      <td>Positive affect</td>\n",
       "      <td>0.511870</td>\n",
       "      <td>0.090332</td>\n",
       "      <td>1.000000</td>\n",
       "      <td>0.351906</td>\n",
       "      <td>0.433333</td>\n",
       "      <td>0.696567</td>\n",
       "      <td>0.225905</td>\n",
       "      <td>0.417061</td>\n",
       "      <td>0.310843</td>\n",
       "      <td>0.339032</td>\n",
       "    </tr>\n",
       "    <tr>\n",
       "      <td>Negative affect</td>\n",
       "      <td>0.539677</td>\n",
       "      <td>0.632734</td>\n",
       "      <td>0.351906</td>\n",
       "      <td>1.000000</td>\n",
       "      <td>0.671387</td>\n",
       "      <td>0.415935</td>\n",
       "      <td>0.166472</td>\n",
       "      <td>0.350541</td>\n",
       "      <td>0.565756</td>\n",
       "      <td>0.507148</td>\n",
       "    </tr>\n",
       "    <tr>\n",
       "      <td>Social support</td>\n",
       "      <td>0.833412</td>\n",
       "      <td>0.600087</td>\n",
       "      <td>0.433333</td>\n",
       "      <td>0.671387</td>\n",
       "      <td>1.000000</td>\n",
       "      <td>0.478613</td>\n",
       "      <td>0.148890</td>\n",
       "      <td>0.448135</td>\n",
       "      <td>0.801898</td>\n",
       "      <td>0.755292</td>\n",
       "    </tr>\n",
       "    <tr>\n",
       "      <td>Freedom</td>\n",
       "      <td>0.546414</td>\n",
       "      <td>0.250246</td>\n",
       "      <td>0.696567</td>\n",
       "      <td>0.415935</td>\n",
       "      <td>0.478613</td>\n",
       "      <td>1.000000</td>\n",
       "      <td>0.407571</td>\n",
       "      <td>0.498226</td>\n",
       "      <td>0.385919</td>\n",
       "      <td>0.423949</td>\n",
       "    </tr>\n",
       "    <tr>\n",
       "      <td>Corruption</td>\n",
       "      <td>0.224394</td>\n",
       "      <td>0.253344</td>\n",
       "      <td>0.225905</td>\n",
       "      <td>0.166472</td>\n",
       "      <td>0.148890</td>\n",
       "      <td>0.407571</td>\n",
       "      <td>1.000000</td>\n",
       "      <td>0.281146</td>\n",
       "      <td>0.186140</td>\n",
       "      <td>0.148973</td>\n",
       "    </tr>\n",
       "    <tr>\n",
       "      <td>Generosity</td>\n",
       "      <td>0.485704</td>\n",
       "      <td>0.386337</td>\n",
       "      <td>0.417061</td>\n",
       "      <td>0.350541</td>\n",
       "      <td>0.448135</td>\n",
       "      <td>0.498226</td>\n",
       "      <td>0.281146</td>\n",
       "      <td>1.000000</td>\n",
       "      <td>0.459762</td>\n",
       "      <td>0.453135</td>\n",
       "    </tr>\n",
       "    <tr>\n",
       "      <td>Log of GDP\\nper capita</td>\n",
       "      <td>0.820608</td>\n",
       "      <td>0.663977</td>\n",
       "      <td>0.310843</td>\n",
       "      <td>0.565756</td>\n",
       "      <td>0.801898</td>\n",
       "      <td>0.385919</td>\n",
       "      <td>0.186140</td>\n",
       "      <td>0.459762</td>\n",
       "      <td>1.000000</td>\n",
       "      <td>0.873628</td>\n",
       "    </tr>\n",
       "    <tr>\n",
       "      <td>Healthy life\\nexpectancy</td>\n",
       "      <td>0.826677</td>\n",
       "      <td>0.637554</td>\n",
       "      <td>0.339032</td>\n",
       "      <td>0.507148</td>\n",
       "      <td>0.755292</td>\n",
       "      <td>0.423949</td>\n",
       "      <td>0.148973</td>\n",
       "      <td>0.453135</td>\n",
       "      <td>0.873628</td>\n",
       "      <td>1.000000</td>\n",
       "    </tr>\n",
       "  </tbody>\n",
       "</table>\n",
       "</div>"
      ],
      "text/plain": [
       "                            Ladder  SD of Ladder  Positive affect  \\\n",
       "Ladder                    1.000000      0.555987         0.511870   \n",
       "SD of Ladder              0.555987      1.000000         0.090332   \n",
       "Positive affect           0.511870      0.090332         1.000000   \n",
       "Negative affect           0.539677      0.632734         0.351906   \n",
       "Social support            0.833412      0.600087         0.433333   \n",
       "Freedom                   0.546414      0.250246         0.696567   \n",
       "Corruption                0.224394      0.253344         0.225905   \n",
       "Generosity                0.485704      0.386337         0.417061   \n",
       "Log of GDP\\nper capita    0.820608      0.663977         0.310843   \n",
       "Healthy life\\nexpectancy  0.826677      0.637554         0.339032   \n",
       "\n",
       "                          Negative affect  Social support   Freedom  \\\n",
       "Ladder                           0.539677        0.833412  0.546414   \n",
       "SD of Ladder                     0.632734        0.600087  0.250246   \n",
       "Positive affect                  0.351906        0.433333  0.696567   \n",
       "Negative affect                  1.000000        0.671387  0.415935   \n",
       "Social support                   0.671387        1.000000  0.478613   \n",
       "Freedom                          0.415935        0.478613  1.000000   \n",
       "Corruption                       0.166472        0.148890  0.407571   \n",
       "Generosity                       0.350541        0.448135  0.498226   \n",
       "Log of GDP\\nper capita           0.565756        0.801898  0.385919   \n",
       "Healthy life\\nexpectancy         0.507148        0.755292  0.423949   \n",
       "\n",
       "                          Corruption  Generosity  Log of GDP\\nper capita  \\\n",
       "Ladder                      0.224394    0.485704                0.820608   \n",
       "SD of Ladder                0.253344    0.386337                0.663977   \n",
       "Positive affect             0.225905    0.417061                0.310843   \n",
       "Negative affect             0.166472    0.350541                0.565756   \n",
       "Social support              0.148890    0.448135                0.801898   \n",
       "Freedom                     0.407571    0.498226                0.385919   \n",
       "Corruption                  1.000000    0.281146                0.186140   \n",
       "Generosity                  0.281146    1.000000                0.459762   \n",
       "Log of GDP\\nper capita      0.186140    0.459762                1.000000   \n",
       "Healthy life\\nexpectancy    0.148973    0.453135                0.873628   \n",
       "\n",
       "                          Healthy life\\nexpectancy  \n",
       "Ladder                                    0.826677  \n",
       "SD of Ladder                              0.637554  \n",
       "Positive affect                           0.339032  \n",
       "Negative affect                           0.507148  \n",
       "Social support                            0.755292  \n",
       "Freedom                                   0.423949  \n",
       "Corruption                                0.148973  \n",
       "Generosity                                0.453135  \n",
       "Log of GDP\\nper capita                    0.873628  \n",
       "Healthy life\\nexpectancy                  1.000000  "
      ]
     },
     "execution_count": 22,
     "metadata": {},
     "output_type": "execute_result"
    }
   ],
   "source": [
    "df.corr()"
   ]
  },
  {
   "cell_type": "code",
   "execution_count": null,
   "metadata": {},
   "outputs": [],
   "source": [
    "Загрузить таблицу цен на авокадо: https://www.kaggle.com/neuromusic/avocado-prices"
   ]
  },
  {
   "cell_type": "code",
   "execution_count": 44,
   "metadata": {},
   "outputs": [
    {
     "data": {
      "text/html": [
       "<div>\n",
       "<style scoped>\n",
       "    .dataframe tbody tr th:only-of-type {\n",
       "        vertical-align: middle;\n",
       "    }\n",
       "\n",
       "    .dataframe tbody tr th {\n",
       "        vertical-align: top;\n",
       "    }\n",
       "\n",
       "    .dataframe thead th {\n",
       "        text-align: right;\n",
       "    }\n",
       "</style>\n",
       "<table border=\"1\" class=\"dataframe\">\n",
       "  <thead>\n",
       "    <tr style=\"text-align: right;\">\n",
       "      <th></th>\n",
       "      <th>Unnamed: 0</th>\n",
       "      <th>Date</th>\n",
       "      <th>AveragePrice</th>\n",
       "      <th>Total Volume</th>\n",
       "      <th>4046</th>\n",
       "      <th>4225</th>\n",
       "      <th>4770</th>\n",
       "      <th>Total Bags</th>\n",
       "      <th>Small Bags</th>\n",
       "      <th>Large Bags</th>\n",
       "      <th>XLarge Bags</th>\n",
       "      <th>type</th>\n",
       "      <th>year</th>\n",
       "      <th>region</th>\n",
       "    </tr>\n",
       "  </thead>\n",
       "  <tbody>\n",
       "    <tr>\n",
       "      <td>0</td>\n",
       "      <td>0</td>\n",
       "      <td>2015-12-27</td>\n",
       "      <td>1.33</td>\n",
       "      <td>64236.62</td>\n",
       "      <td>1036.74</td>\n",
       "      <td>54454.85</td>\n",
       "      <td>48.16</td>\n",
       "      <td>8696.87</td>\n",
       "      <td>8603.62</td>\n",
       "      <td>93.25</td>\n",
       "      <td>0.0</td>\n",
       "      <td>conventional</td>\n",
       "      <td>2015</td>\n",
       "      <td>Albany</td>\n",
       "    </tr>\n",
       "    <tr>\n",
       "      <td>1</td>\n",
       "      <td>1</td>\n",
       "      <td>2015-12-20</td>\n",
       "      <td>1.35</td>\n",
       "      <td>54876.98</td>\n",
       "      <td>674.28</td>\n",
       "      <td>44638.81</td>\n",
       "      <td>58.33</td>\n",
       "      <td>9505.56</td>\n",
       "      <td>9408.07</td>\n",
       "      <td>97.49</td>\n",
       "      <td>0.0</td>\n",
       "      <td>conventional</td>\n",
       "      <td>2015</td>\n",
       "      <td>Albany</td>\n",
       "    </tr>\n",
       "    <tr>\n",
       "      <td>2</td>\n",
       "      <td>2</td>\n",
       "      <td>2015-12-13</td>\n",
       "      <td>0.93</td>\n",
       "      <td>118220.22</td>\n",
       "      <td>794.70</td>\n",
       "      <td>109149.67</td>\n",
       "      <td>130.50</td>\n",
       "      <td>8145.35</td>\n",
       "      <td>8042.21</td>\n",
       "      <td>103.14</td>\n",
       "      <td>0.0</td>\n",
       "      <td>conventional</td>\n",
       "      <td>2015</td>\n",
       "      <td>Albany</td>\n",
       "    </tr>\n",
       "    <tr>\n",
       "      <td>3</td>\n",
       "      <td>3</td>\n",
       "      <td>2015-12-06</td>\n",
       "      <td>1.08</td>\n",
       "      <td>78992.15</td>\n",
       "      <td>1132.00</td>\n",
       "      <td>71976.41</td>\n",
       "      <td>72.58</td>\n",
       "      <td>5811.16</td>\n",
       "      <td>5677.40</td>\n",
       "      <td>133.76</td>\n",
       "      <td>0.0</td>\n",
       "      <td>conventional</td>\n",
       "      <td>2015</td>\n",
       "      <td>Albany</td>\n",
       "    </tr>\n",
       "    <tr>\n",
       "      <td>4</td>\n",
       "      <td>4</td>\n",
       "      <td>2015-11-29</td>\n",
       "      <td>1.28</td>\n",
       "      <td>51039.60</td>\n",
       "      <td>941.48</td>\n",
       "      <td>43838.39</td>\n",
       "      <td>75.78</td>\n",
       "      <td>6183.95</td>\n",
       "      <td>5986.26</td>\n",
       "      <td>197.69</td>\n",
       "      <td>0.0</td>\n",
       "      <td>conventional</td>\n",
       "      <td>2015</td>\n",
       "      <td>Albany</td>\n",
       "    </tr>\n",
       "  </tbody>\n",
       "</table>\n",
       "</div>"
      ],
      "text/plain": [
       "   Unnamed: 0        Date  AveragePrice  Total Volume     4046       4225  \\\n",
       "0           0  2015-12-27          1.33      64236.62  1036.74   54454.85   \n",
       "1           1  2015-12-20          1.35      54876.98   674.28   44638.81   \n",
       "2           2  2015-12-13          0.93     118220.22   794.70  109149.67   \n",
       "3           3  2015-12-06          1.08      78992.15  1132.00   71976.41   \n",
       "4           4  2015-11-29          1.28      51039.60   941.48   43838.39   \n",
       "\n",
       "     4770  Total Bags  Small Bags  Large Bags  XLarge Bags          type  \\\n",
       "0   48.16     8696.87     8603.62       93.25          0.0  conventional   \n",
       "1   58.33     9505.56     9408.07       97.49          0.0  conventional   \n",
       "2  130.50     8145.35     8042.21      103.14          0.0  conventional   \n",
       "3   72.58     5811.16     5677.40      133.76          0.0  conventional   \n",
       "4   75.78     6183.95     5986.26      197.69          0.0  conventional   \n",
       "\n",
       "   year  region  \n",
       "0  2015  Albany  \n",
       "1  2015  Albany  \n",
       "2  2015  Albany  \n",
       "3  2015  Albany  \n",
       "4  2015  Albany  "
      ]
     },
     "execution_count": 44,
     "metadata": {},
     "output_type": "execute_result"
    }
   ],
   "source": [
    "av = pd.read_csv('avocado.csv')\n",
    "av.head()"
   ]
  },
  {
   "cell_type": "code",
   "execution_count": 67,
   "metadata": {},
   "outputs": [
    {
     "data": {
      "text/plain": [
       "Unnamed: 0      0\n",
       "Date            0\n",
       "AveragePrice    0\n",
       "Total Volume    0\n",
       "4046            0\n",
       "4225            0\n",
       "4770            0\n",
       "Total Bags      0\n",
       "Small Bags      0\n",
       "Large Bags      0\n",
       "XLarge Bags     0\n",
       "type            0\n",
       "year            0\n",
       "region          0\n",
       "dtype: int64"
      ]
     },
     "execution_count": 67,
     "metadata": {},
     "output_type": "execute_result"
    }
   ],
   "source": [
    "av.isnull().sum()"
   ]
  },
  {
   "cell_type": "code",
   "execution_count": null,
   "metadata": {},
   "outputs": [],
   "source": [
    "Сделать частотный график колонки AveragePrice. Какое это распределение?"
   ]
  },
  {
   "cell_type": "code",
   "execution_count": 57,
   "metadata": {},
   "outputs": [
    {
     "data": {
      "image/png": "[encoded data removed]",
      "text/plain": [
       "<Figure size 432x288 with 1 Axes>"
      ]
     },
     "metadata": {
      "needs_background": "light"
     },
     "output_type": "display_data"
    }
   ],
   "source": [
    "n, bins, patches = plt.hist(av['AveragePrice'], 50, facecolor='g')\n",
    "\n",
    "plt.xlabel('Средняя цена на авокадо')\n",
    "plt.title('Частотный график средних цен на авокадо (разбиение интервала по 50 элементов)')\n",
    "plt.grid(True)\n",
    "plt.show()\n",
    "# Имеет место нормальное распределение"
   ]
  },
  {
   "cell_type": "code",
   "execution_count": null,
   "metadata": {},
   "outputs": [],
   "source": [
    "Найти корреляцию в следующих колонках: 4046, 4225, 4770 и Average Price. \n",
    "Если корелляция есть (обратная или прямая), то какие выводы можно сделать?"
   ]
  },
  {
   "cell_type": "code",
   "execution_count": 65,
   "metadata": {},
   "outputs": [
    {
     "data": {
      "text/html": [
       "<div>\n",
       "<style scoped>\n",
       "    .dataframe tbody tr th:only-of-type {\n",
       "        vertical-align: middle;\n",
       "    }\n",
       "\n",
       "    .dataframe tbody tr th {\n",
       "        vertical-align: top;\n",
       "    }\n",
       "\n",
       "    .dataframe thead th {\n",
       "        text-align: right;\n",
       "    }\n",
       "</style>\n",
       "<table border=\"1\" class=\"dataframe\">\n",
       "  <thead>\n",
       "    <tr style=\"text-align: right;\">\n",
       "      <th></th>\n",
       "      <th>4046</th>\n",
       "      <th>4225</th>\n",
       "      <th>4770</th>\n",
       "      <th>AveragePrice</th>\n",
       "    </tr>\n",
       "  </thead>\n",
       "  <tbody>\n",
       "    <tr>\n",
       "      <td>4046</td>\n",
       "      <td>1.000000</td>\n",
       "      <td>0.926110</td>\n",
       "      <td>0.833389</td>\n",
       "      <td>-0.208317</td>\n",
       "    </tr>\n",
       "    <tr>\n",
       "      <td>4225</td>\n",
       "      <td>0.926110</td>\n",
       "      <td>1.000000</td>\n",
       "      <td>0.887855</td>\n",
       "      <td>-0.172928</td>\n",
       "    </tr>\n",
       "    <tr>\n",
       "      <td>4770</td>\n",
       "      <td>0.833389</td>\n",
       "      <td>0.887855</td>\n",
       "      <td>1.000000</td>\n",
       "      <td>-0.179446</td>\n",
       "    </tr>\n",
       "    <tr>\n",
       "      <td>AveragePrice</td>\n",
       "      <td>-0.208317</td>\n",
       "      <td>-0.172928</td>\n",
       "      <td>-0.179446</td>\n",
       "      <td>1.000000</td>\n",
       "    </tr>\n",
       "  </tbody>\n",
       "</table>\n",
       "</div>"
      ],
      "text/plain": [
       "                  4046      4225      4770  AveragePrice\n",
       "4046          1.000000  0.926110  0.833389     -0.208317\n",
       "4225          0.926110  1.000000  0.887855     -0.172928\n",
       "4770          0.833389  0.887855  1.000000     -0.179446\n",
       "AveragePrice -0.208317 -0.172928 -0.179446      1.000000"
      ]
     },
     "execution_count": 65,
     "metadata": {},
     "output_type": "execute_result"
    }
   ],
   "source": [
    "av[['4046', '4225', '4770', 'AveragePrice']].corr()"
   ]
  },
  {
   "cell_type": "code",
   "execution_count": null,
   "metadata": {},
   "outputs": [],
   "source": [
    "Межу количеством проданных товаров и их средней ценой \n",
    "наблюдается слабая обратная связь / корелляция, проще:\n",
    "чем выше продажи тем ниже цена\n",
    "Обратную корелляцию возможно кратно усилить, если сократить \n",
    "выборку (убрать дни/строки с общим объемом продаж > 1.2 млн шт )\n",
    "- требует доп исследования\n",
    "\n",
    "Между количеством проданных авокадо по разным сортам - \n",
    "прямая корреляция, увеличение продаж товара в целом означает\n",
    "и рост в отношении каждой из товарных групп\n",
    "Чем ближе коды вида/сорта товара между собой тем теснее \n",
    "связь / корелляция - это скорее всего означает эластичность \n",
    "спроса на схожие / близкие товарные группы"
   ]
  },
  {
   "cell_type": "code",
   "execution_count": 130,
   "metadata": {},
   "outputs": [
    {
     "name": "stdout",
     "output_type": "stream",
     "text": [
      "Коэффициент корреляции Пирсона: -0.4680795007580889\n"
     ]
    },
    {
     "data": {
      "image/png": "[encoded data removed]",
      "text/plain": [
       "<Figure size 432x288 with 1 Axes>"
      ]
     },
     "metadata": {
      "needs_background": "light"
     },
     "output_type": "display_data"
    }
   ],
   "source": [
    "av1 = av.loc[av['Total Volume'] <1200000]\n",
    "x = av1['AveragePrice']\n",
    "y = av1['Total Volume']\n",
    "corr, p_value = pearsonr(x, y)\n",
    "plt.scatter(x, y, marker='.')\n",
    "print('Коэффициент корреляции Пирсона:', corr)"
   ]
  },
  {
   "cell_type": "code",
   "execution_count": null,
   "metadata": {},
   "outputs": [],
   "source": []
  }
 ],
 "metadata": {
  "kernelspec": {
   "display_name": "Python 3",
   "language": "python",
   "name": "python3"
  },
  "language_info": {
   "codemirror_mode": {
    "name": "ipython",
    "version": 3
   },
   "file_extension": ".py",
   "mimetype": "text/x-python",
   "name": "python",
   "nbconvert_exporter": "python",
   "pygments_lexer": "ipython3",
   "version": "3.7.4"
  }
 },
 "nbformat": 4,
 "nbformat_minor": 2
}
