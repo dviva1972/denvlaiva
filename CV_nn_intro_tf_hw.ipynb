{
  "nbformat": 4,
  "nbformat_minor": 0,
  "metadata": {
    "colab": {
      "name": "Tensorflow_hw.ipynb",
      "provenance": [],
      "collapsed_sections": [],
      "authorship_tag": "ABX9TyNWW10Nhj2zX922eq1Pj8wY",
      "include_colab_link": true
    },
    "kernelspec": {
      "name": "python3",
      "display_name": "Python 3"
    },
    "accelerator": "GPU"
  },
  "cells": [
    {
      "cell_type": "markdown",
      "metadata": {
        "id": "view-in-github",
        "colab_type": "text"
      },
      "source": [
        "<a href=\"https://colab.research.google.com/github/dviva1972/denvlaiva/blob/master/CV_nn_intro_tf_hw.ipynb\" target=\"_parent\"><img src=\"https://colab.research.google.com/assets/colab-badge.svg\" alt=\"Open In Colab\"/></a>"
      ]
    },
    {
      "cell_type": "markdown",
      "metadata": {
        "id": "Y64shEz5i3WQ"
      },
      "source": [
        "\r\n",
        "Реализация логистической регрессии в TensorFlow"
      ]
    },
    {
      "cell_type": "code",
      "metadata": {
        "id": "R0B2gIWZivBU"
      },
      "source": [
        "import numpy as np\r\n",
        "import tensorflow.compat.v1 as tf\r\n",
        "tf.disable_v2_behavior()"
      ],
      "execution_count": 233,
      "outputs": []
    },
    {
      "cell_type": "code",
      "metadata": {
        "id": "5_ch5Wnli-PG"
      },
      "source": [
        "%matplotlib inline\r\n",
        "from matplotlib import pyplot as plt"
      ],
      "execution_count": 234,
      "outputs": []
    },
    {
      "cell_type": "markdown",
      "metadata": {
        "id": "D0rMI7ZDjDN7"
      },
      "source": [
        "Генерируем данные для задачи регрессии"
      ]
    },
    {
      "cell_type": "code",
      "metadata": {
        "id": "9XvIXnnKjAf0"
      },
      "source": [
        "NUM_FEATURES = 2\r\n",
        "NUM_SAMPLES = 1000"
      ],
      "execution_count": 235,
      "outputs": []
    },
    {
      "cell_type": "code",
      "metadata": {
        "colab": {
          "base_uri": "https://localhost:8080/",
          "height": 279
        },
        "id": "njRHYFncjG9A",
        "outputId": "1da95dbc-93d3-4457-ac8b-e1d6a8f01520"
      },
      "source": [
        "from sklearn.datasets import make_classification\r\n",
        "\r\n",
        "X, y = make_classification(n_samples = NUM_SAMPLES,\r\n",
        "                           n_features = NUM_FEATURES,\r\n",
        "                           n_informative = NUM_FEATURES,\r\n",
        "                           n_redundant = 0,\r\n",
        "                           n_classes = 2,\r\n",
        "                           n_clusters_per_class = 1,\r\n",
        "                           class_sep = 0.75,\r\n",
        "                           random_state = 467) \r\n",
        "\r\n",
        "y = y.reshape(-1, 1)\r\n",
        "\r\n",
        "ones = np.where(y == 1)   # индексы объектов класса '1'\r\n",
        "zeros = np.where(y == 0)  # индексы объектов класса '0'\r\n",
        "\r\n",
        "plt.xlabel('x')\r\n",
        "plt.ylabel('y')\r\n",
        "plt.plot(X[ones, 0], X[ones, 1], 'ob',\r\n",
        "         X[zeros, 0], X[zeros, 1], 'or');"
      ],
      "execution_count": 236,
      "outputs": [
        {
          "output_type": "display_data",
          "data": {
            "image/png": "[encoded data removed]",
            "text/plain": [
              "<Figure size 432x288 with 1 Axes>"
            ]
          },
          "metadata": {
            "tags": [],
            "needs_background": "light"
          }
        }
      ]
    },
    {
      "cell_type": "markdown",
      "metadata": {
        "id": "JU3hzxW0jOzn"
      },
      "source": [
        "Вспомогательные функции"
      ]
    },
    {
      "cell_type": "code",
      "metadata": {
        "id": "1d04L1TPjLfM"
      },
      "source": [
        "import random\r\n",
        "import string\r\n",
        "\r\n",
        "def py_func_with_grad(func, inp, Tout, grad, name = None, stateful = False, graph = None):\r\n",
        "    \r\n",
        "    name_prefix = ''.join([random.choice(string.ascii_letters) for _ in range(10)])\r\n",
        "    \r\n",
        "    name = '%s_%s' % (name_prefix, name or '')\r\n",
        "    grad_func_name = '%s_grad' % name\r\n",
        "\r\n",
        "    tf.RegisterGradient(grad_func_name)(grad)\r\n",
        "\r\n",
        "    g = graph or tf.get_default_graph()\r\n",
        "    with g.gradient_override_map({'PyFunc': grad_func_name, \r\n",
        "                                  'PyFuncStateless': grad_func_name}):\r\n",
        "        with tf.name_scope(name, 'PyFuncOp', inp):\r\n",
        "            return tf.py_func(func, inp, Tout, stateful = stateful, name = name)"
      ],
      "execution_count": 237,
      "outputs": []
    },
    {
      "cell_type": "markdown",
      "metadata": {
        "id": "MVNESqaYjazL"
      },
      "source": [
        "Реализация линейных операций"
      ]
    },
    {
      "cell_type": "code",
      "metadata": {
        "id": "uf142EucjWmT"
      },
      "source": [
        "def linear_op_forward(X, W):\r\n",
        "    ''' Реализация линейной операции '''\r\n",
        "    return np.dot(X, W.T)  # аргументы являются numpy-массивами\r\n",
        "\r\n",
        "def linear_op_backward(op, grads):\r\n",
        "    ''' Реализация вычисления градиента линейной операции '''\r\n",
        "    X = op.inputs[0]  # тензор входных данных\r\n",
        "    W = op.inputs[1]  # тензор параметров модели\r\n",
        "    dX = tf.multiply(grads, W)\r\n",
        "    dW = tf.reduce_sum(tf.multiply(X, grads),\r\n",
        "                       axis = 0,\r\n",
        "                       keep_dims = True)\r\n",
        "    return dX, dW\r\n",
        "\r\n",
        "def sigmoid_op_forward(X):\r\n",
        "    return (1 / (1 + np.exp(-X))).astype(np.float32)\r\n",
        "\r\n",
        "def sigmoid_op_backward(op, grads):\r\n",
        "    X = op.inputs[0]\r\n",
        "    name=None\r\n",
        "    with tf.name_scope(name, \"sigmoid\", [X]) as name:\r\n",
        "        y = tf.py_func(sigmoid_op_forward, [X], [tf.float32], name=name, stateful=False) \r\n",
        "    out = y[0]\r\n",
        "    out = out * (1 - out) \r\n",
        "    return tf.multiply(grads, out)"
      ],
      "execution_count": 238,
      "outputs": []
    },
    {
      "cell_type": "markdown",
      "metadata": {
        "id": "lhKRgwKljlV3"
      },
      "source": [
        "Создание графа вычислений и обучение модели"
      ]
    },
    {
      "cell_type": "code",
      "metadata": {
        "colab": {
          "base_uri": "https://localhost:8080/"
        },
        "id": "QatETug2jjH6",
        "outputId": "6f76b742-4243-4b68-b92f-2f3d2b16f625"
      },
      "source": [
        "BATCH_SIZE = NUM_SAMPLES // 10\r\n",
        "\r\n",
        "weights = None  # в этой переменной мы сохраним результат обучения модели\r\n",
        "learning_curve = []  # значения ошибки на каждой итерации обучения\r\n",
        "\r\n",
        "with tf.Session(graph = tf.Graph()) as sess:  # инициализируем сессию вычислений\r\n",
        "    \r\n",
        "    # создаем placeholdr'ы, через них мы будем\r\n",
        "    # передавать внешние данные в граф вычислений\r\n",
        "    plh_X = tf.placeholder(dtype = tf.float32, shape = [None, NUM_FEATURES])\r\n",
        "    plh_labels = tf.placeholder(dtype = tf.float32, shape = [None, 1])\r\n",
        "\r\n",
        "    # создаем переменную для хранения весов модели\r\n",
        "    # эти веса будут изменяться в процессе обучения\r\n",
        "    var_W = tf.Variable(tf.random_uniform(shape = [1, NUM_FEATURES],\r\n",
        "                                          dtype = tf.float32,\r\n",
        "                                          seed = 54321))\r\n",
        "    \r\n",
        "    # создаем переменную для результата предсказания модели\r\n",
        "    var_Pred = py_func_with_grad(linear_op_forward,         # функция предсказания модели \r\n",
        "                                 [plh_X, var_W],            # аргументы функции\r\n",
        "                                 [tf.float32],              # тип выходных значений\r\n",
        "                                 name = 'linear_op',        # имя операции \r\n",
        "                                 grad = linear_op_backward, # функция для вычисления градиента\r\n",
        "                                 graph = sess.graph)        # объект графа вчислений\r\n",
        "    \r\n",
        "    # создаем переменную для результата операции sigmoid\r\n",
        "    var_Sigmoid = py_func_with_grad(sigmoid_op_forward,\r\n",
        "                                    [var_Pred],\r\n",
        "                                    [tf.float32],\r\n",
        "                                    name = 'sigmoid_op',\r\n",
        "                                    grad = sigmoid_op_backward,\r\n",
        "                                    graph = sess.graph)\r\n",
        "    \r\n",
        "    # кроссэнтропийная функция потерь для бмнарной классификации\r\n",
        "    cost = tf.losses.sigmoid_cross_entropy(plh_labels, var_Sigmoid)\r\n",
        "    \r\n",
        "    # инициализируем оптимизатор и указываем скорость обучения\r\n",
        "    optimizer = tf.train.GradientDescentOptimizer(learning_rate = 0.9).minimize(cost)\r\n",
        "\r\n",
        "    # инициализируем placeholder'ы и переменные\r\n",
        "    sess.run(tf.global_variables_initializer())\r\n",
        "    \r\n",
        "    indices = np.arange(len(X))  # массив индексов объектов\r\n",
        "\r\n",
        "    # выполняем итерации по эпохам\r\n",
        "    for epoch in range(20):\r\n",
        "        \r\n",
        "        # вначале каждой эпохи перемешиваем индексы\r\n",
        "        np.random.shuffle(indices)\r\n",
        "        \r\n",
        "        # внутри каждой эпохи данные разбиваются на батчи\r\n",
        "        for batch in range(len(X) // BATCH_SIZE):\r\n",
        "            \r\n",
        "            # выбираем индексы очередного батча\r\n",
        "            batch_indices = indices[batch * BATCH_SIZE:(batch + 1) * BATCH_SIZE]\r\n",
        "\r\n",
        "            # выполняем шаг обучения: вычисляем ошибку и обновляем веса\r\n",
        "            loss, _ = sess.run([cost, optimizer],  # указываем, какие операции необходимо выполнить\r\n",
        "                               feed_dict = {plh_X: X[batch_indices],  # передаем входные данные для вычисления\r\n",
        "                                            plh_labels: y[batch_indices]})\r\n",
        "        \r\n",
        "            # сохраняем занчения ошибки для построения кривой обучения\r\n",
        "            learning_curve.append(loss)\r\n",
        "            \r\n",
        "            # выводим текущее значение ошибки для каждого 10го шага\r\n",
        "            steps = len(learning_curve) - 1\r\n",
        "            if steps % 10 == 0:\r\n",
        "                print('[%03d] loss=%.3f weights=%s' % (steps, loss, var_W.eval()))\r\n",
        "    \r\n",
        "    # сохраняем обученные веса\r\n",
        "    weights = var_W.eval()"
      ],
      "execution_count": 239,
      "outputs": [
        {
          "output_type": "stream",
          "text": [
            "[000] loss=0.799 weights=[[0.33080792 0.18391998]]\n",
            "[010] loss=0.622 weights=[[-0.45265344 -0.6034656 ]]\n",
            "[020] loss=0.550 weights=[[-0.97596467 -1.126193  ]]\n",
            "[030] loss=0.564 weights=[[-1.276966  -1.4866291]]\n",
            "[040] loss=0.506 weights=[[-1.4928414 -1.7348402]]\n",
            "[050] loss=0.530 weights=[[-1.6545618 -1.9331002]]\n",
            "[060] loss=0.505 weights=[[-1.7786477 -2.0962539]]\n",
            "[070] loss=0.540 weights=[[-1.8830914 -2.2362084]]\n",
            "[080] loss=0.525 weights=[[-1.9744242 -2.3502352]]\n",
            "[090] loss=0.526 weights=[[-2.0521812 -2.453996 ]]\n",
            "[100] loss=0.524 weights=[[-2.12369   -2.5455103]]\n",
            "[110] loss=0.551 weights=[[-2.1842852 -2.6317518]]\n",
            "[120] loss=0.549 weights=[[-2.2426007 -2.7052333]]\n",
            "[130] loss=0.525 weights=[[-2.293524  -2.7745423]]\n",
            "[140] loss=0.520 weights=[[-2.3415961 -2.8382933]]\n",
            "[150] loss=0.504 weights=[[-2.3867667 -2.8967943]]\n",
            "[160] loss=0.500 weights=[[-2.428312  -2.9525714]]\n",
            "[170] loss=0.495 weights=[[-2.4677405 -3.003804 ]]\n",
            "[180] loss=0.518 weights=[[-2.5032468 -3.0544672]]\n",
            "[190] loss=0.483 weights=[[-2.538674 -3.099216]]\n"
          ],
          "name": "stdout"
        }
      ]
    },
    {
      "cell_type": "markdown",
      "metadata": {
        "id": "W_HEafpekWf3"
      },
      "source": [
        "Визуализируем кривую обучения"
      ]
    },
    {
      "cell_type": "code",
      "metadata": {
        "colab": {
          "base_uri": "https://localhost:8080/",
          "height": 295
        },
        "id": "E3kOr_SakH3M",
        "outputId": "bb6695f3-0b54-4b59-e330-608ce1b275df"
      },
      "source": [
        "plt.xlabel('step')\r\n",
        "plt.ylabel('loss')\r\n",
        "plt.title('Learning curve')\r\n",
        "plt.plot(learning_curve);"
      ],
      "execution_count": 240,
      "outputs": [
        {
          "output_type": "display_data",
          "data": {
            "image/png": "[encoded data removed]",
            "text/plain": [
              "<Figure size 432x288 with 1 Axes>"
            ]
          },
          "metadata": {
            "tags": [],
            "needs_background": "light"
          }
        }
      ]
    },
    {
      "cell_type": "markdown",
      "metadata": {
        "id": "B2PdgLSokdf6"
      },
      "source": [
        "\r\n",
        "Визуализируем разделяющую гиперплоскость"
      ]
    },
    {
      "cell_type": "code",
      "metadata": {
        "colab": {
          "base_uri": "https://localhost:8080/",
          "height": 279
        },
        "id": "oeD2f--YkaeC",
        "outputId": "09d18234-3a0a-492c-84a9-0b8c45a93766"
      },
      "source": [
        "y_pred = - X[:, 0] * weights[0, 0] / weights[0, 1]\r\n",
        "\r\n",
        "order = np.argsort(X[:, 0])\r\n",
        "\r\n",
        "plt.xlabel('x')\r\n",
        "plt.ylabel('y')\r\n",
        "plt.plot(X[ones, 0], X[ones, 1], 'ob',\r\n",
        "         X[zeros, 0], X[zeros, 1], 'or',\r\n",
        "         X[order, 0], y_pred[order], '-g');"
      ],
      "execution_count": 241,
      "outputs": [
        {
          "output_type": "display_data",
          "data": {
            "image/png": "[encoded data removed]",
            "text/plain": [
              "<Figure size 432x288 with 1 Axes>"
            ]
          },
          "metadata": {
            "tags": [],
            "needs_background": "light"
          }
        }
      ]
    },
    {
      "cell_type": "code",
      "metadata": {
        "id": "-bniRqMakjH8"
      },
      "source": [
        ""
      ],
      "execution_count": 241,
      "outputs": []
    }
  ]
}