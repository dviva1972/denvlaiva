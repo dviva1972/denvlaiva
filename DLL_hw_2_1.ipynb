{
  "nbformat": 4,
  "nbformat_minor": 0,
  "metadata": {
    "colab": {
      "name": "DLL_hw_2_1.ipynb",
      "provenance": []
    },
    "kernelspec": {
      "name": "python3",
      "display_name": "Python 3"
    },
    "language_info": {
      "name": "python"
    }
  },
  "cells": [
    {
      "cell_type": "markdown",
      "metadata": {
        "id": "2yFPFuwVVEPO"
      },
      "source": [
        "## DLL\n",
        "\n",
        "## Домашняя работа 2  |  Многослойные нейронные сети\n",
        "\n",
        "## Иванов Денис"
      ]
    },
    {
      "cell_type": "code",
      "metadata": {
        "id": "eIWbJIJvmTzl"
      },
      "source": [
        "import torch\n",
        "from torchvision import datasets, transforms\n",
        "from torch import nn, optim"
      ],
      "execution_count": 69,
      "outputs": []
    },
    {
      "cell_type": "code",
      "metadata": {
        "id": "IVhLiAbtmcCH"
      },
      "source": [
        "transform = transforms.Compose([transforms.ToTensor(),\n",
        "                                transforms.Normalize([0.], [0.5])])\n",
        "\n",
        "trainset    = datasets.FashionMNIST('.', download = True, train = True, \n",
        "                                         transform = transform)\n",
        "testset     = datasets.FashionMNIST('.', download = True, train = False, \n",
        "                                         transform = transform)\n",
        "\n",
        "trainloader = torch.utils.data.DataLoader(trainset, \n",
        "                                          batch_size = 64, shuffle = True)\n",
        "testloader  = torch.utils.data.DataLoader(testset, \n",
        "                                          batch_size = 64, shuffle = True)"
      ],
      "execution_count": 70,
      "outputs": []
    },
    {
      "cell_type": "code",
      "metadata": {
        "id": "sb5So2oFmcFe",
        "colab": {
          "base_uri": "https://localhost:8080/"
        },
        "outputId": "13e2208e-fac2-472f-b9d0-030ba2189c10"
      },
      "source": [
        "dataiter        = iter(trainloader)\n",
        "images, labels  = dataiter.next()\n",
        "\n",
        "print(images.shape, labels.shape)"
      ],
      "execution_count": 85,
      "outputs": [
        {
          "output_type": "stream",
          "text": [
            "torch.Size([64, 1, 28, 28]) torch.Size([64])\n"
          ],
          "name": "stdout"
        }
      ]
    },
    {
      "cell_type": "code",
      "metadata": {
        "id": "WSjRNEVkmcJm"
      },
      "source": [
        "model = nn.Sequential(nn.Flatten(),\n",
        "                      nn.BatchNorm1d(784),\n",
        "                      nn.Linear(784, 256),\n",
        "                      nn.ReLU(),\n",
        "                      nn.BatchNorm1d(256),\n",
        "                      nn.Dropout(0.3),\n",
        "                      nn.Linear(256, 128),\n",
        "                      nn.ReLU(),\n",
        "                      nn.BatchNorm1d(128),\n",
        "                      nn.Dropout(0.28), #0.25\n",
        "                      nn.Linear(128, 64),\n",
        "                      nn.ReLU(),\n",
        "                      nn.Dropout(0.28), \n",
        "                      nn.BatchNorm1d(64),\n",
        "                      nn.Linear(64, 16), \n",
        "                      nn.LogSoftmax(dim = 1)\n",
        "                     )\n",
        "loss = nn.CrossEntropyLoss()\n",
        "optimizer = optim.Adam(model.parameters(), lr=0.0008)\n",
        "epochs = 15"
      ],
      "execution_count": 100,
      "outputs": []
    },
    {
      "cell_type": "code",
      "metadata": {
        "id": "hnSod62ymotH",
        "colab": {
          "base_uri": "https://localhost:8080/"
        },
        "outputId": "c8b44cdf-c7c2-4cc0-d184-bc5f6fc1bf31"
      },
      "source": [
        "for epoch in range(epochs):\n",
        "    model.train()\n",
        "    for fashion_images, fashion_labels in trainloader:\n",
        "        fashion_images = fashion_images.view(fashion_images.shape[0], -1)\n",
        "        optimizer.zero_grad()\n",
        "        output = model.forward(fashion_images)\n",
        "        l = loss(output, fashion_labels)\n",
        "        l.backward()\n",
        "        optimizer.step()\n",
        "\n",
        "    test_loss = 0\n",
        "    accuracy = 0\n",
        "    with torch.no_grad():\n",
        "        model.eval()\n",
        "\n",
        "        for fashion_images, fashion_labels in testloader:\n",
        "            fashion_images = fashion_images.view(fashion_images.shape[0], -1)\n",
        "            test_guess = model(fashion_images)\n",
        "            test_loss += loss(test_guess, fashion_labels)\n",
        "\n",
        "            prob = torch.exp(test_guess)\n",
        "            top_probs, top_classes = prob.topk(1, dim=1)\n",
        "            equals = fashion_labels == top_classes.view(fashion_labels.shape)\n",
        "            accuracy += torch.mean(equals.type(torch.FloatTensor))\n",
        "\n",
        "    print(f'Эпоха: {epoch + 1}/{epochs}. Потери: {test_loss / len(testloader):.4f}. \\\n",
        "    Точность: {accuracy / len(testloader):.4f}')"
      ],
      "execution_count": 101,
      "outputs": [
        {
          "output_type": "stream",
          "text": [
            "Эпоха: 1/15. Потери: 0.4176.     Точность: 0.8513\n",
            "Эпоха: 2/15. Потери: 0.4019.     Точность: 0.8544\n",
            "Эпоха: 3/15. Потери: 0.3668.     Точность: 0.8700\n",
            "Эпоха: 4/15. Потери: 0.3525.     Точность: 0.8734\n",
            "Эпоха: 5/15. Потери: 0.3401.     Точность: 0.8776\n",
            "Эпоха: 6/15. Потери: 0.3371.     Точность: 0.8772\n",
            "Эпоха: 7/15. Потери: 0.3373.     Точность: 0.8784\n",
            "Эпоха: 8/15. Потери: 0.3389.     Точность: 0.8770\n",
            "Эпоха: 9/15. Потери: 0.3429.     Точность: 0.8785\n",
            "Эпоха: 10/15. Потери: 0.3135.     Точность: 0.8853\n",
            "Эпоха: 11/15. Потери: 0.3329.     Точность: 0.8833\n",
            "Эпоха: 12/15. Потери: 0.3326.     Точность: 0.8874\n",
            "Эпоха: 13/15. Потери: 0.3167.     Точность: 0.8901\n",
            "Эпоха: 14/15. Потери: 0.3284.     Точность: 0.8866\n",
            "Эпоха: 15/15. Потери: 0.3147.     Точность: 0.8904\n"
          ],
          "name": "stdout"
        }
      ]
    },
    {
      "cell_type": "code",
      "metadata": {
        "id": "vQWJ0kpnLY-i"
      },
      "source": [
        "model = nn.Sequential(nn.Flatten(),\n",
        "                      nn.BatchNorm1d(784),\n",
        "                      nn.Linear(784, 256),\n",
        "                      nn.ReLU(),\n",
        "                      nn.BatchNorm1d(256),\n",
        "                      nn.Dropout(0.3), \n",
        "                      nn.Linear(256, 128),\n",
        "                      nn.ReLU(),\n",
        "                      nn.BatchNorm1d(128),\n",
        "                      nn.Dropout(0.28), \n",
        "                      nn.Linear(128, 64),\n",
        "                      nn.ReLU(),\n",
        "                      nn.BatchNorm1d(64),\n",
        "                      nn.Dropout(0.18), \n",
        "                      nn.Linear(64, 16), \n",
        "                      nn.LogSoftmax(dim = 1)\n",
        "                     )\n",
        "loss = nn.CrossEntropyLoss()\n",
        "optimizer = optim.Adam(model.parameters(), lr=0.001) \n",
        "epochs = 20"
      ],
      "execution_count": 94,
      "outputs": []
    },
    {
      "cell_type": "code",
      "metadata": {
        "colab": {
          "base_uri": "https://localhost:8080/"
        },
        "id": "B2lnJrunLY-j",
        "outputId": "17ee0c5d-593e-4192-95c2-96c0b8769a6d"
      },
      "source": [
        "\n",
        "for epoch in range(epochs):\n",
        "    model.train()\n",
        "    for fashion_images, fashion_labels in trainloader:\n",
        "        fashion_images = fashion_images.view(fashion_images.shape[0], -1)\n",
        "        optimizer.zero_grad()\n",
        "        output = model.forward(fashion_images)\n",
        "        l = loss(output, fashion_labels)\n",
        "        l.backward()\n",
        "        optimizer.step()\n",
        "\n",
        "    test_loss = 0\n",
        "    accuracy = 0\n",
        "    with torch.no_grad():\n",
        "        model.eval()\n",
        "\n",
        "        for fashion_images, fashion_labels in testloader:\n",
        "            fashion_images = fashion_images.view(fashion_images.shape[0], -1)\n",
        "            test_guess = model(fashion_images)\n",
        "            test_loss += loss(test_guess, fashion_labels)\n",
        "\n",
        "            prob = torch.exp(test_guess)\n",
        "            top_probs, top_classes = prob.topk(1, dim=1)\n",
        "            equals = fashion_labels == top_classes.view(fashion_labels.shape)\n",
        "            accuracy += torch.mean(equals.type(torch.FloatTensor))\n",
        "\n",
        "    print(f'Эпоха: {epoch + 1}/{epochs}. Потери: {test_loss / len(testloader):.4f}. \\\n",
        "    Точность: {accuracy / len(testloader):.4f}')"
      ],
      "execution_count": 95,
      "outputs": [
        {
          "output_type": "stream",
          "text": [
            "Эпоха: 1/20. Потери: 0.4074.     Точность: 0.8535\n",
            "Эпоха: 2/20. Потери: 0.3895.     Точность: 0.8603\n",
            "Эпоха: 3/20. Потери: 0.3613.     Точность: 0.8695\n",
            "Эпоха: 4/20. Потери: 0.3434.     Точность: 0.8749\n",
            "Эпоха: 5/20. Потери: 0.3450.     Точность: 0.8751\n",
            "Эпоха: 6/20. Потери: 0.3336.     Точность: 0.8782\n",
            "Эпоха: 7/20. Потери: 0.3309.     Точность: 0.8803\n",
            "Эпоха: 8/20. Потери: 0.3186.     Точность: 0.8836\n",
            "Эпоха: 9/20. Потери: 0.3164.     Точность: 0.8839\n",
            "Эпоха: 10/20. Потери: 0.3265.     Точность: 0.8830\n",
            "Эпоха: 11/20. Потери: 0.3191.     Точность: 0.8854\n",
            "Эпоха: 12/20. Потери: 0.3134.     Точность: 0.8873\n",
            "Эпоха: 13/20. Потери: 0.3244.     Точность: 0.8862\n",
            "Эпоха: 14/20. Потери: 0.3121.     Точность: 0.8862\n",
            "Эпоха: 15/20. Потери: 0.3134.     Точность: 0.8906\n",
            "Эпоха: 16/20. Потери: 0.3034.     Точность: 0.8904\n",
            "Эпоха: 17/20. Потери: 0.3112.     Точность: 0.8915\n",
            "Эпоха: 18/20. Потери: 0.3140.     Точность: 0.8921\n",
            "Эпоха: 19/20. Потери: 0.3091.     Точность: 0.8919\n",
            "Эпоха: 20/20. Потери: 0.3149.     Точность: 0.8929\n"
          ],
          "name": "stdout"
        }
      ]
    },
    {
      "cell_type": "code",
      "metadata": {
        "id": "KSD6pflKmo_M"
      },
      "source": [
        "model = nn.Sequential(nn.Flatten(),\n",
        "                      nn.BatchNorm1d(784),\n",
        "                      nn.Linear(784, 256),\n",
        "                      nn.ReLU(),                      \n",
        "                      nn.BatchNorm1d(256),\n",
        "                      nn.Dropout(0.2),\n",
        "                      nn.Linear(256, 64),\n",
        "                      nn.ReLU(),                      \n",
        "                      nn.BatchNorm1d(64),\n",
        "                      nn.Linear(64, 16), \n",
        "                      nn.LogSoftmax(dim = 1)\n",
        "                     )\n",
        "loss = nn.CrossEntropyLoss()\n",
        "optimizer = optim.Adam(model.parameters(), lr=0.012)\n",
        "epochs = 20"
      ],
      "execution_count": 129,
      "outputs": []
    },
    {
      "cell_type": "code",
      "metadata": {
        "colab": {
          "base_uri": "https://localhost:8080/"
        },
        "id": "u_AEi8ag3DMh",
        "outputId": "5fded3fa-21c4-4edb-a077-4b3fa01b5e0f"
      },
      "source": [
        "for epoch in range(epochs):\n",
        "    model.train()\n",
        "    for fashion_images, fashion_labels in trainloader:\n",
        "        fashion_images = fashion_images.view(fashion_images.shape[0], -1)\n",
        "        optimizer.zero_grad()\n",
        "        output = model.forward(fashion_images)\n",
        "        l = loss(output, fashion_labels)\n",
        "        l.backward()\n",
        "        optimizer.step()\n",
        "\n",
        "    test_loss = 0\n",
        "    accuracy = 0\n",
        "    with torch.no_grad():\n",
        "        model.eval()\n",
        "\n",
        "        for fashion_images, fashion_labels in testloader:\n",
        "            fashion_images = fashion_images.view(fashion_images.shape[0], -1)\n",
        "            test_guess = model(fashion_images)\n",
        "            test_loss += loss(test_guess, fashion_labels)\n",
        "\n",
        "            prob = torch.exp(test_guess)\n",
        "            top_probs, top_classes = prob.topk(1, dim=1)\n",
        "            equals = fashion_labels == top_classes.view(fashion_labels.shape)\n",
        "            accuracy += torch.mean(equals.type(torch.FloatTensor))\n",
        "\n",
        "    print(f'Эпоха: {epoch + 1}/{epochs}. Потери: {test_loss / len(testloader):.4f}. \\\n",
        "    Точность: {accuracy / len(testloader):.4f}')"
      ],
      "execution_count": 130,
      "outputs": [
        {
          "output_type": "stream",
          "text": [
            "Эпоха: 1/20. Потери: 0.4322.     Точность: 0.8454\n",
            "Эпоха: 2/20. Потери: 0.4048.     Точность: 0.8500\n",
            "Эпоха: 3/20. Потери: 1.0392.     Точность: 0.8471\n",
            "Эпоха: 4/20. Потери: 4.2800.     Точность: 0.8688\n",
            "Эпоха: 5/20. Потери: 0.4311.     Точность: 0.8697\n",
            "Эпоха: 6/20. Потери: 6.6065.     Точность: 0.8720\n",
            "Эпоха: 7/20. Потери: 0.9834.     Точность: 0.8655\n",
            "Эпоха: 8/20. Потери: 1.2078.     Точность: 0.8683\n",
            "Эпоха: 9/20. Потери: 7.9679.     Точность: 0.8730\n",
            "Эпоха: 10/20. Потери: 2.5606.     Точность: 0.8819\n",
            "Эпоха: 11/20. Потери: 10.1836.     Точность: 0.8826\n",
            "Эпоха: 12/20. Потери: 13.1894.     Точность: 0.8801\n",
            "Эпоха: 13/20. Потери: 9.8235.     Точность: 0.8805\n",
            "Эпоха: 14/20. Потери: 19.7608.     Точность: 0.8748\n",
            "Эпоха: 15/20. Потери: 11.6693.     Точность: 0.8807\n",
            "Эпоха: 16/20. Потери: 12.4756.     Точность: 0.8837\n",
            "Эпоха: 17/20. Потери: 42.0658.     Точность: 0.8813\n",
            "Эпоха: 18/20. Потери: 8.0072.     Точность: 0.8870\n",
            "Эпоха: 19/20. Потери: 13.4575.     Точность: 0.8842\n",
            "Эпоха: 20/20. Потери: 21.2569.     Точность: 0.8868\n"
          ],
          "name": "stdout"
        }
      ]
    },
    {
      "cell_type": "code",
      "metadata": {
        "id": "L4FDSMNhcW9Y"
      },
      "source": [
        ""
      ],
      "execution_count": null,
      "outputs": []
    }
  ]
}