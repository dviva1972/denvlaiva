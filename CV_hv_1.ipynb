{
  "nbformat": 4,
  "nbformat_minor": 0,
  "metadata": {
    "colab": {
      "name": "CV_hv_1.ipynb",
      "provenance": [],
      "collapsed_sections": [],
      "authorship_tag": "ABX9TyOtfN/pf7Q8N4EcQgJf3N8d",
      "include_colab_link": true
    },
    "kernelspec": {
      "name": "python3",
      "display_name": "Python 3"
    },
    "accelerator": "GPU"
  },
  "cells": [
    {
      "cell_type": "markdown",
      "metadata": {
        "id": "view-in-github",
        "colab_type": "text"
      },
      "source": [
        "<a href=\"https://colab.research.google.com/github/dviva1972/denvlaiva/blob/master/CV_hv_1.ipynb\" target=\"_parent\"><img src=\"https://colab.research.google.com/assets/colab-badge.svg\" alt=\"Open In Colab\"/></a>"
      ]
    },
    {
      "cell_type": "markdown",
      "metadata": {
        "id": "PHcZy86438d2"
      },
      "source": [
        "Денис Иванов \r\n",
        "\r\n",
        "Компьютерное зрение\r\n",
        "\r\n",
        "Домашняя работа № 1 по блоку CV"
      ]
    },
    {
      "cell_type": "markdown",
      "metadata": {
        "id": "EjeekHiK9HVu"
      },
      "source": [
        "https://www.kaggle.com/ajayrana/hymenoptera-data"
      ]
    },
    {
      "cell_type": "code",
      "metadata": {
        "id": "4JU5nbvJqkxo"
      },
      "source": [
        "import cv2\r\n",
        "import numpy as np\r\n",
        "import tensorflow as tf\r\n",
        "import tensorflow.keras as keras\r\n",
        "import os\r\n",
        "from random import shuffle\r\n",
        "from glob import glob\r\n",
        "\r\n",
        "from warnings import filterwarnings \r\n",
        "filterwarnings('ignore')"
      ],
      "execution_count": 3,
      "outputs": []
    },
    {
      "cell_type": "code",
      "metadata": {
        "id": "WtZf_XlpqaCA",
        "colab": {
          "base_uri": "https://localhost:8080/"
        },
        "outputId": "d22770bf-7586-4ee9-94b1-82cd816e143b"
      },
      "source": [
        "import os     \r\n",
        "from google.colab import drive \r\n",
        "\r\n",
        "drive.mount('/content/drive')"
      ],
      "execution_count": 4,
      "outputs": [
        {
          "output_type": "stream",
          "text": [
            "Mounted at /content/drive\n"
          ],
          "name": "stdout"
        }
      ]
    },
    {
      "cell_type": "markdown",
      "metadata": {
        "id": "2rMBCoI79QXH"
      },
      "source": [
        "Реализуйте сверточную нейронную сеть с использованием tf.keras или keras. Используйте сверточные, пуллинговые и полносвязанные слои. Обучите на train выборке в течении 10 эпох, оцените качество на отложенной выборке\r\n"
      ]
    },
    {
      "cell_type": "code",
      "metadata": {
        "id": "z9yRfjvyq0xr"
      },
      "source": [
        "train_generator = keras.preprocessing.image.ImageDataGenerator()\r\n",
        "test_generator = keras.preprocessing.image.ImageDataGenerator()"
      ],
      "execution_count": 5,
      "outputs": []
    },
    {
      "cell_type": "code",
      "metadata": {
        "colab": {
          "base_uri": "https://localhost:8080/"
        },
        "id": "Y2SPdBFxuzWg",
        "outputId": "59019a33-4220-4c0d-d992-82564dfba4c7"
      },
      "source": [
        "train = train_generator.flow_from_directory('/content/drive/My Drive/Colab_Notebooks/hymenoptera_data/train', \r\n",
        "                                            target_size=(224, 224), \r\n",
        "                                            batch_size=32, \r\n",
        "                                            class_mode='binary')\r\n",
        "\r\n",
        "test = test_generator.flow_from_directory('/content/drive/My Drive/Colab_Notebooks/hymenoptera_data/val', \r\n",
        "                                          target_size=(224, 224), \r\n",
        "                                          batch_size=32, \r\n",
        "                                          class_mode='binary')"
      ],
      "execution_count": 6,
      "outputs": [
        {
          "output_type": "stream",
          "text": [
            "Found 244 images belonging to 2 classes.\n",
            "Found 153 images belonging to 2 classes.\n"
          ],
          "name": "stdout"
        }
      ]
    },
    {
      "cell_type": "code",
      "metadata": {
        "id": "DTbqhVB4vVhU"
      },
      "source": [
        "i = keras.layers.Input(shape=(224,224,3))\r\n",
        "o = keras.layers.Conv2D(16, (5,5), strides=(3,3))(i) \r\n",
        "o = keras.layers.MaxPool2D((2,2))(o)\r\n",
        "o = keras.layers.ReLU()(o)\r\n",
        "o = keras.layers.Conv2D(32, (3,3))(o)\r\n",
        "o = keras.layers.MaxPool2D((2,2))(o)\r\n",
        "o = keras.layers.ReLU()(o)\r\n",
        "o = keras.layers.Conv2D(64, (3,3), strides=(1,1))(o)\r\n",
        "o = keras.layers.MaxPool2D((2,2))(o)\r\n",
        "o = keras.layers.ReLU()(o)\r\n",
        "o = keras.layers.Flatten()(o)\r\n",
        "o = keras.layers.Dense(1, activation='sigmoid')(o)"
      ],
      "execution_count": 7,
      "outputs": []
    },
    {
      "cell_type": "code",
      "metadata": {
        "colab": {
          "base_uri": "https://localhost:8080/"
        },
        "id": "t_nfsiqfwpjm",
        "outputId": "17c998ee-0c63-4fa0-a7a3-7aaeab50cb8c"
      },
      "source": [
        "model = keras.Model(inputs=i, outputs=o)\r\n",
        "model.compile(optimizer='adam', loss='binary_crossentropy', metrics=['accuracy'])\r\n",
        "model.summary()"
      ],
      "execution_count": 8,
      "outputs": [
        {
          "output_type": "stream",
          "text": [
            "Model: \"model\"\n",
            "_________________________________________________________________\n",
            "Layer (type)                 Output Shape              Param #   \n",
            "=================================================================\n",
            "input_1 (InputLayer)         [(None, 224, 224, 3)]     0         \n",
            "_________________________________________________________________\n",
            "conv2d (Conv2D)              (None, 74, 74, 16)        1216      \n",
            "_________________________________________________________________\n",
            "max_pooling2d (MaxPooling2D) (None, 37, 37, 16)        0         \n",
            "_________________________________________________________________\n",
            "re_lu (ReLU)                 (None, 37, 37, 16)        0         \n",
            "_________________________________________________________________\n",
            "conv2d_1 (Conv2D)            (None, 35, 35, 32)        4640      \n",
            "_________________________________________________________________\n",
            "max_pooling2d_1 (MaxPooling2 (None, 17, 17, 32)        0         \n",
            "_________________________________________________________________\n",
            "re_lu_1 (ReLU)               (None, 17, 17, 32)        0         \n",
            "_________________________________________________________________\n",
            "conv2d_2 (Conv2D)            (None, 15, 15, 64)        18496     \n",
            "_________________________________________________________________\n",
            "max_pooling2d_2 (MaxPooling2 (None, 7, 7, 64)          0         \n",
            "_________________________________________________________________\n",
            "re_lu_2 (ReLU)               (None, 7, 7, 64)          0         \n",
            "_________________________________________________________________\n",
            "flatten (Flatten)            (None, 3136)              0         \n",
            "_________________________________________________________________\n",
            "dense (Dense)                (None, 1)                 3137      \n",
            "=================================================================\n",
            "Total params: 27,489\n",
            "Trainable params: 27,489\n",
            "Non-trainable params: 0\n",
            "_________________________________________________________________\n"
          ],
          "name": "stdout"
        }
      ]
    },
    {
      "cell_type": "code",
      "metadata": {
        "colab": {
          "base_uri": "https://localhost:8080/"
        },
        "id": "cEU6Q7gswtss",
        "outputId": "93f946f9-288d-4e13-eba2-c628539ca7f7"
      },
      "source": [
        "model.fit(train, epochs=10, validation_data=test)"
      ],
      "execution_count": 9,
      "outputs": [
        {
          "output_type": "stream",
          "text": [
            "Epoch 1/10\n",
            "8/8 [==============================] - 91s 11s/step - loss: 11.0652 - accuracy: 0.5096 - val_loss: 1.4105 - val_accuracy: 0.6144\n",
            "Epoch 2/10\n",
            "8/8 [==============================] - 2s 323ms/step - loss: 1.5467 - accuracy: 0.5925 - val_loss: 0.9135 - val_accuracy: 0.6536\n",
            "Epoch 3/10\n",
            "8/8 [==============================] - 2s 323ms/step - loss: 0.8903 - accuracy: 0.6679 - val_loss: 0.8551 - val_accuracy: 0.5817\n",
            "Epoch 4/10\n",
            "8/8 [==============================] - 2s 316ms/step - loss: 0.5511 - accuracy: 0.7446 - val_loss: 0.7235 - val_accuracy: 0.6471\n",
            "Epoch 5/10\n",
            "8/8 [==============================] - 2s 312ms/step - loss: 0.4201 - accuracy: 0.8260 - val_loss: 0.7113 - val_accuracy: 0.6601\n",
            "Epoch 6/10\n",
            "8/8 [==============================] - 2s 315ms/step - loss: 0.2811 - accuracy: 0.9033 - val_loss: 0.7922 - val_accuracy: 0.6471\n",
            "Epoch 7/10\n",
            "8/8 [==============================] - 2s 315ms/step - loss: 0.2047 - accuracy: 0.9500 - val_loss: 0.7097 - val_accuracy: 0.6144\n",
            "Epoch 8/10\n",
            "8/8 [==============================] - 2s 321ms/step - loss: 0.2063 - accuracy: 0.9533 - val_loss: 0.7767 - val_accuracy: 0.6209\n",
            "Epoch 9/10\n",
            "8/8 [==============================] - 2s 323ms/step - loss: 0.1315 - accuracy: 0.9813 - val_loss: 0.7401 - val_accuracy: 0.6601\n",
            "Epoch 10/10\n",
            "8/8 [==============================] - 2s 329ms/step - loss: 0.1243 - accuracy: 0.9821 - val_loss: 0.7571 - val_accuracy: 0.6601\n"
          ],
          "name": "stdout"
        },
        {
          "output_type": "execute_result",
          "data": {
            "text/plain": [
              "<tensorflow.python.keras.callbacks.History at 0x7fb8d735fe48>"
            ]
          },
          "metadata": {
            "tags": []
          },
          "execution_count": 9
        }
      ]
    },
    {
      "cell_type": "markdown",
      "metadata": {
        "id": "IL3bayFAw8Ec"
      },
      "source": [
        "**BatchNorm**"
      ]
    },
    {
      "cell_type": "markdown",
      "metadata": {
        "id": "pUfL6vKI9ZsG"
      },
      "source": [
        "Добавьте в предыдущую архитектуру слои BatchNorm. Обучите на train выборке в течении 10 эпох, оцените качество на отложенной выборке"
      ]
    },
    {
      "cell_type": "code",
      "metadata": {
        "id": "iZD8WU5txEA5"
      },
      "source": [
        "i = keras.layers.Input(shape=(224,224,3))\r\n",
        "o = keras.layers.BatchNormalization()(i)\r\n",
        "o = keras.layers.Conv2D(16, (5,5), strides=(3,3))(o)\r\n",
        "o = keras.layers.MaxPool2D((2,2))(o)\r\n",
        "o = keras.layers.ReLU()(o)\r\n",
        "o = keras.layers.BatchNormalization()(o)\r\n",
        "o = keras.layers.Conv2D(32, (3,3))(o)\r\n",
        "o = keras.layers.MaxPool2D((2,2))(o)\r\n",
        "o = keras.layers.ReLU()(o)\r\n",
        "o = keras.layers.BatchNormalization()(o)\r\n",
        "o = keras.layers.Flatten()(o)\r\n",
        "o = keras.layers.Dense(1, activation='sigmoid')(o)"
      ],
      "execution_count": 10,
      "outputs": []
    },
    {
      "cell_type": "code",
      "metadata": {
        "colab": {
          "base_uri": "https://localhost:8080/"
        },
        "id": "QMwADOuKxMtg",
        "outputId": "528d9f2f-f8c0-4b85-9383-d2b767ad1668"
      },
      "source": [
        "model = keras.Model(inputs=i, outputs=o)\r\n",
        "model.compile(optimizer='adam', loss='binary_crossentropy', metrics=['accuracy'])\r\n",
        "model.summary()"
      ],
      "execution_count": 11,
      "outputs": [
        {
          "output_type": "stream",
          "text": [
            "Model: \"model_1\"\n",
            "_________________________________________________________________\n",
            "Layer (type)                 Output Shape              Param #   \n",
            "=================================================================\n",
            "input_2 (InputLayer)         [(None, 224, 224, 3)]     0         \n",
            "_________________________________________________________________\n",
            "batch_normalization (BatchNo (None, 224, 224, 3)       12        \n",
            "_________________________________________________________________\n",
            "conv2d_3 (Conv2D)            (None, 74, 74, 16)        1216      \n",
            "_________________________________________________________________\n",
            "max_pooling2d_3 (MaxPooling2 (None, 37, 37, 16)        0         \n",
            "_________________________________________________________________\n",
            "re_lu_3 (ReLU)               (None, 37, 37, 16)        0         \n",
            "_________________________________________________________________\n",
            "batch_normalization_1 (Batch (None, 37, 37, 16)        64        \n",
            "_________________________________________________________________\n",
            "conv2d_4 (Conv2D)            (None, 35, 35, 32)        4640      \n",
            "_________________________________________________________________\n",
            "max_pooling2d_4 (MaxPooling2 (None, 17, 17, 32)        0         \n",
            "_________________________________________________________________\n",
            "re_lu_4 (ReLU)               (None, 17, 17, 32)        0         \n",
            "_________________________________________________________________\n",
            "batch_normalization_2 (Batch (None, 17, 17, 32)        128       \n",
            "_________________________________________________________________\n",
            "flatten_1 (Flatten)          (None, 9248)              0         \n",
            "_________________________________________________________________\n",
            "dense_1 (Dense)              (None, 1)                 9249      \n",
            "=================================================================\n",
            "Total params: 15,309\n",
            "Trainable params: 15,207\n",
            "Non-trainable params: 102\n",
            "_________________________________________________________________\n"
          ],
          "name": "stdout"
        }
      ]
    },
    {
      "cell_type": "code",
      "metadata": {
        "colab": {
          "base_uri": "https://localhost:8080/"
        },
        "id": "ofe-Ki_VxMxT",
        "outputId": "f860c19d-ff32-4ea2-d9ee-5d3b7b601779"
      },
      "source": [
        "model.fit(train, epochs=10, validation_data=test)"
      ],
      "execution_count": 12,
      "outputs": [
        {
          "output_type": "stream",
          "text": [
            "Epoch 1/10\n",
            "8/8 [==============================] - 3s 365ms/step - loss: 0.8085 - accuracy: 0.5659 - val_loss: 0.8515 - val_accuracy: 0.6013\n",
            "Epoch 2/10\n",
            "8/8 [==============================] - 2s 316ms/step - loss: 0.3157 - accuracy: 0.8651 - val_loss: 0.8908 - val_accuracy: 0.5752\n",
            "Epoch 3/10\n",
            "8/8 [==============================] - 2s 317ms/step - loss: 0.1619 - accuracy: 0.9663 - val_loss: 0.7850 - val_accuracy: 0.6013\n",
            "Epoch 4/10\n",
            "8/8 [==============================] - 2s 328ms/step - loss: 0.0859 - accuracy: 0.9934 - val_loss: 0.9699 - val_accuracy: 0.5359\n",
            "Epoch 5/10\n",
            "8/8 [==============================] - 2s 318ms/step - loss: 0.0580 - accuracy: 0.9900 - val_loss: 0.8006 - val_accuracy: 0.5882\n",
            "Epoch 6/10\n",
            "8/8 [==============================] - 2s 316ms/step - loss: 0.0371 - accuracy: 1.0000 - val_loss: 0.7829 - val_accuracy: 0.5882\n",
            "Epoch 7/10\n",
            "8/8 [==============================] - 2s 326ms/step - loss: 0.0276 - accuracy: 1.0000 - val_loss: 0.7741 - val_accuracy: 0.6078\n",
            "Epoch 8/10\n",
            "8/8 [==============================] - 2s 320ms/step - loss: 0.0213 - accuracy: 1.0000 - val_loss: 0.7727 - val_accuracy: 0.6144\n",
            "Epoch 9/10\n",
            "8/8 [==============================] - 2s 310ms/step - loss: 0.0193 - accuracy: 1.0000 - val_loss: 0.7479 - val_accuracy: 0.6275\n",
            "Epoch 10/10\n",
            "8/8 [==============================] - 2s 318ms/step - loss: 0.0171 - accuracy: 1.0000 - val_loss: 0.7695 - val_accuracy: 0.6275\n"
          ],
          "name": "stdout"
        },
        {
          "output_type": "execute_result",
          "data": {
            "text/plain": [
              "<tensorflow.python.keras.callbacks.History at 0x7fb8d6da94e0>"
            ]
          },
          "metadata": {
            "tags": []
          },
          "execution_count": 12
        }
      ]
    },
    {
      "cell_type": "markdown",
      "metadata": {
        "id": "UI25VOiRxgkf"
      },
      "source": [
        "**ResNet 50**"
      ]
    },
    {
      "cell_type": "markdown",
      "metadata": {
        "id": "22FGTfzE9i_K"
      },
      "source": [
        "Создайте модель ResNet 50, инициализированную случайными весами, и обучите ее на train выборке в течении 10 эпох, оцените качество на отложенной выборке"
      ]
    },
    {
      "cell_type": "code",
      "metadata": {
        "colab": {
          "base_uri": "https://localhost:8080/"
        },
        "id": "WY-TLRp6xM06",
        "outputId": "0d2eaea6-d1f0-49ac-8bd6-98b0cec28db9"
      },
      "source": [
        "train_generator = keras.preprocessing.image.ImageDataGenerator()\r\n",
        "test_generator  = keras.preprocessing.image.ImageDataGenerator()\r\n",
        "\r\n",
        "train = train_generator.flow_from_directory('/content/drive/My Drive/Colab_Notebooks/hymenoptera_data/train', \r\n",
        "                                            target_size= (224, 224), \r\n",
        "                                            batch_size = 32, \r\n",
        "                                            class_mode ='binary')\r\n",
        "\r\n",
        "test  = test_generator.flow_from_directory('/content/drive/My Drive/Colab_Notebooks/hymenoptera_data/val', \r\n",
        "                                           target_size = (224, 224), \r\n",
        "                                           batch_size  = 32, \r\n",
        "                                           class_mode  ='binary')"
      ],
      "execution_count": 36,
      "outputs": [
        {
          "output_type": "stream",
          "text": [
            "Found 244 images belonging to 2 classes.\n",
            "Found 153 images belonging to 2 classes.\n"
          ],
          "name": "stdout"
        }
      ]
    },
    {
      "cell_type": "code",
      "metadata": {
        "id": "Qh_IoV7dxM4Z"
      },
      "source": [
        "resnet50 = keras.applications.ResNet50(include_top=False, \r\n",
        "                                       weights=None, \r\n",
        "                                       input_tensor=None, \r\n",
        "                                       input_shape=None, \r\n",
        "                                       pooling=None, \r\n",
        "                                       classes=1000 \r\n",
        "                                       )"
      ],
      "execution_count": 37,
      "outputs": []
    },
    {
      "cell_type": "code",
      "metadata": {
        "id": "fPBv4-lPxM7p"
      },
      "source": [
        "i = keras.layers.Input((224, 224, 3), dtype = tf.uint8)\r\n",
        "o = tf.cast(i, tf.float32)\r\n",
        "o = resnet50(o)\r\n",
        "o = keras.layers.Flatten()(o)\r\n",
        "o = keras.layers.Dense(1, activation='sigmoid')(o)"
      ],
      "execution_count": 38,
      "outputs": []
    },
    {
      "cell_type": "code",
      "metadata": {
        "id": "WOsXqmiLxM_N",
        "colab": {
          "base_uri": "https://localhost:8080/"
        },
        "outputId": "1f662d07-422c-4df8-d1d5-2b498f947036"
      },
      "source": [
        "model = keras.Model(inputs=i, outputs=o)\r\n",
        "model.compile(optimizer='Adagrad', loss='binary_crossentropy', metrics=['accuracy']) #Adamax\r\n",
        "model.summary()"
      ],
      "execution_count": 39,
      "outputs": [
        {
          "output_type": "stream",
          "text": [
            "Model: \"model_7\"\n",
            "_________________________________________________________________\n",
            "Layer (type)                 Output Shape              Param #   \n",
            "=================================================================\n",
            "input_14 (InputLayer)        [(None, 224, 224, 3)]     0         \n",
            "_________________________________________________________________\n",
            "tf.cast_5 (TFOpLambda)       (None, 224, 224, 3)       0         \n",
            "_________________________________________________________________\n",
            "resnet50 (Functional)        (None, None, None, 2048)  23587712  \n",
            "_________________________________________________________________\n",
            "flatten_7 (Flatten)          (None, 100352)            0         \n",
            "_________________________________________________________________\n",
            "dense_7 (Dense)              (None, 1)                 100353    \n",
            "=================================================================\n",
            "Total params: 23,688,065\n",
            "Trainable params: 23,634,945\n",
            "Non-trainable params: 53,120\n",
            "_________________________________________________________________\n"
          ],
          "name": "stdout"
        }
      ]
    },
    {
      "cell_type": "code",
      "metadata": {
        "id": "9bBe4cRwyhsJ",
        "colab": {
          "base_uri": "https://localhost:8080/"
        },
        "outputId": "d25d35b5-9305-473e-eb9e-55abf0b6bea6"
      },
      "source": [
        "model.fit(train, epochs=10, validation_data=test)"
      ],
      "execution_count": 40,
      "outputs": [
        {
          "output_type": "stream",
          "text": [
            "Epoch 1/10\n",
            "8/8 [==============================] - 9s 625ms/step - loss: 10.8248 - accuracy: 0.5147 - val_loss: 11.8507 - val_accuracy: 0.5425\n",
            "Epoch 2/10\n",
            "8/8 [==============================] - 4s 499ms/step - loss: 5.6453 - accuracy: 0.4904 - val_loss: 4.6504 - val_accuracy: 0.5425\n",
            "Epoch 3/10\n",
            "8/8 [==============================] - 4s 520ms/step - loss: 2.9192 - accuracy: 0.5598 - val_loss: 0.9919 - val_accuracy: 0.5294\n",
            "Epoch 4/10\n",
            "8/8 [==============================] - 4s 514ms/step - loss: 1.3998 - accuracy: 0.6667 - val_loss: 1.9355 - val_accuracy: 0.5425\n",
            "Epoch 5/10\n",
            "8/8 [==============================] - 4s 503ms/step - loss: 2.2032 - accuracy: 0.5403 - val_loss: 0.7970 - val_accuracy: 0.6013\n",
            "Epoch 6/10\n",
            "8/8 [==============================] - 4s 503ms/step - loss: 0.9608 - accuracy: 0.6350 - val_loss: 0.7667 - val_accuracy: 0.6013\n",
            "Epoch 7/10\n",
            "8/8 [==============================] - 4s 505ms/step - loss: 0.7676 - accuracy: 0.6824 - val_loss: 0.6886 - val_accuracy: 0.6275\n",
            "Epoch 8/10\n",
            "8/8 [==============================] - 4s 530ms/step - loss: 0.7762 - accuracy: 0.6383 - val_loss: 0.8222 - val_accuracy: 0.4641\n",
            "Epoch 9/10\n",
            "8/8 [==============================] - 4s 507ms/step - loss: 0.3634 - accuracy: 0.8134 - val_loss: 0.7374 - val_accuracy: 0.4706\n",
            "Epoch 10/10\n",
            "8/8 [==============================] - 4s 506ms/step - loss: 0.3111 - accuracy: 0.8788 - val_loss: 0.6708 - val_accuracy: 0.6405\n"
          ],
          "name": "stdout"
        },
        {
          "output_type": "execute_result",
          "data": {
            "text/plain": [
              "<tensorflow.python.keras.callbacks.History at 0x7fb6480ed080>"
            ]
          },
          "metadata": {
            "tags": []
          },
          "execution_count": 40
        }
      ]
    },
    {
      "cell_type": "markdown",
      "metadata": {
        "id": "pHKApRdh9v-v"
      },
      "source": [
        "Создайте модель ResNet 50, инициализированную весами ImageNet, и обучите ее на train выборке в течении 10 эпох, оцените качество на отложенной выборке"
      ]
    },
    {
      "cell_type": "code",
      "metadata": {
        "id": "Xlciq9dWy6Bg"
      },
      "source": [
        "resnet50 = keras.applications.ResNet50(include_top=False, \r\n",
        "                                       weights='imagenet', \r\n",
        "                                       input_tensor=None, \r\n",
        "                                       input_shape=None, \r\n",
        "                                       pooling=None, \r\n",
        "                                       classes=1000\r\n",
        "                                       )"
      ],
      "execution_count": 41,
      "outputs": []
    },
    {
      "cell_type": "code",
      "metadata": {
        "id": "VdNjvcaKzAaO"
      },
      "source": [
        "i = keras.layers.Input((224, 224, 3), dtype = tf.uint8)\r\n",
        "o = tf.cast(i, tf.float32)\r\n",
        "o = resnet50(o)\r\n",
        "o = keras.layers.Flatten()(o)\r\n",
        "o = keras.layers.Dense(1, activation='sigmoid')(o)"
      ],
      "execution_count": 42,
      "outputs": []
    },
    {
      "cell_type": "code",
      "metadata": {
        "id": "CxHhSYNjzAeD"
      },
      "source": [
        "resnet50.trainable = False"
      ],
      "execution_count": 43,
      "outputs": []
    },
    {
      "cell_type": "code",
      "metadata": {
        "id": "CbvDlP5nzAiy",
        "colab": {
          "base_uri": "https://localhost:8080/"
        },
        "outputId": "70e77a1b-0121-46e4-b0d7-bc6b01636b9c"
      },
      "source": [
        "model = keras.Model(inputs=i, outputs=o)\r\n",
        "model.compile(optimizer='Adagrad', loss='binary_crossentropy', metrics=['accuracy'])\r\n",
        "model.summary()"
      ],
      "execution_count": 44,
      "outputs": [
        {
          "output_type": "stream",
          "text": [
            "Model: \"model_8\"\n",
            "_________________________________________________________________\n",
            "Layer (type)                 Output Shape              Param #   \n",
            "=================================================================\n",
            "input_16 (InputLayer)        [(None, 224, 224, 3)]     0         \n",
            "_________________________________________________________________\n",
            "tf.cast_6 (TFOpLambda)       (None, 224, 224, 3)       0         \n",
            "_________________________________________________________________\n",
            "resnet50 (Functional)        (None, None, None, 2048)  23587712  \n",
            "_________________________________________________________________\n",
            "flatten_8 (Flatten)          (None, 100352)            0         \n",
            "_________________________________________________________________\n",
            "dense_8 (Dense)              (None, 1)                 100353    \n",
            "=================================================================\n",
            "Total params: 23,688,065\n",
            "Trainable params: 100,353\n",
            "Non-trainable params: 23,587,712\n",
            "_________________________________________________________________\n"
          ],
          "name": "stdout"
        }
      ]
    },
    {
      "cell_type": "code",
      "metadata": {
        "id": "m8L-jTqzzAma",
        "colab": {
          "base_uri": "https://localhost:8080/"
        },
        "outputId": "49341e92-f1b7-4281-bc62-736c088bfd8c"
      },
      "source": [
        "model.fit(train, epochs=10, validation_data=test)"
      ],
      "execution_count": 45,
      "outputs": [
        {
          "output_type": "stream",
          "text": [
            "Epoch 1/10\n",
            "8/8 [==============================] - 6s 503ms/step - loss: 2.2962 - accuracy: 0.6120 - val_loss: 0.5014 - val_accuracy: 0.8497\n",
            "Epoch 2/10\n",
            "8/8 [==============================] - 3s 396ms/step - loss: 0.2395 - accuracy: 0.9229 - val_loss: 0.4668 - val_accuracy: 0.8562\n",
            "Epoch 3/10\n",
            "8/8 [==============================] - 3s 383ms/step - loss: 0.0269 - accuracy: 0.9901 - val_loss: 0.5680 - val_accuracy: 0.8627\n",
            "Epoch 4/10\n",
            "8/8 [==============================] - 3s 381ms/step - loss: 0.0042 - accuracy: 1.0000 - val_loss: 0.5665 - val_accuracy: 0.8627\n",
            "Epoch 5/10\n",
            "8/8 [==============================] - 3s 383ms/step - loss: 0.0036 - accuracy: 1.0000 - val_loss: 0.5652 - val_accuracy: 0.8562\n",
            "Epoch 6/10\n",
            "8/8 [==============================] - 3s 368ms/step - loss: 0.0031 - accuracy: 1.0000 - val_loss: 0.5627 - val_accuracy: 0.8562\n",
            "Epoch 7/10\n",
            "8/8 [==============================] - 3s 369ms/step - loss: 0.0029 - accuracy: 1.0000 - val_loss: 0.5607 - val_accuracy: 0.8562\n",
            "Epoch 8/10\n",
            "8/8 [==============================] - 3s 365ms/step - loss: 0.0020 - accuracy: 1.0000 - val_loss: 0.5631 - val_accuracy: 0.8562\n",
            "Epoch 9/10\n",
            "8/8 [==============================] - 3s 377ms/step - loss: 0.0023 - accuracy: 1.0000 - val_loss: 0.5636 - val_accuracy: 0.8562\n",
            "Epoch 10/10\n",
            "8/8 [==============================] - 3s 371ms/step - loss: 0.0024 - accuracy: 1.0000 - val_loss: 0.5616 - val_accuracy: 0.8562\n"
          ],
          "name": "stdout"
        },
        {
          "output_type": "execute_result",
          "data": {
            "text/plain": [
              "<tensorflow.python.keras.callbacks.History at 0x7fb6462c2710>"
            ]
          },
          "metadata": {
            "tags": []
          },
          "execution_count": 45
        }
      ]
    },
    {
      "cell_type": "code",
      "metadata": {
        "id": "X26WlkNQzAqE"
      },
      "source": [
        ""
      ],
      "execution_count": 45,
      "outputs": []
    },
    {
      "cell_type": "code",
      "metadata": {
        "id": "Tfhj_0GG4kih"
      },
      "source": [
        ""
      ],
      "execution_count": 45,
      "outputs": []
    },
    {
      "cell_type": "code",
      "metadata": {
        "id": "p8MXtQW74ksf"
      },
      "source": [
        ""
      ],
      "execution_count": 45,
      "outputs": []
    },
    {
      "cell_type": "code",
      "metadata": {
        "id": "x_ESTZQ54kv1"
      },
      "source": [
        "\r\n"
      ],
      "execution_count": 45,
      "outputs": []
    }
  ]
}